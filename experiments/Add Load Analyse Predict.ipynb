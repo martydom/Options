{
 "cells": [
  {
   "cell_type": "code",
   "execution_count": 1,
   "id": "999426d6",
   "metadata": {},
   "outputs": [],
   "source": [
    "import numpy as np\n",
    "import pandas as pd\n",
    "import talib\n",
    "import plotly.express as px"
   ]
  },
  {
   "cell_type": "code",
   "execution_count": 2,
   "id": "b4883ef2",
   "metadata": {},
   "outputs": [],
   "source": [
    "import zipfile\n",
    "with zipfile.ZipFile('../data/public/BNF and NIFTY data.zip', 'r') as zip_ref:\n",
    "    zip_ref.extract(\"BANK_NIFTY_data/BNF_2010_2020.csv\")"
   ]
  },
  {
   "cell_type": "code",
   "execution_count": 3,
   "id": "b9707260",
   "metadata": {},
   "outputs": [],
   "source": [
    "bnf = pd.read_csv('BANK_NIFTY_data/BNF_2010_2020.csv')"
   ]
  },
  {
   "cell_type": "code",
   "execution_count": 4,
   "id": "386c8656",
   "metadata": {},
   "outputs": [],
   "source": [
    "bnf_na = bnf.dropna()"
   ]
  },
  {
   "cell_type": "code",
   "execution_count": 5,
   "id": "cc02fef2",
   "metadata": {},
   "outputs": [],
   "source": [
    "bnf['mean'] = (bnf['Open']+bnf['Close'])/2"
   ]
  },
  {
   "cell_type": "code",
   "execution_count": 6,
   "id": "c7daa17a",
   "metadata": {},
   "outputs": [],
   "source": [
    "bnf['rm30'] = bnf['mean'].rolling(30).mean()\n",
    "bnf['rm90'] = bnf['mean'].rolling(90).mean()\n",
    "bnf['rm60'] = bnf['mean'].rolling(60).mean()"
   ]
  },
  {
   "cell_type": "code",
   "execution_count": 7,
   "id": "d9edd764",
   "metadata": {},
   "outputs": [],
   "source": [
    "sample = bnf[bnf['Date'] == 20121003]"
   ]
  },
  {
   "cell_type": "code",
   "execution_count": 15,
   "id": "9bcec3a7",
   "metadata": {},
   "outputs": [],
   "source": [
    "bnf['morning_star'] = talib.CDLMORNINGSTAR(bnf['Open'],bnf['High'],bnf['Low'],bnf['Close'])"
   ]
  },
  {
   "cell_type": "code",
   "execution_count": 8,
   "id": "42b5a8ee",
   "metadata": {},
   "outputs": [
    {
     "name": "stdout",
     "output_type": "stream",
     "text": [
      "Help on package talib:\n",
      "\n",
      "NAME\n",
      "    talib\n",
      "\n",
      "PACKAGE CONTENTS\n",
      "    _ta_lib\n",
      "    abstract\n",
      "    deprecated\n",
      "    stream\n",
      "    test_abstract\n",
      "    test_data\n",
      "    test_func\n",
      "    test_pandas\n",
      "    test_polars\n",
      "    test_stream\n",
      "\n",
      "SUBMODULES\n",
      "    func\n",
      "\n",
      "FUNCTIONS\n",
      "    ACOS(...)\n",
      "        ACOS(real)\n",
      "        \n",
      "        Vector Trigonometric ACos (Math Transform)\n",
      "        \n",
      "        Inputs:\n",
      "            real: (any ndarray)\n",
      "        Outputs:\n",
      "            real\n",
      "    \n",
      "    AD(...)\n",
      "        AD(high, low, close, volume)\n",
      "        \n",
      "        Chaikin A/D Line (Volume Indicators)\n",
      "        \n",
      "        Inputs:\n",
      "            prices: ['high', 'low', 'close', 'volume']\n",
      "        Outputs:\n",
      "            real\n",
      "    \n",
      "    ADD(...)\n",
      "        ADD(real0, real1)\n",
      "        \n",
      "        Vector Arithmetic Add (Math Operators)\n",
      "        \n",
      "        Inputs:\n",
      "            real0: (any ndarray)\n",
      "            real1: (any ndarray)\n",
      "        Outputs:\n",
      "            real\n",
      "    \n",
      "    ADOSC(...)\n",
      "        ADOSC(high, low, close, volume[, fastperiod=?, slowperiod=?])\n",
      "        \n",
      "        Chaikin A/D Oscillator (Volume Indicators)\n",
      "        \n",
      "        Inputs:\n",
      "            prices: ['high', 'low', 'close', 'volume']\n",
      "        Parameters:\n",
      "            fastperiod: 3\n",
      "            slowperiod: 10\n",
      "        Outputs:\n",
      "            real\n",
      "    \n",
      "    ADX(...)\n",
      "        ADX(high, low, close[, timeperiod=?])\n",
      "        \n",
      "        Average Directional Movement Index (Momentum Indicators)\n",
      "        \n",
      "        Inputs:\n",
      "            prices: ['high', 'low', 'close']\n",
      "        Parameters:\n",
      "            timeperiod: 14\n",
      "        Outputs:\n",
      "            real\n",
      "    \n",
      "    ADXR(...)\n",
      "        ADXR(high, low, close[, timeperiod=?])\n",
      "        \n",
      "        Average Directional Movement Index Rating (Momentum Indicators)\n",
      "        \n",
      "        Inputs:\n",
      "            prices: ['high', 'low', 'close']\n",
      "        Parameters:\n",
      "            timeperiod: 14\n",
      "        Outputs:\n",
      "            real\n",
      "    \n",
      "    APO(...)\n",
      "        APO(real[, fastperiod=?, slowperiod=?, matype=?])\n",
      "        \n",
      "        Absolute Price Oscillator (Momentum Indicators)\n",
      "        \n",
      "        Inputs:\n",
      "            real: (any ndarray)\n",
      "        Parameters:\n",
      "            fastperiod: 12\n",
      "            slowperiod: 26\n",
      "            matype: 0 (Simple Moving Average)\n",
      "        Outputs:\n",
      "            real\n",
      "    \n",
      "    AROON(...)\n",
      "        AROON(high, low[, timeperiod=?])\n",
      "        \n",
      "        Aroon (Momentum Indicators)\n",
      "        \n",
      "        Inputs:\n",
      "            prices: ['high', 'low']\n",
      "        Parameters:\n",
      "            timeperiod: 14\n",
      "        Outputs:\n",
      "            aroondown\n",
      "            aroonup\n",
      "    \n",
      "    AROONOSC(...)\n",
      "        AROONOSC(high, low[, timeperiod=?])\n",
      "        \n",
      "        Aroon Oscillator (Momentum Indicators)\n",
      "        \n",
      "        Inputs:\n",
      "            prices: ['high', 'low']\n",
      "        Parameters:\n",
      "            timeperiod: 14\n",
      "        Outputs:\n",
      "            real\n",
      "    \n",
      "    ASIN(...)\n",
      "        ASIN(real)\n",
      "        \n",
      "        Vector Trigonometric ASin (Math Transform)\n",
      "        \n",
      "        Inputs:\n",
      "            real: (any ndarray)\n",
      "        Outputs:\n",
      "            real\n",
      "    \n",
      "    ATAN(...)\n",
      "        ATAN(real)\n",
      "        \n",
      "        Vector Trigonometric ATan (Math Transform)\n",
      "        \n",
      "        Inputs:\n",
      "            real: (any ndarray)\n",
      "        Outputs:\n",
      "            real\n",
      "    \n",
      "    ATR(...)\n",
      "        ATR(high, low, close[, timeperiod=?])\n",
      "        \n",
      "        Average True Range (Volatility Indicators)\n",
      "        \n",
      "        Inputs:\n",
      "            prices: ['high', 'low', 'close']\n",
      "        Parameters:\n",
      "            timeperiod: 14\n",
      "        Outputs:\n",
      "            real\n",
      "    \n",
      "    AVGPRICE(...)\n",
      "        AVGPRICE(open, high, low, close)\n",
      "        \n",
      "        Average Price (Price Transform)\n",
      "        \n",
      "        Inputs:\n",
      "            prices: ['open', 'high', 'low', 'close']\n",
      "        Outputs:\n",
      "            real\n",
      "    \n",
      "    BBANDS(...)\n",
      "        BBANDS(real[, timeperiod=?, nbdevup=?, nbdevdn=?, matype=?])\n",
      "        \n",
      "        Bollinger Bands (Overlap Studies)\n",
      "        \n",
      "        Inputs:\n",
      "            real: (any ndarray)\n",
      "        Parameters:\n",
      "            timeperiod: 5\n",
      "            nbdevup: 2\n",
      "            nbdevdn: 2\n",
      "            matype: 0 (Simple Moving Average)\n",
      "        Outputs:\n",
      "            upperband\n",
      "            middleband\n",
      "            lowerband\n",
      "    \n",
      "    BETA(...)\n",
      "        BETA(real0, real1[, timeperiod=?])\n",
      "        \n",
      "        Beta (Statistic Functions)\n",
      "        \n",
      "        Inputs:\n",
      "            real0: (any ndarray)\n",
      "            real1: (any ndarray)\n",
      "        Parameters:\n",
      "            timeperiod: 5\n",
      "        Outputs:\n",
      "            real\n",
      "    \n",
      "    BOP(...)\n",
      "        BOP(open, high, low, close)\n",
      "        \n",
      "        Balance Of Power (Momentum Indicators)\n",
      "        \n",
      "        Inputs:\n",
      "            prices: ['open', 'high', 'low', 'close']\n",
      "        Outputs:\n",
      "            real\n",
      "    \n",
      "    CCI(...)\n",
      "        CCI(high, low, close[, timeperiod=?])\n",
      "        \n",
      "        Commodity Channel Index (Momentum Indicators)\n",
      "        \n",
      "        Inputs:\n",
      "            prices: ['high', 'low', 'close']\n",
      "        Parameters:\n",
      "            timeperiod: 14\n",
      "        Outputs:\n",
      "            real\n",
      "    \n",
      "    CDL2CROWS(...)\n",
      "        CDL2CROWS(open, high, low, close)\n",
      "        \n",
      "        Two Crows (Pattern Recognition)\n",
      "        \n",
      "        Inputs:\n",
      "            prices: ['open', 'high', 'low', 'close']\n",
      "        Outputs:\n",
      "            integer (values are -100, 0 or 100)\n",
      "    \n",
      "    CDL3BLACKCROWS(...)\n",
      "        CDL3BLACKCROWS(open, high, low, close)\n",
      "        \n",
      "        Three Black Crows (Pattern Recognition)\n",
      "        \n",
      "        Inputs:\n",
      "            prices: ['open', 'high', 'low', 'close']\n",
      "        Outputs:\n",
      "            integer (values are -100, 0 or 100)\n",
      "    \n",
      "    CDL3INSIDE(...)\n",
      "        CDL3INSIDE(open, high, low, close)\n",
      "        \n",
      "        Three Inside Up/Down (Pattern Recognition)\n",
      "        \n",
      "        Inputs:\n",
      "            prices: ['open', 'high', 'low', 'close']\n",
      "        Outputs:\n",
      "            integer (values are -100, 0 or 100)\n",
      "    \n",
      "    CDL3LINESTRIKE(...)\n",
      "        CDL3LINESTRIKE(open, high, low, close)\n",
      "        \n",
      "        Three-Line Strike  (Pattern Recognition)\n",
      "        \n",
      "        Inputs:\n",
      "            prices: ['open', 'high', 'low', 'close']\n",
      "        Outputs:\n",
      "            integer (values are -100, 0 or 100)\n",
      "    \n",
      "    CDL3OUTSIDE(...)\n",
      "        CDL3OUTSIDE(open, high, low, close)\n",
      "        \n",
      "        Three Outside Up/Down (Pattern Recognition)\n",
      "        \n",
      "        Inputs:\n",
      "            prices: ['open', 'high', 'low', 'close']\n",
      "        Outputs:\n",
      "            integer (values are -100, 0 or 100)\n",
      "    \n",
      "    CDL3STARSINSOUTH(...)\n",
      "        CDL3STARSINSOUTH(open, high, low, close)\n",
      "        \n",
      "        Three Stars In The South (Pattern Recognition)\n",
      "        \n",
      "        Inputs:\n",
      "            prices: ['open', 'high', 'low', 'close']\n",
      "        Outputs:\n",
      "            integer (values are -100, 0 or 100)\n",
      "    \n",
      "    CDL3WHITESOLDIERS(...)\n",
      "        CDL3WHITESOLDIERS(open, high, low, close)\n",
      "        \n",
      "        Three Advancing White Soldiers (Pattern Recognition)\n",
      "        \n",
      "        Inputs:\n",
      "            prices: ['open', 'high', 'low', 'close']\n",
      "        Outputs:\n",
      "            integer (values are -100, 0 or 100)\n",
      "    \n",
      "    CDLABANDONEDBABY(...)\n",
      "        CDLABANDONEDBABY(open, high, low, close[, penetration=?])\n",
      "        \n",
      "        Abandoned Baby (Pattern Recognition)\n",
      "        \n",
      "        Inputs:\n",
      "            prices: ['open', 'high', 'low', 'close']\n",
      "        Parameters:\n",
      "            penetration: 0.3\n",
      "        Outputs:\n",
      "            integer (values are -100, 0 or 100)\n",
      "    \n",
      "    CDLADVANCEBLOCK(...)\n",
      "        CDLADVANCEBLOCK(open, high, low, close)\n",
      "        \n",
      "        Advance Block (Pattern Recognition)\n",
      "        \n",
      "        Inputs:\n",
      "            prices: ['open', 'high', 'low', 'close']\n",
      "        Outputs:\n",
      "            integer (values are -100, 0 or 100)\n",
      "    \n",
      "    CDLBELTHOLD(...)\n",
      "        CDLBELTHOLD(open, high, low, close)\n",
      "        \n",
      "        Belt-hold (Pattern Recognition)\n",
      "        \n",
      "        Inputs:\n",
      "            prices: ['open', 'high', 'low', 'close']\n",
      "        Outputs:\n",
      "            integer (values are -100, 0 or 100)\n",
      "    \n",
      "    CDLBREAKAWAY(...)\n",
      "        CDLBREAKAWAY(open, high, low, close)\n",
      "        \n",
      "        Breakaway (Pattern Recognition)\n",
      "        \n",
      "        Inputs:\n",
      "            prices: ['open', 'high', 'low', 'close']\n",
      "        Outputs:\n",
      "            integer (values are -100, 0 or 100)\n",
      "    \n",
      "    CDLCLOSINGMARUBOZU(...)\n",
      "        CDLCLOSINGMARUBOZU(open, high, low, close)\n",
      "        \n",
      "        Closing Marubozu (Pattern Recognition)\n",
      "        \n",
      "        Inputs:\n",
      "            prices: ['open', 'high', 'low', 'close']\n",
      "        Outputs:\n",
      "            integer (values are -100, 0 or 100)\n",
      "    \n",
      "    CDLCONCEALBABYSWALL(...)\n",
      "        CDLCONCEALBABYSWALL(open, high, low, close)\n",
      "        \n",
      "        Concealing Baby Swallow (Pattern Recognition)\n",
      "        \n",
      "        Inputs:\n",
      "            prices: ['open', 'high', 'low', 'close']\n",
      "        Outputs:\n",
      "            integer (values are -100, 0 or 100)\n",
      "    \n",
      "    CDLCOUNTERATTACK(...)\n",
      "        CDLCOUNTERATTACK(open, high, low, close)\n",
      "        \n",
      "        Counterattack (Pattern Recognition)\n",
      "        \n",
      "        Inputs:\n",
      "            prices: ['open', 'high', 'low', 'close']\n",
      "        Outputs:\n",
      "            integer (values are -100, 0 or 100)\n",
      "    \n",
      "    CDLDARKCLOUDCOVER(...)\n",
      "        CDLDARKCLOUDCOVER(open, high, low, close[, penetration=?])\n",
      "        \n",
      "        Dark Cloud Cover (Pattern Recognition)\n",
      "        \n",
      "        Inputs:\n",
      "            prices: ['open', 'high', 'low', 'close']\n",
      "        Parameters:\n",
      "            penetration: 0.5\n",
      "        Outputs:\n",
      "            integer (values are -100, 0 or 100)\n",
      "    \n",
      "    CDLDOJI(...)\n",
      "        CDLDOJI(open, high, low, close)\n",
      "        \n",
      "        Doji (Pattern Recognition)\n",
      "        \n",
      "        Inputs:\n",
      "            prices: ['open', 'high', 'low', 'close']\n",
      "        Outputs:\n",
      "            integer (values are -100, 0 or 100)\n",
      "    \n",
      "    CDLDOJISTAR(...)\n",
      "        CDLDOJISTAR(open, high, low, close)\n",
      "        \n",
      "        Doji Star (Pattern Recognition)\n",
      "        \n",
      "        Inputs:\n",
      "            prices: ['open', 'high', 'low', 'close']\n",
      "        Outputs:\n",
      "            integer (values are -100, 0 or 100)\n",
      "    \n",
      "    CDLDRAGONFLYDOJI(...)\n",
      "        CDLDRAGONFLYDOJI(open, high, low, close)\n",
      "        \n",
      "        Dragonfly Doji (Pattern Recognition)\n",
      "        \n",
      "        Inputs:\n",
      "            prices: ['open', 'high', 'low', 'close']\n",
      "        Outputs:\n",
      "            integer (values are -100, 0 or 100)\n",
      "    \n",
      "    CDLENGULFING(...)\n",
      "        CDLENGULFING(open, high, low, close)\n",
      "        \n",
      "        Engulfing Pattern (Pattern Recognition)\n",
      "        \n",
      "        Inputs:\n",
      "            prices: ['open', 'high', 'low', 'close']\n",
      "        Outputs:\n",
      "            integer (values are -100, 0 or 100)\n",
      "    \n",
      "    CDLEVENINGDOJISTAR(...)\n",
      "        CDLEVENINGDOJISTAR(open, high, low, close[, penetration=?])\n",
      "        \n",
      "        Evening Doji Star (Pattern Recognition)\n",
      "        \n",
      "        Inputs:\n",
      "            prices: ['open', 'high', 'low', 'close']\n",
      "        Parameters:\n",
      "            penetration: 0.3\n",
      "        Outputs:\n",
      "            integer (values are -100, 0 or 100)\n",
      "    \n",
      "    CDLEVENINGSTAR(...)\n",
      "        CDLEVENINGSTAR(open, high, low, close[, penetration=?])\n",
      "        \n",
      "        Evening Star (Pattern Recognition)\n",
      "        \n",
      "        Inputs:\n",
      "            prices: ['open', 'high', 'low', 'close']\n",
      "        Parameters:\n",
      "            penetration: 0.3\n",
      "        Outputs:\n",
      "            integer (values are -100, 0 or 100)\n",
      "    \n",
      "    CDLGAPSIDESIDEWHITE(...)\n",
      "        CDLGAPSIDESIDEWHITE(open, high, low, close)\n",
      "        \n",
      "        Up/Down-gap side-by-side white lines (Pattern Recognition)\n",
      "        \n",
      "        Inputs:\n",
      "            prices: ['open', 'high', 'low', 'close']\n",
      "        Outputs:\n",
      "            integer (values are -100, 0 or 100)\n",
      "    \n",
      "    CDLGRAVESTONEDOJI(...)\n",
      "        CDLGRAVESTONEDOJI(open, high, low, close)\n",
      "        \n",
      "        Gravestone Doji (Pattern Recognition)\n",
      "        \n",
      "        Inputs:\n",
      "            prices: ['open', 'high', 'low', 'close']\n",
      "        Outputs:\n",
      "            integer (values are -100, 0 or 100)\n",
      "    \n",
      "    CDLHAMMER(...)\n",
      "        CDLHAMMER(open, high, low, close)\n",
      "        \n",
      "        Hammer (Pattern Recognition)\n",
      "        \n",
      "        Inputs:\n",
      "            prices: ['open', 'high', 'low', 'close']\n",
      "        Outputs:\n",
      "            integer (values are -100, 0 or 100)\n",
      "    \n",
      "    CDLHANGINGMAN(...)\n",
      "        CDLHANGINGMAN(open, high, low, close)\n",
      "        \n",
      "        Hanging Man (Pattern Recognition)\n",
      "        \n",
      "        Inputs:\n",
      "            prices: ['open', 'high', 'low', 'close']\n",
      "        Outputs:\n",
      "            integer (values are -100, 0 or 100)\n",
      "    \n",
      "    CDLHARAMI(...)\n",
      "        CDLHARAMI(open, high, low, close)\n",
      "        \n",
      "        Harami Pattern (Pattern Recognition)\n",
      "        \n",
      "        Inputs:\n",
      "            prices: ['open', 'high', 'low', 'close']\n",
      "        Outputs:\n",
      "            integer (values are -100, 0 or 100)\n",
      "    \n",
      "    CDLHARAMICROSS(...)\n",
      "        CDLHARAMICROSS(open, high, low, close)\n",
      "        \n",
      "        Harami Cross Pattern (Pattern Recognition)\n",
      "        \n",
      "        Inputs:\n",
      "            prices: ['open', 'high', 'low', 'close']\n",
      "        Outputs:\n",
      "            integer (values are -100, 0 or 100)\n",
      "    \n",
      "    CDLHIGHWAVE(...)\n",
      "        CDLHIGHWAVE(open, high, low, close)\n",
      "        \n",
      "        High-Wave Candle (Pattern Recognition)\n",
      "        \n",
      "        Inputs:\n",
      "            prices: ['open', 'high', 'low', 'close']\n",
      "        Outputs:\n",
      "            integer (values are -100, 0 or 100)\n",
      "    \n",
      "    CDLHIKKAKE(...)\n",
      "        CDLHIKKAKE(open, high, low, close)\n",
      "        \n",
      "        Hikkake Pattern (Pattern Recognition)\n",
      "        \n",
      "        Inputs:\n",
      "            prices: ['open', 'high', 'low', 'close']\n",
      "        Outputs:\n",
      "            integer (values are -100, 0 or 100)\n",
      "    \n",
      "    CDLHIKKAKEMOD(...)\n",
      "        CDLHIKKAKEMOD(open, high, low, close)\n",
      "        \n",
      "        Modified Hikkake Pattern (Pattern Recognition)\n",
      "        \n",
      "        Inputs:\n",
      "            prices: ['open', 'high', 'low', 'close']\n",
      "        Outputs:\n",
      "            integer (values are -100, 0 or 100)\n",
      "    \n",
      "    CDLHOMINGPIGEON(...)\n",
      "        CDLHOMINGPIGEON(open, high, low, close)\n",
      "        \n",
      "        Homing Pigeon (Pattern Recognition)\n",
      "        \n",
      "        Inputs:\n",
      "            prices: ['open', 'high', 'low', 'close']\n",
      "        Outputs:\n",
      "            integer (values are -100, 0 or 100)\n",
      "    \n",
      "    CDLIDENTICAL3CROWS(...)\n",
      "        CDLIDENTICAL3CROWS(open, high, low, close)\n",
      "        \n",
      "        Identical Three Crows (Pattern Recognition)\n",
      "        \n",
      "        Inputs:\n",
      "            prices: ['open', 'high', 'low', 'close']\n",
      "        Outputs:\n",
      "            integer (values are -100, 0 or 100)\n",
      "    \n",
      "    CDLINNECK(...)\n",
      "        CDLINNECK(open, high, low, close)\n",
      "        \n",
      "        In-Neck Pattern (Pattern Recognition)\n",
      "        \n",
      "        Inputs:\n",
      "            prices: ['open', 'high', 'low', 'close']\n",
      "        Outputs:\n",
      "            integer (values are -100, 0 or 100)\n",
      "    \n",
      "    CDLINVERTEDHAMMER(...)\n",
      "        CDLINVERTEDHAMMER(open, high, low, close)\n",
      "        \n",
      "        Inverted Hammer (Pattern Recognition)\n",
      "        \n",
      "        Inputs:\n",
      "            prices: ['open', 'high', 'low', 'close']\n",
      "        Outputs:\n",
      "            integer (values are -100, 0 or 100)\n",
      "    \n",
      "    CDLKICKING(...)\n",
      "        CDLKICKING(open, high, low, close)\n",
      "        \n",
      "        Kicking (Pattern Recognition)\n",
      "        \n",
      "        Inputs:\n",
      "            prices: ['open', 'high', 'low', 'close']\n",
      "        Outputs:\n",
      "            integer (values are -100, 0 or 100)\n",
      "    \n",
      "    CDLKICKINGBYLENGTH(...)\n",
      "        CDLKICKINGBYLENGTH(open, high, low, close)\n",
      "        \n",
      "        Kicking - bull/bear determined by the longer marubozu (Pattern Recognition)\n",
      "        \n",
      "        Inputs:\n",
      "            prices: ['open', 'high', 'low', 'close']\n",
      "        Outputs:\n",
      "            integer (values are -100, 0 or 100)\n",
      "    \n",
      "    CDLLADDERBOTTOM(...)\n",
      "        CDLLADDERBOTTOM(open, high, low, close)\n",
      "        \n",
      "        Ladder Bottom (Pattern Recognition)\n",
      "        \n",
      "        Inputs:\n",
      "            prices: ['open', 'high', 'low', 'close']\n",
      "        Outputs:\n",
      "            integer (values are -100, 0 or 100)\n",
      "    \n",
      "    CDLLONGLEGGEDDOJI(...)\n",
      "        CDLLONGLEGGEDDOJI(open, high, low, close)\n",
      "        \n",
      "        Long Legged Doji (Pattern Recognition)\n",
      "        \n",
      "        Inputs:\n",
      "            prices: ['open', 'high', 'low', 'close']\n",
      "        Outputs:\n",
      "            integer (values are -100, 0 or 100)\n",
      "    \n",
      "    CDLLONGLINE(...)\n",
      "        CDLLONGLINE(open, high, low, close)\n",
      "        \n",
      "        Long Line Candle (Pattern Recognition)\n",
      "        \n",
      "        Inputs:\n",
      "            prices: ['open', 'high', 'low', 'close']\n",
      "        Outputs:\n",
      "            integer (values are -100, 0 or 100)\n",
      "    \n",
      "    CDLMARUBOZU(...)\n",
      "        CDLMARUBOZU(open, high, low, close)\n",
      "        \n",
      "        Marubozu (Pattern Recognition)\n",
      "        \n",
      "        Inputs:\n",
      "            prices: ['open', 'high', 'low', 'close']\n",
      "        Outputs:\n",
      "            integer (values are -100, 0 or 100)\n",
      "    \n",
      "    CDLMATCHINGLOW(...)\n",
      "        CDLMATCHINGLOW(open, high, low, close)\n",
      "        \n",
      "        Matching Low (Pattern Recognition)\n",
      "        \n",
      "        Inputs:\n",
      "            prices: ['open', 'high', 'low', 'close']\n",
      "        Outputs:\n",
      "            integer (values are -100, 0 or 100)\n",
      "    \n",
      "    CDLMATHOLD(...)\n",
      "        CDLMATHOLD(open, high, low, close[, penetration=?])\n",
      "        \n",
      "        Mat Hold (Pattern Recognition)\n",
      "        \n",
      "        Inputs:\n",
      "            prices: ['open', 'high', 'low', 'close']\n",
      "        Parameters:\n",
      "            penetration: 0.5\n",
      "        Outputs:\n",
      "            integer (values are -100, 0 or 100)\n",
      "    \n",
      "    CDLMORNINGDOJISTAR(...)\n",
      "        CDLMORNINGDOJISTAR(open, high, low, close[, penetration=?])\n",
      "        \n",
      "        Morning Doji Star (Pattern Recognition)\n",
      "        \n",
      "        Inputs:\n",
      "            prices: ['open', 'high', 'low', 'close']\n",
      "        Parameters:\n",
      "            penetration: 0.3\n",
      "        Outputs:\n",
      "            integer (values are -100, 0 or 100)\n",
      "    \n",
      "    CDLMORNINGSTAR(...)\n",
      "        CDLMORNINGSTAR(open, high, low, close[, penetration=?])\n",
      "        \n",
      "        Morning Star (Pattern Recognition)\n",
      "        \n",
      "        Inputs:\n",
      "            prices: ['open', 'high', 'low', 'close']\n",
      "        Parameters:\n",
      "            penetration: 0.3\n",
      "        Outputs:\n",
      "            integer (values are -100, 0 or 100)\n",
      "    \n",
      "    CDLONNECK(...)\n",
      "        CDLONNECK(open, high, low, close)\n",
      "        \n",
      "        On-Neck Pattern (Pattern Recognition)\n",
      "        \n",
      "        Inputs:\n",
      "            prices: ['open', 'high', 'low', 'close']\n",
      "        Outputs:\n",
      "            integer (values are -100, 0 or 100)\n",
      "    \n",
      "    CDLPIERCING(...)\n",
      "        CDLPIERCING(open, high, low, close)\n",
      "        \n",
      "        Piercing Pattern (Pattern Recognition)\n",
      "        \n",
      "        Inputs:\n",
      "            prices: ['open', 'high', 'low', 'close']\n",
      "        Outputs:\n",
      "            integer (values are -100, 0 or 100)\n",
      "    \n",
      "    CDLRICKSHAWMAN(...)\n",
      "        CDLRICKSHAWMAN(open, high, low, close)\n",
      "        \n",
      "        Rickshaw Man (Pattern Recognition)\n",
      "        \n",
      "        Inputs:\n",
      "            prices: ['open', 'high', 'low', 'close']\n",
      "        Outputs:\n",
      "            integer (values are -100, 0 or 100)\n",
      "    \n",
      "    CDLRISEFALL3METHODS(...)\n",
      "        CDLRISEFALL3METHODS(open, high, low, close)\n",
      "        \n",
      "        Rising/Falling Three Methods (Pattern Recognition)\n",
      "        \n",
      "        Inputs:\n",
      "            prices: ['open', 'high', 'low', 'close']\n",
      "        Outputs:\n",
      "            integer (values are -100, 0 or 100)\n",
      "    \n",
      "    CDLSEPARATINGLINES(...)\n",
      "        CDLSEPARATINGLINES(open, high, low, close)\n",
      "        \n",
      "        Separating Lines (Pattern Recognition)\n",
      "        \n",
      "        Inputs:\n",
      "            prices: ['open', 'high', 'low', 'close']\n",
      "        Outputs:\n",
      "            integer (values are -100, 0 or 100)\n",
      "    \n",
      "    CDLSHOOTINGSTAR(...)\n",
      "        CDLSHOOTINGSTAR(open, high, low, close)\n",
      "        \n",
      "        Shooting Star (Pattern Recognition)\n",
      "        \n",
      "        Inputs:\n",
      "            prices: ['open', 'high', 'low', 'close']\n",
      "        Outputs:\n",
      "            integer (values are -100, 0 or 100)\n",
      "    \n",
      "    CDLSHORTLINE(...)\n",
      "        CDLSHORTLINE(open, high, low, close)\n",
      "        \n",
      "        Short Line Candle (Pattern Recognition)\n",
      "        \n",
      "        Inputs:\n",
      "            prices: ['open', 'high', 'low', 'close']\n",
      "        Outputs:\n",
      "            integer (values are -100, 0 or 100)\n",
      "    \n",
      "    CDLSPINNINGTOP(...)\n",
      "        CDLSPINNINGTOP(open, high, low, close)\n",
      "        \n",
      "        Spinning Top (Pattern Recognition)\n",
      "        \n",
      "        Inputs:\n",
      "            prices: ['open', 'high', 'low', 'close']\n",
      "        Outputs:\n",
      "            integer (values are -100, 0 or 100)\n",
      "    \n",
      "    CDLSTALLEDPATTERN(...)\n",
      "        CDLSTALLEDPATTERN(open, high, low, close)\n",
      "        \n",
      "        Stalled Pattern (Pattern Recognition)\n",
      "        \n",
      "        Inputs:\n",
      "            prices: ['open', 'high', 'low', 'close']\n",
      "        Outputs:\n",
      "            integer (values are -100, 0 or 100)\n",
      "    \n",
      "    CDLSTICKSANDWICH(...)\n",
      "        CDLSTICKSANDWICH(open, high, low, close)\n",
      "        \n",
      "        Stick Sandwich (Pattern Recognition)\n",
      "        \n",
      "        Inputs:\n",
      "            prices: ['open', 'high', 'low', 'close']\n",
      "        Outputs:\n",
      "            integer (values are -100, 0 or 100)\n",
      "    \n",
      "    CDLTAKURI(...)\n",
      "        CDLTAKURI(open, high, low, close)\n",
      "        \n",
      "        Takuri (Dragonfly Doji with very long lower shadow) (Pattern Recognition)\n",
      "        \n",
      "        Inputs:\n",
      "            prices: ['open', 'high', 'low', 'close']\n",
      "        Outputs:\n",
      "            integer (values are -100, 0 or 100)\n",
      "    \n",
      "    CDLTASUKIGAP(...)\n",
      "        CDLTASUKIGAP(open, high, low, close)\n",
      "        \n",
      "        Tasuki Gap (Pattern Recognition)\n",
      "        \n",
      "        Inputs:\n",
      "            prices: ['open', 'high', 'low', 'close']\n",
      "        Outputs:\n",
      "            integer (values are -100, 0 or 100)\n",
      "    \n",
      "    CDLTHRUSTING(...)\n",
      "        CDLTHRUSTING(open, high, low, close)\n",
      "        \n",
      "        Thrusting Pattern (Pattern Recognition)\n",
      "        \n",
      "        Inputs:\n",
      "            prices: ['open', 'high', 'low', 'close']\n",
      "        Outputs:\n",
      "            integer (values are -100, 0 or 100)\n",
      "    \n",
      "    CDLTRISTAR(...)\n",
      "        CDLTRISTAR(open, high, low, close)\n",
      "        \n",
      "        Tristar Pattern (Pattern Recognition)\n",
      "        \n",
      "        Inputs:\n",
      "            prices: ['open', 'high', 'low', 'close']\n",
      "        Outputs:\n",
      "            integer (values are -100, 0 or 100)\n",
      "    \n",
      "    CDLUNIQUE3RIVER(...)\n",
      "        CDLUNIQUE3RIVER(open, high, low, close)\n",
      "        \n",
      "        Unique 3 River (Pattern Recognition)\n",
      "        \n",
      "        Inputs:\n",
      "            prices: ['open', 'high', 'low', 'close']\n",
      "        Outputs:\n",
      "            integer (values are -100, 0 or 100)\n",
      "    \n",
      "    CDLUPSIDEGAP2CROWS(...)\n",
      "        CDLUPSIDEGAP2CROWS(open, high, low, close)\n",
      "        \n",
      "        Upside Gap Two Crows (Pattern Recognition)\n",
      "        \n",
      "        Inputs:\n",
      "            prices: ['open', 'high', 'low', 'close']\n",
      "        Outputs:\n",
      "            integer (values are -100, 0 or 100)\n",
      "    \n",
      "    CDLXSIDEGAP3METHODS(...)\n",
      "        CDLXSIDEGAP3METHODS(open, high, low, close)\n",
      "        \n",
      "        Upside/Downside Gap Three Methods (Pattern Recognition)\n",
      "        \n",
      "        Inputs:\n",
      "            prices: ['open', 'high', 'low', 'close']\n",
      "        Outputs:\n",
      "            integer (values are -100, 0 or 100)\n",
      "    \n",
      "    CEIL(...)\n",
      "        CEIL(real)\n",
      "        \n",
      "        Vector Ceil (Math Transform)\n",
      "        \n",
      "        Inputs:\n",
      "            real: (any ndarray)\n",
      "        Outputs:\n",
      "            real\n",
      "    \n",
      "    CMO(...)\n",
      "        CMO(real[, timeperiod=?])\n",
      "        \n",
      "        Chande Momentum Oscillator (Momentum Indicators)\n",
      "        \n",
      "        Inputs:\n",
      "            real: (any ndarray)\n",
      "        Parameters:\n",
      "            timeperiod: 14\n",
      "        Outputs:\n",
      "            real\n",
      "    \n",
      "    CORREL(...)\n",
      "        CORREL(real0, real1[, timeperiod=?])\n",
      "        \n",
      "        Pearson's Correlation Coefficient (r) (Statistic Functions)\n",
      "        \n",
      "        Inputs:\n",
      "            real0: (any ndarray)\n",
      "            real1: (any ndarray)\n",
      "        Parameters:\n",
      "            timeperiod: 30\n",
      "        Outputs:\n",
      "            real\n",
      "    \n",
      "    COS(...)\n",
      "        COS(real)\n",
      "        \n",
      "        Vector Trigonometric Cos (Math Transform)\n",
      "        \n",
      "        Inputs:\n",
      "            real: (any ndarray)\n",
      "        Outputs:\n",
      "            real\n",
      "    \n",
      "    COSH(...)\n",
      "        COSH(real)\n",
      "        \n",
      "        Vector Trigonometric Cosh (Math Transform)\n",
      "        \n",
      "        Inputs:\n",
      "            real: (any ndarray)\n",
      "        Outputs:\n",
      "            real\n",
      "    \n",
      "    DEMA(...)\n",
      "        DEMA(real[, timeperiod=?])\n",
      "        \n",
      "        Double Exponential Moving Average (Overlap Studies)\n",
      "        \n",
      "        Inputs:\n",
      "            real: (any ndarray)\n",
      "        Parameters:\n",
      "            timeperiod: 30\n",
      "        Outputs:\n",
      "            real\n",
      "    \n",
      "    DIV(...)\n",
      "        DIV(real0, real1)\n",
      "        \n",
      "        Vector Arithmetic Div (Math Operators)\n",
      "        \n",
      "        Inputs:\n",
      "            real0: (any ndarray)\n",
      "            real1: (any ndarray)\n",
      "        Outputs:\n",
      "            real\n",
      "    \n",
      "    DX(...)\n",
      "        DX(high, low, close[, timeperiod=?])\n",
      "        \n",
      "        Directional Movement Index (Momentum Indicators)\n",
      "        \n",
      "        Inputs:\n",
      "            prices: ['high', 'low', 'close']\n",
      "        Parameters:\n",
      "            timeperiod: 14\n",
      "        Outputs:\n",
      "            real\n",
      "    \n",
      "    EMA(...)\n",
      "        EMA(real[, timeperiod=?])\n",
      "        \n",
      "        Exponential Moving Average (Overlap Studies)\n",
      "        \n",
      "        Inputs:\n",
      "            real: (any ndarray)\n",
      "        Parameters:\n",
      "            timeperiod: 30\n",
      "        Outputs:\n",
      "            real\n",
      "    \n",
      "    EXP(...)\n",
      "        EXP(real)\n",
      "        \n",
      "        Vector Arithmetic Exp (Math Transform)\n",
      "        \n",
      "        Inputs:\n",
      "            real: (any ndarray)\n",
      "        Outputs:\n",
      "            real\n",
      "    \n",
      "    FLOOR(...)\n",
      "        FLOOR(real)\n",
      "        \n",
      "        Vector Floor (Math Transform)\n",
      "        \n",
      "        Inputs:\n",
      "            real: (any ndarray)\n",
      "        Outputs:\n",
      "            real\n",
      "    \n",
      "    HT_DCPERIOD(...)\n",
      "        HT_DCPERIOD(real)\n",
      "        \n",
      "        Hilbert Transform - Dominant Cycle Period (Cycle Indicators)\n",
      "        \n",
      "        Inputs:\n",
      "            real: (any ndarray)\n",
      "        Outputs:\n",
      "            real\n",
      "    \n",
      "    HT_DCPHASE(...)\n",
      "        HT_DCPHASE(real)\n",
      "        \n",
      "        Hilbert Transform - Dominant Cycle Phase (Cycle Indicators)\n",
      "        \n",
      "        Inputs:\n",
      "            real: (any ndarray)\n",
      "        Outputs:\n",
      "            real\n",
      "    \n",
      "    HT_PHASOR(...)\n",
      "        HT_PHASOR(real)\n",
      "        \n",
      "        Hilbert Transform - Phasor Components (Cycle Indicators)\n",
      "        \n",
      "        Inputs:\n",
      "            real: (any ndarray)\n",
      "        Outputs:\n",
      "            inphase\n",
      "            quadrature\n",
      "    \n",
      "    HT_SINE(...)\n",
      "        HT_SINE(real)\n",
      "        \n",
      "        Hilbert Transform - SineWave (Cycle Indicators)\n",
      "        \n",
      "        Inputs:\n",
      "            real: (any ndarray)\n",
      "        Outputs:\n",
      "            sine\n",
      "            leadsine\n",
      "    \n",
      "    HT_TRENDLINE(...)\n",
      "        HT_TRENDLINE(real)\n",
      "        \n",
      "        Hilbert Transform - Instantaneous Trendline (Overlap Studies)\n",
      "        \n",
      "        Inputs:\n",
      "            real: (any ndarray)\n",
      "        Outputs:\n",
      "            real\n",
      "    \n",
      "    HT_TRENDMODE(...)\n",
      "        HT_TRENDMODE(real)\n",
      "        \n",
      "        Hilbert Transform - Trend vs Cycle Mode (Cycle Indicators)\n",
      "        \n",
      "        Inputs:\n",
      "            real: (any ndarray)\n",
      "        Outputs:\n",
      "            integer (values are -100, 0 or 100)\n",
      "    \n",
      "    KAMA(...)\n",
      "        KAMA(real[, timeperiod=?])\n",
      "        \n",
      "        Kaufman Adaptive Moving Average (Overlap Studies)\n",
      "        \n",
      "        Inputs:\n",
      "            real: (any ndarray)\n",
      "        Parameters:\n",
      "            timeperiod: 30\n",
      "        Outputs:\n",
      "            real\n",
      "    \n",
      "    LINEARREG(...)\n",
      "        LINEARREG(real[, timeperiod=?])\n",
      "        \n",
      "        Linear Regression (Statistic Functions)\n",
      "        \n",
      "        Inputs:\n",
      "            real: (any ndarray)\n",
      "        Parameters:\n",
      "            timeperiod: 14\n",
      "        Outputs:\n",
      "            real\n",
      "    \n",
      "    LINEARREG_ANGLE(...)\n",
      "        LINEARREG_ANGLE(real[, timeperiod=?])\n",
      "        \n",
      "        Linear Regression Angle (Statistic Functions)\n",
      "        \n",
      "        Inputs:\n",
      "            real: (any ndarray)\n",
      "        Parameters:\n",
      "            timeperiod: 14\n",
      "        Outputs:\n",
      "            real\n",
      "    \n",
      "    LINEARREG_INTERCEPT(...)\n",
      "        LINEARREG_INTERCEPT(real[, timeperiod=?])\n",
      "        \n",
      "        Linear Regression Intercept (Statistic Functions)\n",
      "        \n",
      "        Inputs:\n",
      "            real: (any ndarray)\n",
      "        Parameters:\n",
      "            timeperiod: 14\n",
      "        Outputs:\n",
      "            real\n",
      "    \n",
      "    LINEARREG_SLOPE(...)\n",
      "        LINEARREG_SLOPE(real[, timeperiod=?])\n",
      "        \n",
      "        Linear Regression Slope (Statistic Functions)\n",
      "        \n",
      "        Inputs:\n",
      "            real: (any ndarray)\n",
      "        Parameters:\n",
      "            timeperiod: 14\n",
      "        Outputs:\n",
      "            real\n",
      "    \n",
      "    LN(...)\n",
      "        LN(real)\n",
      "        \n",
      "        Vector Log Natural (Math Transform)\n",
      "        \n",
      "        Inputs:\n",
      "            real: (any ndarray)\n",
      "        Outputs:\n",
      "            real\n",
      "    \n",
      "    LOG10(...)\n",
      "        LOG10(real)\n",
      "        \n",
      "        Vector Log10 (Math Transform)\n",
      "        \n",
      "        Inputs:\n",
      "            real: (any ndarray)\n",
      "        Outputs:\n",
      "            real\n",
      "    \n",
      "    MA(...)\n",
      "        MA(real[, timeperiod=?, matype=?])\n",
      "        \n",
      "        Moving average (Overlap Studies)\n",
      "        \n",
      "        Inputs:\n",
      "            real: (any ndarray)\n",
      "        Parameters:\n",
      "            timeperiod: 30\n",
      "            matype: 0 (Simple Moving Average)\n",
      "        Outputs:\n",
      "            real\n",
      "    \n",
      "    MACD(...)\n",
      "        MACD(real[, fastperiod=?, slowperiod=?, signalperiod=?])\n",
      "        \n",
      "        Moving Average Convergence/Divergence (Momentum Indicators)\n",
      "        \n",
      "        Inputs:\n",
      "            real: (any ndarray)\n",
      "        Parameters:\n",
      "            fastperiod: 12\n",
      "            slowperiod: 26\n",
      "            signalperiod: 9\n",
      "        Outputs:\n",
      "            macd\n",
      "            macdsignal\n",
      "            macdhist\n",
      "    \n",
      "    MACDEXT(...)\n",
      "        MACDEXT(real[, fastperiod=?, fastmatype=?, slowperiod=?, slowmatype=?, signalperiod=?, signalmatype=?])\n",
      "        \n",
      "        MACD with controllable MA type (Momentum Indicators)\n",
      "        \n",
      "        Inputs:\n",
      "            real: (any ndarray)\n",
      "        Parameters:\n",
      "            fastperiod: 12\n",
      "            fastmatype: 0\n",
      "            slowperiod: 26\n",
      "            slowmatype: 0\n",
      "            signalperiod: 9\n",
      "            signalmatype: 0\n",
      "        Outputs:\n",
      "            macd\n",
      "            macdsignal\n",
      "            macdhist\n",
      "    \n",
      "    MACDFIX(...)\n",
      "        MACDFIX(real[, signalperiod=?])\n",
      "        \n",
      "        Moving Average Convergence/Divergence Fix 12/26 (Momentum Indicators)\n",
      "        \n",
      "        Inputs:\n",
      "            real: (any ndarray)\n",
      "        Parameters:\n",
      "            signalperiod: 9\n",
      "        Outputs:\n",
      "            macd\n",
      "            macdsignal\n",
      "            macdhist\n",
      "    \n",
      "    MAMA(...)\n",
      "        MAMA(real[, fastlimit=?, slowlimit=?])\n",
      "        \n",
      "        MESA Adaptive Moving Average (Overlap Studies)\n",
      "        \n",
      "        Inputs:\n",
      "            real: (any ndarray)\n",
      "        Parameters:\n",
      "            fastlimit: 0.5\n",
      "            slowlimit: 0.05\n",
      "        Outputs:\n",
      "            mama\n",
      "            fama\n",
      "    \n",
      "    MAVP(...)\n",
      "        MAVP(real, periods[, minperiod=?, maxperiod=?, matype=?])\n",
      "        \n",
      "        Moving average with variable period (Overlap Studies)\n",
      "        \n",
      "        Inputs:\n",
      "            real: (any ndarray)\n",
      "            periods: (any ndarray)\n",
      "        Parameters:\n",
      "            minperiod: 2\n",
      "            maxperiod: 30\n",
      "            matype: 0 (Simple Moving Average)\n",
      "        Outputs:\n",
      "            real\n",
      "    \n",
      "    MAX(...)\n",
      "        MAX(real[, timeperiod=?])\n",
      "        \n",
      "        Highest value over a specified period (Math Operators)\n",
      "        \n",
      "        Inputs:\n",
      "            real: (any ndarray)\n",
      "        Parameters:\n",
      "            timeperiod: 30\n",
      "        Outputs:\n",
      "            real\n",
      "    \n",
      "    MAXINDEX(...)\n",
      "        MAXINDEX(real[, timeperiod=?])\n",
      "        \n",
      "        Index of highest value over a specified period (Math Operators)\n",
      "        \n",
      "        Inputs:\n",
      "            real: (any ndarray)\n",
      "        Parameters:\n",
      "            timeperiod: 30\n",
      "        Outputs:\n",
      "            integer (values are -100, 0 or 100)\n",
      "    \n",
      "    MEDPRICE(...)\n",
      "        MEDPRICE(high, low)\n",
      "        \n",
      "        Median Price (Price Transform)\n",
      "        \n",
      "        Inputs:\n",
      "            prices: ['high', 'low']\n",
      "        Outputs:\n",
      "            real\n",
      "    \n",
      "    MFI(...)\n",
      "        MFI(high, low, close, volume[, timeperiod=?])\n",
      "        \n",
      "        Money Flow Index (Momentum Indicators)\n",
      "        \n",
      "        Inputs:\n",
      "            prices: ['high', 'low', 'close', 'volume']\n",
      "        Parameters:\n",
      "            timeperiod: 14\n",
      "        Outputs:\n",
      "            real\n",
      "    \n",
      "    MIDPOINT(...)\n",
      "        MIDPOINT(real[, timeperiod=?])\n",
      "        \n",
      "        MidPoint over period (Overlap Studies)\n",
      "        \n",
      "        Inputs:\n",
      "            real: (any ndarray)\n",
      "        Parameters:\n",
      "            timeperiod: 14\n",
      "        Outputs:\n",
      "            real\n",
      "    \n",
      "    MIDPRICE(...)\n",
      "        MIDPRICE(high, low[, timeperiod=?])\n",
      "        \n",
      "        Midpoint Price over period (Overlap Studies)\n",
      "        \n",
      "        Inputs:\n",
      "            prices: ['high', 'low']\n",
      "        Parameters:\n",
      "            timeperiod: 14\n",
      "        Outputs:\n",
      "            real\n",
      "    \n",
      "    MIN(...)\n",
      "        MIN(real[, timeperiod=?])\n",
      "        \n",
      "        Lowest value over a specified period (Math Operators)\n",
      "        \n",
      "        Inputs:\n",
      "            real: (any ndarray)\n",
      "        Parameters:\n",
      "            timeperiod: 30\n",
      "        Outputs:\n",
      "            real\n",
      "    \n",
      "    MININDEX(...)\n",
      "        MININDEX(real[, timeperiod=?])\n",
      "        \n",
      "        Index of lowest value over a specified period (Math Operators)\n",
      "        \n",
      "        Inputs:\n",
      "            real: (any ndarray)\n",
      "        Parameters:\n",
      "            timeperiod: 30\n",
      "        Outputs:\n",
      "            integer (values are -100, 0 or 100)\n",
      "    \n",
      "    MINMAX(...)\n",
      "        MINMAX(real[, timeperiod=?])\n",
      "        \n",
      "        Lowest and highest values over a specified period (Math Operators)\n",
      "        \n",
      "        Inputs:\n",
      "            real: (any ndarray)\n",
      "        Parameters:\n",
      "            timeperiod: 30\n",
      "        Outputs:\n",
      "            min\n",
      "            max\n",
      "    \n",
      "    MINMAXINDEX(...)\n",
      "        MINMAXINDEX(real[, timeperiod=?])\n",
      "        \n",
      "        Indexes of lowest and highest values over a specified period (Math Operators)\n",
      "        \n",
      "        Inputs:\n",
      "            real: (any ndarray)\n",
      "        Parameters:\n",
      "            timeperiod: 30\n",
      "        Outputs:\n",
      "            minidx\n",
      "            maxidx\n",
      "    \n",
      "    MINUS_DI(...)\n",
      "        MINUS_DI(high, low, close[, timeperiod=?])\n",
      "        \n",
      "        Minus Directional Indicator (Momentum Indicators)\n",
      "        \n",
      "        Inputs:\n",
      "            prices: ['high', 'low', 'close']\n",
      "        Parameters:\n",
      "            timeperiod: 14\n",
      "        Outputs:\n",
      "            real\n",
      "    \n",
      "    MINUS_DM(...)\n",
      "        MINUS_DM(high, low[, timeperiod=?])\n",
      "        \n",
      "        Minus Directional Movement (Momentum Indicators)\n",
      "        \n",
      "        Inputs:\n",
      "            prices: ['high', 'low']\n",
      "        Parameters:\n",
      "            timeperiod: 14\n",
      "        Outputs:\n",
      "            real\n",
      "    \n",
      "    MOM(...)\n",
      "        MOM(real[, timeperiod=?])\n",
      "        \n",
      "        Momentum (Momentum Indicators)\n",
      "        \n",
      "        Inputs:\n",
      "            real: (any ndarray)\n",
      "        Parameters:\n",
      "            timeperiod: 10\n",
      "        Outputs:\n",
      "            real\n",
      "    \n",
      "    MULT(...)\n",
      "        MULT(real0, real1)\n",
      "        \n",
      "        Vector Arithmetic Mult (Math Operators)\n",
      "        \n",
      "        Inputs:\n",
      "            real0: (any ndarray)\n",
      "            real1: (any ndarray)\n",
      "        Outputs:\n",
      "            real\n",
      "    \n",
      "    NATR(...)\n",
      "        NATR(high, low, close[, timeperiod=?])\n",
      "        \n",
      "        Normalized Average True Range (Volatility Indicators)\n",
      "        \n",
      "        Inputs:\n",
      "            prices: ['high', 'low', 'close']\n",
      "        Parameters:\n",
      "            timeperiod: 14\n",
      "        Outputs:\n",
      "            real\n",
      "    \n",
      "    OBV(...)\n",
      "        OBV(real, volume)\n",
      "        \n",
      "        On Balance Volume (Volume Indicators)\n",
      "        \n",
      "        Inputs:\n",
      "            real: (any ndarray)\n",
      "            prices: ['volume']\n",
      "        Outputs:\n",
      "            real\n",
      "    \n",
      "    PLUS_DI(...)\n",
      "        PLUS_DI(high, low, close[, timeperiod=?])\n",
      "        \n",
      "        Plus Directional Indicator (Momentum Indicators)\n",
      "        \n",
      "        Inputs:\n",
      "            prices: ['high', 'low', 'close']\n",
      "        Parameters:\n",
      "            timeperiod: 14\n",
      "        Outputs:\n",
      "            real\n",
      "    \n",
      "    PLUS_DM(...)\n",
      "        PLUS_DM(high, low[, timeperiod=?])\n",
      "        \n",
      "        Plus Directional Movement (Momentum Indicators)\n",
      "        \n",
      "        Inputs:\n",
      "            prices: ['high', 'low']\n",
      "        Parameters:\n",
      "            timeperiod: 14\n",
      "        Outputs:\n",
      "            real\n",
      "    \n",
      "    PPO(...)\n",
      "        PPO(real[, fastperiod=?, slowperiod=?, matype=?])\n",
      "        \n",
      "        Percentage Price Oscillator (Momentum Indicators)\n",
      "        \n",
      "        Inputs:\n",
      "            real: (any ndarray)\n",
      "        Parameters:\n",
      "            fastperiod: 12\n",
      "            slowperiod: 26\n",
      "            matype: 0 (Simple Moving Average)\n",
      "        Outputs:\n",
      "            real\n",
      "    \n",
      "    ROC(...)\n",
      "        ROC(real[, timeperiod=?])\n",
      "        \n",
      "        Rate of change : ((real/prevPrice)-1)*100 (Momentum Indicators)\n",
      "        \n",
      "        Inputs:\n",
      "            real: (any ndarray)\n",
      "        Parameters:\n",
      "            timeperiod: 10\n",
      "        Outputs:\n",
      "            real\n",
      "    \n",
      "    ROCP(...)\n",
      "        ROCP(real[, timeperiod=?])\n",
      "        \n",
      "        Rate of change Percentage: (real-prevPrice)/prevPrice (Momentum Indicators)\n",
      "        \n",
      "        Inputs:\n",
      "            real: (any ndarray)\n",
      "        Parameters:\n",
      "            timeperiod: 10\n",
      "        Outputs:\n",
      "            real\n",
      "    \n",
      "    ROCR(...)\n",
      "        ROCR(real[, timeperiod=?])\n",
      "        \n",
      "        Rate of change ratio: (real/prevPrice) (Momentum Indicators)\n",
      "        \n",
      "        Inputs:\n",
      "            real: (any ndarray)\n",
      "        Parameters:\n",
      "            timeperiod: 10\n",
      "        Outputs:\n",
      "            real\n",
      "    \n",
      "    ROCR100(...)\n",
      "        ROCR100(real[, timeperiod=?])\n",
      "        \n",
      "        Rate of change ratio 100 scale: (real/prevPrice)*100 (Momentum Indicators)\n",
      "        \n",
      "        Inputs:\n",
      "            real: (any ndarray)\n",
      "        Parameters:\n",
      "            timeperiod: 10\n",
      "        Outputs:\n",
      "            real\n",
      "    \n",
      "    RSI(...)\n",
      "        RSI(real[, timeperiod=?])\n",
      "        \n",
      "        Relative Strength Index (Momentum Indicators)\n",
      "        \n",
      "        Inputs:\n",
      "            real: (any ndarray)\n",
      "        Parameters:\n",
      "            timeperiod: 14\n",
      "        Outputs:\n",
      "            real\n",
      "    \n",
      "    SAR(...)\n",
      "        SAR(high, low[, acceleration=?, maximum=?])\n",
      "        \n",
      "        Parabolic SAR (Overlap Studies)\n",
      "        \n",
      "        Inputs:\n",
      "            prices: ['high', 'low']\n",
      "        Parameters:\n",
      "            acceleration: 0.02\n",
      "            maximum: 0.2\n",
      "        Outputs:\n",
      "            real\n",
      "    \n",
      "    SAREXT(...)\n",
      "        SAREXT(high, low[, startvalue=?, offsetonreverse=?, accelerationinitlong=?, accelerationlong=?, accelerationmaxlong=?, accelerationinitshort=?, accelerationshort=?, accelerationmaxshort=?])\n",
      "        \n",
      "        Parabolic SAR - Extended (Overlap Studies)\n",
      "        \n",
      "        Inputs:\n",
      "            prices: ['high', 'low']\n",
      "        Parameters:\n",
      "            startvalue: 0\n",
      "            offsetonreverse: 0\n",
      "            accelerationinitlong: 0.02\n",
      "            accelerationlong: 0.02\n",
      "            accelerationmaxlong: 0.2\n",
      "            accelerationinitshort: 0.02\n",
      "            accelerationshort: 0.02\n",
      "            accelerationmaxshort: 0.2\n",
      "        Outputs:\n",
      "            real\n",
      "    \n",
      "    SIN(...)\n",
      "        SIN(real)\n",
      "        \n",
      "        Vector Trigonometric Sin (Math Transform)\n",
      "        \n",
      "        Inputs:\n",
      "            real: (any ndarray)\n",
      "        Outputs:\n",
      "            real\n",
      "    \n",
      "    SINH(...)\n",
      "        SINH(real)\n",
      "        \n",
      "        Vector Trigonometric Sinh (Math Transform)\n",
      "        \n",
      "        Inputs:\n",
      "            real: (any ndarray)\n",
      "        Outputs:\n",
      "            real\n",
      "    \n",
      "    SMA(...)\n",
      "        SMA(real[, timeperiod=?])\n",
      "        \n",
      "        Simple Moving Average (Overlap Studies)\n",
      "        \n",
      "        Inputs:\n",
      "            real: (any ndarray)\n",
      "        Parameters:\n",
      "            timeperiod: 30\n",
      "        Outputs:\n",
      "            real\n",
      "    \n",
      "    SQRT(...)\n",
      "        SQRT(real)\n",
      "        \n",
      "        Vector Square Root (Math Transform)\n",
      "        \n",
      "        Inputs:\n",
      "            real: (any ndarray)\n",
      "        Outputs:\n",
      "            real\n",
      "    \n",
      "    STDDEV(...)\n",
      "        STDDEV(real[, timeperiod=?, nbdev=?])\n",
      "        \n",
      "        Standard Deviation (Statistic Functions)\n",
      "        \n",
      "        Inputs:\n",
      "            real: (any ndarray)\n",
      "        Parameters:\n",
      "            timeperiod: 5\n",
      "            nbdev: 1\n",
      "        Outputs:\n",
      "            real\n",
      "    \n",
      "    STOCH(...)\n",
      "        STOCH(high, low, close[, fastk_period=?, slowk_period=?, slowk_matype=?, slowd_period=?, slowd_matype=?])\n",
      "        \n",
      "        Stochastic (Momentum Indicators)\n",
      "        \n",
      "        Inputs:\n",
      "            prices: ['high', 'low', 'close']\n",
      "        Parameters:\n",
      "            fastk_period: 5\n",
      "            slowk_period: 3\n",
      "            slowk_matype: 0\n",
      "            slowd_period: 3\n",
      "            slowd_matype: 0\n",
      "        Outputs:\n",
      "            slowk\n",
      "            slowd\n",
      "    \n",
      "    STOCHF(...)\n",
      "        STOCHF(high, low, close[, fastk_period=?, fastd_period=?, fastd_matype=?])\n",
      "        \n",
      "        Stochastic Fast (Momentum Indicators)\n",
      "        \n",
      "        Inputs:\n",
      "            prices: ['high', 'low', 'close']\n",
      "        Parameters:\n",
      "            fastk_period: 5\n",
      "            fastd_period: 3\n",
      "            fastd_matype: 0\n",
      "        Outputs:\n",
      "            fastk\n",
      "            fastd\n",
      "    \n",
      "    STOCHRSI(...)\n",
      "        STOCHRSI(real[, timeperiod=?, fastk_period=?, fastd_period=?, fastd_matype=?])\n",
      "        \n",
      "        Stochastic Relative Strength Index (Momentum Indicators)\n",
      "        \n",
      "        Inputs:\n",
      "            real: (any ndarray)\n",
      "        Parameters:\n",
      "            timeperiod: 14\n",
      "            fastk_period: 5\n",
      "            fastd_period: 3\n",
      "            fastd_matype: 0\n",
      "        Outputs:\n",
      "            fastk\n",
      "            fastd\n",
      "    \n",
      "    SUB(...)\n",
      "        SUB(real0, real1)\n",
      "        \n",
      "        Vector Arithmetic Substraction (Math Operators)\n",
      "        \n",
      "        Inputs:\n",
      "            real0: (any ndarray)\n",
      "            real1: (any ndarray)\n",
      "        Outputs:\n",
      "            real\n",
      "    \n",
      "    SUM(...)\n",
      "        SUM(real[, timeperiod=?])\n",
      "        \n",
      "        Summation (Math Operators)\n",
      "        \n",
      "        Inputs:\n",
      "            real: (any ndarray)\n",
      "        Parameters:\n",
      "            timeperiod: 30\n",
      "        Outputs:\n",
      "            real\n",
      "    \n",
      "    T3(...)\n",
      "        T3(real[, timeperiod=?, vfactor=?])\n",
      "        \n",
      "        Triple Exponential Moving Average (T3) (Overlap Studies)\n",
      "        \n",
      "        Inputs:\n",
      "            real: (any ndarray)\n",
      "        Parameters:\n",
      "            timeperiod: 5\n",
      "            vfactor: 0.7\n",
      "        Outputs:\n",
      "            real\n",
      "    \n",
      "    TAN(...)\n",
      "        TAN(real)\n",
      "        \n",
      "        Vector Trigonometric Tan (Math Transform)\n",
      "        \n",
      "        Inputs:\n",
      "            real: (any ndarray)\n",
      "        Outputs:\n",
      "            real\n",
      "    \n",
      "    TANH(...)\n",
      "        TANH(real)\n",
      "        \n",
      "        Vector Trigonometric Tanh (Math Transform)\n",
      "        \n",
      "        Inputs:\n",
      "            real: (any ndarray)\n",
      "        Outputs:\n",
      "            real\n",
      "    \n",
      "    TEMA(...)\n",
      "        TEMA(real[, timeperiod=?])\n",
      "        \n",
      "        Triple Exponential Moving Average (Overlap Studies)\n",
      "        \n",
      "        Inputs:\n",
      "            real: (any ndarray)\n",
      "        Parameters:\n",
      "            timeperiod: 30\n",
      "        Outputs:\n",
      "            real\n",
      "    \n",
      "    TRANGE(...)\n",
      "        TRANGE(high, low, close)\n",
      "        \n",
      "        True Range (Volatility Indicators)\n",
      "        \n",
      "        Inputs:\n",
      "            prices: ['high', 'low', 'close']\n",
      "        Outputs:\n",
      "            real\n",
      "    \n",
      "    TRIMA(...)\n",
      "        TRIMA(real[, timeperiod=?])\n",
      "        \n",
      "        Triangular Moving Average (Overlap Studies)\n",
      "        \n",
      "        Inputs:\n",
      "            real: (any ndarray)\n",
      "        Parameters:\n",
      "            timeperiod: 30\n",
      "        Outputs:\n",
      "            real\n",
      "    \n",
      "    TRIX(...)\n",
      "        TRIX(real[, timeperiod=?])\n",
      "        \n",
      "        1-day Rate-Of-Change (ROC) of a Triple Smooth EMA (Momentum Indicators)\n",
      "        \n",
      "        Inputs:\n",
      "            real: (any ndarray)\n",
      "        Parameters:\n",
      "            timeperiod: 30\n",
      "        Outputs:\n",
      "            real\n",
      "    \n",
      "    TSF(...)\n",
      "        TSF(real[, timeperiod=?])\n",
      "        \n",
      "        Time Series Forecast (Statistic Functions)\n",
      "        \n",
      "        Inputs:\n",
      "            real: (any ndarray)\n",
      "        Parameters:\n",
      "            timeperiod: 14\n",
      "        Outputs:\n",
      "            real\n",
      "    \n",
      "    TYPPRICE(...)\n",
      "        TYPPRICE(high, low, close)\n",
      "        \n",
      "        Typical Price (Price Transform)\n",
      "        \n",
      "        Inputs:\n",
      "            prices: ['high', 'low', 'close']\n",
      "        Outputs:\n",
      "            real\n",
      "    \n",
      "    ULTOSC(...)\n",
      "        ULTOSC(high, low, close[, timeperiod1=?, timeperiod2=?, timeperiod3=?])\n",
      "        \n",
      "        Ultimate Oscillator (Momentum Indicators)\n",
      "        \n",
      "        Inputs:\n",
      "            prices: ['high', 'low', 'close']\n",
      "        Parameters:\n",
      "            timeperiod1: 7\n",
      "            timeperiod2: 14\n",
      "            timeperiod3: 28\n",
      "        Outputs:\n",
      "            real\n",
      "    \n",
      "    VAR(...)\n",
      "        VAR(real[, timeperiod=?, nbdev=?])\n",
      "        \n",
      "        Variance (Statistic Functions)\n",
      "        \n",
      "        Inputs:\n",
      "            real: (any ndarray)\n",
      "        Parameters:\n",
      "            timeperiod: 5\n",
      "            nbdev: 1\n",
      "        Outputs:\n",
      "            real\n",
      "    \n",
      "    WCLPRICE(...)\n",
      "        WCLPRICE(high, low, close)\n",
      "        \n",
      "        Weighted Close Price (Price Transform)\n",
      "        \n",
      "        Inputs:\n",
      "            prices: ['high', 'low', 'close']\n",
      "        Outputs:\n",
      "            real\n",
      "    \n",
      "    WILLR(...)\n",
      "        WILLR(high, low, close[, timeperiod=?])\n",
      "        \n",
      "        Williams' %R (Momentum Indicators)\n",
      "        \n",
      "        Inputs:\n",
      "            prices: ['high', 'low', 'close']\n",
      "        Parameters:\n",
      "            timeperiod: 14\n",
      "        Outputs:\n",
      "            real\n",
      "    \n",
      "    WMA(...)\n",
      "        WMA(real[, timeperiod=?])\n",
      "        \n",
      "        Weighted Moving Average (Overlap Studies)\n",
      "        \n",
      "        Inputs:\n",
      "            real: (any ndarray)\n",
      "        Parameters:\n",
      "            timeperiod: 30\n",
      "        Outputs:\n",
      "            real\n",
      "    \n",
      "    get_function_groups()\n",
      "        Returns a dict with keys of function-group names and values of lists\n",
      "        of function names ie {'group_names': ['function_names']}\n",
      "    \n",
      "    get_functions()\n",
      "        Returns a list of all the functions supported by TALIB\n",
      "    \n",
      "    stream_ACOS(...)\n",
      "        ACOS(real)\n",
      "        \n",
      "        Vector Trigonometric ACos (Math Transform)\n",
      "        \n",
      "        Inputs:\n",
      "            real: (any ndarray)\n",
      "        Outputs:\n",
      "            real\n",
      "    \n",
      "    stream_AD(...)\n",
      "        AD(high, low, close, volume)\n",
      "        \n",
      "        Chaikin A/D Line (Volume Indicators)\n",
      "        \n",
      "        Inputs:\n",
      "            prices: ['high', 'low', 'close', 'volume']\n",
      "        Outputs:\n",
      "            real\n",
      "    \n",
      "    stream_ADD(...)\n",
      "        ADD(real0, real1)\n",
      "        \n",
      "        Vector Arithmetic Add (Math Operators)\n",
      "        \n",
      "        Inputs:\n",
      "            real0: (any ndarray)\n",
      "            real1: (any ndarray)\n",
      "        Outputs:\n",
      "            real\n",
      "    \n",
      "    stream_ADOSC(...)\n",
      "        ADOSC(high, low, close, volume[, fastperiod=?, slowperiod=?])\n",
      "        \n",
      "        Chaikin A/D Oscillator (Volume Indicators)\n",
      "        \n",
      "        Inputs:\n",
      "            prices: ['high', 'low', 'close', 'volume']\n",
      "        Parameters:\n",
      "            fastperiod: 3\n",
      "            slowperiod: 10\n",
      "        Outputs:\n",
      "            real\n",
      "    \n",
      "    stream_ADX(...)\n",
      "        ADX(high, low, close[, timeperiod=?])\n",
      "        \n",
      "        Average Directional Movement Index (Momentum Indicators)\n",
      "        \n",
      "        Inputs:\n",
      "            prices: ['high', 'low', 'close']\n",
      "        Parameters:\n",
      "            timeperiod: 14\n",
      "        Outputs:\n",
      "            real\n",
      "    \n",
      "    stream_ADXR(...)\n",
      "        ADXR(high, low, close[, timeperiod=?])\n",
      "        \n",
      "        Average Directional Movement Index Rating (Momentum Indicators)\n",
      "        \n",
      "        Inputs:\n",
      "            prices: ['high', 'low', 'close']\n",
      "        Parameters:\n",
      "            timeperiod: 14\n",
      "        Outputs:\n",
      "            real\n",
      "    \n",
      "    stream_APO(...)\n",
      "        APO(real[, fastperiod=?, slowperiod=?, matype=?])\n",
      "        \n",
      "        Absolute Price Oscillator (Momentum Indicators)\n",
      "        \n",
      "        Inputs:\n",
      "            real: (any ndarray)\n",
      "        Parameters:\n",
      "            fastperiod: 12\n",
      "            slowperiod: 26\n",
      "            matype: 0 (Simple Moving Average)\n",
      "        Outputs:\n",
      "            real\n",
      "    \n",
      "    stream_AROON(...)\n",
      "        AROON(high, low[, timeperiod=?])\n",
      "        \n",
      "        Aroon (Momentum Indicators)\n",
      "        \n",
      "        Inputs:\n",
      "            prices: ['high', 'low']\n",
      "        Parameters:\n",
      "            timeperiod: 14\n",
      "        Outputs:\n",
      "            aroondown\n",
      "            aroonup\n",
      "    \n",
      "    stream_AROONOSC(...)\n",
      "        AROONOSC(high, low[, timeperiod=?])\n",
      "        \n",
      "        Aroon Oscillator (Momentum Indicators)\n",
      "        \n",
      "        Inputs:\n",
      "            prices: ['high', 'low']\n",
      "        Parameters:\n",
      "            timeperiod: 14\n",
      "        Outputs:\n",
      "            real\n",
      "    \n",
      "    stream_ASIN(...)\n",
      "        ASIN(real)\n",
      "        \n",
      "        Vector Trigonometric ASin (Math Transform)\n",
      "        \n",
      "        Inputs:\n",
      "            real: (any ndarray)\n",
      "        Outputs:\n",
      "            real\n",
      "    \n",
      "    stream_ATAN(...)\n",
      "        ATAN(real)\n",
      "        \n",
      "        Vector Trigonometric ATan (Math Transform)\n",
      "        \n",
      "        Inputs:\n",
      "            real: (any ndarray)\n",
      "        Outputs:\n",
      "            real\n",
      "    \n",
      "    stream_ATR(...)\n",
      "        ATR(high, low, close[, timeperiod=?])\n",
      "        \n",
      "        Average True Range (Volatility Indicators)\n",
      "        \n",
      "        Inputs:\n",
      "            prices: ['high', 'low', 'close']\n",
      "        Parameters:\n",
      "            timeperiod: 14\n",
      "        Outputs:\n",
      "            real\n",
      "    \n",
      "    stream_AVGPRICE(...)\n",
      "        AVGPRICE(open, high, low, close)\n",
      "        \n",
      "        Average Price (Price Transform)\n",
      "        \n",
      "        Inputs:\n",
      "            prices: ['open', 'high', 'low', 'close']\n",
      "        Outputs:\n",
      "            real\n",
      "    \n",
      "    stream_BBANDS(...)\n",
      "        BBANDS(real[, timeperiod=?, nbdevup=?, nbdevdn=?, matype=?])\n",
      "        \n",
      "        Bollinger Bands (Overlap Studies)\n",
      "        \n",
      "        Inputs:\n",
      "            real: (any ndarray)\n",
      "        Parameters:\n",
      "            timeperiod: 5\n",
      "            nbdevup: 2\n",
      "            nbdevdn: 2\n",
      "            matype: 0 (Simple Moving Average)\n",
      "        Outputs:\n",
      "            upperband\n",
      "            middleband\n",
      "            lowerband\n",
      "    \n",
      "    stream_BETA(...)\n",
      "        BETA(real0, real1[, timeperiod=?])\n",
      "        \n",
      "        Beta (Statistic Functions)\n",
      "        \n",
      "        Inputs:\n",
      "            real0: (any ndarray)\n",
      "            real1: (any ndarray)\n",
      "        Parameters:\n",
      "            timeperiod: 5\n",
      "        Outputs:\n",
      "            real\n",
      "    \n",
      "    stream_BOP(...)\n",
      "        BOP(open, high, low, close)\n",
      "        \n",
      "        Balance Of Power (Momentum Indicators)\n",
      "        \n",
      "        Inputs:\n",
      "            prices: ['open', 'high', 'low', 'close']\n",
      "        Outputs:\n",
      "            real\n",
      "    \n",
      "    stream_CCI(...)\n",
      "        CCI(high, low, close[, timeperiod=?])\n",
      "        \n",
      "        Commodity Channel Index (Momentum Indicators)\n",
      "        \n",
      "        Inputs:\n",
      "            prices: ['high', 'low', 'close']\n",
      "        Parameters:\n",
      "            timeperiod: 14\n",
      "        Outputs:\n",
      "            real\n",
      "    \n",
      "    stream_CDL2CROWS(...)\n",
      "        CDL2CROWS(open, high, low, close)\n",
      "        \n",
      "        Two Crows (Pattern Recognition)\n",
      "        \n",
      "        Inputs:\n",
      "            prices: ['open', 'high', 'low', 'close']\n",
      "        Outputs:\n",
      "            integer (values are -100, 0 or 100)\n",
      "    \n",
      "    stream_CDL3BLACKCROWS(...)\n",
      "        CDL3BLACKCROWS(open, high, low, close)\n",
      "        \n",
      "        Three Black Crows (Pattern Recognition)\n",
      "        \n",
      "        Inputs:\n",
      "            prices: ['open', 'high', 'low', 'close']\n",
      "        Outputs:\n",
      "            integer (values are -100, 0 or 100)\n",
      "    \n",
      "    stream_CDL3INSIDE(...)\n",
      "        CDL3INSIDE(open, high, low, close)\n",
      "        \n",
      "        Three Inside Up/Down (Pattern Recognition)\n",
      "        \n",
      "        Inputs:\n",
      "            prices: ['open', 'high', 'low', 'close']\n",
      "        Outputs:\n",
      "            integer (values are -100, 0 or 100)\n",
      "    \n",
      "    stream_CDL3LINESTRIKE(...)\n",
      "        CDL3LINESTRIKE(open, high, low, close)\n",
      "        \n",
      "        Three-Line Strike  (Pattern Recognition)\n",
      "        \n",
      "        Inputs:\n",
      "            prices: ['open', 'high', 'low', 'close']\n",
      "        Outputs:\n",
      "            integer (values are -100, 0 or 100)\n",
      "    \n",
      "    stream_CDL3OUTSIDE(...)\n",
      "        CDL3OUTSIDE(open, high, low, close)\n",
      "        \n",
      "        Three Outside Up/Down (Pattern Recognition)\n",
      "        \n",
      "        Inputs:\n",
      "            prices: ['open', 'high', 'low', 'close']\n",
      "        Outputs:\n",
      "            integer (values are -100, 0 or 100)\n",
      "    \n",
      "    stream_CDL3STARSINSOUTH(...)\n",
      "        CDL3STARSINSOUTH(open, high, low, close)\n",
      "        \n",
      "        Three Stars In The South (Pattern Recognition)\n",
      "        \n",
      "        Inputs:\n",
      "            prices: ['open', 'high', 'low', 'close']\n",
      "        Outputs:\n",
      "            integer (values are -100, 0 or 100)\n",
      "    \n",
      "    stream_CDL3WHITESOLDIERS(...)\n",
      "        CDL3WHITESOLDIERS(open, high, low, close)\n",
      "        \n",
      "        Three Advancing White Soldiers (Pattern Recognition)\n",
      "        \n",
      "        Inputs:\n",
      "            prices: ['open', 'high', 'low', 'close']\n",
      "        Outputs:\n",
      "            integer (values are -100, 0 or 100)\n",
      "    \n",
      "    stream_CDLABANDONEDBABY(...)\n",
      "        CDLABANDONEDBABY(open, high, low, close[, penetration=?])\n",
      "        \n",
      "        Abandoned Baby (Pattern Recognition)\n",
      "        \n",
      "        Inputs:\n",
      "            prices: ['open', 'high', 'low', 'close']\n",
      "        Parameters:\n",
      "            penetration: 0.3\n",
      "        Outputs:\n",
      "            integer (values are -100, 0 or 100)\n",
      "    \n",
      "    stream_CDLADVANCEBLOCK(...)\n",
      "        CDLADVANCEBLOCK(open, high, low, close)\n",
      "        \n",
      "        Advance Block (Pattern Recognition)\n",
      "        \n",
      "        Inputs:\n",
      "            prices: ['open', 'high', 'low', 'close']\n",
      "        Outputs:\n",
      "            integer (values are -100, 0 or 100)\n",
      "    \n",
      "    stream_CDLBELTHOLD(...)\n",
      "        CDLBELTHOLD(open, high, low, close)\n",
      "        \n",
      "        Belt-hold (Pattern Recognition)\n",
      "        \n",
      "        Inputs:\n",
      "            prices: ['open', 'high', 'low', 'close']\n",
      "        Outputs:\n",
      "            integer (values are -100, 0 or 100)\n",
      "    \n",
      "    stream_CDLBREAKAWAY(...)\n",
      "        CDLBREAKAWAY(open, high, low, close)\n",
      "        \n",
      "        Breakaway (Pattern Recognition)\n",
      "        \n",
      "        Inputs:\n",
      "            prices: ['open', 'high', 'low', 'close']\n",
      "        Outputs:\n",
      "            integer (values are -100, 0 or 100)\n",
      "    \n",
      "    stream_CDLCLOSINGMARUBOZU(...)\n",
      "        CDLCLOSINGMARUBOZU(open, high, low, close)\n",
      "        \n",
      "        Closing Marubozu (Pattern Recognition)\n",
      "        \n",
      "        Inputs:\n",
      "            prices: ['open', 'high', 'low', 'close']\n",
      "        Outputs:\n",
      "            integer (values are -100, 0 or 100)\n",
      "    \n",
      "    stream_CDLCONCEALBABYSWALL(...)\n",
      "        CDLCONCEALBABYSWALL(open, high, low, close)\n",
      "        \n",
      "        Concealing Baby Swallow (Pattern Recognition)\n",
      "        \n",
      "        Inputs:\n",
      "            prices: ['open', 'high', 'low', 'close']\n",
      "        Outputs:\n",
      "            integer (values are -100, 0 or 100)\n",
      "    \n",
      "    stream_CDLCOUNTERATTACK(...)\n",
      "        CDLCOUNTERATTACK(open, high, low, close)\n",
      "        \n",
      "        Counterattack (Pattern Recognition)\n",
      "        \n",
      "        Inputs:\n",
      "            prices: ['open', 'high', 'low', 'close']\n",
      "        Outputs:\n",
      "            integer (values are -100, 0 or 100)\n",
      "    \n",
      "    stream_CDLDARKCLOUDCOVER(...)\n",
      "        CDLDARKCLOUDCOVER(open, high, low, close[, penetration=?])\n",
      "        \n",
      "        Dark Cloud Cover (Pattern Recognition)\n",
      "        \n",
      "        Inputs:\n",
      "            prices: ['open', 'high', 'low', 'close']\n",
      "        Parameters:\n",
      "            penetration: 0.5\n",
      "        Outputs:\n",
      "            integer (values are -100, 0 or 100)\n",
      "    \n",
      "    stream_CDLDOJI(...)\n",
      "        CDLDOJI(open, high, low, close)\n",
      "        \n",
      "        Doji (Pattern Recognition)\n",
      "        \n",
      "        Inputs:\n",
      "            prices: ['open', 'high', 'low', 'close']\n",
      "        Outputs:\n",
      "            integer (values are -100, 0 or 100)\n",
      "    \n",
      "    stream_CDLDOJISTAR(...)\n",
      "        CDLDOJISTAR(open, high, low, close)\n",
      "        \n",
      "        Doji Star (Pattern Recognition)\n",
      "        \n",
      "        Inputs:\n",
      "            prices: ['open', 'high', 'low', 'close']\n",
      "        Outputs:\n",
      "            integer (values are -100, 0 or 100)\n",
      "    \n",
      "    stream_CDLDRAGONFLYDOJI(...)\n",
      "        CDLDRAGONFLYDOJI(open, high, low, close)\n",
      "        \n",
      "        Dragonfly Doji (Pattern Recognition)\n",
      "        \n",
      "        Inputs:\n",
      "            prices: ['open', 'high', 'low', 'close']\n",
      "        Outputs:\n",
      "            integer (values are -100, 0 or 100)\n",
      "    \n",
      "    stream_CDLENGULFING(...)\n",
      "        CDLENGULFING(open, high, low, close)\n",
      "        \n",
      "        Engulfing Pattern (Pattern Recognition)\n",
      "        \n",
      "        Inputs:\n",
      "            prices: ['open', 'high', 'low', 'close']\n",
      "        Outputs:\n",
      "            integer (values are -100, 0 or 100)\n",
      "    \n",
      "    stream_CDLEVENINGDOJISTAR(...)\n",
      "        CDLEVENINGDOJISTAR(open, high, low, close[, penetration=?])\n",
      "        \n",
      "        Evening Doji Star (Pattern Recognition)\n",
      "        \n",
      "        Inputs:\n",
      "            prices: ['open', 'high', 'low', 'close']\n",
      "        Parameters:\n",
      "            penetration: 0.3\n",
      "        Outputs:\n",
      "            integer (values are -100, 0 or 100)\n",
      "    \n",
      "    stream_CDLEVENINGSTAR(...)\n",
      "        CDLEVENINGSTAR(open, high, low, close[, penetration=?])\n",
      "        \n",
      "        Evening Star (Pattern Recognition)\n",
      "        \n",
      "        Inputs:\n",
      "            prices: ['open', 'high', 'low', 'close']\n",
      "        Parameters:\n",
      "            penetration: 0.3\n",
      "        Outputs:\n",
      "            integer (values are -100, 0 or 100)\n",
      "    \n",
      "    stream_CDLGAPSIDESIDEWHITE(...)\n",
      "        CDLGAPSIDESIDEWHITE(open, high, low, close)\n",
      "        \n",
      "        Up/Down-gap side-by-side white lines (Pattern Recognition)\n",
      "        \n",
      "        Inputs:\n",
      "            prices: ['open', 'high', 'low', 'close']\n",
      "        Outputs:\n",
      "            integer (values are -100, 0 or 100)\n",
      "    \n",
      "    stream_CDLGRAVESTONEDOJI(...)\n",
      "        CDLGRAVESTONEDOJI(open, high, low, close)\n",
      "        \n",
      "        Gravestone Doji (Pattern Recognition)\n",
      "        \n",
      "        Inputs:\n",
      "            prices: ['open', 'high', 'low', 'close']\n",
      "        Outputs:\n",
      "            integer (values are -100, 0 or 100)\n",
      "    \n",
      "    stream_CDLHAMMER(...)\n",
      "        CDLHAMMER(open, high, low, close)\n",
      "        \n",
      "        Hammer (Pattern Recognition)\n",
      "        \n",
      "        Inputs:\n",
      "            prices: ['open', 'high', 'low', 'close']\n",
      "        Outputs:\n",
      "            integer (values are -100, 0 or 100)\n",
      "    \n",
      "    stream_CDLHANGINGMAN(...)\n",
      "        CDLHANGINGMAN(open, high, low, close)\n",
      "        \n",
      "        Hanging Man (Pattern Recognition)\n",
      "        \n",
      "        Inputs:\n",
      "            prices: ['open', 'high', 'low', 'close']\n",
      "        Outputs:\n",
      "            integer (values are -100, 0 or 100)\n",
      "    \n",
      "    stream_CDLHARAMI(...)\n",
      "        CDLHARAMI(open, high, low, close)\n",
      "        \n",
      "        Harami Pattern (Pattern Recognition)\n",
      "        \n",
      "        Inputs:\n",
      "            prices: ['open', 'high', 'low', 'close']\n",
      "        Outputs:\n",
      "            integer (values are -100, 0 or 100)\n",
      "    \n",
      "    stream_CDLHARAMICROSS(...)\n",
      "        CDLHARAMICROSS(open, high, low, close)\n",
      "        \n",
      "        Harami Cross Pattern (Pattern Recognition)\n",
      "        \n",
      "        Inputs:\n",
      "            prices: ['open', 'high', 'low', 'close']\n",
      "        Outputs:\n",
      "            integer (values are -100, 0 or 100)\n",
      "    \n",
      "    stream_CDLHIGHWAVE(...)\n",
      "        CDLHIGHWAVE(open, high, low, close)\n",
      "        \n",
      "        High-Wave Candle (Pattern Recognition)\n",
      "        \n",
      "        Inputs:\n",
      "            prices: ['open', 'high', 'low', 'close']\n",
      "        Outputs:\n",
      "            integer (values are -100, 0 or 100)\n",
      "    \n",
      "    stream_CDLHIKKAKE(...)\n",
      "        CDLHIKKAKE(open, high, low, close)\n",
      "        \n",
      "        Hikkake Pattern (Pattern Recognition)\n",
      "        \n",
      "        Inputs:\n",
      "            prices: ['open', 'high', 'low', 'close']\n",
      "        Outputs:\n",
      "            integer (values are -100, 0 or 100)\n",
      "    \n",
      "    stream_CDLHIKKAKEMOD(...)\n",
      "        CDLHIKKAKEMOD(open, high, low, close)\n",
      "        \n",
      "        Modified Hikkake Pattern (Pattern Recognition)\n",
      "        \n",
      "        Inputs:\n",
      "            prices: ['open', 'high', 'low', 'close']\n",
      "        Outputs:\n",
      "            integer (values are -100, 0 or 100)\n",
      "    \n",
      "    stream_CDLHOMINGPIGEON(...)\n",
      "        CDLHOMINGPIGEON(open, high, low, close)\n",
      "        \n",
      "        Homing Pigeon (Pattern Recognition)\n",
      "        \n",
      "        Inputs:\n",
      "            prices: ['open', 'high', 'low', 'close']\n",
      "        Outputs:\n",
      "            integer (values are -100, 0 or 100)\n",
      "    \n",
      "    stream_CDLIDENTICAL3CROWS(...)\n",
      "        CDLIDENTICAL3CROWS(open, high, low, close)\n",
      "        \n",
      "        Identical Three Crows (Pattern Recognition)\n",
      "        \n",
      "        Inputs:\n",
      "            prices: ['open', 'high', 'low', 'close']\n",
      "        Outputs:\n",
      "            integer (values are -100, 0 or 100)\n",
      "    \n",
      "    stream_CDLINNECK(...)\n",
      "        CDLINNECK(open, high, low, close)\n",
      "        \n",
      "        In-Neck Pattern (Pattern Recognition)\n",
      "        \n",
      "        Inputs:\n",
      "            prices: ['open', 'high', 'low', 'close']\n",
      "        Outputs:\n",
      "            integer (values are -100, 0 or 100)\n",
      "    \n",
      "    stream_CDLINVERTEDHAMMER(...)\n",
      "        CDLINVERTEDHAMMER(open, high, low, close)\n",
      "        \n",
      "        Inverted Hammer (Pattern Recognition)\n",
      "        \n",
      "        Inputs:\n",
      "            prices: ['open', 'high', 'low', 'close']\n",
      "        Outputs:\n",
      "            integer (values are -100, 0 or 100)\n",
      "    \n",
      "    stream_CDLKICKING(...)\n",
      "        CDLKICKING(open, high, low, close)\n",
      "        \n",
      "        Kicking (Pattern Recognition)\n",
      "        \n",
      "        Inputs:\n",
      "            prices: ['open', 'high', 'low', 'close']\n",
      "        Outputs:\n",
      "            integer (values are -100, 0 or 100)\n",
      "    \n",
      "    stream_CDLKICKINGBYLENGTH(...)\n",
      "        CDLKICKINGBYLENGTH(open, high, low, close)\n",
      "        \n",
      "        Kicking - bull/bear determined by the longer marubozu (Pattern Recognition)\n",
      "        \n",
      "        Inputs:\n",
      "            prices: ['open', 'high', 'low', 'close']\n",
      "        Outputs:\n",
      "            integer (values are -100, 0 or 100)\n",
      "    \n",
      "    stream_CDLLADDERBOTTOM(...)\n",
      "        CDLLADDERBOTTOM(open, high, low, close)\n",
      "        \n",
      "        Ladder Bottom (Pattern Recognition)\n",
      "        \n",
      "        Inputs:\n",
      "            prices: ['open', 'high', 'low', 'close']\n",
      "        Outputs:\n",
      "            integer (values are -100, 0 or 100)\n",
      "    \n",
      "    stream_CDLLONGLEGGEDDOJI(...)\n",
      "        CDLLONGLEGGEDDOJI(open, high, low, close)\n",
      "        \n",
      "        Long Legged Doji (Pattern Recognition)\n",
      "        \n",
      "        Inputs:\n",
      "            prices: ['open', 'high', 'low', 'close']\n",
      "        Outputs:\n",
      "            integer (values are -100, 0 or 100)\n",
      "    \n",
      "    stream_CDLLONGLINE(...)\n",
      "        CDLLONGLINE(open, high, low, close)\n",
      "        \n",
      "        Long Line Candle (Pattern Recognition)\n",
      "        \n",
      "        Inputs:\n",
      "            prices: ['open', 'high', 'low', 'close']\n",
      "        Outputs:\n",
      "            integer (values are -100, 0 or 100)\n",
      "    \n",
      "    stream_CDLMARUBOZU(...)\n",
      "        CDLMARUBOZU(open, high, low, close)\n",
      "        \n",
      "        Marubozu (Pattern Recognition)\n",
      "        \n",
      "        Inputs:\n",
      "            prices: ['open', 'high', 'low', 'close']\n",
      "        Outputs:\n",
      "            integer (values are -100, 0 or 100)\n",
      "    \n",
      "    stream_CDLMATCHINGLOW(...)\n",
      "        CDLMATCHINGLOW(open, high, low, close)\n",
      "        \n",
      "        Matching Low (Pattern Recognition)\n",
      "        \n",
      "        Inputs:\n",
      "            prices: ['open', 'high', 'low', 'close']\n",
      "        Outputs:\n",
      "            integer (values are -100, 0 or 100)\n",
      "    \n",
      "    stream_CDLMATHOLD(...)\n",
      "        CDLMATHOLD(open, high, low, close[, penetration=?])\n",
      "        \n",
      "        Mat Hold (Pattern Recognition)\n",
      "        \n",
      "        Inputs:\n",
      "            prices: ['open', 'high', 'low', 'close']\n",
      "        Parameters:\n",
      "            penetration: 0.5\n",
      "        Outputs:\n",
      "            integer (values are -100, 0 or 100)\n",
      "    \n",
      "    stream_CDLMORNINGDOJISTAR(...)\n",
      "        CDLMORNINGDOJISTAR(open, high, low, close[, penetration=?])\n",
      "        \n",
      "        Morning Doji Star (Pattern Recognition)\n",
      "        \n",
      "        Inputs:\n",
      "            prices: ['open', 'high', 'low', 'close']\n",
      "        Parameters:\n",
      "            penetration: 0.3\n",
      "        Outputs:\n",
      "            integer (values are -100, 0 or 100)\n",
      "    \n",
      "    stream_CDLMORNINGSTAR(...)\n",
      "        CDLMORNINGSTAR(open, high, low, close[, penetration=?])\n",
      "        \n",
      "        Morning Star (Pattern Recognition)\n",
      "        \n",
      "        Inputs:\n",
      "            prices: ['open', 'high', 'low', 'close']\n",
      "        Parameters:\n",
      "            penetration: 0.3\n",
      "        Outputs:\n",
      "            integer (values are -100, 0 or 100)\n",
      "    \n",
      "    stream_CDLONNECK(...)\n",
      "        CDLONNECK(open, high, low, close)\n",
      "        \n",
      "        On-Neck Pattern (Pattern Recognition)\n",
      "        \n",
      "        Inputs:\n",
      "            prices: ['open', 'high', 'low', 'close']\n",
      "        Outputs:\n",
      "            integer (values are -100, 0 or 100)\n",
      "    \n",
      "    stream_CDLPIERCING(...)\n",
      "        CDLPIERCING(open, high, low, close)\n",
      "        \n",
      "        Piercing Pattern (Pattern Recognition)\n",
      "        \n",
      "        Inputs:\n",
      "            prices: ['open', 'high', 'low', 'close']\n",
      "        Outputs:\n",
      "            integer (values are -100, 0 or 100)\n",
      "    \n",
      "    stream_CDLRICKSHAWMAN(...)\n",
      "        CDLRICKSHAWMAN(open, high, low, close)\n",
      "        \n",
      "        Rickshaw Man (Pattern Recognition)\n",
      "        \n",
      "        Inputs:\n",
      "            prices: ['open', 'high', 'low', 'close']\n",
      "        Outputs:\n",
      "            integer (values are -100, 0 or 100)\n",
      "    \n",
      "    stream_CDLRISEFALL3METHODS(...)\n",
      "        CDLRISEFALL3METHODS(open, high, low, close)\n",
      "        \n",
      "        Rising/Falling Three Methods (Pattern Recognition)\n",
      "        \n",
      "        Inputs:\n",
      "            prices: ['open', 'high', 'low', 'close']\n",
      "        Outputs:\n",
      "            integer (values are -100, 0 or 100)\n",
      "    \n",
      "    stream_CDLSEPARATINGLINES(...)\n",
      "        CDLSEPARATINGLINES(open, high, low, close)\n",
      "        \n",
      "        Separating Lines (Pattern Recognition)\n",
      "        \n",
      "        Inputs:\n",
      "            prices: ['open', 'high', 'low', 'close']\n",
      "        Outputs:\n",
      "            integer (values are -100, 0 or 100)\n",
      "    \n",
      "    stream_CDLSHOOTINGSTAR(...)\n",
      "        CDLSHOOTINGSTAR(open, high, low, close)\n",
      "        \n",
      "        Shooting Star (Pattern Recognition)\n",
      "        \n",
      "        Inputs:\n",
      "            prices: ['open', 'high', 'low', 'close']\n",
      "        Outputs:\n",
      "            integer (values are -100, 0 or 100)\n",
      "    \n",
      "    stream_CDLSHORTLINE(...)\n",
      "        CDLSHORTLINE(open, high, low, close)\n",
      "        \n",
      "        Short Line Candle (Pattern Recognition)\n",
      "        \n",
      "        Inputs:\n",
      "            prices: ['open', 'high', 'low', 'close']\n",
      "        Outputs:\n",
      "            integer (values are -100, 0 or 100)\n",
      "    \n",
      "    stream_CDLSPINNINGTOP(...)\n",
      "        CDLSPINNINGTOP(open, high, low, close)\n",
      "        \n",
      "        Spinning Top (Pattern Recognition)\n",
      "        \n",
      "        Inputs:\n",
      "            prices: ['open', 'high', 'low', 'close']\n",
      "        Outputs:\n",
      "            integer (values are -100, 0 or 100)\n",
      "    \n",
      "    stream_CDLSTALLEDPATTERN(...)\n",
      "        CDLSTALLEDPATTERN(open, high, low, close)\n",
      "        \n",
      "        Stalled Pattern (Pattern Recognition)\n",
      "        \n",
      "        Inputs:\n",
      "            prices: ['open', 'high', 'low', 'close']\n",
      "        Outputs:\n",
      "            integer (values are -100, 0 or 100)\n",
      "    \n",
      "    stream_CDLSTICKSANDWICH(...)\n",
      "        CDLSTICKSANDWICH(open, high, low, close)\n",
      "        \n",
      "        Stick Sandwich (Pattern Recognition)\n",
      "        \n",
      "        Inputs:\n",
      "            prices: ['open', 'high', 'low', 'close']\n",
      "        Outputs:\n",
      "            integer (values are -100, 0 or 100)\n",
      "    \n",
      "    stream_CDLTAKURI(...)\n",
      "        CDLTAKURI(open, high, low, close)\n",
      "        \n",
      "        Takuri (Dragonfly Doji with very long lower shadow) (Pattern Recognition)\n",
      "        \n",
      "        Inputs:\n",
      "            prices: ['open', 'high', 'low', 'close']\n",
      "        Outputs:\n",
      "            integer (values are -100, 0 or 100)\n",
      "    \n",
      "    stream_CDLTASUKIGAP(...)\n",
      "        CDLTASUKIGAP(open, high, low, close)\n",
      "        \n",
      "        Tasuki Gap (Pattern Recognition)\n",
      "        \n",
      "        Inputs:\n",
      "            prices: ['open', 'high', 'low', 'close']\n",
      "        Outputs:\n",
      "            integer (values are -100, 0 or 100)\n",
      "    \n",
      "    stream_CDLTHRUSTING(...)\n",
      "        CDLTHRUSTING(open, high, low, close)\n",
      "        \n",
      "        Thrusting Pattern (Pattern Recognition)\n",
      "        \n",
      "        Inputs:\n",
      "            prices: ['open', 'high', 'low', 'close']\n",
      "        Outputs:\n",
      "            integer (values are -100, 0 or 100)\n",
      "    \n",
      "    stream_CDLTRISTAR(...)\n",
      "        CDLTRISTAR(open, high, low, close)\n",
      "        \n",
      "        Tristar Pattern (Pattern Recognition)\n",
      "        \n",
      "        Inputs:\n",
      "            prices: ['open', 'high', 'low', 'close']\n",
      "        Outputs:\n",
      "            integer (values are -100, 0 or 100)\n",
      "    \n",
      "    stream_CDLUNIQUE3RIVER(...)\n",
      "        CDLUNIQUE3RIVER(open, high, low, close)\n",
      "        \n",
      "        Unique 3 River (Pattern Recognition)\n",
      "        \n",
      "        Inputs:\n",
      "            prices: ['open', 'high', 'low', 'close']\n",
      "        Outputs:\n",
      "            integer (values are -100, 0 or 100)\n",
      "    \n",
      "    stream_CDLUPSIDEGAP2CROWS(...)\n",
      "        CDLUPSIDEGAP2CROWS(open, high, low, close)\n",
      "        \n",
      "        Upside Gap Two Crows (Pattern Recognition)\n",
      "        \n",
      "        Inputs:\n",
      "            prices: ['open', 'high', 'low', 'close']\n",
      "        Outputs:\n",
      "            integer (values are -100, 0 or 100)\n",
      "    \n",
      "    stream_CDLXSIDEGAP3METHODS(...)\n",
      "        CDLXSIDEGAP3METHODS(open, high, low, close)\n",
      "        \n",
      "        Upside/Downside Gap Three Methods (Pattern Recognition)\n",
      "        \n",
      "        Inputs:\n",
      "            prices: ['open', 'high', 'low', 'close']\n",
      "        Outputs:\n",
      "            integer (values are -100, 0 or 100)\n",
      "    \n",
      "    stream_CEIL(...)\n",
      "        CEIL(real)\n",
      "        \n",
      "        Vector Ceil (Math Transform)\n",
      "        \n",
      "        Inputs:\n",
      "            real: (any ndarray)\n",
      "        Outputs:\n",
      "            real\n",
      "    \n",
      "    stream_CMO(...)\n",
      "        CMO(real[, timeperiod=?])\n",
      "        \n",
      "        Chande Momentum Oscillator (Momentum Indicators)\n",
      "        \n",
      "        Inputs:\n",
      "            real: (any ndarray)\n",
      "        Parameters:\n",
      "            timeperiod: 14\n",
      "        Outputs:\n",
      "            real\n",
      "    \n",
      "    stream_CORREL(...)\n",
      "        CORREL(real0, real1[, timeperiod=?])\n",
      "        \n",
      "        Pearson's Correlation Coefficient (r) (Statistic Functions)\n",
      "        \n",
      "        Inputs:\n",
      "            real0: (any ndarray)\n",
      "            real1: (any ndarray)\n",
      "        Parameters:\n",
      "            timeperiod: 30\n",
      "        Outputs:\n",
      "            real\n",
      "    \n",
      "    stream_COS(...)\n",
      "        COS(real)\n",
      "        \n",
      "        Vector Trigonometric Cos (Math Transform)\n",
      "        \n",
      "        Inputs:\n",
      "            real: (any ndarray)\n",
      "        Outputs:\n",
      "            real\n",
      "    \n",
      "    stream_COSH(...)\n",
      "        COSH(real)\n",
      "        \n",
      "        Vector Trigonometric Cosh (Math Transform)\n",
      "        \n",
      "        Inputs:\n",
      "            real: (any ndarray)\n",
      "        Outputs:\n",
      "            real\n",
      "    \n",
      "    stream_DEMA(...)\n",
      "        DEMA(real[, timeperiod=?])\n",
      "        \n",
      "        Double Exponential Moving Average (Overlap Studies)\n",
      "        \n",
      "        Inputs:\n",
      "            real: (any ndarray)\n",
      "        Parameters:\n",
      "            timeperiod: 30\n",
      "        Outputs:\n",
      "            real\n",
      "    \n",
      "    stream_DIV(...)\n",
      "        DIV(real0, real1)\n",
      "        \n",
      "        Vector Arithmetic Div (Math Operators)\n",
      "        \n",
      "        Inputs:\n",
      "            real0: (any ndarray)\n",
      "            real1: (any ndarray)\n",
      "        Outputs:\n",
      "            real\n",
      "    \n",
      "    stream_DX(...)\n",
      "        DX(high, low, close[, timeperiod=?])\n",
      "        \n",
      "        Directional Movement Index (Momentum Indicators)\n",
      "        \n",
      "        Inputs:\n",
      "            prices: ['high', 'low', 'close']\n",
      "        Parameters:\n",
      "            timeperiod: 14\n",
      "        Outputs:\n",
      "            real\n",
      "    \n",
      "    stream_EMA(...)\n",
      "        EMA(real[, timeperiod=?])\n",
      "        \n",
      "        Exponential Moving Average (Overlap Studies)\n",
      "        \n",
      "        Inputs:\n",
      "            real: (any ndarray)\n",
      "        Parameters:\n",
      "            timeperiod: 30\n",
      "        Outputs:\n",
      "            real\n",
      "    \n",
      "    stream_EXP(...)\n",
      "        EXP(real)\n",
      "        \n",
      "        Vector Arithmetic Exp (Math Transform)\n",
      "        \n",
      "        Inputs:\n",
      "            real: (any ndarray)\n",
      "        Outputs:\n",
      "            real\n",
      "    \n",
      "    stream_FLOOR(...)\n",
      "        FLOOR(real)\n",
      "        \n",
      "        Vector Floor (Math Transform)\n",
      "        \n",
      "        Inputs:\n",
      "            real: (any ndarray)\n",
      "        Outputs:\n",
      "            real\n",
      "    \n",
      "    stream_HT_DCPERIOD(...)\n",
      "        HT_DCPERIOD(real)\n",
      "        \n",
      "        Hilbert Transform - Dominant Cycle Period (Cycle Indicators)\n",
      "        \n",
      "        Inputs:\n",
      "            real: (any ndarray)\n",
      "        Outputs:\n",
      "            real\n",
      "    \n",
      "    stream_HT_DCPHASE(...)\n",
      "        HT_DCPHASE(real)\n",
      "        \n",
      "        Hilbert Transform - Dominant Cycle Phase (Cycle Indicators)\n",
      "        \n",
      "        Inputs:\n",
      "            real: (any ndarray)\n",
      "        Outputs:\n",
      "            real\n",
      "    \n",
      "    stream_HT_PHASOR(...)\n",
      "        HT_PHASOR(real)\n",
      "        \n",
      "        Hilbert Transform - Phasor Components (Cycle Indicators)\n",
      "        \n",
      "        Inputs:\n",
      "            real: (any ndarray)\n",
      "        Outputs:\n",
      "            inphase\n",
      "            quadrature\n",
      "    \n",
      "    stream_HT_SINE(...)\n",
      "        HT_SINE(real)\n",
      "        \n",
      "        Hilbert Transform - SineWave (Cycle Indicators)\n",
      "        \n",
      "        Inputs:\n",
      "            real: (any ndarray)\n",
      "        Outputs:\n",
      "            sine\n",
      "            leadsine\n",
      "    \n",
      "    stream_HT_TRENDLINE(...)\n",
      "        HT_TRENDLINE(real)\n",
      "        \n",
      "        Hilbert Transform - Instantaneous Trendline (Overlap Studies)\n",
      "        \n",
      "        Inputs:\n",
      "            real: (any ndarray)\n",
      "        Outputs:\n",
      "            real\n",
      "    \n",
      "    stream_HT_TRENDMODE(...)\n",
      "        HT_TRENDMODE(real)\n",
      "        \n",
      "        Hilbert Transform - Trend vs Cycle Mode (Cycle Indicators)\n",
      "        \n",
      "        Inputs:\n",
      "            real: (any ndarray)\n",
      "        Outputs:\n",
      "            integer (values are -100, 0 or 100)\n",
      "    \n",
      "    stream_KAMA(...)\n",
      "        KAMA(real[, timeperiod=?])\n",
      "        \n",
      "        Kaufman Adaptive Moving Average (Overlap Studies)\n",
      "        \n",
      "        Inputs:\n",
      "            real: (any ndarray)\n",
      "        Parameters:\n",
      "            timeperiod: 30\n",
      "        Outputs:\n",
      "            real\n",
      "    \n",
      "    stream_LINEARREG(...)\n",
      "        LINEARREG(real[, timeperiod=?])\n",
      "        \n",
      "        Linear Regression (Statistic Functions)\n",
      "        \n",
      "        Inputs:\n",
      "            real: (any ndarray)\n",
      "        Parameters:\n",
      "            timeperiod: 14\n",
      "        Outputs:\n",
      "            real\n",
      "    \n",
      "    stream_LINEARREG_ANGLE(...)\n",
      "        LINEARREG_ANGLE(real[, timeperiod=?])\n",
      "        \n",
      "        Linear Regression Angle (Statistic Functions)\n",
      "        \n",
      "        Inputs:\n",
      "            real: (any ndarray)\n",
      "        Parameters:\n",
      "            timeperiod: 14\n",
      "        Outputs:\n",
      "            real\n",
      "    \n",
      "    stream_LINEARREG_INTERCEPT(...)\n",
      "        LINEARREG_INTERCEPT(real[, timeperiod=?])\n",
      "        \n",
      "        Linear Regression Intercept (Statistic Functions)\n",
      "        \n",
      "        Inputs:\n",
      "            real: (any ndarray)\n",
      "        Parameters:\n",
      "            timeperiod: 14\n",
      "        Outputs:\n",
      "            real\n",
      "    \n",
      "    stream_LINEARREG_SLOPE(...)\n",
      "        LINEARREG_SLOPE(real[, timeperiod=?])\n",
      "        \n",
      "        Linear Regression Slope (Statistic Functions)\n",
      "        \n",
      "        Inputs:\n",
      "            real: (any ndarray)\n",
      "        Parameters:\n",
      "            timeperiod: 14\n",
      "        Outputs:\n",
      "            real\n",
      "    \n",
      "    stream_LN(...)\n",
      "        LN(real)\n",
      "        \n",
      "        Vector Log Natural (Math Transform)\n",
      "        \n",
      "        Inputs:\n",
      "            real: (any ndarray)\n",
      "        Outputs:\n",
      "            real\n",
      "    \n",
      "    stream_LOG10(...)\n",
      "        LOG10(real)\n",
      "        \n",
      "        Vector Log10 (Math Transform)\n",
      "        \n",
      "        Inputs:\n",
      "            real: (any ndarray)\n",
      "        Outputs:\n",
      "            real\n",
      "    \n",
      "    stream_MA(...)\n",
      "        MA(real[, timeperiod=?, matype=?])\n",
      "        \n",
      "        Moving average (Overlap Studies)\n",
      "        \n",
      "        Inputs:\n",
      "            real: (any ndarray)\n",
      "        Parameters:\n",
      "            timeperiod: 30\n",
      "            matype: 0 (Simple Moving Average)\n",
      "        Outputs:\n",
      "            real\n",
      "    \n",
      "    stream_MACD(...)\n",
      "        MACD(real[, fastperiod=?, slowperiod=?, signalperiod=?])\n",
      "        \n",
      "        Moving Average Convergence/Divergence (Momentum Indicators)\n",
      "        \n",
      "        Inputs:\n",
      "            real: (any ndarray)\n",
      "        Parameters:\n",
      "            fastperiod: 12\n",
      "            slowperiod: 26\n",
      "            signalperiod: 9\n",
      "        Outputs:\n",
      "            macd\n",
      "            macdsignal\n",
      "            macdhist\n",
      "    \n",
      "    stream_MACDEXT(...)\n",
      "        MACDEXT(real[, fastperiod=?, fastmatype=?, slowperiod=?, slowmatype=?, signalperiod=?, signalmatype=?])\n",
      "        \n",
      "        MACD with controllable MA type (Momentum Indicators)\n",
      "        \n",
      "        Inputs:\n",
      "            real: (any ndarray)\n",
      "        Parameters:\n",
      "            fastperiod: 12\n",
      "            fastmatype: 0\n",
      "            slowperiod: 26\n",
      "            slowmatype: 0\n",
      "            signalperiod: 9\n",
      "            signalmatype: 0\n",
      "        Outputs:\n",
      "            macd\n",
      "            macdsignal\n",
      "            macdhist\n",
      "    \n",
      "    stream_MACDFIX(...)\n",
      "        MACDFIX(real[, signalperiod=?])\n",
      "        \n",
      "        Moving Average Convergence/Divergence Fix 12/26 (Momentum Indicators)\n",
      "        \n",
      "        Inputs:\n",
      "            real: (any ndarray)\n",
      "        Parameters:\n",
      "            signalperiod: 9\n",
      "        Outputs:\n",
      "            macd\n",
      "            macdsignal\n",
      "            macdhist\n",
      "    \n",
      "    stream_MAMA(...)\n",
      "        MAMA(real[, fastlimit=?, slowlimit=?])\n",
      "        \n",
      "        MESA Adaptive Moving Average (Overlap Studies)\n",
      "        \n",
      "        Inputs:\n",
      "            real: (any ndarray)\n",
      "        Parameters:\n",
      "            fastlimit: 0.5\n",
      "            slowlimit: 0.05\n",
      "        Outputs:\n",
      "            mama\n",
      "            fama\n",
      "    \n",
      "    stream_MAVP(...)\n",
      "        MAVP(real, periods[, minperiod=?, maxperiod=?, matype=?])\n",
      "        \n",
      "        Moving average with variable period (Overlap Studies)\n",
      "        \n",
      "        Inputs:\n",
      "            real: (any ndarray)\n",
      "            periods: (any ndarray)\n",
      "        Parameters:\n",
      "            minperiod: 2\n",
      "            maxperiod: 30\n",
      "            matype: 0 (Simple Moving Average)\n",
      "        Outputs:\n",
      "            real\n",
      "    \n",
      "    stream_MAX(...)\n",
      "        MAX(real[, timeperiod=?])\n",
      "        \n",
      "        Highest value over a specified period (Math Operators)\n",
      "        \n",
      "        Inputs:\n",
      "            real: (any ndarray)\n",
      "        Parameters:\n",
      "            timeperiod: 30\n",
      "        Outputs:\n",
      "            real\n",
      "    \n",
      "    stream_MAXINDEX(...)\n",
      "        MAXINDEX(real[, timeperiod=?])\n",
      "        \n",
      "        Index of highest value over a specified period (Math Operators)\n",
      "        \n",
      "        Inputs:\n",
      "            real: (any ndarray)\n",
      "        Parameters:\n",
      "            timeperiod: 30\n",
      "        Outputs:\n",
      "            integer (values are -100, 0 or 100)\n",
      "    \n",
      "    stream_MEDPRICE(...)\n",
      "        MEDPRICE(high, low)\n",
      "        \n",
      "        Median Price (Price Transform)\n",
      "        \n",
      "        Inputs:\n",
      "            prices: ['high', 'low']\n",
      "        Outputs:\n",
      "            real\n",
      "    \n",
      "    stream_MFI(...)\n",
      "        MFI(high, low, close, volume[, timeperiod=?])\n",
      "        \n",
      "        Money Flow Index (Momentum Indicators)\n",
      "        \n",
      "        Inputs:\n",
      "            prices: ['high', 'low', 'close', 'volume']\n",
      "        Parameters:\n",
      "            timeperiod: 14\n",
      "        Outputs:\n",
      "            real\n",
      "    \n",
      "    stream_MIDPOINT(...)\n",
      "        MIDPOINT(real[, timeperiod=?])\n",
      "        \n",
      "        MidPoint over period (Overlap Studies)\n",
      "        \n",
      "        Inputs:\n",
      "            real: (any ndarray)\n",
      "        Parameters:\n",
      "            timeperiod: 14\n",
      "        Outputs:\n",
      "            real\n",
      "    \n",
      "    stream_MIDPRICE(...)\n",
      "        MIDPRICE(high, low[, timeperiod=?])\n",
      "        \n",
      "        Midpoint Price over period (Overlap Studies)\n",
      "        \n",
      "        Inputs:\n",
      "            prices: ['high', 'low']\n",
      "        Parameters:\n",
      "            timeperiod: 14\n",
      "        Outputs:\n",
      "            real\n",
      "    \n",
      "    stream_MIN(...)\n",
      "        MIN(real[, timeperiod=?])\n",
      "        \n",
      "        Lowest value over a specified period (Math Operators)\n",
      "        \n",
      "        Inputs:\n",
      "            real: (any ndarray)\n",
      "        Parameters:\n",
      "            timeperiod: 30\n",
      "        Outputs:\n",
      "            real\n",
      "    \n",
      "    stream_MININDEX(...)\n",
      "        MININDEX(real[, timeperiod=?])\n",
      "        \n",
      "        Index of lowest value over a specified period (Math Operators)\n",
      "        \n",
      "        Inputs:\n",
      "            real: (any ndarray)\n",
      "        Parameters:\n",
      "            timeperiod: 30\n",
      "        Outputs:\n",
      "            integer (values are -100, 0 or 100)\n",
      "    \n",
      "    stream_MINMAX(...)\n",
      "        MINMAX(real[, timeperiod=?])\n",
      "        \n",
      "        Lowest and highest values over a specified period (Math Operators)\n",
      "        \n",
      "        Inputs:\n",
      "            real: (any ndarray)\n",
      "        Parameters:\n",
      "            timeperiod: 30\n",
      "        Outputs:\n",
      "            min\n",
      "            max\n",
      "    \n",
      "    stream_MINMAXINDEX(...)\n",
      "        MINMAXINDEX(real[, timeperiod=?])\n",
      "        \n",
      "        Indexes of lowest and highest values over a specified period (Math Operators)\n",
      "        \n",
      "        Inputs:\n",
      "            real: (any ndarray)\n",
      "        Parameters:\n",
      "            timeperiod: 30\n",
      "        Outputs:\n",
      "            minidx\n",
      "            maxidx\n",
      "    \n",
      "    stream_MINUS_DI(...)\n",
      "        MINUS_DI(high, low, close[, timeperiod=?])\n",
      "        \n",
      "        Minus Directional Indicator (Momentum Indicators)\n",
      "        \n",
      "        Inputs:\n",
      "            prices: ['high', 'low', 'close']\n",
      "        Parameters:\n",
      "            timeperiod: 14\n",
      "        Outputs:\n",
      "            real\n",
      "    \n",
      "    stream_MINUS_DM(...)\n",
      "        MINUS_DM(high, low[, timeperiod=?])\n",
      "        \n",
      "        Minus Directional Movement (Momentum Indicators)\n",
      "        \n",
      "        Inputs:\n",
      "            prices: ['high', 'low']\n",
      "        Parameters:\n",
      "            timeperiod: 14\n",
      "        Outputs:\n",
      "            real\n",
      "    \n",
      "    stream_MOM(...)\n",
      "        MOM(real[, timeperiod=?])\n",
      "        \n",
      "        Momentum (Momentum Indicators)\n",
      "        \n",
      "        Inputs:\n",
      "            real: (any ndarray)\n",
      "        Parameters:\n",
      "            timeperiod: 10\n",
      "        Outputs:\n",
      "            real\n",
      "    \n",
      "    stream_MULT(...)\n",
      "        MULT(real0, real1)\n",
      "        \n",
      "        Vector Arithmetic Mult (Math Operators)\n",
      "        \n",
      "        Inputs:\n",
      "            real0: (any ndarray)\n",
      "            real1: (any ndarray)\n",
      "        Outputs:\n",
      "            real\n",
      "    \n",
      "    stream_NATR(...)\n",
      "        NATR(high, low, close[, timeperiod=?])\n",
      "        \n",
      "        Normalized Average True Range (Volatility Indicators)\n",
      "        \n",
      "        Inputs:\n",
      "            prices: ['high', 'low', 'close']\n",
      "        Parameters:\n",
      "            timeperiod: 14\n",
      "        Outputs:\n",
      "            real\n",
      "    \n",
      "    stream_OBV(...)\n",
      "        OBV(real, volume)\n",
      "        \n",
      "        On Balance Volume (Volume Indicators)\n",
      "        \n",
      "        Inputs:\n",
      "            real: (any ndarray)\n",
      "            prices: ['volume']\n",
      "        Outputs:\n",
      "            real\n",
      "    \n",
      "    stream_PLUS_DI(...)\n",
      "        PLUS_DI(high, low, close[, timeperiod=?])\n",
      "        \n",
      "        Plus Directional Indicator (Momentum Indicators)\n",
      "        \n",
      "        Inputs:\n",
      "            prices: ['high', 'low', 'close']\n",
      "        Parameters:\n",
      "            timeperiod: 14\n",
      "        Outputs:\n",
      "            real\n",
      "    \n",
      "    stream_PLUS_DM(...)\n",
      "        PLUS_DM(high, low[, timeperiod=?])\n",
      "        \n",
      "        Plus Directional Movement (Momentum Indicators)\n",
      "        \n",
      "        Inputs:\n",
      "            prices: ['high', 'low']\n",
      "        Parameters:\n",
      "            timeperiod: 14\n",
      "        Outputs:\n",
      "            real\n",
      "    \n",
      "    stream_PPO(...)\n",
      "        PPO(real[, fastperiod=?, slowperiod=?, matype=?])\n",
      "        \n",
      "        Percentage Price Oscillator (Momentum Indicators)\n",
      "        \n",
      "        Inputs:\n",
      "            real: (any ndarray)\n",
      "        Parameters:\n",
      "            fastperiod: 12\n",
      "            slowperiod: 26\n",
      "            matype: 0 (Simple Moving Average)\n",
      "        Outputs:\n",
      "            real\n",
      "    \n",
      "    stream_ROC(...)\n",
      "        ROC(real[, timeperiod=?])\n",
      "        \n",
      "        Rate of change : ((real/prevPrice)-1)*100 (Momentum Indicators)\n",
      "        \n",
      "        Inputs:\n",
      "            real: (any ndarray)\n",
      "        Parameters:\n",
      "            timeperiod: 10\n",
      "        Outputs:\n",
      "            real\n",
      "    \n",
      "    stream_ROCP(...)\n",
      "        ROCP(real[, timeperiod=?])\n",
      "        \n",
      "        Rate of change Percentage: (real-prevPrice)/prevPrice (Momentum Indicators)\n",
      "        \n",
      "        Inputs:\n",
      "            real: (any ndarray)\n",
      "        Parameters:\n",
      "            timeperiod: 10\n",
      "        Outputs:\n",
      "            real\n",
      "    \n",
      "    stream_ROCR(...)\n",
      "        ROCR(real[, timeperiod=?])\n",
      "        \n",
      "        Rate of change ratio: (real/prevPrice) (Momentum Indicators)\n",
      "        \n",
      "        Inputs:\n",
      "            real: (any ndarray)\n",
      "        Parameters:\n",
      "            timeperiod: 10\n",
      "        Outputs:\n",
      "            real\n",
      "    \n",
      "    stream_ROCR100(...)\n",
      "        ROCR100(real[, timeperiod=?])\n",
      "        \n",
      "        Rate of change ratio 100 scale: (real/prevPrice)*100 (Momentum Indicators)\n",
      "        \n",
      "        Inputs:\n",
      "            real: (any ndarray)\n",
      "        Parameters:\n",
      "            timeperiod: 10\n",
      "        Outputs:\n",
      "            real\n",
      "    \n",
      "    stream_RSI(...)\n",
      "        RSI(real[, timeperiod=?])\n",
      "        \n",
      "        Relative Strength Index (Momentum Indicators)\n",
      "        \n",
      "        Inputs:\n",
      "            real: (any ndarray)\n",
      "        Parameters:\n",
      "            timeperiod: 14\n",
      "        Outputs:\n",
      "            real\n",
      "    \n",
      "    stream_SAR(...)\n",
      "        SAR(high, low[, acceleration=?, maximum=?])\n",
      "        \n",
      "        Parabolic SAR (Overlap Studies)\n",
      "        \n",
      "        Inputs:\n",
      "            prices: ['high', 'low']\n",
      "        Parameters:\n",
      "            acceleration: 0.02\n",
      "            maximum: 0.2\n",
      "        Outputs:\n",
      "            real\n",
      "    \n",
      "    stream_SAREXT(...)\n",
      "        SAREXT(high, low[, startvalue=?, offsetonreverse=?, accelerationinitlong=?, accelerationlong=?, accelerationmaxlong=?, accelerationinitshort=?, accelerationshort=?, accelerationmaxshort=?])\n",
      "        \n",
      "        Parabolic SAR - Extended (Overlap Studies)\n",
      "        \n",
      "        Inputs:\n",
      "            prices: ['high', 'low']\n",
      "        Parameters:\n",
      "            startvalue: 0\n",
      "            offsetonreverse: 0\n",
      "            accelerationinitlong: 0.02\n",
      "            accelerationlong: 0.02\n",
      "            accelerationmaxlong: 0.2\n",
      "            accelerationinitshort: 0.02\n",
      "            accelerationshort: 0.02\n",
      "            accelerationmaxshort: 0.2\n",
      "        Outputs:\n",
      "            real\n",
      "    \n",
      "    stream_SIN(...)\n",
      "        SIN(real)\n",
      "        \n",
      "        Vector Trigonometric Sin (Math Transform)\n",
      "        \n",
      "        Inputs:\n",
      "            real: (any ndarray)\n",
      "        Outputs:\n",
      "            real\n",
      "    \n",
      "    stream_SINH(...)\n",
      "        SINH(real)\n",
      "        \n",
      "        Vector Trigonometric Sinh (Math Transform)\n",
      "        \n",
      "        Inputs:\n",
      "            real: (any ndarray)\n",
      "        Outputs:\n",
      "            real\n",
      "    \n",
      "    stream_SMA(...)\n",
      "        SMA(real[, timeperiod=?])\n",
      "        \n",
      "        Simple Moving Average (Overlap Studies)\n",
      "        \n",
      "        Inputs:\n",
      "            real: (any ndarray)\n",
      "        Parameters:\n",
      "            timeperiod: 30\n",
      "        Outputs:\n",
      "            real\n",
      "    \n",
      "    stream_SQRT(...)\n",
      "        SQRT(real)\n",
      "        \n",
      "        Vector Square Root (Math Transform)\n",
      "        \n",
      "        Inputs:\n",
      "            real: (any ndarray)\n",
      "        Outputs:\n",
      "            real\n",
      "    \n",
      "    stream_STDDEV(...)\n",
      "        STDDEV(real[, timeperiod=?, nbdev=?])\n",
      "        \n",
      "        Standard Deviation (Statistic Functions)\n",
      "        \n",
      "        Inputs:\n",
      "            real: (any ndarray)\n",
      "        Parameters:\n",
      "            timeperiod: 5\n",
      "            nbdev: 1\n",
      "        Outputs:\n",
      "            real\n",
      "    \n",
      "    stream_STOCH(...)\n",
      "        STOCH(high, low, close[, fastk_period=?, slowk_period=?, slowk_matype=?, slowd_period=?, slowd_matype=?])\n",
      "        \n",
      "        Stochastic (Momentum Indicators)\n",
      "        \n",
      "        Inputs:\n",
      "            prices: ['high', 'low', 'close']\n",
      "        Parameters:\n",
      "            fastk_period: 5\n",
      "            slowk_period: 3\n",
      "            slowk_matype: 0\n",
      "            slowd_period: 3\n",
      "            slowd_matype: 0\n",
      "        Outputs:\n",
      "            slowk\n",
      "            slowd\n",
      "    \n",
      "    stream_STOCHF(...)\n",
      "        STOCHF(high, low, close[, fastk_period=?, fastd_period=?, fastd_matype=?])\n",
      "        \n",
      "        Stochastic Fast (Momentum Indicators)\n",
      "        \n",
      "        Inputs:\n",
      "            prices: ['high', 'low', 'close']\n",
      "        Parameters:\n",
      "            fastk_period: 5\n",
      "            fastd_period: 3\n",
      "            fastd_matype: 0\n",
      "        Outputs:\n",
      "            fastk\n",
      "            fastd\n",
      "    \n",
      "    stream_STOCHRSI(...)\n",
      "        STOCHRSI(real[, timeperiod=?, fastk_period=?, fastd_period=?, fastd_matype=?])\n",
      "        \n",
      "        Stochastic Relative Strength Index (Momentum Indicators)\n",
      "        \n",
      "        Inputs:\n",
      "            real: (any ndarray)\n",
      "        Parameters:\n",
      "            timeperiod: 14\n",
      "            fastk_period: 5\n",
      "            fastd_period: 3\n",
      "            fastd_matype: 0\n",
      "        Outputs:\n",
      "            fastk\n",
      "            fastd\n",
      "    \n",
      "    stream_SUB(...)\n",
      "        SUB(real0, real1)\n",
      "        \n",
      "        Vector Arithmetic Substraction (Math Operators)\n",
      "        \n",
      "        Inputs:\n",
      "            real0: (any ndarray)\n",
      "            real1: (any ndarray)\n",
      "        Outputs:\n",
      "            real\n",
      "    \n",
      "    stream_SUM(...)\n",
      "        SUM(real[, timeperiod=?])\n",
      "        \n",
      "        Summation (Math Operators)\n",
      "        \n",
      "        Inputs:\n",
      "            real: (any ndarray)\n",
      "        Parameters:\n",
      "            timeperiod: 30\n",
      "        Outputs:\n",
      "            real\n",
      "    \n",
      "    stream_T3(...)\n",
      "        T3(real[, timeperiod=?, vfactor=?])\n",
      "        \n",
      "        Triple Exponential Moving Average (T3) (Overlap Studies)\n",
      "        \n",
      "        Inputs:\n",
      "            real: (any ndarray)\n",
      "        Parameters:\n",
      "            timeperiod: 5\n",
      "            vfactor: 0.7\n",
      "        Outputs:\n",
      "            real\n",
      "    \n",
      "    stream_TAN(...)\n",
      "        TAN(real)\n",
      "        \n",
      "        Vector Trigonometric Tan (Math Transform)\n",
      "        \n",
      "        Inputs:\n",
      "            real: (any ndarray)\n",
      "        Outputs:\n",
      "            real\n",
      "    \n",
      "    stream_TANH(...)\n",
      "        TANH(real)\n",
      "        \n",
      "        Vector Trigonometric Tanh (Math Transform)\n",
      "        \n",
      "        Inputs:\n",
      "            real: (any ndarray)\n",
      "        Outputs:\n",
      "            real\n",
      "    \n",
      "    stream_TEMA(...)\n",
      "        TEMA(real[, timeperiod=?])\n",
      "        \n",
      "        Triple Exponential Moving Average (Overlap Studies)\n",
      "        \n",
      "        Inputs:\n",
      "            real: (any ndarray)\n",
      "        Parameters:\n",
      "            timeperiod: 30\n",
      "        Outputs:\n",
      "            real\n",
      "    \n",
      "    stream_TRANGE(...)\n",
      "        TRANGE(high, low, close)\n",
      "        \n",
      "        True Range (Volatility Indicators)\n",
      "        \n",
      "        Inputs:\n",
      "            prices: ['high', 'low', 'close']\n",
      "        Outputs:\n",
      "            real\n",
      "    \n",
      "    stream_TRIMA(...)\n",
      "        TRIMA(real[, timeperiod=?])\n",
      "        \n",
      "        Triangular Moving Average (Overlap Studies)\n",
      "        \n",
      "        Inputs:\n",
      "            real: (any ndarray)\n",
      "        Parameters:\n",
      "            timeperiod: 30\n",
      "        Outputs:\n",
      "            real\n",
      "    \n",
      "    stream_TRIX(...)\n",
      "        TRIX(real[, timeperiod=?])\n",
      "        \n",
      "        1-day Rate-Of-Change (ROC) of a Triple Smooth EMA (Momentum Indicators)\n",
      "        \n",
      "        Inputs:\n",
      "            real: (any ndarray)\n",
      "        Parameters:\n",
      "            timeperiod: 30\n",
      "        Outputs:\n",
      "            real\n",
      "    \n",
      "    stream_TSF(...)\n",
      "        TSF(real[, timeperiod=?])\n",
      "        \n",
      "        Time Series Forecast (Statistic Functions)\n",
      "        \n",
      "        Inputs:\n",
      "            real: (any ndarray)\n",
      "        Parameters:\n",
      "            timeperiod: 14\n",
      "        Outputs:\n",
      "            real\n",
      "    \n",
      "    stream_TYPPRICE(...)\n",
      "        TYPPRICE(high, low, close)\n",
      "        \n",
      "        Typical Price (Price Transform)\n",
      "        \n",
      "        Inputs:\n",
      "            prices: ['high', 'low', 'close']\n",
      "        Outputs:\n",
      "            real\n",
      "    \n",
      "    stream_ULTOSC(...)\n",
      "        ULTOSC(high, low, close[, timeperiod1=?, timeperiod2=?, timeperiod3=?])\n",
      "        \n",
      "        Ultimate Oscillator (Momentum Indicators)\n",
      "        \n",
      "        Inputs:\n",
      "            prices: ['high', 'low', 'close']\n",
      "        Parameters:\n",
      "            timeperiod1: 7\n",
      "            timeperiod2: 14\n",
      "            timeperiod3: 28\n",
      "        Outputs:\n",
      "            real\n",
      "    \n",
      "    stream_VAR(...)\n",
      "        VAR(real[, timeperiod=?, nbdev=?])\n",
      "        \n",
      "        Variance (Statistic Functions)\n",
      "        \n",
      "        Inputs:\n",
      "            real: (any ndarray)\n",
      "        Parameters:\n",
      "            timeperiod: 5\n",
      "            nbdev: 1\n",
      "        Outputs:\n",
      "            real\n",
      "    \n",
      "    stream_WCLPRICE(...)\n",
      "        WCLPRICE(high, low, close)\n",
      "        \n",
      "        Weighted Close Price (Price Transform)\n",
      "        \n",
      "        Inputs:\n",
      "            prices: ['high', 'low', 'close']\n",
      "        Outputs:\n",
      "            real\n",
      "    \n",
      "    stream_WILLR(...)\n",
      "        WILLR(high, low, close[, timeperiod=?])\n",
      "        \n",
      "        Williams' %R (Momentum Indicators)\n",
      "        \n",
      "        Inputs:\n",
      "            prices: ['high', 'low', 'close']\n",
      "        Parameters:\n",
      "            timeperiod: 14\n",
      "        Outputs:\n",
      "            real\n",
      "    \n",
      "    stream_WMA(...)\n",
      "        WMA(real[, timeperiod=?])\n",
      "        \n",
      "        Weighted Moving Average (Overlap Studies)\n",
      "        \n",
      "        Inputs:\n",
      "            real: (any ndarray)\n",
      "        Parameters:\n",
      "            timeperiod: 30\n",
      "        Outputs:\n",
      "            real\n",
      "\n",
      "DATA\n",
      "    __TA_FUNCTION_NAMES__ = ['ACOS', 'AD', 'ADD', 'ADOSC', 'ADX', 'ADXR', ...\n",
      "    __all__ = ['get_functions', 'get_function_groups', 'ACOS', 'AD', 'ADD'...\n",
      "    __function_groups__ = {'Cycle Indicators': ['HT_DCPERIOD', 'HT_DCPHASE...\n",
      "    __ta_version__ = b'0.4.0 (Dec 28 2021 18:53:45)'\n",
      "\n",
      "VERSION\n",
      "    0.4.24\n",
      "\n",
      "FILE\n",
      "    c:\\users\\yboko\\anaconda3\\lib\\site-packages\\talib\\__init__.py\n",
      "\n",
      "\n"
     ]
    }
   ],
   "source": [
    "help(talib)"
   ]
  },
  {
   "cell_type": "code",
   "execution_count": 37,
   "id": "dccffdb8",
   "metadata": {},
   "outputs": [],
   "source": [
    "bnf['ev_star'] = talib.CDLEVENINGSTAR(bnf['Open'],bnf['High'],bnf['Low'],bnf['Close'])"
   ]
  },
  {
   "cell_type": "code",
   "execution_count": 13,
   "id": "23dbf98a",
   "metadata": {},
   "outputs": [],
   "source": [
    "import plotly.graph_objects as go\n",
    "from datetime import datetime\n",
    "def candles(df):\n",
    "    fig = go.Figure(data=[go.Candlestick(\n",
    "                    x=df['Time'],\n",
    "                    open=df['Open'],\n",
    "                    high=df['High'],\n",
    "                    low=df['Low'],\n",
    "                    close=df['Close'])])\n",
    "    return fig"
   ]
  },
  {
   "cell_type": "code",
   "execution_count": 42,
   "id": "cf85c48d",
   "metadata": {},
   "outputs": [],
   "source": [
    "fig = candles(sample)"
   ]
  },
  {
   "cell_type": "code",
   "execution_count": 46,
   "id": "8d9e621b",
   "metadata": {},
   "outputs": [
    {
     "data": {
      "text/html": [
       "<div>\n",
       "<style scoped>\n",
       "    .dataframe tbody tr th:only-of-type {\n",
       "        vertical-align: middle;\n",
       "    }\n",
       "\n",
       "    .dataframe tbody tr th {\n",
       "        vertical-align: top;\n",
       "    }\n",
       "\n",
       "    .dataframe thead th {\n",
       "        text-align: right;\n",
       "    }\n",
       "</style>\n",
       "<table border=\"1\" class=\"dataframe\">\n",
       "  <thead>\n",
       "    <tr style=\"text-align: right;\">\n",
       "      <th></th>\n",
       "      <th>Instrument</th>\n",
       "      <th>Date</th>\n",
       "      <th>Time</th>\n",
       "      <th>Open</th>\n",
       "      <th>High</th>\n",
       "      <th>Low</th>\n",
       "      <th>Close</th>\n",
       "      <th>mean</th>\n",
       "      <th>rm30</th>\n",
       "      <th>rm90</th>\n",
       "      <th>rm60</th>\n",
       "      <th>MOM</th>\n",
       "    </tr>\n",
       "  </thead>\n",
       "  <tbody>\n",
       "    <tr>\n",
       "      <th>244783</th>\n",
       "      <td>BANKNIFTY</td>\n",
       "      <td>20121003</td>\n",
       "      <td>09:09</td>\n",
       "      <td>11440.20</td>\n",
       "      <td>11440.20</td>\n",
       "      <td>11440.20</td>\n",
       "      <td>11440.20</td>\n",
       "      <td>11440.200</td>\n",
       "      <td>11420.353333</td>\n",
       "      <td>11424.609167</td>\n",
       "      <td>11423.750417</td>\n",
       "      <td>NaN</td>\n",
       "    </tr>\n",
       "    <tr>\n",
       "      <th>244784</th>\n",
       "      <td>BANKNIFTY</td>\n",
       "      <td>20121003</td>\n",
       "      <td>09:16</td>\n",
       "      <td>11463.20</td>\n",
       "      <td>11465.80</td>\n",
       "      <td>11456.40</td>\n",
       "      <td>11464.55</td>\n",
       "      <td>11463.875</td>\n",
       "      <td>11421.795833</td>\n",
       "      <td>11424.998889</td>\n",
       "      <td>11424.489167</td>\n",
       "      <td>NaN</td>\n",
       "    </tr>\n",
       "    <tr>\n",
       "      <th>244785</th>\n",
       "      <td>BANKNIFTY</td>\n",
       "      <td>20121003</td>\n",
       "      <td>09:17</td>\n",
       "      <td>11466.15</td>\n",
       "      <td>11466.15</td>\n",
       "      <td>11461.05</td>\n",
       "      <td>11463.80</td>\n",
       "      <td>11464.975</td>\n",
       "      <td>11423.273333</td>\n",
       "      <td>11425.374167</td>\n",
       "      <td>11425.222917</td>\n",
       "      <td>NaN</td>\n",
       "    </tr>\n",
       "    <tr>\n",
       "      <th>244786</th>\n",
       "      <td>BANKNIFTY</td>\n",
       "      <td>20121003</td>\n",
       "      <td>09:18</td>\n",
       "      <td>11467.05</td>\n",
       "      <td>11471.85</td>\n",
       "      <td>11467.05</td>\n",
       "      <td>11471.85</td>\n",
       "      <td>11469.450</td>\n",
       "      <td>11424.971667</td>\n",
       "      <td>11425.806111</td>\n",
       "      <td>11426.013333</td>\n",
       "      <td>NaN</td>\n",
       "    </tr>\n",
       "    <tr>\n",
       "      <th>244787</th>\n",
       "      <td>BANKNIFTY</td>\n",
       "      <td>20121003</td>\n",
       "      <td>09:19</td>\n",
       "      <td>11470.00</td>\n",
       "      <td>11470.95</td>\n",
       "      <td>11466.00</td>\n",
       "      <td>11467.25</td>\n",
       "      <td>11468.625</td>\n",
       "      <td>11426.730000</td>\n",
       "      <td>11426.217500</td>\n",
       "      <td>11426.787500</td>\n",
       "      <td>NaN</td>\n",
       "    </tr>\n",
       "    <tr>\n",
       "      <th>...</th>\n",
       "      <td>...</td>\n",
       "      <td>...</td>\n",
       "      <td>...</td>\n",
       "      <td>...</td>\n",
       "      <td>...</td>\n",
       "      <td>...</td>\n",
       "      <td>...</td>\n",
       "      <td>...</td>\n",
       "      <td>...</td>\n",
       "      <td>...</td>\n",
       "      <td>...</td>\n",
       "      <td>...</td>\n",
       "    </tr>\n",
       "    <tr>\n",
       "      <th>244878</th>\n",
       "      <td>BANKNIFTY</td>\n",
       "      <td>20121003</td>\n",
       "      <td>10:50</td>\n",
       "      <td>11420.50</td>\n",
       "      <td>11420.50</td>\n",
       "      <td>11418.60</td>\n",
       "      <td>11419.10</td>\n",
       "      <td>11419.800</td>\n",
       "      <td>11416.966667</td>\n",
       "      <td>11422.439167</td>\n",
       "      <td>11418.184167</td>\n",
       "      <td>7.40</td>\n",
       "    </tr>\n",
       "    <tr>\n",
       "      <th>244879</th>\n",
       "      <td>BANKNIFTY</td>\n",
       "      <td>20121003</td>\n",
       "      <td>10:51</td>\n",
       "      <td>11419.15</td>\n",
       "      <td>11419.30</td>\n",
       "      <td>11417.80</td>\n",
       "      <td>11417.80</td>\n",
       "      <td>11418.475</td>\n",
       "      <td>11416.654167</td>\n",
       "      <td>11422.092222</td>\n",
       "      <td>11418.035833</td>\n",
       "      <td>4.00</td>\n",
       "    </tr>\n",
       "    <tr>\n",
       "      <th>244880</th>\n",
       "      <td>BANKNIFTY</td>\n",
       "      <td>20121003</td>\n",
       "      <td>10:52</td>\n",
       "      <td>11419.00</td>\n",
       "      <td>11421.00</td>\n",
       "      <td>11419.00</td>\n",
       "      <td>11420.65</td>\n",
       "      <td>11419.825</td>\n",
       "      <td>11416.511667</td>\n",
       "      <td>11421.911111</td>\n",
       "      <td>11417.919583</td>\n",
       "      <td>4.25</td>\n",
       "    </tr>\n",
       "    <tr>\n",
       "      <th>244881</th>\n",
       "      <td>BANKNIFTY</td>\n",
       "      <td>20121003</td>\n",
       "      <td>10:53</td>\n",
       "      <td>11425.05</td>\n",
       "      <td>11427.90</td>\n",
       "      <td>11424.65</td>\n",
       "      <td>11427.90</td>\n",
       "      <td>11426.475</td>\n",
       "      <td>11416.726667</td>\n",
       "      <td>11421.840833</td>\n",
       "      <td>11417.954583</td>\n",
       "      <td>9.90</td>\n",
       "    </tr>\n",
       "    <tr>\n",
       "      <th>244882</th>\n",
       "      <td>BANKNIFTY</td>\n",
       "      <td>20121003</td>\n",
       "      <td>10:54</td>\n",
       "      <td>11427.25</td>\n",
       "      <td>11428.55</td>\n",
       "      <td>11427.15</td>\n",
       "      <td>11427.80</td>\n",
       "      <td>11427.525</td>\n",
       "      <td>11417.059167</td>\n",
       "      <td>11421.880833</td>\n",
       "      <td>11418.025833</td>\n",
       "      <td>8.90</td>\n",
       "    </tr>\n",
       "  </tbody>\n",
       "</table>\n",
       "<p>100 rows × 12 columns</p>\n",
       "</div>"
      ],
      "text/plain": [
       "       Instrument      Date   Time      Open      High       Low     Close  \\\n",
       "244783  BANKNIFTY  20121003  09:09  11440.20  11440.20  11440.20  11440.20   \n",
       "244784  BANKNIFTY  20121003  09:16  11463.20  11465.80  11456.40  11464.55   \n",
       "244785  BANKNIFTY  20121003  09:17  11466.15  11466.15  11461.05  11463.80   \n",
       "244786  BANKNIFTY  20121003  09:18  11467.05  11471.85  11467.05  11471.85   \n",
       "244787  BANKNIFTY  20121003  09:19  11470.00  11470.95  11466.00  11467.25   \n",
       "...           ...       ...    ...       ...       ...       ...       ...   \n",
       "244878  BANKNIFTY  20121003  10:50  11420.50  11420.50  11418.60  11419.10   \n",
       "244879  BANKNIFTY  20121003  10:51  11419.15  11419.30  11417.80  11417.80   \n",
       "244880  BANKNIFTY  20121003  10:52  11419.00  11421.00  11419.00  11420.65   \n",
       "244881  BANKNIFTY  20121003  10:53  11425.05  11427.90  11424.65  11427.90   \n",
       "244882  BANKNIFTY  20121003  10:54  11427.25  11428.55  11427.15  11427.80   \n",
       "\n",
       "             mean          rm30          rm90          rm60   MOM  \n",
       "244783  11440.200  11420.353333  11424.609167  11423.750417   NaN  \n",
       "244784  11463.875  11421.795833  11424.998889  11424.489167   NaN  \n",
       "244785  11464.975  11423.273333  11425.374167  11425.222917   NaN  \n",
       "244786  11469.450  11424.971667  11425.806111  11426.013333   NaN  \n",
       "244787  11468.625  11426.730000  11426.217500  11426.787500   NaN  \n",
       "...           ...           ...           ...           ...   ...  \n",
       "244878  11419.800  11416.966667  11422.439167  11418.184167  7.40  \n",
       "244879  11418.475  11416.654167  11422.092222  11418.035833  4.00  \n",
       "244880  11419.825  11416.511667  11421.911111  11417.919583  4.25  \n",
       "244881  11426.475  11416.726667  11421.840833  11417.954583  9.90  \n",
       "244882  11427.525  11417.059167  11421.880833  11418.025833  8.90  \n",
       "\n",
       "[100 rows x 12 columns]"
      ]
     },
     "execution_count": 46,
     "metadata": {},
     "output_type": "execute_result"
    }
   ],
   "source": [
    "sample.head(100)"
   ]
  },
  {
   "cell_type": "code",
   "execution_count": 43,
   "id": "6b64dc87",
   "metadata": {},
   "outputs": [
    {
     "name": "stderr",
     "output_type": "stream",
     "text": [
      "C:\\Users\\yboko\\anaconda3\\lib\\site-packages\\plotly\\graph_objs\\_deprecations.py:378: DeprecationWarning:\n",
      "\n",
      "plotly.graph_objs.Line is deprecated.\n",
      "Please replace it with one of the following more specific types\n",
      "  - plotly.graph_objs.scatter.Line\n",
      "  - plotly.graph_objs.layout.shape.Line\n",
      "  - etc.\n",
      "\n",
      "\n"
     ]
    },
    {
     "data": {
      "application/vnd.plotly.v1+json": {
       "config": {
        "plotlyServerURL": "https://plot.ly"
       },
       "data": [
        {
         "close": [
          11440.2,
          11464.55,
          11463.8,
          11471.85,
          11467.25,
          11462.15,
          11442.4,
          11431.6,
          11433.15,
          11416.15,
          11433.75,
          11445.45,
          11431.8,
          11432.75,
          11438.1,
          11443.7,
          11441.55,
          11439.15,
          11432.5,
          11434.1,
          11426.05,
          11424.55,
          11424.65,
          11423.8,
          11423.65,
          11423.85,
          11424.9,
          11423.3,
          11426.2,
          11427.05,
          11432.9,
          11431.1,
          11430.35,
          11425.55,
          11425.25,
          11425.65,
          11428.3,
          11424.95,
          11425,
          11421.55,
          11420.3,
          11419.2,
          11413.05,
          11404.95,
          11409.65,
          11412.45,
          11409.05,
          11405.55,
          11413.5,
          11418.45,
          11420.2,
          11421.5,
          11423.15,
          11424.8,
          11420.65,
          11418.95,
          11418.5,
          11418.25,
          11424.25,
          11422.05,
          11421.75,
          11420.2,
          11420.9,
          11423.05,
          11430.15,
          11430.35,
          11425.6,
          11421.3,
          11419,
          11415.65,
          11412.7,
          11412.95,
          11415,
          11415.2,
          11413.05,
          11413.35,
          11414.7,
          11416,
          11421.1,
          11420.8,
          11418.95,
          11409.75,
          11410.75,
          11412.05,
          11412.25,
          11411.35,
          11415.3,
          11415.15,
          11418,
          11418.8,
          11421.35,
          11421.4,
          11418.7,
          11418.55,
          11420.3,
          11419.1,
          11417.8,
          11420.65,
          11427.9,
          11427.8,
          11426.15,
          11426.75,
          11426.5,
          11427.35,
          11427.85,
          11429.1,
          11430.8,
          11431.1,
          11442.7,
          11440.6,
          11449.3,
          11448,
          11457.2,
          11449.95,
          11447.95,
          11446.6,
          11445.2,
          11442.75,
          11441.8,
          11442.5,
          11444.75,
          11441.6,
          11440.2,
          11440.95,
          11444.25,
          11458.65,
          11449.7,
          11453.45,
          11449.4,
          11448.45,
          11443.45,
          11442.8,
          11443.1,
          11444.65,
          11444.6,
          11444.8,
          11449.95,
          11446.4,
          11452.5,
          11449.75,
          11445.25,
          11439.4,
          11437.9,
          11435.45,
          11430.75,
          11429.1,
          11429.85,
          11427.5,
          11426.4,
          11429.7,
          11427.1,
          11431.2,
          11433.65,
          11434.95,
          11436.55,
          11436.7,
          11434.45,
          11426.65,
          11427.8,
          11418.65,
          11420.55,
          11422.4,
          11423.1,
          11423.4,
          11424.85,
          11424.05,
          11420.25,
          11419.4,
          11425.35,
          11424.05,
          11420.7,
          11421.8,
          11419.2,
          11421.25,
          11419.3,
          11416.7,
          11416.8,
          11416.1,
          11410.55,
          11407.7,
          11396.35,
          11393.2,
          11397.7,
          11395.8,
          11394.85,
          11395.7,
          11397.6,
          11398.95,
          11402.2,
          11407.15,
          11406.7,
          11402.05,
          11401.15,
          11400.4,
          11401,
          11398.2,
          11397.45,
          11400.9,
          11398,
          11400.25,
          11400.4,
          11397.4,
          11394.4,
          11396.45,
          11402.3,
          11402.4,
          11401.5,
          11399.3,
          11398.6,
          11399.95,
          11400.25,
          11377.9,
          11372.05,
          11368.5,
          11375.85,
          11378.25,
          11380.8,
          11380.5,
          11382.3,
          11368.05,
          11368.95,
          11373.5,
          11375.45,
          11368.3,
          11367.4,
          11362.45,
          11361.9,
          11365.55,
          11370.3,
          11371.75,
          11365,
          11370.1,
          11376.7,
          11375.65,
          11374.6,
          11376.3,
          11380.55,
          11383.7,
          11386.75,
          11383.05,
          11386.35,
          11393.7,
          11393,
          11394.45,
          11387.6,
          11388.45,
          11389.3,
          11385.45,
          11382.1,
          11381.5,
          11379.5,
          11374.85,
          11375.8,
          11367.7,
          11380.65,
          11381.5,
          11385.7,
          11387.05,
          11390.75,
          11389.65,
          11395.4,
          11387,
          11391.6,
          11395.75,
          11393.5,
          11399.05,
          11405.25,
          11409.9,
          11404.3,
          11402.1,
          11400.6,
          11400.5,
          11398.3,
          11400.65,
          11403.15,
          11400.8,
          11400.4,
          11403.1,
          11402.8,
          11401.15,
          11399.8,
          11403.5,
          11400.8,
          11400.65,
          11398.45,
          11396.25,
          11396.8,
          11395.35,
          11398.7,
          11397.45,
          11396.1,
          11397,
          11396.45,
          11381.2,
          11383.95,
          11387.7,
          11391.05,
          11400.45,
          11399.85,
          11398.85,
          11398.05,
          11398.2,
          11399.65,
          11397.75,
          11400.3,
          11399.9,
          11400.9,
          11398.15,
          11397.05,
          11397.6,
          11399.45,
          11401.2,
          11400.85,
          11408.05,
          11403.4,
          11397.3,
          11401.45,
          11405.55,
          11406.45,
          11412.45,
          11413.75,
          11413.95,
          11408.7,
          11402.95,
          11401.15,
          11400.4,
          11402.95,
          11410.25,
          11410.35,
          11388.45,
          11389.65,
          11398.8,
          11400.2,
          11401.95,
          11403,
          11398.5,
          11402.45,
          11402.7,
          11405.05,
          11411.85,
          11412.95,
          11406.8,
          11406.4,
          11410.25,
          11410.6,
          11408.7,
          11406.45,
          11403.35,
          11402.8,
          11409.3,
          11417.5,
          11420.95,
          11415.15,
          11418.45,
          11413.95,
          11415.9,
          11415.25,
          11413.05,
          11414.15,
          11418.65,
          11418.5,
          11420.4,
          11417.55,
          11421.85,
          11421.3,
          11421.75,
          11420.1,
          11418.9,
          11414.75,
          11412.6,
          11416.5,
          11419.3,
          11419.4,
          11417.55,
          11411.8,
          11406.2
         ],
         "high": [
          11440.2,
          11465.8,
          11466.15,
          11471.85,
          11470.95,
          11467.15,
          11457,
          11441.95,
          11437.3,
          11431.7,
          11433.75,
          11445.45,
          11444.65,
          11435.95,
          11438.1,
          11443.7,
          11442.5,
          11443,
          11439.75,
          11434.45,
          11433.8,
          11424.95,
          11424.8,
          11427.5,
          11424.5,
          11425.4,
          11425.7,
          11426,
          11426.2,
          11429.85,
          11432.9,
          11434.2,
          11431.65,
          11428.6,
          11426.25,
          11426.6,
          11430.4,
          11428.85,
          11425.25,
          11425.1,
          11421.2,
          11421,
          11420.1,
          11412.75,
          11412.4,
          11412.45,
          11410.65,
          11408.6,
          11413.8,
          11418.45,
          11420.8,
          11421.5,
          11426.2,
          11425.65,
          11426.65,
          11422.7,
          11419,
          11419.3,
          11424.25,
          11424.35,
          11423.3,
          11421.65,
          11421.15,
          11423.35,
          11430.15,
          11431.5,
          11430.1,
          11426.9,
          11422.3,
          11419.85,
          11414.95,
          11416.35,
          11415.35,
          11415.2,
          11417.05,
          11415.25,
          11415,
          11416.65,
          11421.95,
          11421.7,
          11420.7,
          11419.2,
          11412.15,
          11412.9,
          11412.8,
          11413.1,
          11415.3,
          11416.75,
          11418,
          11419.65,
          11422.05,
          11421.8,
          11421.2,
          11419.95,
          11420.6,
          11420.5,
          11419.3,
          11421,
          11427.9,
          11428.55,
          11427.7,
          11428.1,
          11428.5,
          11429.5,
          11429.9,
          11429.1,
          11432.7,
          11431.3,
          11442.75,
          11443.55,
          11449.3,
          11449.4,
          11457.2,
          11456.65,
          11450.55,
          11447.8,
          11448.45,
          11446.8,
          11444.75,
          11442.85,
          11444.85,
          11442.45,
          11441.9,
          11440.95,
          11445.4,
          11458.65,
          11460.05,
          11453.45,
          11454.05,
          11451.55,
          11447.9,
          11445.25,
          11443.1,
          11446.5,
          11444.85,
          11444.8,
          11449.95,
          11449.7,
          11453.15,
          11453.05,
          11449.85,
          11446.45,
          11440.65,
          11437.85,
          11435.8,
          11431.05,
          11430.05,
          11428.9,
          11427.05,
          11429.7,
          11428.7,
          11432.15,
          11433.65,
          11437.05,
          11437.3,
          11437.15,
          11436.65,
          11434.55,
          11427.95,
          11427.25,
          11423.15,
          11422.5,
          11423.75,
          11423.85,
          11424.9,
          11426,
          11424.7,
          11420.8,
          11427.05,
          11424.95,
          11425.45,
          11422.95,
          11421.1,
          11421.85,
          11420.6,
          11421.2,
          11419.05,
          11416.85,
          11416.1,
          11410.95,
          11400.4,
          11396.85,
          11400.15,
          11399.85,
          11396.5,
          11398.1,
          11399.5,
          11398.95,
          11402.2,
          11407.4,
          11407.7,
          11407.5,
          11402.95,
          11402.2,
          11402.4,
          11401.15,
          11399,
          11402.7,
          11402.35,
          11400.25,
          11401.5,
          11399.4,
          11397.7,
          11397.25,
          11402.3,
          11403.9,
          11402.9,
          11402.8,
          11399.4,
          11400.9,
          11407.05,
          11394.8,
          11380.95,
          11370.9,
          11375.95,
          11378.25,
          11383.2,
          11383.35,
          11383.15,
          11384.55,
          11368.95,
          11373.6,
          11375.45,
          11373.9,
          11368.2,
          11372,
          11363.9,
          11365.55,
          11371.45,
          11371.75,
          11373.8,
          11370.1,
          11376.7,
          11377.9,
          11375.8,
          11376.3,
          11380.55,
          11384,
          11386.75,
          11387.1,
          11386.55,
          11397.4,
          11395.25,
          11395.6,
          11393.3,
          11388.45,
          11390.7,
          11389.15,
          11386.1,
          11382.2,
          11381.65,
          11378.7,
          11376.85,
          11376.6,
          11380.75,
          11382.65,
          11386.3,
          11388,
          11390.9,
          11391.3,
          11395.4,
          11395,
          11391.95,
          11395.75,
          11395.1,
          11399.25,
          11405.25,
          11409.9,
          11408.65,
          11404.1,
          11403.65,
          11402.6,
          11400.9,
          11400.65,
          11403.15,
          11402.6,
          11402.1,
          11403.1,
          11403.3,
          11403.1,
          11403.1,
          11403.5,
          11403.1,
          11401.6,
          11399.9,
          11398.55,
          11398.55,
          11398.5,
          11399,
          11399.65,
          11397.85,
          11398.4,
          11397.1,
          11392.75,
          11386.35,
          11387.7,
          11391.25,
          11400.45,
          11400.5,
          11399.7,
          11399.5,
          11398.65,
          11399.65,
          11399.75,
          11400.3,
          11402.05,
          11403.1,
          11400.65,
          11400.45,
          11400.05,
          11402.85,
          11401.2,
          11401.65,
          11408.15,
          11407.9,
          11405.9,
          11403.9,
          11405.75,
          11409.1,
          11413.1,
          11413.75,
          11416.25,
          11412.25,
          11407.6,
          11403.3,
          11402.3,
          11405.75,
          11410.25,
          11412.55,
          11402.65,
          11389.65,
          11398.8,
          11400.2,
          11402.2,
          11404.55,
          11404.85,
          11405.4,
          11403.85,
          11405.05,
          11411.85,
          11414,
          11414.45,
          11409.15,
          11410.25,
          11411.25,
          11409.65,
          11409,
          11407.8,
          11404,
          11409.3,
          11420.85,
          11422.95,
          11421.65,
          11418.45,
          11417.65,
          11417.1,
          11415.25,
          11416.25,
          11416.15,
          11418.65,
          11422.25,
          11420.4,
          11422.2,
          11421.85,
          11423,
          11422.55,
          11422.8,
          11422.75,
          11420.4,
          11417.1,
          11416.95,
          11420.05,
          11420.4,
          11419.85,
          11418,
          11412.7
         ],
         "low": [
          11440.2,
          11456.4,
          11461.05,
          11467.05,
          11466,
          11462.15,
          11442.05,
          11431.6,
          11425.5,
          11416.15,
          11419.2,
          11435.3,
          11431.8,
          11428.1,
          11429.95,
          11438.4,
          11439.05,
          11439.15,
          11432.5,
          11430.3,
          11426.05,
          11423.45,
          11422.95,
          11423.8,
          11422.5,
          11422.65,
          11422.45,
          11423.15,
          11423.65,
          11426.85,
          11427.45,
          11431.1,
          11428.35,
          11423.7,
          11425.25,
          11424.1,
          11426.45,
          11424.95,
          11422.8,
          11421.3,
          11419.95,
          11419.15,
          11413.05,
          11404.95,
          11406.8,
          11404.6,
          11406,
          11405.55,
          11405.7,
          11414.8,
          11418.05,
          11419.2,
          11422.25,
          11422.85,
          11420.65,
          11417.25,
          11416.35,
          11417.1,
          11419,
          11420.8,
          11421.7,
          11419.2,
          11419.85,
          11419.55,
          11424.1,
          11430.2,
          11425.6,
          11421.05,
          11418.25,
          11415.25,
          11412.55,
          11412.95,
          11413.85,
          11413.55,
          11412.95,
          11411.9,
          11413.6,
          11414.8,
          11417.35,
          11420.3,
          11418.35,
          11409.75,
          11409,
          11410.85,
          11411.35,
          11410.6,
          11413.05,
          11413.65,
          11415.45,
          11417.45,
          11419.5,
          11419.85,
          11418.7,
          11418.55,
          11419.15,
          11418.6,
          11417.8,
          11419,
          11424.65,
          11427.15,
          11426.15,
          11424.9,
          11424.25,
          11426.6,
          11427.7,
          11427.5,
          11429,
          11430.05,
          11431.15,
          11440.6,
          11442.95,
          11446.7,
          11446.7,
          11449.95,
          11447.35,
          11444.75,
          11444.6,
          11442.75,
          11439.4,
          11439.95,
          11442.7,
          11439.9,
          11439.15,
          11440.2,
          11440.6,
          11444.6,
          11449.7,
          11447.7,
          11449.4,
          11446.65,
          11443.45,
          11442.8,
          11440.5,
          11442.95,
          11443.15,
          11443.8,
          11445.7,
          11446.4,
          11447.4,
          11449.75,
          11445.25,
          11439.4,
          11436.4,
          11435.1,
          11430.25,
          11429.1,
          11428.45,
          11426.6,
          11424.6,
          11425.55,
          11427.1,
          11428.2,
          11429.6,
          11433.1,
          11434.85,
          11436.15,
          11434.45,
          11426.65,
          11426.45,
          11418.65,
          11419.9,
          11419.2,
          11422.45,
          11422.9,
          11421.95,
          11423.85,
          11420.05,
          11419.4,
          11419.3,
          11423.6,
          11420.7,
          11420.25,
          11419.2,
          11419.2,
          11418.75,
          11416.7,
          11416.1,
          11415.2,
          11410.55,
          11406,
          11394.05,
          11389.55,
          11395.1,
          11394.8,
          11393.95,
          11393.45,
          11395.45,
          11397.45,
          11399.55,
          11400.9,
          11406.4,
          11402.05,
          11399.9,
          11399.85,
          11399.9,
          11397.7,
          11396.05,
          11396.7,
          11398,
          11397.7,
          11399.9,
          11395.45,
          11394.4,
          11395.2,
          11397.65,
          11401.6,
          11401.5,
          11398.8,
          11398,
          11397.95,
          11400.25,
          11376.9,
          11369.65,
          11364.4,
          11367.45,
          11372.45,
          11377.95,
          11380.5,
          11380.5,
          11368.05,
          11365.25,
          11368.35,
          11373.45,
          11368.3,
          11366.1,
          11362.45,
          11361.65,
          11362.7,
          11366.25,
          11370.85,
          11365,
          11364.9,
          11370.4,
          11374.9,
          11373.65,
          11374.25,
          11374.95,
          11379.65,
          11383.65,
          11383.05,
          11383.15,
          11387.05,
          11391.9,
          11393.25,
          11387.6,
          11384.3,
          11388.5,
          11385.35,
          11382.1,
          11380.9,
          11377.05,
          11374.25,
          11375.8,
          11367.7,
          11367,
          11380.65,
          11382.1,
          11386.45,
          11387.45,
          11389.4,
          11390.25,
          11385.2,
          11387.65,
          11392.2,
          11392.65,
          11394.05,
          11399.35,
          11402.8,
          11402.85,
          11402.1,
          11400.4,
          11399.55,
          11394.85,
          11397.8,
          11399.6,
          11400.8,
          11399.7,
          11401.15,
          11401.9,
          11400.55,
          11399.8,
          11400.55,
          11400.8,
          11399.1,
          11398.45,
          11396,
          11395.3,
          11393.95,
          11394.65,
          11397.45,
          11396.1,
          11395.9,
          11395.9,
          11380,
          11381.6,
          11384.15,
          11387.35,
          11392.25,
          11398.25,
          11397.95,
          11397.65,
          11396.8,
          11395.95,
          11397.15,
          11397.95,
          11399.15,
          11399.75,
          11398.15,
          11397.05,
          11396.25,
          11397.85,
          11398.65,
          11399.15,
          11404.35,
          11400.8,
          11392.95,
          11396.35,
          11401.6,
          11406.45,
          11406.55,
          11411.4,
          11412,
          11407.65,
          11402.8,
          11400.95,
          11398.9,
          11400.55,
          11405,
          11409.1,
          11388.45,
          11381.4,
          11389.05,
          11397.05,
          11399.5,
          11402.5,
          11395.85,
          11400.2,
          11401.35,
          11402,
          11403.9,
          11411.85,
          11406.8,
          11406.4,
          11406.85,
          11407.5,
          11407.25,
          11406.45,
          11402.05,
          11402.65,
          11401.8,
          11413.2,
          11415.35,
          11414.25,
          11414.05,
          11412.9,
          11412.35,
          11412.45,
          11412.45,
          11412.55,
          11416.05,
          11417.95,
          11417.1,
          11415.85,
          11416.7,
          11419.6,
          11419.25,
          11420.1,
          11418.9,
          11414.65,
          11412.6,
          11413.45,
          11415.55,
          11417.2,
          11415.75,
          11411.6,
          11404.75
         ],
         "open": [
          11440.2,
          11463.2,
          11466.15,
          11467.05,
          11470,
          11466.3,
          11457,
          11440.65,
          11432.45,
          11431.7,
          11419.2,
          11435.3,
          11444.05,
          11430.75,
          11431.7,
          11439.6,
          11442.5,
          11441.95,
          11439.3,
          11432.35,
          11433.8,
          11424.05,
          11424.65,
          11424.2,
          11423.85,
          11424.05,
          11422.75,
          11423.9,
          11423.65,
          11426.85,
          11427.45,
          11432.95,
          11431.65,
          11428.6,
          11425.8,
          11425.3,
          11426.45,
          11428.65,
          11423.75,
          11424.95,
          11421.2,
          11421,
          11419.8,
          11412.75,
          11406.8,
          11404.6,
          11410.65,
          11408.6,
          11405.7,
          11414.9,
          11418.05,
          11420.1,
          11422.25,
          11423.2,
          11425.7,
          11421,
          11418.4,
          11418.3,
          11419,
          11424.35,
          11423.2,
          11421.25,
          11419.85,
          11420.2,
          11424.1,
          11430.7,
          11430.1,
          11426.9,
          11421.05,
          11419.45,
          11414.95,
          11414.25,
          11414.05,
          11414.55,
          11415.5,
          11411.9,
          11413.6,
          11414.8,
          11417.35,
          11420.95,
          11420.1,
          11418.9,
          11412.15,
          11412.6,
          11412.1,
          11412,
          11413.2,
          11415.1,
          11415.45,
          11417.45,
          11420.4,
          11421.2,
          11421.2,
          11418.95,
          11419.15,
          11420.5,
          11419.15,
          11419,
          11425.05,
          11427.25,
          11426.75,
          11428.1,
          11424.25,
          11426.6,
          11428.1,
          11428.05,
          11429,
          11431.1,
          11431.15,
          11442.8,
          11443.95,
          11449.4,
          11446.7,
          11456.65,
          11450.2,
          11447.8,
          11444.6,
          11446.2,
          11442.35,
          11440.7,
          11442.85,
          11442.45,
          11440.2,
          11440.3,
          11441.15,
          11444.6,
          11460.05,
          11447.7,
          11452.85,
          11449.5,
          11446.65,
          11445.25,
          11441.2,
          11443.35,
          11443.85,
          11444.15,
          11446.3,
          11449.7,
          11447.4,
          11452.05,
          11448.8,
          11446.45,
          11439.8,
          11437.35,
          11435.8,
          11430.05,
          11429.25,
          11426.6,
          11425.85,
          11425.55,
          11428.3,
          11428.2,
          11431.3,
          11433.1,
          11435,
          11436.85,
          11436.65,
          11433.05,
          11427.35,
          11426.95,
          11419.9,
          11421.05,
          11422.45,
          11423.3,
          11421.95,
          11424.25,
          11424.7,
          11420.2,
          11419.95,
          11424.85,
          11424.75,
          11421.05,
          11420.85,
          11419.25,
          11420.5,
          11421,
          11416.4,
          11416.85,
          11415.5,
          11410.95,
          11400.4,
          11396.85,
          11395.1,
          11399.85,
          11396.5,
          11393.45,
          11397.5,
          11397.45,
          11399.7,
          11401.5,
          11406.4,
          11407.5,
          11402.85,
          11401.85,
          11400.45,
          11400.3,
          11399,
          11396.7,
          11401.4,
          11397.8,
          11400.1,
          11399.4,
          11396.25,
          11395.5,
          11397.65,
          11402.35,
          11402.3,
          11401.3,
          11398.65,
          11399.25,
          11400.7,
          11394.8,
          11380.95,
          11369.8,
          11369.4,
          11376.45,
          11378.05,
          11381.2,
          11381.55,
          11384.55,
          11367.15,
          11368.35,
          11374.8,
          11373.9,
          11367.85,
          11368.1,
          11363.15,
          11362.9,
          11366.25,
          11371.1,
          11372.35,
          11364.9,
          11370.65,
          11377.5,
          11374.55,
          11375.05,
          11375.6,
          11380.4,
          11383.65,
          11387.1,
          11383.65,
          11387.05,
          11394.4,
          11393.25,
          11393.3,
          11384.85,
          11388.5,
          11388.9,
          11383.85,
          11382.2,
          11381.65,
          11378.7,
          11375.9,
          11375.05,
          11368.05,
          11382.65,
          11382.55,
          11388,
          11387.65,
          11391.3,
          11390.25,
          11394.4,
          11388.2,
          11392.2,
          11395.1,
          11394.05,
          11399.35,
          11406.35,
          11408.65,
          11403.8,
          11403.65,
          11400.85,
          11400.9,
          11398.65,
          11400.7,
          11402.6,
          11400.75,
          11401.35,
          11403.3,
          11402.25,
          11400.45,
          11400.55,
          11402.45,
          11401.6,
          11399.8,
          11398.55,
          11398.5,
          11397.2,
          11395.1,
          11399.65,
          11397.2,
          11396.6,
          11397.1,
          11392.75,
          11381.6,
          11385.05,
          11387.6,
          11392.25,
          11400.5,
          11398.95,
          11399.15,
          11398.65,
          11399.05,
          11397.45,
          11398.3,
          11399.15,
          11399.75,
          11400.65,
          11400.45,
          11397.6,
          11397.85,
          11401.2,
          11399.15,
          11404.35,
          11407.9,
          11405.45,
          11396.35,
          11402.45,
          11408.9,
          11406.85,
          11411.6,
          11414.6,
          11411.5,
          11407.6,
          11402.85,
          11401.55,
          11402.25,
          11405,
          11411.3,
          11402.65,
          11384.7,
          11389.5,
          11397.9,
          11400.8,
          11402.5,
          11403.15,
          11400.2,
          11402.35,
          11402,
          11403.9,
          11411.95,
          11414.45,
          11407.1,
          11408.2,
          11409.5,
          11409.65,
          11409,
          11406.35,
          11402.85,
          11401.8,
          11413.2,
          11417.65,
          11421.65,
          11416.7,
          11415.4,
          11412.35,
          11414.65,
          11416.25,
          11412.55,
          11416.65,
          11420,
          11418.95,
          11422.2,
          11416.7,
          11419.6,
          11421.05,
          11421.7,
          11419.55,
          11418.95,
          11415.65,
          11414.4,
          11415.55,
          11420.4,
          11418.65,
          11416.45,
          11411.05
         ],
         "type": "candlestick",
         "x": [
          "09:09",
          "09:16",
          "09:17",
          "09:18",
          "09:19",
          "09:20",
          "09:21",
          "09:22",
          "09:23",
          "09:24",
          "09:25",
          "09:26",
          "09:27",
          "09:28",
          "09:29",
          "09:30",
          "09:31",
          "09:32",
          "09:33",
          "09:34",
          "09:35",
          "09:36",
          "09:37",
          "09:38",
          "09:39",
          "09:40",
          "09:41",
          "09:42",
          "09:43",
          "09:44",
          "09:45",
          "09:46",
          "09:47",
          "09:48",
          "09:49",
          "09:50",
          "09:51",
          "09:52",
          "09:53",
          "09:54",
          "09:55",
          "09:56",
          "09:57",
          "09:58",
          "09:59",
          "10:00",
          "10:01",
          "10:02",
          "10:03",
          "10:04",
          "10:05",
          "10:06",
          "10:07",
          "10:08",
          "10:09",
          "10:10",
          "10:11",
          "10:12",
          "10:13",
          "10:14",
          "10:15",
          "10:16",
          "10:17",
          "10:18",
          "10:19",
          "10:20",
          "10:21",
          "10:22",
          "10:23",
          "10:24",
          "10:25",
          "10:26",
          "10:27",
          "10:28",
          "10:29",
          "10:30",
          "10:31",
          "10:32",
          "10:33",
          "10:34",
          "10:35",
          "10:36",
          "10:37",
          "10:38",
          "10:39",
          "10:40",
          "10:41",
          "10:42",
          "10:43",
          "10:44",
          "10:45",
          "10:46",
          "10:47",
          "10:48",
          "10:49",
          "10:50",
          "10:51",
          "10:52",
          "10:53",
          "10:54",
          "10:55",
          "10:56",
          "10:57",
          "10:58",
          "10:59",
          "11:00",
          "11:01",
          "11:02",
          "11:03",
          "11:04",
          "11:05",
          "11:06",
          "11:07",
          "11:08",
          "11:09",
          "11:10",
          "11:11",
          "11:12",
          "11:13",
          "11:14",
          "11:15",
          "11:16",
          "11:17",
          "11:18",
          "11:19",
          "11:20",
          "11:21",
          "11:22",
          "11:23",
          "11:24",
          "11:25",
          "11:26",
          "11:27",
          "11:28",
          "11:29",
          "11:30",
          "11:31",
          "11:32",
          "11:33",
          "11:34",
          "11:35",
          "11:36",
          "11:37",
          "11:38",
          "11:39",
          "11:40",
          "11:41",
          "11:42",
          "11:43",
          "11:44",
          "11:45",
          "11:46",
          "11:47",
          "11:48",
          "11:49",
          "11:50",
          "11:51",
          "11:52",
          "11:53",
          "11:54",
          "11:55",
          "11:56",
          "11:57",
          "11:58",
          "11:59",
          "12:00",
          "12:01",
          "12:02",
          "12:03",
          "12:04",
          "12:05",
          "12:06",
          "12:07",
          "12:08",
          "12:09",
          "12:10",
          "12:11",
          "12:12",
          "12:13",
          "12:14",
          "12:15",
          "12:16",
          "12:17",
          "12:18",
          "12:19",
          "12:20",
          "12:21",
          "12:22",
          "12:23",
          "12:24",
          "12:25",
          "12:26",
          "12:27",
          "12:28",
          "12:29",
          "12:30",
          "12:31",
          "12:32",
          "12:33",
          "12:34",
          "12:35",
          "12:36",
          "12:37",
          "12:38",
          "12:39",
          "12:40",
          "12:41",
          "12:42",
          "12:43",
          "12:44",
          "12:45",
          "12:46",
          "12:47",
          "12:48",
          "12:49",
          "12:50",
          "12:51",
          "12:52",
          "12:53",
          "12:54",
          "12:55",
          "12:56",
          "12:57",
          "12:58",
          "12:59",
          "13:00",
          "13:01",
          "13:02",
          "13:03",
          "13:04",
          "13:05",
          "13:06",
          "13:07",
          "13:08",
          "13:09",
          "13:10",
          "13:11",
          "13:12",
          "13:13",
          "13:14",
          "13:15",
          "13:16",
          "13:17",
          "13:18",
          "13:19",
          "13:20",
          "13:21",
          "13:22",
          "13:23",
          "13:24",
          "13:25",
          "13:26",
          "13:27",
          "13:28",
          "13:29",
          "13:30",
          "13:31",
          "13:32",
          "13:33",
          "13:34",
          "13:35",
          "13:36",
          "13:37",
          "13:38",
          "13:39",
          "13:40",
          "13:41",
          "13:42",
          "13:43",
          "13:44",
          "13:45",
          "13:46",
          "13:47",
          "13:48",
          "13:49",
          "13:50",
          "13:51",
          "13:52",
          "13:53",
          "13:54",
          "13:55",
          "13:56",
          "13:57",
          "13:58",
          "13:59",
          "14:00",
          "14:01",
          "14:02",
          "14:03",
          "14:04",
          "14:05",
          "14:06",
          "14:07",
          "14:08",
          "14:09",
          "14:10",
          "14:11",
          "14:12",
          "14:13",
          "14:14",
          "14:15",
          "14:16",
          "14:17",
          "14:18",
          "14:19",
          "14:20",
          "14:21",
          "14:22",
          "14:23",
          "14:24",
          "14:25",
          "14:26",
          "14:27",
          "14:28",
          "14:29",
          "14:30",
          "14:31",
          "14:32",
          "14:33",
          "14:34",
          "14:35",
          "14:36",
          "14:37",
          "14:38",
          "14:39",
          "14:40",
          "14:41",
          "14:42",
          "14:43",
          "14:44",
          "14:45",
          "14:46",
          "14:47",
          "14:48",
          "14:49",
          "14:50",
          "14:51",
          "14:52",
          "14:53",
          "14:54",
          "14:55",
          "14:56",
          "14:57",
          "14:58",
          "14:59",
          "15:00",
          "15:01",
          "15:02",
          "15:03",
          "15:04",
          "15:05",
          "15:06",
          "15:07",
          "15:08",
          "15:09",
          "15:10",
          "15:11",
          "15:12",
          "15:13",
          "15:14",
          "15:15",
          "15:16",
          "15:17",
          "15:18",
          "15:19",
          "15:20",
          "15:21",
          "15:22",
          "15:23",
          "15:24",
          "15:25",
          "15:26",
          "15:27",
          "15:28",
          "15:29",
          "15:30"
         ]
        },
        {
         "type": "scatter",
         "x": [
          "09:09",
          "09:16",
          "09:17",
          "09:18",
          "09:19",
          "09:20",
          "09:21",
          "09:22",
          "09:23",
          "09:24",
          "09:25",
          "09:26",
          "09:27",
          "09:28",
          "09:29",
          "09:30",
          "09:31",
          "09:32",
          "09:33",
          "09:34",
          "09:35",
          "09:36",
          "09:37",
          "09:38",
          "09:39",
          "09:40",
          "09:41",
          "09:42",
          "09:43",
          "09:44",
          "09:45",
          "09:46",
          "09:47",
          "09:48",
          "09:49",
          "09:50",
          "09:51",
          "09:52",
          "09:53",
          "09:54",
          "09:55",
          "09:56",
          "09:57",
          "09:58",
          "09:59",
          "10:00",
          "10:01",
          "10:02",
          "10:03",
          "10:04",
          "10:05",
          "10:06",
          "10:07",
          "10:08",
          "10:09",
          "10:10",
          "10:11",
          "10:12",
          "10:13",
          "10:14",
          "10:15",
          "10:16",
          "10:17",
          "10:18",
          "10:19",
          "10:20",
          "10:21",
          "10:22",
          "10:23",
          "10:24",
          "10:25",
          "10:26",
          "10:27",
          "10:28",
          "10:29",
          "10:30",
          "10:31",
          "10:32",
          "10:33",
          "10:34",
          "10:35",
          "10:36",
          "10:37",
          "10:38",
          "10:39",
          "10:40",
          "10:41",
          "10:42",
          "10:43",
          "10:44",
          "10:45",
          "10:46",
          "10:47",
          "10:48",
          "10:49",
          "10:50",
          "10:51",
          "10:52",
          "10:53",
          "10:54",
          "10:55",
          "10:56",
          "10:57",
          "10:58",
          "10:59",
          "11:00",
          "11:01",
          "11:02",
          "11:03",
          "11:04",
          "11:05",
          "11:06",
          "11:07",
          "11:08",
          "11:09",
          "11:10",
          "11:11",
          "11:12",
          "11:13",
          "11:14",
          "11:15",
          "11:16",
          "11:17",
          "11:18",
          "11:19",
          "11:20",
          "11:21",
          "11:22",
          "11:23",
          "11:24",
          "11:25",
          "11:26",
          "11:27",
          "11:28",
          "11:29",
          "11:30",
          "11:31",
          "11:32",
          "11:33",
          "11:34",
          "11:35",
          "11:36",
          "11:37",
          "11:38",
          "11:39",
          "11:40",
          "11:41",
          "11:42",
          "11:43",
          "11:44",
          "11:45",
          "11:46",
          "11:47",
          "11:48",
          "11:49",
          "11:50",
          "11:51",
          "11:52",
          "11:53",
          "11:54",
          "11:55",
          "11:56",
          "11:57",
          "11:58",
          "11:59",
          "12:00",
          "12:01",
          "12:02",
          "12:03",
          "12:04",
          "12:05",
          "12:06",
          "12:07",
          "12:08",
          "12:09",
          "12:10",
          "12:11",
          "12:12",
          "12:13",
          "12:14",
          "12:15",
          "12:16",
          "12:17",
          "12:18",
          "12:19",
          "12:20",
          "12:21",
          "12:22",
          "12:23",
          "12:24",
          "12:25",
          "12:26",
          "12:27",
          "12:28",
          "12:29",
          "12:30",
          "12:31",
          "12:32",
          "12:33",
          "12:34",
          "12:35",
          "12:36",
          "12:37",
          "12:38",
          "12:39",
          "12:40",
          "12:41",
          "12:42",
          "12:43",
          "12:44",
          "12:45",
          "12:46",
          "12:47",
          "12:48",
          "12:49",
          "12:50",
          "12:51",
          "12:52",
          "12:53",
          "12:54",
          "12:55",
          "12:56",
          "12:57",
          "12:58",
          "12:59",
          "13:00",
          "13:01",
          "13:02",
          "13:03",
          "13:04",
          "13:05",
          "13:06",
          "13:07",
          "13:08",
          "13:09",
          "13:10",
          "13:11",
          "13:12",
          "13:13",
          "13:14",
          "13:15",
          "13:16",
          "13:17",
          "13:18",
          "13:19",
          "13:20",
          "13:21",
          "13:22",
          "13:23",
          "13:24",
          "13:25",
          "13:26",
          "13:27",
          "13:28",
          "13:29",
          "13:30",
          "13:31",
          "13:32",
          "13:33",
          "13:34",
          "13:35",
          "13:36",
          "13:37",
          "13:38",
          "13:39",
          "13:40",
          "13:41",
          "13:42",
          "13:43",
          "13:44",
          "13:45",
          "13:46",
          "13:47",
          "13:48",
          "13:49",
          "13:50",
          "13:51",
          "13:52",
          "13:53",
          "13:54",
          "13:55",
          "13:56",
          "13:57",
          "13:58",
          "13:59",
          "14:00",
          "14:01",
          "14:02",
          "14:03",
          "14:04",
          "14:05",
          "14:06",
          "14:07",
          "14:08",
          "14:09",
          "14:10",
          "14:11",
          "14:12",
          "14:13",
          "14:14",
          "14:15",
          "14:16",
          "14:17",
          "14:18",
          "14:19",
          "14:20",
          "14:21",
          "14:22",
          "14:23",
          "14:24",
          "14:25",
          "14:26",
          "14:27",
          "14:28",
          "14:29",
          "14:30",
          "14:31",
          "14:32",
          "14:33",
          "14:34",
          "14:35",
          "14:36",
          "14:37",
          "14:38",
          "14:39",
          "14:40",
          "14:41",
          "14:42",
          "14:43",
          "14:44",
          "14:45",
          "14:46",
          "14:47",
          "14:48",
          "14:49",
          "14:50",
          "14:51",
          "14:52",
          "14:53",
          "14:54",
          "14:55",
          "14:56",
          "14:57",
          "14:58",
          "14:59",
          "15:00",
          "15:01",
          "15:02",
          "15:03",
          "15:04",
          "15:05",
          "15:06",
          "15:07",
          "15:08",
          "15:09",
          "15:10",
          "15:11",
          "15:12",
          "15:13",
          "15:14",
          "15:15",
          "15:16",
          "15:17",
          "15:18",
          "15:19",
          "15:20",
          "15:21",
          "15:22",
          "15:23",
          "15:24",
          "15:25",
          "15:26",
          "15:27",
          "15:28",
          "15:29",
          "15:30"
         ],
         "y": [
          null,
          null,
          null,
          null,
          null,
          null,
          null,
          null,
          null,
          null,
          -6.450000000000728,
          -20.349999999998545,
          -21.5,
          -35.899999999999636,
          -32.850000000000364,
          -23.44999999999891,
          -14.5,
          1.0499999999992724,
          2.4500000000007276,
          2.75,
          0.049999999999272404,
          -20.5,
          -19.850000000000364,
          -8.450000000000728,
          -13.600000000000364,
          -18.30000000000109,
          -16.799999999999272,
          -17,
          -13.549999999999272,
          -4.600000000000364,
          -0.8999999999996362,
          9.25,
          6.850000000000364,
          1.1000000000003638,
          1.75,
          1.2000000000007276,
          4.699999999998909,
          2.850000000000364,
          -0.9500000000007276,
          -4.75,
          -11.699999999998909,
          -13.200000000000728,
          -11.549999999999272,
          -15.850000000000364,
          -13.850000000000364,
          -14.149999999999636,
          -19.75,
          -20.25,
          -11.450000000000728,
          -6.649999999999636,
          -0.4000000000014552,
          0.5,
          6.100000000000364,
          12.899999999999636,
          14.25,
          10.25,
          8.350000000000364,
          10.699999999998909,
          10.450000000000728,
          5.899999999999636,
          2.5,
          0.1499999999996362,
          -5.050000000001091,
          -2.2999999999992724,
          3.5,
          8.799999999999272,
          11.100000000000364,
          7.600000000000364,
          -1.9500000000007276,
          -4.5,
          -8.349999999998545,
          -5.299999999999272,
          -5.799999999999272,
          -8.149999999999636,
          -13.100000000000364,
          -16.25,
          -15.100000000000364,
          -10.25,
          -0.3499999999985448,
          1.8500000000003638,
          5.75,
          2.850000000000364,
          -3.2000000000007276,
          -2.3000000000010914,
          -4.25,
          -2.149999999999636,
          0.2999999999992724,
          0.1000000000003638,
          -3.9500000000007276,
          -2.0500000000010914,
          1.3499999999985448,
          2.599999999998545,
          9.050000000001091,
          7.050000000001091,
          7.800000000001091,
          7.399999999999636,
          4,
          4.25,
          9.899999999999636,
          8.899999999999636,
          5.650000000001455,
          6.300000000001091,
          7.299999999999272,
          9.549999999999272,
          9.299999999999272,
          8.600000000000364,
          13.400000000001455,
          10.299999999999272,
          14.850000000000364,
          15,
          21.599999999998545,
          21.299999999999272,
          28.700000000000728,
          27.149999999999636,
          20.649999999999636,
          18.69999999999891,
          15.75,
          15.5,
          2,
          -0.6999999999989086,
          -4.449999999998909,
          -6.949999999998909,
          -15.300000000001091,
          -15.699999999998909,
          -5.149999999999636,
          10.850000000000364,
          11.599999999998545,
          6.650000000001455,
          9.299999999999272,
          8.699999999998909,
          3.0499999999992724,
          2.7999999999992724,
          1.2000000000007276,
          5.549999999999272,
          -0.5499999999992724,
          -13.850000000000364,
          -10.099999999998545,
          -3.75,
          -0.8999999999996362,
          1.5,
          1.9500000000007276,
          1.2000000000007276,
          -2.4500000000007276,
          -8.649999999999636,
          -9.050000000001091,
          -13.75,
          -19.900000000001455,
          -20.80000000000109,
          -26.100000000000364,
          -23.349999999998545,
          -21.149999999999636,
          -14.300000000001091,
          -7,
          -0.8000000000010914,
          1.5,
          6.100000000000364,
          6.600000000000364,
          5.649999999999636,
          0.9000000000014552,
          -2.4500000000007276,
          -5.550000000001091,
          -9.649999999999636,
          -9.899999999999636,
          -13.199999999998909,
          -12.399999999999636,
          -11.149999999999636,
          -11.949999999998909,
          -13.75,
          -0.9000000000014552,
          -2.2999999999992724,
          2.3000000000010914,
          0.4500000000007276,
          -2.649999999999636,
          -2,
          -4.299999999999272,
          -4.799999999999272,
          -5.650000000001455,
          -3.9499999999989086,
          -10.949999999998909,
          -14,
          -25.05000000000109,
          -26.100000000000364,
          -20.950000000000728,
          -22,
          -24.100000000000364,
          -23.100000000000364,
          -19.549999999999272,
          -17.899999999999636,
          -13.899999999999636,
          -3.5500000000010914,
          7.300000000001091,
          10.649999999999636,
          2.8000000000010914,
          2.350000000000364,
          5.899999999999636,
          3.0499999999992724,
          -0.5,
          3.75,
          0.1499999999996362,
          -7.149999999999636,
          -6.200000000000728,
          -8.100000000000364,
          -5.25,
          -4.950000000000728,
          -0.1000000000003638,
          2.75,
          3.899999999999636,
          0.09999999999854481,
          -2.9500000000007276,
          0.6499999999996362,
          5.549999999999272,
          -4.600000000000364,
          -16.75,
          -26.350000000000364,
          -26.349999999998545,
          -25.649999999999636,
          -19.69999999999891,
          -19.44999999999891,
          -16.25,
          -16.350000000000364,
          -38.099999999998545,
          -21.19999999999891,
          -5.5,
          3,
          -7.75,
          -6.25,
          -19.30000000000109,
          -17.80000000000109,
          -11.699999999998909,
          -12.799999999999272,
          4.849999999998545,
          -3.5,
          1.25,
          4,
          7.599999999998545,
          4.299999999999272,
          16.649999999999636,
          18.450000000000728,
          15.299999999999272,
          15.350000000000364,
          12.75,
          27.299999999999272,
          18.549999999999272,
          17.700000000000728,
          17.5,
          12.150000000001455,
          10.150000000001455,
          5.149999999999636,
          -0.6499999999996362,
          -4.899999999999636,
          -4.899999999999636,
          -18.69999999999891,
          -18.399999999999636,
          -19,
          -12.549999999999272,
          -5.800000000001091,
          -4.400000000001455,
          -1.1499999999996362,
          4.799999999999272,
          9.099999999998545,
          13.75,
          16.299999999999272,
          15.100000000000364,
          19.149999999999636,
          14.350000000000364,
          16.600000000000364,
          18.950000000000728,
          21.899999999999636,
          17.75,
          12.800000000001091,
          8.25,
          7.600000000000364,
          8.949999999998909,
          4.899999999999636,
          8.049999999999272,
          3.350000000000364,
          -3.149999999999636,
          -6.799999999999272,
          -5.350000000000364,
          -1,
          -0.5499999999992724,
          0.8999999999996362,
          2.2000000000007276,
          0.9500000000007276,
          -3.25,
          -4.050000000001091,
          -3.5500000000010914,
          -4.600000000000364,
          -4.299999999999272,
          -3.4500000000007276,
          -5.25,
          -5.100000000000364,
          -6,
          -8.850000000000364,
          -13.549999999999272,
          -10.849999999998545,
          -7.299999999999272,
          1.9500000000007276,
          1.5,
          0.050000000001091394,
          1.6499999999996362,
          0.25,
          2.5499999999992724,
          7,
          13.949999999998909,
          14.349999999998545,
          11.850000000000364,
          0.1999999999989086,
          -0.049999999999272404,
          0.3499999999985448,
          3.350000000000364,
          2.5500000000010914,
          2,
          8.399999999999636,
          7.600000000000364,
          3.850000000000364,
          0.7999999999992724,
          5.100000000000364,
          8.649999999999636,
          13.050000000001091,
          10.899999999999636,
          15.049999999999272,
          10.600000000000364,
          -0.5499999999992724,
          -4.600000000000364,
          -3.600000000000364,
          1.8500000000003638,
          4.5,
          3.4499999999989086,
          -10.450000000000728,
          -24.100000000000364,
          -17.450000000000728,
          -12.049999999999272,
          -5.399999999999636,
          1.25,
          2.5500000000010914,
          -0.3500000000003638,
          -6.399999999999636,
          -7.5,
          9.200000000000728,
          24.350000000000364,
          15.650000000001455,
          8.949999999998909,
          8.049999999999272,
          6.700000000000728,
          4.799999999999272,
          3.600000000000364,
          3.9499999999989086,
          -1.0499999999992724,
          -2.5500000000010914,
          6.850000000000364,
          8.5,
          12.5,
          8.200000000000728,
          6.399999999999636,
          7.450000000000728,
          6.25,
          8.450000000000728,
          12.149999999999636,
          9.350000000000364,
          1.3999999999996362,
          -2.5500000000010914,
          0.5500000000010914,
          3.399999999999636,
          5.350000000000364,
          5.449999999998909,
          7.549999999999272,
          6.5,
          4.25,
          -1.5499999999992724,
          -5.299999999999272,
          -0.3500000000003638,
          -1.8000000000010914,
          -2,
          -5,
          -9.849999999998545
         ]
        }
       ],
       "layout": {
        "template": {
         "data": {
          "bar": [
           {
            "error_x": {
             "color": "#2a3f5f"
            },
            "error_y": {
             "color": "#2a3f5f"
            },
            "marker": {
             "line": {
              "color": "#E5ECF6",
              "width": 0.5
             },
             "pattern": {
              "fillmode": "overlay",
              "size": 10,
              "solidity": 0.2
             }
            },
            "type": "bar"
           }
          ],
          "barpolar": [
           {
            "marker": {
             "line": {
              "color": "#E5ECF6",
              "width": 0.5
             },
             "pattern": {
              "fillmode": "overlay",
              "size": 10,
              "solidity": 0.2
             }
            },
            "type": "barpolar"
           }
          ],
          "carpet": [
           {
            "aaxis": {
             "endlinecolor": "#2a3f5f",
             "gridcolor": "white",
             "linecolor": "white",
             "minorgridcolor": "white",
             "startlinecolor": "#2a3f5f"
            },
            "baxis": {
             "endlinecolor": "#2a3f5f",
             "gridcolor": "white",
             "linecolor": "white",
             "minorgridcolor": "white",
             "startlinecolor": "#2a3f5f"
            },
            "type": "carpet"
           }
          ],
          "choropleth": [
           {
            "colorbar": {
             "outlinewidth": 0,
             "ticks": ""
            },
            "type": "choropleth"
           }
          ],
          "contour": [
           {
            "colorbar": {
             "outlinewidth": 0,
             "ticks": ""
            },
            "colorscale": [
             [
              0,
              "#0d0887"
             ],
             [
              0.1111111111111111,
              "#46039f"
             ],
             [
              0.2222222222222222,
              "#7201a8"
             ],
             [
              0.3333333333333333,
              "#9c179e"
             ],
             [
              0.4444444444444444,
              "#bd3786"
             ],
             [
              0.5555555555555556,
              "#d8576b"
             ],
             [
              0.6666666666666666,
              "#ed7953"
             ],
             [
              0.7777777777777778,
              "#fb9f3a"
             ],
             [
              0.8888888888888888,
              "#fdca26"
             ],
             [
              1,
              "#f0f921"
             ]
            ],
            "type": "contour"
           }
          ],
          "contourcarpet": [
           {
            "colorbar": {
             "outlinewidth": 0,
             "ticks": ""
            },
            "type": "contourcarpet"
           }
          ],
          "heatmap": [
           {
            "colorbar": {
             "outlinewidth": 0,
             "ticks": ""
            },
            "colorscale": [
             [
              0,
              "#0d0887"
             ],
             [
              0.1111111111111111,
              "#46039f"
             ],
             [
              0.2222222222222222,
              "#7201a8"
             ],
             [
              0.3333333333333333,
              "#9c179e"
             ],
             [
              0.4444444444444444,
              "#bd3786"
             ],
             [
              0.5555555555555556,
              "#d8576b"
             ],
             [
              0.6666666666666666,
              "#ed7953"
             ],
             [
              0.7777777777777778,
              "#fb9f3a"
             ],
             [
              0.8888888888888888,
              "#fdca26"
             ],
             [
              1,
              "#f0f921"
             ]
            ],
            "type": "heatmap"
           }
          ],
          "heatmapgl": [
           {
            "colorbar": {
             "outlinewidth": 0,
             "ticks": ""
            },
            "colorscale": [
             [
              0,
              "#0d0887"
             ],
             [
              0.1111111111111111,
              "#46039f"
             ],
             [
              0.2222222222222222,
              "#7201a8"
             ],
             [
              0.3333333333333333,
              "#9c179e"
             ],
             [
              0.4444444444444444,
              "#bd3786"
             ],
             [
              0.5555555555555556,
              "#d8576b"
             ],
             [
              0.6666666666666666,
              "#ed7953"
             ],
             [
              0.7777777777777778,
              "#fb9f3a"
             ],
             [
              0.8888888888888888,
              "#fdca26"
             ],
             [
              1,
              "#f0f921"
             ]
            ],
            "type": "heatmapgl"
           }
          ],
          "histogram": [
           {
            "marker": {
             "pattern": {
              "fillmode": "overlay",
              "size": 10,
              "solidity": 0.2
             }
            },
            "type": "histogram"
           }
          ],
          "histogram2d": [
           {
            "colorbar": {
             "outlinewidth": 0,
             "ticks": ""
            },
            "colorscale": [
             [
              0,
              "#0d0887"
             ],
             [
              0.1111111111111111,
              "#46039f"
             ],
             [
              0.2222222222222222,
              "#7201a8"
             ],
             [
              0.3333333333333333,
              "#9c179e"
             ],
             [
              0.4444444444444444,
              "#bd3786"
             ],
             [
              0.5555555555555556,
              "#d8576b"
             ],
             [
              0.6666666666666666,
              "#ed7953"
             ],
             [
              0.7777777777777778,
              "#fb9f3a"
             ],
             [
              0.8888888888888888,
              "#fdca26"
             ],
             [
              1,
              "#f0f921"
             ]
            ],
            "type": "histogram2d"
           }
          ],
          "histogram2dcontour": [
           {
            "colorbar": {
             "outlinewidth": 0,
             "ticks": ""
            },
            "colorscale": [
             [
              0,
              "#0d0887"
             ],
             [
              0.1111111111111111,
              "#46039f"
             ],
             [
              0.2222222222222222,
              "#7201a8"
             ],
             [
              0.3333333333333333,
              "#9c179e"
             ],
             [
              0.4444444444444444,
              "#bd3786"
             ],
             [
              0.5555555555555556,
              "#d8576b"
             ],
             [
              0.6666666666666666,
              "#ed7953"
             ],
             [
              0.7777777777777778,
              "#fb9f3a"
             ],
             [
              0.8888888888888888,
              "#fdca26"
             ],
             [
              1,
              "#f0f921"
             ]
            ],
            "type": "histogram2dcontour"
           }
          ],
          "mesh3d": [
           {
            "colorbar": {
             "outlinewidth": 0,
             "ticks": ""
            },
            "type": "mesh3d"
           }
          ],
          "parcoords": [
           {
            "line": {
             "colorbar": {
              "outlinewidth": 0,
              "ticks": ""
             }
            },
            "type": "parcoords"
           }
          ],
          "pie": [
           {
            "automargin": true,
            "type": "pie"
           }
          ],
          "scatter": [
           {
            "marker": {
             "colorbar": {
              "outlinewidth": 0,
              "ticks": ""
             }
            },
            "type": "scatter"
           }
          ],
          "scatter3d": [
           {
            "line": {
             "colorbar": {
              "outlinewidth": 0,
              "ticks": ""
             }
            },
            "marker": {
             "colorbar": {
              "outlinewidth": 0,
              "ticks": ""
             }
            },
            "type": "scatter3d"
           }
          ],
          "scattercarpet": [
           {
            "marker": {
             "colorbar": {
              "outlinewidth": 0,
              "ticks": ""
             }
            },
            "type": "scattercarpet"
           }
          ],
          "scattergeo": [
           {
            "marker": {
             "colorbar": {
              "outlinewidth": 0,
              "ticks": ""
             }
            },
            "type": "scattergeo"
           }
          ],
          "scattergl": [
           {
            "marker": {
             "colorbar": {
              "outlinewidth": 0,
              "ticks": ""
             }
            },
            "type": "scattergl"
           }
          ],
          "scattermapbox": [
           {
            "marker": {
             "colorbar": {
              "outlinewidth": 0,
              "ticks": ""
             }
            },
            "type": "scattermapbox"
           }
          ],
          "scatterpolar": [
           {
            "marker": {
             "colorbar": {
              "outlinewidth": 0,
              "ticks": ""
             }
            },
            "type": "scatterpolar"
           }
          ],
          "scatterpolargl": [
           {
            "marker": {
             "colorbar": {
              "outlinewidth": 0,
              "ticks": ""
             }
            },
            "type": "scatterpolargl"
           }
          ],
          "scatterternary": [
           {
            "marker": {
             "colorbar": {
              "outlinewidth": 0,
              "ticks": ""
             }
            },
            "type": "scatterternary"
           }
          ],
          "surface": [
           {
            "colorbar": {
             "outlinewidth": 0,
             "ticks": ""
            },
            "colorscale": [
             [
              0,
              "#0d0887"
             ],
             [
              0.1111111111111111,
              "#46039f"
             ],
             [
              0.2222222222222222,
              "#7201a8"
             ],
             [
              0.3333333333333333,
              "#9c179e"
             ],
             [
              0.4444444444444444,
              "#bd3786"
             ],
             [
              0.5555555555555556,
              "#d8576b"
             ],
             [
              0.6666666666666666,
              "#ed7953"
             ],
             [
              0.7777777777777778,
              "#fb9f3a"
             ],
             [
              0.8888888888888888,
              "#fdca26"
             ],
             [
              1,
              "#f0f921"
             ]
            ],
            "type": "surface"
           }
          ],
          "table": [
           {
            "cells": {
             "fill": {
              "color": "#EBF0F8"
             },
             "line": {
              "color": "white"
             }
            },
            "header": {
             "fill": {
              "color": "#C8D4E3"
             },
             "line": {
              "color": "white"
             }
            },
            "type": "table"
           }
          ]
         },
         "layout": {
          "annotationdefaults": {
           "arrowcolor": "#2a3f5f",
           "arrowhead": 0,
           "arrowwidth": 1
          },
          "autotypenumbers": "strict",
          "coloraxis": {
           "colorbar": {
            "outlinewidth": 0,
            "ticks": ""
           }
          },
          "colorscale": {
           "diverging": [
            [
             0,
             "#8e0152"
            ],
            [
             0.1,
             "#c51b7d"
            ],
            [
             0.2,
             "#de77ae"
            ],
            [
             0.3,
             "#f1b6da"
            ],
            [
             0.4,
             "#fde0ef"
            ],
            [
             0.5,
             "#f7f7f7"
            ],
            [
             0.6,
             "#e6f5d0"
            ],
            [
             0.7,
             "#b8e186"
            ],
            [
             0.8,
             "#7fbc41"
            ],
            [
             0.9,
             "#4d9221"
            ],
            [
             1,
             "#276419"
            ]
           ],
           "sequential": [
            [
             0,
             "#0d0887"
            ],
            [
             0.1111111111111111,
             "#46039f"
            ],
            [
             0.2222222222222222,
             "#7201a8"
            ],
            [
             0.3333333333333333,
             "#9c179e"
            ],
            [
             0.4444444444444444,
             "#bd3786"
            ],
            [
             0.5555555555555556,
             "#d8576b"
            ],
            [
             0.6666666666666666,
             "#ed7953"
            ],
            [
             0.7777777777777778,
             "#fb9f3a"
            ],
            [
             0.8888888888888888,
             "#fdca26"
            ],
            [
             1,
             "#f0f921"
            ]
           ],
           "sequentialminus": [
            [
             0,
             "#0d0887"
            ],
            [
             0.1111111111111111,
             "#46039f"
            ],
            [
             0.2222222222222222,
             "#7201a8"
            ],
            [
             0.3333333333333333,
             "#9c179e"
            ],
            [
             0.4444444444444444,
             "#bd3786"
            ],
            [
             0.5555555555555556,
             "#d8576b"
            ],
            [
             0.6666666666666666,
             "#ed7953"
            ],
            [
             0.7777777777777778,
             "#fb9f3a"
            ],
            [
             0.8888888888888888,
             "#fdca26"
            ],
            [
             1,
             "#f0f921"
            ]
           ]
          },
          "colorway": [
           "#636efa",
           "#EF553B",
           "#00cc96",
           "#ab63fa",
           "#FFA15A",
           "#19d3f3",
           "#FF6692",
           "#B6E880",
           "#FF97FF",
           "#FECB52"
          ],
          "font": {
           "color": "#2a3f5f"
          },
          "geo": {
           "bgcolor": "white",
           "lakecolor": "white",
           "landcolor": "#E5ECF6",
           "showlakes": true,
           "showland": true,
           "subunitcolor": "white"
          },
          "hoverlabel": {
           "align": "left"
          },
          "hovermode": "closest",
          "mapbox": {
           "style": "light"
          },
          "paper_bgcolor": "white",
          "plot_bgcolor": "#E5ECF6",
          "polar": {
           "angularaxis": {
            "gridcolor": "white",
            "linecolor": "white",
            "ticks": ""
           },
           "bgcolor": "#E5ECF6",
           "radialaxis": {
            "gridcolor": "white",
            "linecolor": "white",
            "ticks": ""
           }
          },
          "scene": {
           "xaxis": {
            "backgroundcolor": "#E5ECF6",
            "gridcolor": "white",
            "gridwidth": 2,
            "linecolor": "white",
            "showbackground": true,
            "ticks": "",
            "zerolinecolor": "white"
           },
           "yaxis": {
            "backgroundcolor": "#E5ECF6",
            "gridcolor": "white",
            "gridwidth": 2,
            "linecolor": "white",
            "showbackground": true,
            "ticks": "",
            "zerolinecolor": "white"
           },
           "zaxis": {
            "backgroundcolor": "#E5ECF6",
            "gridcolor": "white",
            "gridwidth": 2,
            "linecolor": "white",
            "showbackground": true,
            "ticks": "",
            "zerolinecolor": "white"
           }
          },
          "shapedefaults": {
           "line": {
            "color": "#2a3f5f"
           }
          },
          "ternary": {
           "aaxis": {
            "gridcolor": "white",
            "linecolor": "white",
            "ticks": ""
           },
           "baxis": {
            "gridcolor": "white",
            "linecolor": "white",
            "ticks": ""
           },
           "bgcolor": "#E5ECF6",
           "caxis": {
            "gridcolor": "white",
            "linecolor": "white",
            "ticks": ""
           }
          },
          "title": {
           "x": 0.05
          },
          "xaxis": {
           "automargin": true,
           "gridcolor": "white",
           "linecolor": "white",
           "ticks": "",
           "title": {
            "standoff": 15
           },
           "zerolinecolor": "white",
           "zerolinewidth": 2
          },
          "yaxis": {
           "automargin": true,
           "gridcolor": "white",
           "linecolor": "white",
           "ticks": "",
           "title": {
            "standoff": 15
           },
           "zerolinecolor": "white",
           "zerolinewidth": 2
          }
         }
        }
       }
      },
      "text/html": [
       "<div>                            <div id=\"dbdf576a-5c88-401d-9690-aaee74c381fe\" class=\"plotly-graph-div\" style=\"height:525px; width:100%;\"></div>            <script type=\"text/javascript\">                require([\"plotly\"], function(Plotly) {                    window.PLOTLYENV=window.PLOTLYENV || {};                                    if (document.getElementById(\"dbdf576a-5c88-401d-9690-aaee74c381fe\")) {                    Plotly.newPlot(                        \"dbdf576a-5c88-401d-9690-aaee74c381fe\",                        [{\"close\":[11440.2,11464.55,11463.8,11471.85,11467.25,11462.15,11442.4,11431.6,11433.15,11416.15,11433.75,11445.45,11431.8,11432.75,11438.1,11443.7,11441.55,11439.15,11432.5,11434.1,11426.05,11424.55,11424.65,11423.8,11423.65,11423.85,11424.9,11423.3,11426.2,11427.05,11432.9,11431.1,11430.35,11425.55,11425.25,11425.65,11428.3,11424.95,11425.0,11421.55,11420.3,11419.2,11413.05,11404.95,11409.65,11412.45,11409.05,11405.55,11413.5,11418.45,11420.2,11421.5,11423.15,11424.8,11420.65,11418.95,11418.5,11418.25,11424.25,11422.05,11421.75,11420.2,11420.9,11423.05,11430.15,11430.35,11425.6,11421.3,11419.0,11415.65,11412.7,11412.95,11415.0,11415.2,11413.05,11413.35,11414.7,11416.0,11421.1,11420.8,11418.95,11409.75,11410.75,11412.05,11412.25,11411.35,11415.3,11415.15,11418.0,11418.8,11421.35,11421.4,11418.7,11418.55,11420.3,11419.1,11417.8,11420.65,11427.9,11427.8,11426.15,11426.75,11426.5,11427.35,11427.85,11429.1,11430.8,11431.1,11442.7,11440.6,11449.3,11448.0,11457.2,11449.95,11447.95,11446.6,11445.2,11442.75,11441.8,11442.5,11444.75,11441.6,11440.2,11440.95,11444.25,11458.65,11449.7,11453.45,11449.4,11448.45,11443.45,11442.8,11443.1,11444.65,11444.6,11444.8,11449.95,11446.4,11452.5,11449.75,11445.25,11439.4,11437.9,11435.45,11430.75,11429.1,11429.85,11427.5,11426.4,11429.7,11427.1,11431.2,11433.65,11434.95,11436.55,11436.7,11434.45,11426.65,11427.8,11418.65,11420.55,11422.4,11423.1,11423.4,11424.85,11424.05,11420.25,11419.4,11425.35,11424.05,11420.7,11421.8,11419.2,11421.25,11419.3,11416.7,11416.8,11416.1,11410.55,11407.7,11396.35,11393.2,11397.7,11395.8,11394.85,11395.7,11397.6,11398.95,11402.2,11407.15,11406.7,11402.05,11401.15,11400.4,11401.0,11398.2,11397.45,11400.9,11398.0,11400.25,11400.4,11397.4,11394.4,11396.45,11402.3,11402.4,11401.5,11399.3,11398.6,11399.95,11400.25,11377.9,11372.05,11368.5,11375.85,11378.25,11380.8,11380.5,11382.3,11368.05,11368.95,11373.5,11375.45,11368.3,11367.4,11362.45,11361.9,11365.55,11370.3,11371.75,11365.0,11370.1,11376.7,11375.65,11374.6,11376.3,11380.55,11383.7,11386.75,11383.05,11386.35,11393.7,11393.0,11394.45,11387.6,11388.45,11389.3,11385.45,11382.1,11381.5,11379.5,11374.85,11375.8,11367.7,11380.65,11381.5,11385.7,11387.05,11390.75,11389.65,11395.4,11387.0,11391.6,11395.75,11393.5,11399.05,11405.25,11409.9,11404.3,11402.1,11400.6,11400.5,11398.3,11400.65,11403.15,11400.8,11400.4,11403.1,11402.8,11401.15,11399.8,11403.5,11400.8,11400.65,11398.45,11396.25,11396.8,11395.35,11398.7,11397.45,11396.1,11397.0,11396.45,11381.2,11383.95,11387.7,11391.05,11400.45,11399.85,11398.85,11398.05,11398.2,11399.65,11397.75,11400.3,11399.9,11400.9,11398.15,11397.05,11397.6,11399.45,11401.2,11400.85,11408.05,11403.4,11397.3,11401.45,11405.55,11406.45,11412.45,11413.75,11413.95,11408.7,11402.95,11401.15,11400.4,11402.95,11410.25,11410.35,11388.45,11389.65,11398.8,11400.2,11401.95,11403.0,11398.5,11402.45,11402.7,11405.05,11411.85,11412.95,11406.8,11406.4,11410.25,11410.6,11408.7,11406.45,11403.35,11402.8,11409.3,11417.5,11420.95,11415.15,11418.45,11413.95,11415.9,11415.25,11413.05,11414.15,11418.65,11418.5,11420.4,11417.55,11421.85,11421.3,11421.75,11420.1,11418.9,11414.75,11412.6,11416.5,11419.3,11419.4,11417.55,11411.8,11406.2],\"high\":[11440.2,11465.8,11466.15,11471.85,11470.95,11467.15,11457.0,11441.95,11437.3,11431.7,11433.75,11445.45,11444.65,11435.95,11438.1,11443.7,11442.5,11443.0,11439.75,11434.45,11433.8,11424.95,11424.8,11427.5,11424.5,11425.4,11425.7,11426.0,11426.2,11429.85,11432.9,11434.2,11431.65,11428.6,11426.25,11426.6,11430.4,11428.85,11425.25,11425.1,11421.2,11421.0,11420.1,11412.75,11412.4,11412.45,11410.65,11408.6,11413.8,11418.45,11420.8,11421.5,11426.2,11425.65,11426.65,11422.7,11419.0,11419.3,11424.25,11424.35,11423.3,11421.65,11421.15,11423.35,11430.15,11431.5,11430.1,11426.9,11422.3,11419.85,11414.95,11416.35,11415.35,11415.2,11417.05,11415.25,11415.0,11416.65,11421.95,11421.7,11420.7,11419.2,11412.15,11412.9,11412.8,11413.1,11415.3,11416.75,11418.0,11419.65,11422.05,11421.8,11421.2,11419.95,11420.6,11420.5,11419.3,11421.0,11427.9,11428.55,11427.7,11428.1,11428.5,11429.5,11429.9,11429.1,11432.7,11431.3,11442.75,11443.55,11449.3,11449.4,11457.2,11456.65,11450.55,11447.8,11448.45,11446.8,11444.75,11442.85,11444.85,11442.45,11441.9,11440.95,11445.4,11458.65,11460.05,11453.45,11454.05,11451.55,11447.9,11445.25,11443.1,11446.5,11444.85,11444.8,11449.95,11449.7,11453.15,11453.05,11449.85,11446.45,11440.65,11437.85,11435.8,11431.05,11430.05,11428.9,11427.05,11429.7,11428.7,11432.15,11433.65,11437.05,11437.3,11437.15,11436.65,11434.55,11427.95,11427.25,11423.15,11422.5,11423.75,11423.85,11424.9,11426.0,11424.7,11420.8,11427.05,11424.95,11425.45,11422.95,11421.1,11421.85,11420.6,11421.2,11419.05,11416.85,11416.1,11410.95,11400.4,11396.85,11400.15,11399.85,11396.5,11398.1,11399.5,11398.95,11402.2,11407.4,11407.7,11407.5,11402.95,11402.2,11402.4,11401.15,11399.0,11402.7,11402.35,11400.25,11401.5,11399.4,11397.7,11397.25,11402.3,11403.9,11402.9,11402.8,11399.4,11400.9,11407.05,11394.8,11380.95,11370.9,11375.95,11378.25,11383.2,11383.35,11383.15,11384.55,11368.95,11373.6,11375.45,11373.9,11368.2,11372.0,11363.9,11365.55,11371.45,11371.75,11373.8,11370.1,11376.7,11377.9,11375.8,11376.3,11380.55,11384.0,11386.75,11387.1,11386.55,11397.4,11395.25,11395.6,11393.3,11388.45,11390.7,11389.15,11386.1,11382.2,11381.65,11378.7,11376.85,11376.6,11380.75,11382.65,11386.3,11388.0,11390.9,11391.3,11395.4,11395.0,11391.95,11395.75,11395.1,11399.25,11405.25,11409.9,11408.65,11404.1,11403.65,11402.6,11400.9,11400.65,11403.15,11402.6,11402.1,11403.1,11403.3,11403.1,11403.1,11403.5,11403.1,11401.6,11399.9,11398.55,11398.55,11398.5,11399.0,11399.65,11397.85,11398.4,11397.1,11392.75,11386.35,11387.7,11391.25,11400.45,11400.5,11399.7,11399.5,11398.65,11399.65,11399.75,11400.3,11402.05,11403.1,11400.65,11400.45,11400.05,11402.85,11401.2,11401.65,11408.15,11407.9,11405.9,11403.9,11405.75,11409.1,11413.1,11413.75,11416.25,11412.25,11407.6,11403.3,11402.3,11405.75,11410.25,11412.55,11402.65,11389.65,11398.8,11400.2,11402.2,11404.55,11404.85,11405.4,11403.85,11405.05,11411.85,11414.0,11414.45,11409.15,11410.25,11411.25,11409.65,11409.0,11407.8,11404.0,11409.3,11420.85,11422.95,11421.65,11418.45,11417.65,11417.1,11415.25,11416.25,11416.15,11418.65,11422.25,11420.4,11422.2,11421.85,11423.0,11422.55,11422.8,11422.75,11420.4,11417.1,11416.95,11420.05,11420.4,11419.85,11418.0,11412.7],\"low\":[11440.2,11456.4,11461.05,11467.05,11466.0,11462.15,11442.05,11431.6,11425.5,11416.15,11419.2,11435.3,11431.8,11428.1,11429.95,11438.4,11439.05,11439.15,11432.5,11430.3,11426.05,11423.45,11422.95,11423.8,11422.5,11422.65,11422.45,11423.15,11423.65,11426.85,11427.45,11431.1,11428.35,11423.7,11425.25,11424.1,11426.45,11424.95,11422.8,11421.3,11419.95,11419.15,11413.05,11404.95,11406.8,11404.6,11406.0,11405.55,11405.7,11414.8,11418.05,11419.2,11422.25,11422.85,11420.65,11417.25,11416.35,11417.1,11419.0,11420.8,11421.7,11419.2,11419.85,11419.55,11424.1,11430.2,11425.6,11421.05,11418.25,11415.25,11412.55,11412.95,11413.85,11413.55,11412.95,11411.9,11413.6,11414.8,11417.35,11420.3,11418.35,11409.75,11409.0,11410.85,11411.35,11410.6,11413.05,11413.65,11415.45,11417.45,11419.5,11419.85,11418.7,11418.55,11419.15,11418.6,11417.8,11419.0,11424.65,11427.15,11426.15,11424.9,11424.25,11426.6,11427.7,11427.5,11429.0,11430.05,11431.15,11440.6,11442.95,11446.7,11446.7,11449.95,11447.35,11444.75,11444.6,11442.75,11439.4,11439.95,11442.7,11439.9,11439.15,11440.2,11440.6,11444.6,11449.7,11447.7,11449.4,11446.65,11443.45,11442.8,11440.5,11442.95,11443.15,11443.8,11445.7,11446.4,11447.4,11449.75,11445.25,11439.4,11436.4,11435.1,11430.25,11429.1,11428.45,11426.6,11424.6,11425.55,11427.1,11428.2,11429.6,11433.1,11434.85,11436.15,11434.45,11426.65,11426.45,11418.65,11419.9,11419.2,11422.45,11422.9,11421.95,11423.85,11420.05,11419.4,11419.3,11423.6,11420.7,11420.25,11419.2,11419.2,11418.75,11416.7,11416.1,11415.2,11410.55,11406.0,11394.05,11389.55,11395.1,11394.8,11393.95,11393.45,11395.45,11397.45,11399.55,11400.9,11406.4,11402.05,11399.9,11399.85,11399.9,11397.7,11396.05,11396.7,11398.0,11397.7,11399.9,11395.45,11394.4,11395.2,11397.65,11401.6,11401.5,11398.8,11398.0,11397.95,11400.25,11376.9,11369.65,11364.4,11367.45,11372.45,11377.95,11380.5,11380.5,11368.05,11365.25,11368.35,11373.45,11368.3,11366.1,11362.45,11361.65,11362.7,11366.25,11370.85,11365.0,11364.9,11370.4,11374.9,11373.65,11374.25,11374.95,11379.65,11383.65,11383.05,11383.15,11387.05,11391.9,11393.25,11387.6,11384.3,11388.5,11385.35,11382.1,11380.9,11377.05,11374.25,11375.8,11367.7,11367.0,11380.65,11382.1,11386.45,11387.45,11389.4,11390.25,11385.2,11387.65,11392.2,11392.65,11394.05,11399.35,11402.8,11402.85,11402.1,11400.4,11399.55,11394.85,11397.8,11399.6,11400.8,11399.7,11401.15,11401.9,11400.55,11399.8,11400.55,11400.8,11399.1,11398.45,11396.0,11395.3,11393.95,11394.65,11397.45,11396.1,11395.9,11395.9,11380.0,11381.6,11384.15,11387.35,11392.25,11398.25,11397.95,11397.65,11396.8,11395.95,11397.15,11397.95,11399.15,11399.75,11398.15,11397.05,11396.25,11397.85,11398.65,11399.15,11404.35,11400.8,11392.95,11396.35,11401.6,11406.45,11406.55,11411.4,11412.0,11407.65,11402.8,11400.95,11398.9,11400.55,11405.0,11409.1,11388.45,11381.4,11389.05,11397.05,11399.5,11402.5,11395.85,11400.2,11401.35,11402.0,11403.9,11411.85,11406.8,11406.4,11406.85,11407.5,11407.25,11406.45,11402.05,11402.65,11401.8,11413.2,11415.35,11414.25,11414.05,11412.9,11412.35,11412.45,11412.45,11412.55,11416.05,11417.95,11417.1,11415.85,11416.7,11419.6,11419.25,11420.1,11418.9,11414.65,11412.6,11413.45,11415.55,11417.2,11415.75,11411.6,11404.75],\"open\":[11440.2,11463.2,11466.15,11467.05,11470.0,11466.3,11457.0,11440.65,11432.45,11431.7,11419.2,11435.3,11444.05,11430.75,11431.7,11439.6,11442.5,11441.95,11439.3,11432.35,11433.8,11424.05,11424.65,11424.2,11423.85,11424.05,11422.75,11423.9,11423.65,11426.85,11427.45,11432.95,11431.65,11428.6,11425.8,11425.3,11426.45,11428.65,11423.75,11424.95,11421.2,11421.0,11419.8,11412.75,11406.8,11404.6,11410.65,11408.6,11405.7,11414.9,11418.05,11420.1,11422.25,11423.2,11425.7,11421.0,11418.4,11418.3,11419.0,11424.35,11423.2,11421.25,11419.85,11420.2,11424.1,11430.7,11430.1,11426.9,11421.05,11419.45,11414.95,11414.25,11414.05,11414.55,11415.5,11411.9,11413.6,11414.8,11417.35,11420.95,11420.1,11418.9,11412.15,11412.6,11412.1,11412.0,11413.2,11415.1,11415.45,11417.45,11420.4,11421.2,11421.2,11418.95,11419.15,11420.5,11419.15,11419.0,11425.05,11427.25,11426.75,11428.1,11424.25,11426.6,11428.1,11428.05,11429.0,11431.1,11431.15,11442.8,11443.95,11449.4,11446.7,11456.65,11450.2,11447.8,11444.6,11446.2,11442.35,11440.7,11442.85,11442.45,11440.2,11440.3,11441.15,11444.6,11460.05,11447.7,11452.85,11449.5,11446.65,11445.25,11441.2,11443.35,11443.85,11444.15,11446.3,11449.7,11447.4,11452.05,11448.8,11446.45,11439.8,11437.35,11435.8,11430.05,11429.25,11426.6,11425.85,11425.55,11428.3,11428.2,11431.3,11433.1,11435.0,11436.85,11436.65,11433.05,11427.35,11426.95,11419.9,11421.05,11422.45,11423.3,11421.95,11424.25,11424.7,11420.2,11419.95,11424.85,11424.75,11421.05,11420.85,11419.25,11420.5,11421.0,11416.4,11416.85,11415.5,11410.95,11400.4,11396.85,11395.1,11399.85,11396.5,11393.45,11397.5,11397.45,11399.7,11401.5,11406.4,11407.5,11402.85,11401.85,11400.45,11400.3,11399.0,11396.7,11401.4,11397.8,11400.1,11399.4,11396.25,11395.5,11397.65,11402.35,11402.3,11401.3,11398.65,11399.25,11400.7,11394.8,11380.95,11369.8,11369.4,11376.45,11378.05,11381.2,11381.55,11384.55,11367.15,11368.35,11374.8,11373.9,11367.85,11368.1,11363.15,11362.9,11366.25,11371.1,11372.35,11364.9,11370.65,11377.5,11374.55,11375.05,11375.6,11380.4,11383.65,11387.1,11383.65,11387.05,11394.4,11393.25,11393.3,11384.85,11388.5,11388.9,11383.85,11382.2,11381.65,11378.7,11375.9,11375.05,11368.05,11382.65,11382.55,11388.0,11387.65,11391.3,11390.25,11394.4,11388.2,11392.2,11395.1,11394.05,11399.35,11406.35,11408.65,11403.8,11403.65,11400.85,11400.9,11398.65,11400.7,11402.6,11400.75,11401.35,11403.3,11402.25,11400.45,11400.55,11402.45,11401.6,11399.8,11398.55,11398.5,11397.2,11395.1,11399.65,11397.2,11396.6,11397.1,11392.75,11381.6,11385.05,11387.6,11392.25,11400.5,11398.95,11399.15,11398.65,11399.05,11397.45,11398.3,11399.15,11399.75,11400.65,11400.45,11397.6,11397.85,11401.2,11399.15,11404.35,11407.9,11405.45,11396.35,11402.45,11408.9,11406.85,11411.6,11414.6,11411.5,11407.6,11402.85,11401.55,11402.25,11405.0,11411.3,11402.65,11384.7,11389.5,11397.9,11400.8,11402.5,11403.15,11400.2,11402.35,11402.0,11403.9,11411.95,11414.45,11407.1,11408.2,11409.5,11409.65,11409.0,11406.35,11402.85,11401.8,11413.2,11417.65,11421.65,11416.7,11415.4,11412.35,11414.65,11416.25,11412.55,11416.65,11420.0,11418.95,11422.2,11416.7,11419.6,11421.05,11421.7,11419.55,11418.95,11415.65,11414.4,11415.55,11420.4,11418.65,11416.45,11411.05],\"type\":\"candlestick\",\"x\":[\"09:09\",\"09:16\",\"09:17\",\"09:18\",\"09:19\",\"09:20\",\"09:21\",\"09:22\",\"09:23\",\"09:24\",\"09:25\",\"09:26\",\"09:27\",\"09:28\",\"09:29\",\"09:30\",\"09:31\",\"09:32\",\"09:33\",\"09:34\",\"09:35\",\"09:36\",\"09:37\",\"09:38\",\"09:39\",\"09:40\",\"09:41\",\"09:42\",\"09:43\",\"09:44\",\"09:45\",\"09:46\",\"09:47\",\"09:48\",\"09:49\",\"09:50\",\"09:51\",\"09:52\",\"09:53\",\"09:54\",\"09:55\",\"09:56\",\"09:57\",\"09:58\",\"09:59\",\"10:00\",\"10:01\",\"10:02\",\"10:03\",\"10:04\",\"10:05\",\"10:06\",\"10:07\",\"10:08\",\"10:09\",\"10:10\",\"10:11\",\"10:12\",\"10:13\",\"10:14\",\"10:15\",\"10:16\",\"10:17\",\"10:18\",\"10:19\",\"10:20\",\"10:21\",\"10:22\",\"10:23\",\"10:24\",\"10:25\",\"10:26\",\"10:27\",\"10:28\",\"10:29\",\"10:30\",\"10:31\",\"10:32\",\"10:33\",\"10:34\",\"10:35\",\"10:36\",\"10:37\",\"10:38\",\"10:39\",\"10:40\",\"10:41\",\"10:42\",\"10:43\",\"10:44\",\"10:45\",\"10:46\",\"10:47\",\"10:48\",\"10:49\",\"10:50\",\"10:51\",\"10:52\",\"10:53\",\"10:54\",\"10:55\",\"10:56\",\"10:57\",\"10:58\",\"10:59\",\"11:00\",\"11:01\",\"11:02\",\"11:03\",\"11:04\",\"11:05\",\"11:06\",\"11:07\",\"11:08\",\"11:09\",\"11:10\",\"11:11\",\"11:12\",\"11:13\",\"11:14\",\"11:15\",\"11:16\",\"11:17\",\"11:18\",\"11:19\",\"11:20\",\"11:21\",\"11:22\",\"11:23\",\"11:24\",\"11:25\",\"11:26\",\"11:27\",\"11:28\",\"11:29\",\"11:30\",\"11:31\",\"11:32\",\"11:33\",\"11:34\",\"11:35\",\"11:36\",\"11:37\",\"11:38\",\"11:39\",\"11:40\",\"11:41\",\"11:42\",\"11:43\",\"11:44\",\"11:45\",\"11:46\",\"11:47\",\"11:48\",\"11:49\",\"11:50\",\"11:51\",\"11:52\",\"11:53\",\"11:54\",\"11:55\",\"11:56\",\"11:57\",\"11:58\",\"11:59\",\"12:00\",\"12:01\",\"12:02\",\"12:03\",\"12:04\",\"12:05\",\"12:06\",\"12:07\",\"12:08\",\"12:09\",\"12:10\",\"12:11\",\"12:12\",\"12:13\",\"12:14\",\"12:15\",\"12:16\",\"12:17\",\"12:18\",\"12:19\",\"12:20\",\"12:21\",\"12:22\",\"12:23\",\"12:24\",\"12:25\",\"12:26\",\"12:27\",\"12:28\",\"12:29\",\"12:30\",\"12:31\",\"12:32\",\"12:33\",\"12:34\",\"12:35\",\"12:36\",\"12:37\",\"12:38\",\"12:39\",\"12:40\",\"12:41\",\"12:42\",\"12:43\",\"12:44\",\"12:45\",\"12:46\",\"12:47\",\"12:48\",\"12:49\",\"12:50\",\"12:51\",\"12:52\",\"12:53\",\"12:54\",\"12:55\",\"12:56\",\"12:57\",\"12:58\",\"12:59\",\"13:00\",\"13:01\",\"13:02\",\"13:03\",\"13:04\",\"13:05\",\"13:06\",\"13:07\",\"13:08\",\"13:09\",\"13:10\",\"13:11\",\"13:12\",\"13:13\",\"13:14\",\"13:15\",\"13:16\",\"13:17\",\"13:18\",\"13:19\",\"13:20\",\"13:21\",\"13:22\",\"13:23\",\"13:24\",\"13:25\",\"13:26\",\"13:27\",\"13:28\",\"13:29\",\"13:30\",\"13:31\",\"13:32\",\"13:33\",\"13:34\",\"13:35\",\"13:36\",\"13:37\",\"13:38\",\"13:39\",\"13:40\",\"13:41\",\"13:42\",\"13:43\",\"13:44\",\"13:45\",\"13:46\",\"13:47\",\"13:48\",\"13:49\",\"13:50\",\"13:51\",\"13:52\",\"13:53\",\"13:54\",\"13:55\",\"13:56\",\"13:57\",\"13:58\",\"13:59\",\"14:00\",\"14:01\",\"14:02\",\"14:03\",\"14:04\",\"14:05\",\"14:06\",\"14:07\",\"14:08\",\"14:09\",\"14:10\",\"14:11\",\"14:12\",\"14:13\",\"14:14\",\"14:15\",\"14:16\",\"14:17\",\"14:18\",\"14:19\",\"14:20\",\"14:21\",\"14:22\",\"14:23\",\"14:24\",\"14:25\",\"14:26\",\"14:27\",\"14:28\",\"14:29\",\"14:30\",\"14:31\",\"14:32\",\"14:33\",\"14:34\",\"14:35\",\"14:36\",\"14:37\",\"14:38\",\"14:39\",\"14:40\",\"14:41\",\"14:42\",\"14:43\",\"14:44\",\"14:45\",\"14:46\",\"14:47\",\"14:48\",\"14:49\",\"14:50\",\"14:51\",\"14:52\",\"14:53\",\"14:54\",\"14:55\",\"14:56\",\"14:57\",\"14:58\",\"14:59\",\"15:00\",\"15:01\",\"15:02\",\"15:03\",\"15:04\",\"15:05\",\"15:06\",\"15:07\",\"15:08\",\"15:09\",\"15:10\",\"15:11\",\"15:12\",\"15:13\",\"15:14\",\"15:15\",\"15:16\",\"15:17\",\"15:18\",\"15:19\",\"15:20\",\"15:21\",\"15:22\",\"15:23\",\"15:24\",\"15:25\",\"15:26\",\"15:27\",\"15:28\",\"15:29\",\"15:30\"]},{\"type\":\"scatter\",\"x\":[\"09:09\",\"09:16\",\"09:17\",\"09:18\",\"09:19\",\"09:20\",\"09:21\",\"09:22\",\"09:23\",\"09:24\",\"09:25\",\"09:26\",\"09:27\",\"09:28\",\"09:29\",\"09:30\",\"09:31\",\"09:32\",\"09:33\",\"09:34\",\"09:35\",\"09:36\",\"09:37\",\"09:38\",\"09:39\",\"09:40\",\"09:41\",\"09:42\",\"09:43\",\"09:44\",\"09:45\",\"09:46\",\"09:47\",\"09:48\",\"09:49\",\"09:50\",\"09:51\",\"09:52\",\"09:53\",\"09:54\",\"09:55\",\"09:56\",\"09:57\",\"09:58\",\"09:59\",\"10:00\",\"10:01\",\"10:02\",\"10:03\",\"10:04\",\"10:05\",\"10:06\",\"10:07\",\"10:08\",\"10:09\",\"10:10\",\"10:11\",\"10:12\",\"10:13\",\"10:14\",\"10:15\",\"10:16\",\"10:17\",\"10:18\",\"10:19\",\"10:20\",\"10:21\",\"10:22\",\"10:23\",\"10:24\",\"10:25\",\"10:26\",\"10:27\",\"10:28\",\"10:29\",\"10:30\",\"10:31\",\"10:32\",\"10:33\",\"10:34\",\"10:35\",\"10:36\",\"10:37\",\"10:38\",\"10:39\",\"10:40\",\"10:41\",\"10:42\",\"10:43\",\"10:44\",\"10:45\",\"10:46\",\"10:47\",\"10:48\",\"10:49\",\"10:50\",\"10:51\",\"10:52\",\"10:53\",\"10:54\",\"10:55\",\"10:56\",\"10:57\",\"10:58\",\"10:59\",\"11:00\",\"11:01\",\"11:02\",\"11:03\",\"11:04\",\"11:05\",\"11:06\",\"11:07\",\"11:08\",\"11:09\",\"11:10\",\"11:11\",\"11:12\",\"11:13\",\"11:14\",\"11:15\",\"11:16\",\"11:17\",\"11:18\",\"11:19\",\"11:20\",\"11:21\",\"11:22\",\"11:23\",\"11:24\",\"11:25\",\"11:26\",\"11:27\",\"11:28\",\"11:29\",\"11:30\",\"11:31\",\"11:32\",\"11:33\",\"11:34\",\"11:35\",\"11:36\",\"11:37\",\"11:38\",\"11:39\",\"11:40\",\"11:41\",\"11:42\",\"11:43\",\"11:44\",\"11:45\",\"11:46\",\"11:47\",\"11:48\",\"11:49\",\"11:50\",\"11:51\",\"11:52\",\"11:53\",\"11:54\",\"11:55\",\"11:56\",\"11:57\",\"11:58\",\"11:59\",\"12:00\",\"12:01\",\"12:02\",\"12:03\",\"12:04\",\"12:05\",\"12:06\",\"12:07\",\"12:08\",\"12:09\",\"12:10\",\"12:11\",\"12:12\",\"12:13\",\"12:14\",\"12:15\",\"12:16\",\"12:17\",\"12:18\",\"12:19\",\"12:20\",\"12:21\",\"12:22\",\"12:23\",\"12:24\",\"12:25\",\"12:26\",\"12:27\",\"12:28\",\"12:29\",\"12:30\",\"12:31\",\"12:32\",\"12:33\",\"12:34\",\"12:35\",\"12:36\",\"12:37\",\"12:38\",\"12:39\",\"12:40\",\"12:41\",\"12:42\",\"12:43\",\"12:44\",\"12:45\",\"12:46\",\"12:47\",\"12:48\",\"12:49\",\"12:50\",\"12:51\",\"12:52\",\"12:53\",\"12:54\",\"12:55\",\"12:56\",\"12:57\",\"12:58\",\"12:59\",\"13:00\",\"13:01\",\"13:02\",\"13:03\",\"13:04\",\"13:05\",\"13:06\",\"13:07\",\"13:08\",\"13:09\",\"13:10\",\"13:11\",\"13:12\",\"13:13\",\"13:14\",\"13:15\",\"13:16\",\"13:17\",\"13:18\",\"13:19\",\"13:20\",\"13:21\",\"13:22\",\"13:23\",\"13:24\",\"13:25\",\"13:26\",\"13:27\",\"13:28\",\"13:29\",\"13:30\",\"13:31\",\"13:32\",\"13:33\",\"13:34\",\"13:35\",\"13:36\",\"13:37\",\"13:38\",\"13:39\",\"13:40\",\"13:41\",\"13:42\",\"13:43\",\"13:44\",\"13:45\",\"13:46\",\"13:47\",\"13:48\",\"13:49\",\"13:50\",\"13:51\",\"13:52\",\"13:53\",\"13:54\",\"13:55\",\"13:56\",\"13:57\",\"13:58\",\"13:59\",\"14:00\",\"14:01\",\"14:02\",\"14:03\",\"14:04\",\"14:05\",\"14:06\",\"14:07\",\"14:08\",\"14:09\",\"14:10\",\"14:11\",\"14:12\",\"14:13\",\"14:14\",\"14:15\",\"14:16\",\"14:17\",\"14:18\",\"14:19\",\"14:20\",\"14:21\",\"14:22\",\"14:23\",\"14:24\",\"14:25\",\"14:26\",\"14:27\",\"14:28\",\"14:29\",\"14:30\",\"14:31\",\"14:32\",\"14:33\",\"14:34\",\"14:35\",\"14:36\",\"14:37\",\"14:38\",\"14:39\",\"14:40\",\"14:41\",\"14:42\",\"14:43\",\"14:44\",\"14:45\",\"14:46\",\"14:47\",\"14:48\",\"14:49\",\"14:50\",\"14:51\",\"14:52\",\"14:53\",\"14:54\",\"14:55\",\"14:56\",\"14:57\",\"14:58\",\"14:59\",\"15:00\",\"15:01\",\"15:02\",\"15:03\",\"15:04\",\"15:05\",\"15:06\",\"15:07\",\"15:08\",\"15:09\",\"15:10\",\"15:11\",\"15:12\",\"15:13\",\"15:14\",\"15:15\",\"15:16\",\"15:17\",\"15:18\",\"15:19\",\"15:20\",\"15:21\",\"15:22\",\"15:23\",\"15:24\",\"15:25\",\"15:26\",\"15:27\",\"15:28\",\"15:29\",\"15:30\"],\"y\":[null,null,null,null,null,null,null,null,null,null,-6.450000000000728,-20.349999999998545,-21.5,-35.899999999999636,-32.850000000000364,-23.44999999999891,-14.5,1.0499999999992724,2.4500000000007276,2.75,0.049999999999272404,-20.5,-19.850000000000364,-8.450000000000728,-13.600000000000364,-18.30000000000109,-16.799999999999272,-17.0,-13.549999999999272,-4.600000000000364,-0.8999999999996362,9.25,6.850000000000364,1.1000000000003638,1.75,1.2000000000007276,4.699999999998909,2.850000000000364,-0.9500000000007276,-4.75,-11.699999999998909,-13.200000000000728,-11.549999999999272,-15.850000000000364,-13.850000000000364,-14.149999999999636,-19.75,-20.25,-11.450000000000728,-6.649999999999636,-0.4000000000014552,0.5,6.100000000000364,12.899999999999636,14.25,10.25,8.350000000000364,10.699999999998909,10.450000000000728,5.899999999999636,2.5,0.1499999999996362,-5.050000000001091,-2.2999999999992724,3.5,8.799999999999272,11.100000000000364,7.600000000000364,-1.9500000000007276,-4.5,-8.349999999998545,-5.299999999999272,-5.799999999999272,-8.149999999999636,-13.100000000000364,-16.25,-15.100000000000364,-10.25,-0.3499999999985448,1.8500000000003638,5.75,2.850000000000364,-3.2000000000007276,-2.3000000000010914,-4.25,-2.149999999999636,0.2999999999992724,0.1000000000003638,-3.9500000000007276,-2.0500000000010914,1.3499999999985448,2.599999999998545,9.050000000001091,7.050000000001091,7.800000000001091,7.399999999999636,4.0,4.25,9.899999999999636,8.899999999999636,5.650000000001455,6.300000000001091,7.299999999999272,9.549999999999272,9.299999999999272,8.600000000000364,13.400000000001455,10.299999999999272,14.850000000000364,15.0,21.599999999998545,21.299999999999272,28.700000000000728,27.149999999999636,20.649999999999636,18.69999999999891,15.75,15.5,2.0,-0.6999999999989086,-4.449999999998909,-6.949999999998909,-15.300000000001091,-15.699999999998909,-5.149999999999636,10.850000000000364,11.599999999998545,6.650000000001455,9.299999999999272,8.699999999998909,3.0499999999992724,2.7999999999992724,1.2000000000007276,5.549999999999272,-0.5499999999992724,-13.850000000000364,-10.099999999998545,-3.75,-0.8999999999996362,1.5,1.9500000000007276,1.2000000000007276,-2.4500000000007276,-8.649999999999636,-9.050000000001091,-13.75,-19.900000000001455,-20.80000000000109,-26.100000000000364,-23.349999999998545,-21.149999999999636,-14.300000000001091,-7.0,-0.8000000000010914,1.5,6.100000000000364,6.600000000000364,5.649999999999636,0.9000000000014552,-2.4500000000007276,-5.550000000001091,-9.649999999999636,-9.899999999999636,-13.199999999998909,-12.399999999999636,-11.149999999999636,-11.949999999998909,-13.75,-0.9000000000014552,-2.2999999999992724,2.3000000000010914,0.4500000000007276,-2.649999999999636,-2.0,-4.299999999999272,-4.799999999999272,-5.650000000001455,-3.9499999999989086,-10.949999999998909,-14.0,-25.05000000000109,-26.100000000000364,-20.950000000000728,-22.0,-24.100000000000364,-23.100000000000364,-19.549999999999272,-17.899999999999636,-13.899999999999636,-3.5500000000010914,7.300000000001091,10.649999999999636,2.8000000000010914,2.350000000000364,5.899999999999636,3.0499999999992724,-0.5,3.75,0.1499999999996362,-7.149999999999636,-6.200000000000728,-8.100000000000364,-5.25,-4.950000000000728,-0.1000000000003638,2.75,3.899999999999636,0.09999999999854481,-2.9500000000007276,0.6499999999996362,5.549999999999272,-4.600000000000364,-16.75,-26.350000000000364,-26.349999999998545,-25.649999999999636,-19.69999999999891,-19.44999999999891,-16.25,-16.350000000000364,-38.099999999998545,-21.19999999999891,-5.5,3.0,-7.75,-6.25,-19.30000000000109,-17.80000000000109,-11.699999999998909,-12.799999999999272,4.849999999998545,-3.5,1.25,4.0,7.599999999998545,4.299999999999272,16.649999999999636,18.450000000000728,15.299999999999272,15.350000000000364,12.75,27.299999999999272,18.549999999999272,17.700000000000728,17.5,12.150000000001455,10.150000000001455,5.149999999999636,-0.6499999999996362,-4.899999999999636,-4.899999999999636,-18.69999999999891,-18.399999999999636,-19.0,-12.549999999999272,-5.800000000001091,-4.400000000001455,-1.1499999999996362,4.799999999999272,9.099999999998545,13.75,16.299999999999272,15.100000000000364,19.149999999999636,14.350000000000364,16.600000000000364,18.950000000000728,21.899999999999636,17.75,12.800000000001091,8.25,7.600000000000364,8.949999999998909,4.899999999999636,8.049999999999272,3.350000000000364,-3.149999999999636,-6.799999999999272,-5.350000000000364,-1.0,-0.5499999999992724,0.8999999999996362,2.2000000000007276,0.9500000000007276,-3.25,-4.050000000001091,-3.5500000000010914,-4.600000000000364,-4.299999999999272,-3.4500000000007276,-5.25,-5.100000000000364,-6.0,-8.850000000000364,-13.549999999999272,-10.849999999998545,-7.299999999999272,1.9500000000007276,1.5,0.050000000001091394,1.6499999999996362,0.25,2.5499999999992724,7.0,13.949999999998909,14.349999999998545,11.850000000000364,0.1999999999989086,-0.049999999999272404,0.3499999999985448,3.350000000000364,2.5500000000010914,2.0,8.399999999999636,7.600000000000364,3.850000000000364,0.7999999999992724,5.100000000000364,8.649999999999636,13.050000000001091,10.899999999999636,15.049999999999272,10.600000000000364,-0.5499999999992724,-4.600000000000364,-3.600000000000364,1.8500000000003638,4.5,3.4499999999989086,-10.450000000000728,-24.100000000000364,-17.450000000000728,-12.049999999999272,-5.399999999999636,1.25,2.5500000000010914,-0.3500000000003638,-6.399999999999636,-7.5,9.200000000000728,24.350000000000364,15.650000000001455,8.949999999998909,8.049999999999272,6.700000000000728,4.799999999999272,3.600000000000364,3.9499999999989086,-1.0499999999992724,-2.5500000000010914,6.850000000000364,8.5,12.5,8.200000000000728,6.399999999999636,7.450000000000728,6.25,8.450000000000728,12.149999999999636,9.350000000000364,1.3999999999996362,-2.5500000000010914,0.5500000000010914,3.399999999999636,5.350000000000364,5.449999999998909,7.549999999999272,6.5,4.25,-1.5499999999992724,-5.299999999999272,-0.3500000000003638,-1.8000000000010914,-2.0,-5.0,-9.849999999998545]}],                        {\"template\":{\"data\":{\"bar\":[{\"error_x\":{\"color\":\"#2a3f5f\"},\"error_y\":{\"color\":\"#2a3f5f\"},\"marker\":{\"line\":{\"color\":\"#E5ECF6\",\"width\":0.5},\"pattern\":{\"fillmode\":\"overlay\",\"size\":10,\"solidity\":0.2}},\"type\":\"bar\"}],\"barpolar\":[{\"marker\":{\"line\":{\"color\":\"#E5ECF6\",\"width\":0.5},\"pattern\":{\"fillmode\":\"overlay\",\"size\":10,\"solidity\":0.2}},\"type\":\"barpolar\"}],\"carpet\":[{\"aaxis\":{\"endlinecolor\":\"#2a3f5f\",\"gridcolor\":\"white\",\"linecolor\":\"white\",\"minorgridcolor\":\"white\",\"startlinecolor\":\"#2a3f5f\"},\"baxis\":{\"endlinecolor\":\"#2a3f5f\",\"gridcolor\":\"white\",\"linecolor\":\"white\",\"minorgridcolor\":\"white\",\"startlinecolor\":\"#2a3f5f\"},\"type\":\"carpet\"}],\"choropleth\":[{\"colorbar\":{\"outlinewidth\":0,\"ticks\":\"\"},\"type\":\"choropleth\"}],\"contour\":[{\"colorbar\":{\"outlinewidth\":0,\"ticks\":\"\"},\"colorscale\":[[0.0,\"#0d0887\"],[0.1111111111111111,\"#46039f\"],[0.2222222222222222,\"#7201a8\"],[0.3333333333333333,\"#9c179e\"],[0.4444444444444444,\"#bd3786\"],[0.5555555555555556,\"#d8576b\"],[0.6666666666666666,\"#ed7953\"],[0.7777777777777778,\"#fb9f3a\"],[0.8888888888888888,\"#fdca26\"],[1.0,\"#f0f921\"]],\"type\":\"contour\"}],\"contourcarpet\":[{\"colorbar\":{\"outlinewidth\":0,\"ticks\":\"\"},\"type\":\"contourcarpet\"}],\"heatmap\":[{\"colorbar\":{\"outlinewidth\":0,\"ticks\":\"\"},\"colorscale\":[[0.0,\"#0d0887\"],[0.1111111111111111,\"#46039f\"],[0.2222222222222222,\"#7201a8\"],[0.3333333333333333,\"#9c179e\"],[0.4444444444444444,\"#bd3786\"],[0.5555555555555556,\"#d8576b\"],[0.6666666666666666,\"#ed7953\"],[0.7777777777777778,\"#fb9f3a\"],[0.8888888888888888,\"#fdca26\"],[1.0,\"#f0f921\"]],\"type\":\"heatmap\"}],\"heatmapgl\":[{\"colorbar\":{\"outlinewidth\":0,\"ticks\":\"\"},\"colorscale\":[[0.0,\"#0d0887\"],[0.1111111111111111,\"#46039f\"],[0.2222222222222222,\"#7201a8\"],[0.3333333333333333,\"#9c179e\"],[0.4444444444444444,\"#bd3786\"],[0.5555555555555556,\"#d8576b\"],[0.6666666666666666,\"#ed7953\"],[0.7777777777777778,\"#fb9f3a\"],[0.8888888888888888,\"#fdca26\"],[1.0,\"#f0f921\"]],\"type\":\"heatmapgl\"}],\"histogram\":[{\"marker\":{\"pattern\":{\"fillmode\":\"overlay\",\"size\":10,\"solidity\":0.2}},\"type\":\"histogram\"}],\"histogram2d\":[{\"colorbar\":{\"outlinewidth\":0,\"ticks\":\"\"},\"colorscale\":[[0.0,\"#0d0887\"],[0.1111111111111111,\"#46039f\"],[0.2222222222222222,\"#7201a8\"],[0.3333333333333333,\"#9c179e\"],[0.4444444444444444,\"#bd3786\"],[0.5555555555555556,\"#d8576b\"],[0.6666666666666666,\"#ed7953\"],[0.7777777777777778,\"#fb9f3a\"],[0.8888888888888888,\"#fdca26\"],[1.0,\"#f0f921\"]],\"type\":\"histogram2d\"}],\"histogram2dcontour\":[{\"colorbar\":{\"outlinewidth\":0,\"ticks\":\"\"},\"colorscale\":[[0.0,\"#0d0887\"],[0.1111111111111111,\"#46039f\"],[0.2222222222222222,\"#7201a8\"],[0.3333333333333333,\"#9c179e\"],[0.4444444444444444,\"#bd3786\"],[0.5555555555555556,\"#d8576b\"],[0.6666666666666666,\"#ed7953\"],[0.7777777777777778,\"#fb9f3a\"],[0.8888888888888888,\"#fdca26\"],[1.0,\"#f0f921\"]],\"type\":\"histogram2dcontour\"}],\"mesh3d\":[{\"colorbar\":{\"outlinewidth\":0,\"ticks\":\"\"},\"type\":\"mesh3d\"}],\"parcoords\":[{\"line\":{\"colorbar\":{\"outlinewidth\":0,\"ticks\":\"\"}},\"type\":\"parcoords\"}],\"pie\":[{\"automargin\":true,\"type\":\"pie\"}],\"scatter\":[{\"marker\":{\"colorbar\":{\"outlinewidth\":0,\"ticks\":\"\"}},\"type\":\"scatter\"}],\"scatter3d\":[{\"line\":{\"colorbar\":{\"outlinewidth\":0,\"ticks\":\"\"}},\"marker\":{\"colorbar\":{\"outlinewidth\":0,\"ticks\":\"\"}},\"type\":\"scatter3d\"}],\"scattercarpet\":[{\"marker\":{\"colorbar\":{\"outlinewidth\":0,\"ticks\":\"\"}},\"type\":\"scattercarpet\"}],\"scattergeo\":[{\"marker\":{\"colorbar\":{\"outlinewidth\":0,\"ticks\":\"\"}},\"type\":\"scattergeo\"}],\"scattergl\":[{\"marker\":{\"colorbar\":{\"outlinewidth\":0,\"ticks\":\"\"}},\"type\":\"scattergl\"}],\"scattermapbox\":[{\"marker\":{\"colorbar\":{\"outlinewidth\":0,\"ticks\":\"\"}},\"type\":\"scattermapbox\"}],\"scatterpolar\":[{\"marker\":{\"colorbar\":{\"outlinewidth\":0,\"ticks\":\"\"}},\"type\":\"scatterpolar\"}],\"scatterpolargl\":[{\"marker\":{\"colorbar\":{\"outlinewidth\":0,\"ticks\":\"\"}},\"type\":\"scatterpolargl\"}],\"scatterternary\":[{\"marker\":{\"colorbar\":{\"outlinewidth\":0,\"ticks\":\"\"}},\"type\":\"scatterternary\"}],\"surface\":[{\"colorbar\":{\"outlinewidth\":0,\"ticks\":\"\"},\"colorscale\":[[0.0,\"#0d0887\"],[0.1111111111111111,\"#46039f\"],[0.2222222222222222,\"#7201a8\"],[0.3333333333333333,\"#9c179e\"],[0.4444444444444444,\"#bd3786\"],[0.5555555555555556,\"#d8576b\"],[0.6666666666666666,\"#ed7953\"],[0.7777777777777778,\"#fb9f3a\"],[0.8888888888888888,\"#fdca26\"],[1.0,\"#f0f921\"]],\"type\":\"surface\"}],\"table\":[{\"cells\":{\"fill\":{\"color\":\"#EBF0F8\"},\"line\":{\"color\":\"white\"}},\"header\":{\"fill\":{\"color\":\"#C8D4E3\"},\"line\":{\"color\":\"white\"}},\"type\":\"table\"}]},\"layout\":{\"annotationdefaults\":{\"arrowcolor\":\"#2a3f5f\",\"arrowhead\":0,\"arrowwidth\":1},\"autotypenumbers\":\"strict\",\"coloraxis\":{\"colorbar\":{\"outlinewidth\":0,\"ticks\":\"\"}},\"colorscale\":{\"diverging\":[[0,\"#8e0152\"],[0.1,\"#c51b7d\"],[0.2,\"#de77ae\"],[0.3,\"#f1b6da\"],[0.4,\"#fde0ef\"],[0.5,\"#f7f7f7\"],[0.6,\"#e6f5d0\"],[0.7,\"#b8e186\"],[0.8,\"#7fbc41\"],[0.9,\"#4d9221\"],[1,\"#276419\"]],\"sequential\":[[0.0,\"#0d0887\"],[0.1111111111111111,\"#46039f\"],[0.2222222222222222,\"#7201a8\"],[0.3333333333333333,\"#9c179e\"],[0.4444444444444444,\"#bd3786\"],[0.5555555555555556,\"#d8576b\"],[0.6666666666666666,\"#ed7953\"],[0.7777777777777778,\"#fb9f3a\"],[0.8888888888888888,\"#fdca26\"],[1.0,\"#f0f921\"]],\"sequentialminus\":[[0.0,\"#0d0887\"],[0.1111111111111111,\"#46039f\"],[0.2222222222222222,\"#7201a8\"],[0.3333333333333333,\"#9c179e\"],[0.4444444444444444,\"#bd3786\"],[0.5555555555555556,\"#d8576b\"],[0.6666666666666666,\"#ed7953\"],[0.7777777777777778,\"#fb9f3a\"],[0.8888888888888888,\"#fdca26\"],[1.0,\"#f0f921\"]]},\"colorway\":[\"#636efa\",\"#EF553B\",\"#00cc96\",\"#ab63fa\",\"#FFA15A\",\"#19d3f3\",\"#FF6692\",\"#B6E880\",\"#FF97FF\",\"#FECB52\"],\"font\":{\"color\":\"#2a3f5f\"},\"geo\":{\"bgcolor\":\"white\",\"lakecolor\":\"white\",\"landcolor\":\"#E5ECF6\",\"showlakes\":true,\"showland\":true,\"subunitcolor\":\"white\"},\"hoverlabel\":{\"align\":\"left\"},\"hovermode\":\"closest\",\"mapbox\":{\"style\":\"light\"},\"paper_bgcolor\":\"white\",\"plot_bgcolor\":\"#E5ECF6\",\"polar\":{\"angularaxis\":{\"gridcolor\":\"white\",\"linecolor\":\"white\",\"ticks\":\"\"},\"bgcolor\":\"#E5ECF6\",\"radialaxis\":{\"gridcolor\":\"white\",\"linecolor\":\"white\",\"ticks\":\"\"}},\"scene\":{\"xaxis\":{\"backgroundcolor\":\"#E5ECF6\",\"gridcolor\":\"white\",\"gridwidth\":2,\"linecolor\":\"white\",\"showbackground\":true,\"ticks\":\"\",\"zerolinecolor\":\"white\"},\"yaxis\":{\"backgroundcolor\":\"#E5ECF6\",\"gridcolor\":\"white\",\"gridwidth\":2,\"linecolor\":\"white\",\"showbackground\":true,\"ticks\":\"\",\"zerolinecolor\":\"white\"},\"zaxis\":{\"backgroundcolor\":\"#E5ECF6\",\"gridcolor\":\"white\",\"gridwidth\":2,\"linecolor\":\"white\",\"showbackground\":true,\"ticks\":\"\",\"zerolinecolor\":\"white\"}},\"shapedefaults\":{\"line\":{\"color\":\"#2a3f5f\"}},\"ternary\":{\"aaxis\":{\"gridcolor\":\"white\",\"linecolor\":\"white\",\"ticks\":\"\"},\"baxis\":{\"gridcolor\":\"white\",\"linecolor\":\"white\",\"ticks\":\"\"},\"bgcolor\":\"#E5ECF6\",\"caxis\":{\"gridcolor\":\"white\",\"linecolor\":\"white\",\"ticks\":\"\"}},\"title\":{\"x\":0.05},\"xaxis\":{\"automargin\":true,\"gridcolor\":\"white\",\"linecolor\":\"white\",\"ticks\":\"\",\"title\":{\"standoff\":15},\"zerolinecolor\":\"white\",\"zerolinewidth\":2},\"yaxis\":{\"automargin\":true,\"gridcolor\":\"white\",\"linecolor\":\"white\",\"ticks\":\"\",\"title\":{\"standoff\":15},\"zerolinecolor\":\"white\",\"zerolinewidth\":2}}}},                        {\"responsive\": true}                    ).then(function(){\n",
       "                            \n",
       "var gd = document.getElementById('dbdf576a-5c88-401d-9690-aaee74c381fe');\n",
       "var x = new MutationObserver(function (mutations, observer) {{\n",
       "        var display = window.getComputedStyle(gd).display;\n",
       "        if (!display || display === 'none') {{\n",
       "            console.log([gd, 'removed!']);\n",
       "            Plotly.purge(gd);\n",
       "            observer.disconnect();\n",
       "        }}\n",
       "}});\n",
       "\n",
       "// Listen for the removal of the full notebook cells\n",
       "var notebookContainer = gd.closest('#notebook-container');\n",
       "if (notebookContainer) {{\n",
       "    x.observe(notebookContainer, {childList: true});\n",
       "}}\n",
       "\n",
       "// Listen for the clearing of the current output cell\n",
       "var outputEl = gd.closest('.output');\n",
       "if (outputEl) {{\n",
       "    x.observe(outputEl, {childList: true});\n",
       "}}\n",
       "\n",
       "                        })                };                });            </script>        </div>"
      ]
     },
     "metadata": {},
     "output_type": "display_data"
    }
   ],
   "source": [
    "# fig.add_trace(go.Line(x=sample['Time'],y=sample['rm30'],))\n",
    "# fig.add_trace(go.Line(x=sample['Time'],y=sample['rm90'],))\n",
    "# fig.add_trace(go.Line(x=sample['Time'],y=sample['rm60'],))\n",
    "fig.add_trace(go.Line(x=sample['Time'],y=sample['MOM'],))\n",
    "fig.show()"
   ]
  },
  {
   "cell_type": "code",
   "execution_count": 45,
   "id": "377d6a36",
   "metadata": {},
   "outputs": [
    {
     "data": {
      "text/html": [
       "<div>\n",
       "<style scoped>\n",
       "    .dataframe tbody tr th:only-of-type {\n",
       "        vertical-align: middle;\n",
       "    }\n",
       "\n",
       "    .dataframe tbody tr th {\n",
       "        vertical-align: top;\n",
       "    }\n",
       "\n",
       "    .dataframe thead th {\n",
       "        text-align: right;\n",
       "    }\n",
       "</style>\n",
       "<table border=\"1\" class=\"dataframe\">\n",
       "  <thead>\n",
       "    <tr style=\"text-align: right;\">\n",
       "      <th></th>\n",
       "      <th>Instrument</th>\n",
       "      <th>Date</th>\n",
       "      <th>Time</th>\n",
       "      <th>Open</th>\n",
       "      <th>High</th>\n",
       "      <th>Low</th>\n",
       "      <th>Close</th>\n",
       "      <th>mean</th>\n",
       "      <th>rm30</th>\n",
       "      <th>rm90</th>\n",
       "      <th>rm60</th>\n",
       "      <th>MOM</th>\n",
       "    </tr>\n",
       "  </thead>\n",
       "  <tbody>\n",
       "    <tr>\n",
       "      <th>245154</th>\n",
       "      <td>BANKNIFTY</td>\n",
       "      <td>20121003</td>\n",
       "      <td>15:26</td>\n",
       "      <td>11415.55</td>\n",
       "      <td>11420.05</td>\n",
       "      <td>11415.55</td>\n",
       "      <td>11419.30</td>\n",
       "      <td>11417.425</td>\n",
       "      <td>11414.669167</td>\n",
       "      <td>11405.195000</td>\n",
       "      <td>11409.317917</td>\n",
       "      <td>-0.35</td>\n",
       "    </tr>\n",
       "    <tr>\n",
       "      <th>245155</th>\n",
       "      <td>BANKNIFTY</td>\n",
       "      <td>20121003</td>\n",
       "      <td>15:27</td>\n",
       "      <td>11420.40</td>\n",
       "      <td>11420.40</td>\n",
       "      <td>11417.20</td>\n",
       "      <td>11419.40</td>\n",
       "      <td>11419.900</td>\n",
       "      <td>11415.107500</td>\n",
       "      <td>11405.398056</td>\n",
       "      <td>11409.649583</td>\n",
       "      <td>-1.80</td>\n",
       "    </tr>\n",
       "    <tr>\n",
       "      <th>245156</th>\n",
       "      <td>BANKNIFTY</td>\n",
       "      <td>20121003</td>\n",
       "      <td>15:28</td>\n",
       "      <td>11418.65</td>\n",
       "      <td>11419.85</td>\n",
       "      <td>11415.75</td>\n",
       "      <td>11417.55</td>\n",
       "      <td>11418.100</td>\n",
       "      <td>11415.403333</td>\n",
       "      <td>11405.586667</td>\n",
       "      <td>11409.847917</td>\n",
       "      <td>-2.00</td>\n",
       "    </tr>\n",
       "    <tr>\n",
       "      <th>245157</th>\n",
       "      <td>BANKNIFTY</td>\n",
       "      <td>20121003</td>\n",
       "      <td>15:29</td>\n",
       "      <td>11416.45</td>\n",
       "      <td>11418.00</td>\n",
       "      <td>11411.60</td>\n",
       "      <td>11411.80</td>\n",
       "      <td>11414.125</td>\n",
       "      <td>11415.539167</td>\n",
       "      <td>11405.753333</td>\n",
       "      <td>11409.989167</td>\n",
       "      <td>-5.00</td>\n",
       "    </tr>\n",
       "    <tr>\n",
       "      <th>245158</th>\n",
       "      <td>BANKNIFTY</td>\n",
       "      <td>20121003</td>\n",
       "      <td>15:30</td>\n",
       "      <td>11411.05</td>\n",
       "      <td>11412.70</td>\n",
       "      <td>11404.75</td>\n",
       "      <td>11406.20</td>\n",
       "      <td>11408.625</td>\n",
       "      <td>11415.520833</td>\n",
       "      <td>11405.878056</td>\n",
       "      <td>11410.110000</td>\n",
       "      <td>-9.85</td>\n",
       "    </tr>\n",
       "  </tbody>\n",
       "</table>\n",
       "</div>"
      ],
      "text/plain": [
       "       Instrument      Date   Time      Open      High       Low     Close  \\\n",
       "245154  BANKNIFTY  20121003  15:26  11415.55  11420.05  11415.55  11419.30   \n",
       "245155  BANKNIFTY  20121003  15:27  11420.40  11420.40  11417.20  11419.40   \n",
       "245156  BANKNIFTY  20121003  15:28  11418.65  11419.85  11415.75  11417.55   \n",
       "245157  BANKNIFTY  20121003  15:29  11416.45  11418.00  11411.60  11411.80   \n",
       "245158  BANKNIFTY  20121003  15:30  11411.05  11412.70  11404.75  11406.20   \n",
       "\n",
       "             mean          rm30          rm90          rm60   MOM  \n",
       "245154  11417.425  11414.669167  11405.195000  11409.317917 -0.35  \n",
       "245155  11419.900  11415.107500  11405.398056  11409.649583 -1.80  \n",
       "245156  11418.100  11415.403333  11405.586667  11409.847917 -2.00  \n",
       "245157  11414.125  11415.539167  11405.753333  11409.989167 -5.00  \n",
       "245158  11408.625  11415.520833  11405.878056  11410.110000 -9.85  "
      ]
     },
     "execution_count": 45,
     "metadata": {},
     "output_type": "execute_result"
    }
   ],
   "source": [
    "sample.tail()"
   ]
  },
  {
   "cell_type": "code",
   "execution_count": 33,
   "id": "2a355b90",
   "metadata": {},
   "outputs": [
    {
     "data": {
      "text/plain": [
       "['__class__',\n",
       " '__contains__',\n",
       " '__delattr__',\n",
       " '__delitem__',\n",
       " '__dict__',\n",
       " '__dir__',\n",
       " '__doc__',\n",
       " '__eq__',\n",
       " '__format__',\n",
       " '__ge__',\n",
       " '__getattribute__',\n",
       " '__getitem__',\n",
       " '__gt__',\n",
       " '__hash__',\n",
       " '__init__',\n",
       " '__init_subclass__',\n",
       " '__iter__',\n",
       " '__le__',\n",
       " '__len__',\n",
       " '__lt__',\n",
       " '__module__',\n",
       " '__ne__',\n",
       " '__new__',\n",
       " '__reduce__',\n",
       " '__reduce_ex__',\n",
       " '__repr__',\n",
       " '__reversed__',\n",
       " '__setattr__',\n",
       " '__setitem__',\n",
       " '__sizeof__',\n",
       " '__slotnames__',\n",
       " '__str__',\n",
       " '__subclasshook__',\n",
       " '__weakref__',\n",
       " 'clear',\n",
       " 'copy',\n",
       " 'fromkeys',\n",
       " 'get',\n",
       " 'items',\n",
       " 'keys',\n",
       " 'pop',\n",
       " 'popitem',\n",
       " 'setdefault',\n",
       " 'update',\n",
       " 'values']"
      ]
     },
     "execution_count": 33,
     "metadata": {},
     "output_type": "execute_result"
    }
   ],
   "source": [
    "dir(go.Line)"
   ]
  },
  {
   "cell_type": "code",
   "execution_count": 38,
   "id": "30f62a91",
   "metadata": {},
   "outputs": [
    {
     "data": {
      "text/html": [
       "<div>\n",
       "<style scoped>\n",
       "    .dataframe tbody tr th:only-of-type {\n",
       "        vertical-align: middle;\n",
       "    }\n",
       "\n",
       "    .dataframe tbody tr th {\n",
       "        vertical-align: top;\n",
       "    }\n",
       "\n",
       "    .dataframe thead th {\n",
       "        text-align: right;\n",
       "    }\n",
       "</style>\n",
       "<table border=\"1\" class=\"dataframe\">\n",
       "  <thead>\n",
       "    <tr style=\"text-align: right;\">\n",
       "      <th></th>\n",
       "      <th>Instrument</th>\n",
       "      <th>Date</th>\n",
       "      <th>Time</th>\n",
       "      <th>Open</th>\n",
       "      <th>High</th>\n",
       "      <th>Low</th>\n",
       "      <th>Close</th>\n",
       "      <th>morning_star</th>\n",
       "      <th>ev_star</th>\n",
       "    </tr>\n",
       "  </thead>\n",
       "  <tbody>\n",
       "    <tr>\n",
       "      <th>44</th>\n",
       "      <td>BANKNIFTY</td>\n",
       "      <td>20100302</td>\n",
       "      <td>09:45</td>\n",
       "      <td>8878.15</td>\n",
       "      <td>8878.15</td>\n",
       "      <td>8874.20</td>\n",
       "      <td>8874.20</td>\n",
       "      <td>0</td>\n",
       "      <td>-100</td>\n",
       "    </tr>\n",
       "    <tr>\n",
       "      <th>257</th>\n",
       "      <td>BANKNIFTY</td>\n",
       "      <td>20100302</td>\n",
       "      <td>13:18</td>\n",
       "      <td>8900.45</td>\n",
       "      <td>8900.90</td>\n",
       "      <td>8896.80</td>\n",
       "      <td>8896.80</td>\n",
       "      <td>0</td>\n",
       "      <td>-100</td>\n",
       "    </tr>\n",
       "    <tr>\n",
       "      <th>482</th>\n",
       "      <td>BANKNIFTY</td>\n",
       "      <td>20100303</td>\n",
       "      <td>10:33</td>\n",
       "      <td>9026.00</td>\n",
       "      <td>9026.00</td>\n",
       "      <td>9022.00</td>\n",
       "      <td>9022.00</td>\n",
       "      <td>0</td>\n",
       "      <td>-100</td>\n",
       "    </tr>\n",
       "    <tr>\n",
       "      <th>1219</th>\n",
       "      <td>BANKNIFTY</td>\n",
       "      <td>20100305</td>\n",
       "      <td>09:50</td>\n",
       "      <td>9070.70</td>\n",
       "      <td>9072.65</td>\n",
       "      <td>9069.25</td>\n",
       "      <td>9069.25</td>\n",
       "      <td>0</td>\n",
       "      <td>-100</td>\n",
       "    </tr>\n",
       "    <tr>\n",
       "      <th>1328</th>\n",
       "      <td>BANKNIFTY</td>\n",
       "      <td>20100305</td>\n",
       "      <td>11:39</td>\n",
       "      <td>9048.10</td>\n",
       "      <td>9048.50</td>\n",
       "      <td>9045.95</td>\n",
       "      <td>9045.95</td>\n",
       "      <td>0</td>\n",
       "      <td>-100</td>\n",
       "    </tr>\n",
       "    <tr>\n",
       "      <th>...</th>\n",
       "      <td>...</td>\n",
       "      <td>...</td>\n",
       "      <td>...</td>\n",
       "      <td>...</td>\n",
       "      <td>...</td>\n",
       "      <td>...</td>\n",
       "      <td>...</td>\n",
       "      <td>...</td>\n",
       "      <td>...</td>\n",
       "    </tr>\n",
       "    <tr>\n",
       "      <th>1007014</th>\n",
       "      <td>BANKNIFTY</td>\n",
       "      <td>20201127</td>\n",
       "      <td>10:08</td>\n",
       "      <td>29581.80</td>\n",
       "      <td>29586.05</td>\n",
       "      <td>29549.75</td>\n",
       "      <td>29549.75</td>\n",
       "      <td>0</td>\n",
       "      <td>-100</td>\n",
       "    </tr>\n",
       "    <tr>\n",
       "      <th>1007152</th>\n",
       "      <td>BANKNIFTY</td>\n",
       "      <td>20201127</td>\n",
       "      <td>12:26</td>\n",
       "      <td>29612.25</td>\n",
       "      <td>29612.30</td>\n",
       "      <td>29584.80</td>\n",
       "      <td>29591.45</td>\n",
       "      <td>0</td>\n",
       "      <td>-100</td>\n",
       "    </tr>\n",
       "    <tr>\n",
       "      <th>1007163</th>\n",
       "      <td>BANKNIFTY</td>\n",
       "      <td>20201127</td>\n",
       "      <td>12:37</td>\n",
       "      <td>29673.85</td>\n",
       "      <td>29673.85</td>\n",
       "      <td>29646.20</td>\n",
       "      <td>29651.10</td>\n",
       "      <td>0</td>\n",
       "      <td>-100</td>\n",
       "    </tr>\n",
       "    <tr>\n",
       "      <th>1007192</th>\n",
       "      <td>BANKNIFTY</td>\n",
       "      <td>20201127</td>\n",
       "      <td>13:06</td>\n",
       "      <td>29624.70</td>\n",
       "      <td>29624.75</td>\n",
       "      <td>29600.75</td>\n",
       "      <td>29603.40</td>\n",
       "      <td>0</td>\n",
       "      <td>-100</td>\n",
       "    </tr>\n",
       "    <tr>\n",
       "      <th>1007229</th>\n",
       "      <td>BANKNIFTY</td>\n",
       "      <td>20201127</td>\n",
       "      <td>13:43</td>\n",
       "      <td>29604.90</td>\n",
       "      <td>29615.80</td>\n",
       "      <td>29579.55</td>\n",
       "      <td>29584.70</td>\n",
       "      <td>0</td>\n",
       "      <td>-100</td>\n",
       "    </tr>\n",
       "  </tbody>\n",
       "</table>\n",
       "<p>5607 rows × 9 columns</p>\n",
       "</div>"
      ],
      "text/plain": [
       "        Instrument      Date   Time      Open      High       Low     Close  \\\n",
       "44       BANKNIFTY  20100302  09:45   8878.15   8878.15   8874.20   8874.20   \n",
       "257      BANKNIFTY  20100302  13:18   8900.45   8900.90   8896.80   8896.80   \n",
       "482      BANKNIFTY  20100303  10:33   9026.00   9026.00   9022.00   9022.00   \n",
       "1219     BANKNIFTY  20100305  09:50   9070.70   9072.65   9069.25   9069.25   \n",
       "1328     BANKNIFTY  20100305  11:39   9048.10   9048.50   9045.95   9045.95   \n",
       "...            ...       ...    ...       ...       ...       ...       ...   \n",
       "1007014  BANKNIFTY  20201127  10:08  29581.80  29586.05  29549.75  29549.75   \n",
       "1007152  BANKNIFTY  20201127  12:26  29612.25  29612.30  29584.80  29591.45   \n",
       "1007163  BANKNIFTY  20201127  12:37  29673.85  29673.85  29646.20  29651.10   \n",
       "1007192  BANKNIFTY  20201127  13:06  29624.70  29624.75  29600.75  29603.40   \n",
       "1007229  BANKNIFTY  20201127  13:43  29604.90  29615.80  29579.55  29584.70   \n",
       "\n",
       "         morning_star  ev_star  \n",
       "44                  0     -100  \n",
       "257                 0     -100  \n",
       "482                 0     -100  \n",
       "1219                0     -100  \n",
       "1328                0     -100  \n",
       "...               ...      ...  \n",
       "1007014             0     -100  \n",
       "1007152             0     -100  \n",
       "1007163             0     -100  \n",
       "1007192             0     -100  \n",
       "1007229             0     -100  \n",
       "\n",
       "[5607 rows x 9 columns]"
      ]
     },
     "execution_count": 38,
     "metadata": {},
     "output_type": "execute_result"
    }
   ],
   "source": [
    "bnf[bnf['ev_star']!=0]"
   ]
  },
  {
   "cell_type": "code",
   "execution_count": 45,
   "id": "29488fdc",
   "metadata": {},
   "outputs": [],
   "source": [
    "sample = bnf[bnf['Date']==20121003]"
   ]
  },
  {
   "cell_type": "code",
   "execution_count": 55,
   "id": "2bddb87f",
   "metadata": {},
   "outputs": [],
   "source": [
    "fig = candles(bnf,20121003)"
   ]
  },
  {
   "cell_type": "code",
   "execution_count": 57,
   "id": "40ffdbae",
   "metadata": {},
   "outputs": [
    {
     "name": "stderr",
     "output_type": "stream",
     "text": [
      "C:\\Users\\yboko\\anaconda3\\lib\\site-packages\\plotly\\graph_objs\\_deprecations.py:378: DeprecationWarning:\n",
      "\n",
      "plotly.graph_objs.Line is deprecated.\n",
      "Please replace it with one of the following more specific types\n",
      "  - plotly.graph_objs.scatter.Line\n",
      "  - plotly.graph_objs.layout.shape.Line\n",
      "  - etc.\n",
      "\n",
      "\n"
     ]
    },
    {
     "data": {
      "application/vnd.plotly.v1+json": {
       "config": {
        "plotlyServerURL": "https://plot.ly"
       },
       "data": [
        {
         "close": [
          11440.2,
          11464.55,
          11463.8,
          11471.85,
          11467.25,
          11462.15,
          11442.4,
          11431.6,
          11433.15,
          11416.15,
          11433.75,
          11445.45,
          11431.8,
          11432.75,
          11438.1,
          11443.7,
          11441.55,
          11439.15,
          11432.5,
          11434.1,
          11426.05,
          11424.55,
          11424.65,
          11423.8,
          11423.65,
          11423.85,
          11424.9,
          11423.3,
          11426.2,
          11427.05,
          11432.9,
          11431.1,
          11430.35,
          11425.55,
          11425.25,
          11425.65,
          11428.3,
          11424.95,
          11425,
          11421.55,
          11420.3,
          11419.2,
          11413.05,
          11404.95,
          11409.65,
          11412.45,
          11409.05,
          11405.55,
          11413.5,
          11418.45,
          11420.2,
          11421.5,
          11423.15,
          11424.8,
          11420.65,
          11418.95,
          11418.5,
          11418.25,
          11424.25,
          11422.05,
          11421.75,
          11420.2,
          11420.9,
          11423.05,
          11430.15,
          11430.35,
          11425.6,
          11421.3,
          11419,
          11415.65,
          11412.7,
          11412.95,
          11415,
          11415.2,
          11413.05,
          11413.35,
          11414.7,
          11416,
          11421.1,
          11420.8,
          11418.95,
          11409.75,
          11410.75,
          11412.05,
          11412.25,
          11411.35,
          11415.3,
          11415.15,
          11418,
          11418.8,
          11421.35,
          11421.4,
          11418.7,
          11418.55,
          11420.3,
          11419.1,
          11417.8,
          11420.65,
          11427.9,
          11427.8,
          11426.15,
          11426.75,
          11426.5,
          11427.35,
          11427.85,
          11429.1,
          11430.8,
          11431.1,
          11442.7,
          11440.6,
          11449.3,
          11448,
          11457.2,
          11449.95,
          11447.95,
          11446.6,
          11445.2,
          11442.75,
          11441.8,
          11442.5,
          11444.75,
          11441.6,
          11440.2,
          11440.95,
          11444.25,
          11458.65,
          11449.7,
          11453.45,
          11449.4,
          11448.45,
          11443.45,
          11442.8,
          11443.1,
          11444.65,
          11444.6,
          11444.8,
          11449.95,
          11446.4,
          11452.5,
          11449.75,
          11445.25,
          11439.4,
          11437.9,
          11435.45,
          11430.75,
          11429.1,
          11429.85,
          11427.5,
          11426.4,
          11429.7,
          11427.1,
          11431.2,
          11433.65,
          11434.95,
          11436.55,
          11436.7,
          11434.45,
          11426.65,
          11427.8,
          11418.65,
          11420.55,
          11422.4,
          11423.1,
          11423.4,
          11424.85,
          11424.05,
          11420.25,
          11419.4,
          11425.35,
          11424.05,
          11420.7,
          11421.8,
          11419.2,
          11421.25,
          11419.3,
          11416.7,
          11416.8,
          11416.1,
          11410.55,
          11407.7,
          11396.35,
          11393.2,
          11397.7,
          11395.8,
          11394.85,
          11395.7,
          11397.6,
          11398.95,
          11402.2,
          11407.15,
          11406.7,
          11402.05,
          11401.15,
          11400.4,
          11401,
          11398.2,
          11397.45,
          11400.9,
          11398,
          11400.25,
          11400.4,
          11397.4,
          11394.4,
          11396.45,
          11402.3,
          11402.4,
          11401.5,
          11399.3,
          11398.6,
          11399.95,
          11400.25,
          11377.9,
          11372.05,
          11368.5,
          11375.85,
          11378.25,
          11380.8,
          11380.5,
          11382.3,
          11368.05,
          11368.95,
          11373.5,
          11375.45,
          11368.3,
          11367.4,
          11362.45,
          11361.9,
          11365.55,
          11370.3,
          11371.75,
          11365,
          11370.1,
          11376.7,
          11375.65,
          11374.6,
          11376.3,
          11380.55,
          11383.7,
          11386.75,
          11383.05,
          11386.35,
          11393.7,
          11393,
          11394.45,
          11387.6,
          11388.45,
          11389.3,
          11385.45,
          11382.1,
          11381.5,
          11379.5,
          11374.85,
          11375.8,
          11367.7,
          11380.65,
          11381.5,
          11385.7,
          11387.05,
          11390.75,
          11389.65,
          11395.4,
          11387,
          11391.6,
          11395.75,
          11393.5,
          11399.05,
          11405.25,
          11409.9,
          11404.3,
          11402.1,
          11400.6,
          11400.5,
          11398.3,
          11400.65,
          11403.15,
          11400.8,
          11400.4,
          11403.1,
          11402.8,
          11401.15,
          11399.8,
          11403.5,
          11400.8,
          11400.65,
          11398.45,
          11396.25,
          11396.8,
          11395.35,
          11398.7,
          11397.45,
          11396.1,
          11397,
          11396.45,
          11381.2,
          11383.95,
          11387.7,
          11391.05,
          11400.45,
          11399.85,
          11398.85,
          11398.05,
          11398.2,
          11399.65,
          11397.75,
          11400.3,
          11399.9,
          11400.9,
          11398.15,
          11397.05,
          11397.6,
          11399.45,
          11401.2,
          11400.85,
          11408.05,
          11403.4,
          11397.3,
          11401.45,
          11405.55,
          11406.45,
          11412.45,
          11413.75,
          11413.95,
          11408.7,
          11402.95,
          11401.15,
          11400.4,
          11402.95,
          11410.25,
          11410.35,
          11388.45,
          11389.65,
          11398.8,
          11400.2,
          11401.95,
          11403,
          11398.5,
          11402.45,
          11402.7,
          11405.05,
          11411.85,
          11412.95,
          11406.8,
          11406.4,
          11410.25,
          11410.6,
          11408.7,
          11406.45,
          11403.35,
          11402.8,
          11409.3,
          11417.5,
          11420.95,
          11415.15,
          11418.45,
          11413.95,
          11415.9,
          11415.25,
          11413.05,
          11414.15,
          11418.65,
          11418.5,
          11420.4,
          11417.55,
          11421.85,
          11421.3,
          11421.75,
          11420.1,
          11418.9,
          11414.75,
          11412.6,
          11416.5,
          11419.3,
          11419.4,
          11417.55,
          11411.8,
          11406.2
         ],
         "high": [
          11440.2,
          11465.8,
          11466.15,
          11471.85,
          11470.95,
          11467.15,
          11457,
          11441.95,
          11437.3,
          11431.7,
          11433.75,
          11445.45,
          11444.65,
          11435.95,
          11438.1,
          11443.7,
          11442.5,
          11443,
          11439.75,
          11434.45,
          11433.8,
          11424.95,
          11424.8,
          11427.5,
          11424.5,
          11425.4,
          11425.7,
          11426,
          11426.2,
          11429.85,
          11432.9,
          11434.2,
          11431.65,
          11428.6,
          11426.25,
          11426.6,
          11430.4,
          11428.85,
          11425.25,
          11425.1,
          11421.2,
          11421,
          11420.1,
          11412.75,
          11412.4,
          11412.45,
          11410.65,
          11408.6,
          11413.8,
          11418.45,
          11420.8,
          11421.5,
          11426.2,
          11425.65,
          11426.65,
          11422.7,
          11419,
          11419.3,
          11424.25,
          11424.35,
          11423.3,
          11421.65,
          11421.15,
          11423.35,
          11430.15,
          11431.5,
          11430.1,
          11426.9,
          11422.3,
          11419.85,
          11414.95,
          11416.35,
          11415.35,
          11415.2,
          11417.05,
          11415.25,
          11415,
          11416.65,
          11421.95,
          11421.7,
          11420.7,
          11419.2,
          11412.15,
          11412.9,
          11412.8,
          11413.1,
          11415.3,
          11416.75,
          11418,
          11419.65,
          11422.05,
          11421.8,
          11421.2,
          11419.95,
          11420.6,
          11420.5,
          11419.3,
          11421,
          11427.9,
          11428.55,
          11427.7,
          11428.1,
          11428.5,
          11429.5,
          11429.9,
          11429.1,
          11432.7,
          11431.3,
          11442.75,
          11443.55,
          11449.3,
          11449.4,
          11457.2,
          11456.65,
          11450.55,
          11447.8,
          11448.45,
          11446.8,
          11444.75,
          11442.85,
          11444.85,
          11442.45,
          11441.9,
          11440.95,
          11445.4,
          11458.65,
          11460.05,
          11453.45,
          11454.05,
          11451.55,
          11447.9,
          11445.25,
          11443.1,
          11446.5,
          11444.85,
          11444.8,
          11449.95,
          11449.7,
          11453.15,
          11453.05,
          11449.85,
          11446.45,
          11440.65,
          11437.85,
          11435.8,
          11431.05,
          11430.05,
          11428.9,
          11427.05,
          11429.7,
          11428.7,
          11432.15,
          11433.65,
          11437.05,
          11437.3,
          11437.15,
          11436.65,
          11434.55,
          11427.95,
          11427.25,
          11423.15,
          11422.5,
          11423.75,
          11423.85,
          11424.9,
          11426,
          11424.7,
          11420.8,
          11427.05,
          11424.95,
          11425.45,
          11422.95,
          11421.1,
          11421.85,
          11420.6,
          11421.2,
          11419.05,
          11416.85,
          11416.1,
          11410.95,
          11400.4,
          11396.85,
          11400.15,
          11399.85,
          11396.5,
          11398.1,
          11399.5,
          11398.95,
          11402.2,
          11407.4,
          11407.7,
          11407.5,
          11402.95,
          11402.2,
          11402.4,
          11401.15,
          11399,
          11402.7,
          11402.35,
          11400.25,
          11401.5,
          11399.4,
          11397.7,
          11397.25,
          11402.3,
          11403.9,
          11402.9,
          11402.8,
          11399.4,
          11400.9,
          11407.05,
          11394.8,
          11380.95,
          11370.9,
          11375.95,
          11378.25,
          11383.2,
          11383.35,
          11383.15,
          11384.55,
          11368.95,
          11373.6,
          11375.45,
          11373.9,
          11368.2,
          11372,
          11363.9,
          11365.55,
          11371.45,
          11371.75,
          11373.8,
          11370.1,
          11376.7,
          11377.9,
          11375.8,
          11376.3,
          11380.55,
          11384,
          11386.75,
          11387.1,
          11386.55,
          11397.4,
          11395.25,
          11395.6,
          11393.3,
          11388.45,
          11390.7,
          11389.15,
          11386.1,
          11382.2,
          11381.65,
          11378.7,
          11376.85,
          11376.6,
          11380.75,
          11382.65,
          11386.3,
          11388,
          11390.9,
          11391.3,
          11395.4,
          11395,
          11391.95,
          11395.75,
          11395.1,
          11399.25,
          11405.25,
          11409.9,
          11408.65,
          11404.1,
          11403.65,
          11402.6,
          11400.9,
          11400.65,
          11403.15,
          11402.6,
          11402.1,
          11403.1,
          11403.3,
          11403.1,
          11403.1,
          11403.5,
          11403.1,
          11401.6,
          11399.9,
          11398.55,
          11398.55,
          11398.5,
          11399,
          11399.65,
          11397.85,
          11398.4,
          11397.1,
          11392.75,
          11386.35,
          11387.7,
          11391.25,
          11400.45,
          11400.5,
          11399.7,
          11399.5,
          11398.65,
          11399.65,
          11399.75,
          11400.3,
          11402.05,
          11403.1,
          11400.65,
          11400.45,
          11400.05,
          11402.85,
          11401.2,
          11401.65,
          11408.15,
          11407.9,
          11405.9,
          11403.9,
          11405.75,
          11409.1,
          11413.1,
          11413.75,
          11416.25,
          11412.25,
          11407.6,
          11403.3,
          11402.3,
          11405.75,
          11410.25,
          11412.55,
          11402.65,
          11389.65,
          11398.8,
          11400.2,
          11402.2,
          11404.55,
          11404.85,
          11405.4,
          11403.85,
          11405.05,
          11411.85,
          11414,
          11414.45,
          11409.15,
          11410.25,
          11411.25,
          11409.65,
          11409,
          11407.8,
          11404,
          11409.3,
          11420.85,
          11422.95,
          11421.65,
          11418.45,
          11417.65,
          11417.1,
          11415.25,
          11416.25,
          11416.15,
          11418.65,
          11422.25,
          11420.4,
          11422.2,
          11421.85,
          11423,
          11422.55,
          11422.8,
          11422.75,
          11420.4,
          11417.1,
          11416.95,
          11420.05,
          11420.4,
          11419.85,
          11418,
          11412.7
         ],
         "low": [
          11440.2,
          11456.4,
          11461.05,
          11467.05,
          11466,
          11462.15,
          11442.05,
          11431.6,
          11425.5,
          11416.15,
          11419.2,
          11435.3,
          11431.8,
          11428.1,
          11429.95,
          11438.4,
          11439.05,
          11439.15,
          11432.5,
          11430.3,
          11426.05,
          11423.45,
          11422.95,
          11423.8,
          11422.5,
          11422.65,
          11422.45,
          11423.15,
          11423.65,
          11426.85,
          11427.45,
          11431.1,
          11428.35,
          11423.7,
          11425.25,
          11424.1,
          11426.45,
          11424.95,
          11422.8,
          11421.3,
          11419.95,
          11419.15,
          11413.05,
          11404.95,
          11406.8,
          11404.6,
          11406,
          11405.55,
          11405.7,
          11414.8,
          11418.05,
          11419.2,
          11422.25,
          11422.85,
          11420.65,
          11417.25,
          11416.35,
          11417.1,
          11419,
          11420.8,
          11421.7,
          11419.2,
          11419.85,
          11419.55,
          11424.1,
          11430.2,
          11425.6,
          11421.05,
          11418.25,
          11415.25,
          11412.55,
          11412.95,
          11413.85,
          11413.55,
          11412.95,
          11411.9,
          11413.6,
          11414.8,
          11417.35,
          11420.3,
          11418.35,
          11409.75,
          11409,
          11410.85,
          11411.35,
          11410.6,
          11413.05,
          11413.65,
          11415.45,
          11417.45,
          11419.5,
          11419.85,
          11418.7,
          11418.55,
          11419.15,
          11418.6,
          11417.8,
          11419,
          11424.65,
          11427.15,
          11426.15,
          11424.9,
          11424.25,
          11426.6,
          11427.7,
          11427.5,
          11429,
          11430.05,
          11431.15,
          11440.6,
          11442.95,
          11446.7,
          11446.7,
          11449.95,
          11447.35,
          11444.75,
          11444.6,
          11442.75,
          11439.4,
          11439.95,
          11442.7,
          11439.9,
          11439.15,
          11440.2,
          11440.6,
          11444.6,
          11449.7,
          11447.7,
          11449.4,
          11446.65,
          11443.45,
          11442.8,
          11440.5,
          11442.95,
          11443.15,
          11443.8,
          11445.7,
          11446.4,
          11447.4,
          11449.75,
          11445.25,
          11439.4,
          11436.4,
          11435.1,
          11430.25,
          11429.1,
          11428.45,
          11426.6,
          11424.6,
          11425.55,
          11427.1,
          11428.2,
          11429.6,
          11433.1,
          11434.85,
          11436.15,
          11434.45,
          11426.65,
          11426.45,
          11418.65,
          11419.9,
          11419.2,
          11422.45,
          11422.9,
          11421.95,
          11423.85,
          11420.05,
          11419.4,
          11419.3,
          11423.6,
          11420.7,
          11420.25,
          11419.2,
          11419.2,
          11418.75,
          11416.7,
          11416.1,
          11415.2,
          11410.55,
          11406,
          11394.05,
          11389.55,
          11395.1,
          11394.8,
          11393.95,
          11393.45,
          11395.45,
          11397.45,
          11399.55,
          11400.9,
          11406.4,
          11402.05,
          11399.9,
          11399.85,
          11399.9,
          11397.7,
          11396.05,
          11396.7,
          11398,
          11397.7,
          11399.9,
          11395.45,
          11394.4,
          11395.2,
          11397.65,
          11401.6,
          11401.5,
          11398.8,
          11398,
          11397.95,
          11400.25,
          11376.9,
          11369.65,
          11364.4,
          11367.45,
          11372.45,
          11377.95,
          11380.5,
          11380.5,
          11368.05,
          11365.25,
          11368.35,
          11373.45,
          11368.3,
          11366.1,
          11362.45,
          11361.65,
          11362.7,
          11366.25,
          11370.85,
          11365,
          11364.9,
          11370.4,
          11374.9,
          11373.65,
          11374.25,
          11374.95,
          11379.65,
          11383.65,
          11383.05,
          11383.15,
          11387.05,
          11391.9,
          11393.25,
          11387.6,
          11384.3,
          11388.5,
          11385.35,
          11382.1,
          11380.9,
          11377.05,
          11374.25,
          11375.8,
          11367.7,
          11367,
          11380.65,
          11382.1,
          11386.45,
          11387.45,
          11389.4,
          11390.25,
          11385.2,
          11387.65,
          11392.2,
          11392.65,
          11394.05,
          11399.35,
          11402.8,
          11402.85,
          11402.1,
          11400.4,
          11399.55,
          11394.85,
          11397.8,
          11399.6,
          11400.8,
          11399.7,
          11401.15,
          11401.9,
          11400.55,
          11399.8,
          11400.55,
          11400.8,
          11399.1,
          11398.45,
          11396,
          11395.3,
          11393.95,
          11394.65,
          11397.45,
          11396.1,
          11395.9,
          11395.9,
          11380,
          11381.6,
          11384.15,
          11387.35,
          11392.25,
          11398.25,
          11397.95,
          11397.65,
          11396.8,
          11395.95,
          11397.15,
          11397.95,
          11399.15,
          11399.75,
          11398.15,
          11397.05,
          11396.25,
          11397.85,
          11398.65,
          11399.15,
          11404.35,
          11400.8,
          11392.95,
          11396.35,
          11401.6,
          11406.45,
          11406.55,
          11411.4,
          11412,
          11407.65,
          11402.8,
          11400.95,
          11398.9,
          11400.55,
          11405,
          11409.1,
          11388.45,
          11381.4,
          11389.05,
          11397.05,
          11399.5,
          11402.5,
          11395.85,
          11400.2,
          11401.35,
          11402,
          11403.9,
          11411.85,
          11406.8,
          11406.4,
          11406.85,
          11407.5,
          11407.25,
          11406.45,
          11402.05,
          11402.65,
          11401.8,
          11413.2,
          11415.35,
          11414.25,
          11414.05,
          11412.9,
          11412.35,
          11412.45,
          11412.45,
          11412.55,
          11416.05,
          11417.95,
          11417.1,
          11415.85,
          11416.7,
          11419.6,
          11419.25,
          11420.1,
          11418.9,
          11414.65,
          11412.6,
          11413.45,
          11415.55,
          11417.2,
          11415.75,
          11411.6,
          11404.75
         ],
         "open": [
          11440.2,
          11463.2,
          11466.15,
          11467.05,
          11470,
          11466.3,
          11457,
          11440.65,
          11432.45,
          11431.7,
          11419.2,
          11435.3,
          11444.05,
          11430.75,
          11431.7,
          11439.6,
          11442.5,
          11441.95,
          11439.3,
          11432.35,
          11433.8,
          11424.05,
          11424.65,
          11424.2,
          11423.85,
          11424.05,
          11422.75,
          11423.9,
          11423.65,
          11426.85,
          11427.45,
          11432.95,
          11431.65,
          11428.6,
          11425.8,
          11425.3,
          11426.45,
          11428.65,
          11423.75,
          11424.95,
          11421.2,
          11421,
          11419.8,
          11412.75,
          11406.8,
          11404.6,
          11410.65,
          11408.6,
          11405.7,
          11414.9,
          11418.05,
          11420.1,
          11422.25,
          11423.2,
          11425.7,
          11421,
          11418.4,
          11418.3,
          11419,
          11424.35,
          11423.2,
          11421.25,
          11419.85,
          11420.2,
          11424.1,
          11430.7,
          11430.1,
          11426.9,
          11421.05,
          11419.45,
          11414.95,
          11414.25,
          11414.05,
          11414.55,
          11415.5,
          11411.9,
          11413.6,
          11414.8,
          11417.35,
          11420.95,
          11420.1,
          11418.9,
          11412.15,
          11412.6,
          11412.1,
          11412,
          11413.2,
          11415.1,
          11415.45,
          11417.45,
          11420.4,
          11421.2,
          11421.2,
          11418.95,
          11419.15,
          11420.5,
          11419.15,
          11419,
          11425.05,
          11427.25,
          11426.75,
          11428.1,
          11424.25,
          11426.6,
          11428.1,
          11428.05,
          11429,
          11431.1,
          11431.15,
          11442.8,
          11443.95,
          11449.4,
          11446.7,
          11456.65,
          11450.2,
          11447.8,
          11444.6,
          11446.2,
          11442.35,
          11440.7,
          11442.85,
          11442.45,
          11440.2,
          11440.3,
          11441.15,
          11444.6,
          11460.05,
          11447.7,
          11452.85,
          11449.5,
          11446.65,
          11445.25,
          11441.2,
          11443.35,
          11443.85,
          11444.15,
          11446.3,
          11449.7,
          11447.4,
          11452.05,
          11448.8,
          11446.45,
          11439.8,
          11437.35,
          11435.8,
          11430.05,
          11429.25,
          11426.6,
          11425.85,
          11425.55,
          11428.3,
          11428.2,
          11431.3,
          11433.1,
          11435,
          11436.85,
          11436.65,
          11433.05,
          11427.35,
          11426.95,
          11419.9,
          11421.05,
          11422.45,
          11423.3,
          11421.95,
          11424.25,
          11424.7,
          11420.2,
          11419.95,
          11424.85,
          11424.75,
          11421.05,
          11420.85,
          11419.25,
          11420.5,
          11421,
          11416.4,
          11416.85,
          11415.5,
          11410.95,
          11400.4,
          11396.85,
          11395.1,
          11399.85,
          11396.5,
          11393.45,
          11397.5,
          11397.45,
          11399.7,
          11401.5,
          11406.4,
          11407.5,
          11402.85,
          11401.85,
          11400.45,
          11400.3,
          11399,
          11396.7,
          11401.4,
          11397.8,
          11400.1,
          11399.4,
          11396.25,
          11395.5,
          11397.65,
          11402.35,
          11402.3,
          11401.3,
          11398.65,
          11399.25,
          11400.7,
          11394.8,
          11380.95,
          11369.8,
          11369.4,
          11376.45,
          11378.05,
          11381.2,
          11381.55,
          11384.55,
          11367.15,
          11368.35,
          11374.8,
          11373.9,
          11367.85,
          11368.1,
          11363.15,
          11362.9,
          11366.25,
          11371.1,
          11372.35,
          11364.9,
          11370.65,
          11377.5,
          11374.55,
          11375.05,
          11375.6,
          11380.4,
          11383.65,
          11387.1,
          11383.65,
          11387.05,
          11394.4,
          11393.25,
          11393.3,
          11384.85,
          11388.5,
          11388.9,
          11383.85,
          11382.2,
          11381.65,
          11378.7,
          11375.9,
          11375.05,
          11368.05,
          11382.65,
          11382.55,
          11388,
          11387.65,
          11391.3,
          11390.25,
          11394.4,
          11388.2,
          11392.2,
          11395.1,
          11394.05,
          11399.35,
          11406.35,
          11408.65,
          11403.8,
          11403.65,
          11400.85,
          11400.9,
          11398.65,
          11400.7,
          11402.6,
          11400.75,
          11401.35,
          11403.3,
          11402.25,
          11400.45,
          11400.55,
          11402.45,
          11401.6,
          11399.8,
          11398.55,
          11398.5,
          11397.2,
          11395.1,
          11399.65,
          11397.2,
          11396.6,
          11397.1,
          11392.75,
          11381.6,
          11385.05,
          11387.6,
          11392.25,
          11400.5,
          11398.95,
          11399.15,
          11398.65,
          11399.05,
          11397.45,
          11398.3,
          11399.15,
          11399.75,
          11400.65,
          11400.45,
          11397.6,
          11397.85,
          11401.2,
          11399.15,
          11404.35,
          11407.9,
          11405.45,
          11396.35,
          11402.45,
          11408.9,
          11406.85,
          11411.6,
          11414.6,
          11411.5,
          11407.6,
          11402.85,
          11401.55,
          11402.25,
          11405,
          11411.3,
          11402.65,
          11384.7,
          11389.5,
          11397.9,
          11400.8,
          11402.5,
          11403.15,
          11400.2,
          11402.35,
          11402,
          11403.9,
          11411.95,
          11414.45,
          11407.1,
          11408.2,
          11409.5,
          11409.65,
          11409,
          11406.35,
          11402.85,
          11401.8,
          11413.2,
          11417.65,
          11421.65,
          11416.7,
          11415.4,
          11412.35,
          11414.65,
          11416.25,
          11412.55,
          11416.65,
          11420,
          11418.95,
          11422.2,
          11416.7,
          11419.6,
          11421.05,
          11421.7,
          11419.55,
          11418.95,
          11415.65,
          11414.4,
          11415.55,
          11420.4,
          11418.65,
          11416.45,
          11411.05
         ],
         "type": "candlestick",
         "x": [
          "09:09",
          "09:16",
          "09:17",
          "09:18",
          "09:19",
          "09:20",
          "09:21",
          "09:22",
          "09:23",
          "09:24",
          "09:25",
          "09:26",
          "09:27",
          "09:28",
          "09:29",
          "09:30",
          "09:31",
          "09:32",
          "09:33",
          "09:34",
          "09:35",
          "09:36",
          "09:37",
          "09:38",
          "09:39",
          "09:40",
          "09:41",
          "09:42",
          "09:43",
          "09:44",
          "09:45",
          "09:46",
          "09:47",
          "09:48",
          "09:49",
          "09:50",
          "09:51",
          "09:52",
          "09:53",
          "09:54",
          "09:55",
          "09:56",
          "09:57",
          "09:58",
          "09:59",
          "10:00",
          "10:01",
          "10:02",
          "10:03",
          "10:04",
          "10:05",
          "10:06",
          "10:07",
          "10:08",
          "10:09",
          "10:10",
          "10:11",
          "10:12",
          "10:13",
          "10:14",
          "10:15",
          "10:16",
          "10:17",
          "10:18",
          "10:19",
          "10:20",
          "10:21",
          "10:22",
          "10:23",
          "10:24",
          "10:25",
          "10:26",
          "10:27",
          "10:28",
          "10:29",
          "10:30",
          "10:31",
          "10:32",
          "10:33",
          "10:34",
          "10:35",
          "10:36",
          "10:37",
          "10:38",
          "10:39",
          "10:40",
          "10:41",
          "10:42",
          "10:43",
          "10:44",
          "10:45",
          "10:46",
          "10:47",
          "10:48",
          "10:49",
          "10:50",
          "10:51",
          "10:52",
          "10:53",
          "10:54",
          "10:55",
          "10:56",
          "10:57",
          "10:58",
          "10:59",
          "11:00",
          "11:01",
          "11:02",
          "11:03",
          "11:04",
          "11:05",
          "11:06",
          "11:07",
          "11:08",
          "11:09",
          "11:10",
          "11:11",
          "11:12",
          "11:13",
          "11:14",
          "11:15",
          "11:16",
          "11:17",
          "11:18",
          "11:19",
          "11:20",
          "11:21",
          "11:22",
          "11:23",
          "11:24",
          "11:25",
          "11:26",
          "11:27",
          "11:28",
          "11:29",
          "11:30",
          "11:31",
          "11:32",
          "11:33",
          "11:34",
          "11:35",
          "11:36",
          "11:37",
          "11:38",
          "11:39",
          "11:40",
          "11:41",
          "11:42",
          "11:43",
          "11:44",
          "11:45",
          "11:46",
          "11:47",
          "11:48",
          "11:49",
          "11:50",
          "11:51",
          "11:52",
          "11:53",
          "11:54",
          "11:55",
          "11:56",
          "11:57",
          "11:58",
          "11:59",
          "12:00",
          "12:01",
          "12:02",
          "12:03",
          "12:04",
          "12:05",
          "12:06",
          "12:07",
          "12:08",
          "12:09",
          "12:10",
          "12:11",
          "12:12",
          "12:13",
          "12:14",
          "12:15",
          "12:16",
          "12:17",
          "12:18",
          "12:19",
          "12:20",
          "12:21",
          "12:22",
          "12:23",
          "12:24",
          "12:25",
          "12:26",
          "12:27",
          "12:28",
          "12:29",
          "12:30",
          "12:31",
          "12:32",
          "12:33",
          "12:34",
          "12:35",
          "12:36",
          "12:37",
          "12:38",
          "12:39",
          "12:40",
          "12:41",
          "12:42",
          "12:43",
          "12:44",
          "12:45",
          "12:46",
          "12:47",
          "12:48",
          "12:49",
          "12:50",
          "12:51",
          "12:52",
          "12:53",
          "12:54",
          "12:55",
          "12:56",
          "12:57",
          "12:58",
          "12:59",
          "13:00",
          "13:01",
          "13:02",
          "13:03",
          "13:04",
          "13:05",
          "13:06",
          "13:07",
          "13:08",
          "13:09",
          "13:10",
          "13:11",
          "13:12",
          "13:13",
          "13:14",
          "13:15",
          "13:16",
          "13:17",
          "13:18",
          "13:19",
          "13:20",
          "13:21",
          "13:22",
          "13:23",
          "13:24",
          "13:25",
          "13:26",
          "13:27",
          "13:28",
          "13:29",
          "13:30",
          "13:31",
          "13:32",
          "13:33",
          "13:34",
          "13:35",
          "13:36",
          "13:37",
          "13:38",
          "13:39",
          "13:40",
          "13:41",
          "13:42",
          "13:43",
          "13:44",
          "13:45",
          "13:46",
          "13:47",
          "13:48",
          "13:49",
          "13:50",
          "13:51",
          "13:52",
          "13:53",
          "13:54",
          "13:55",
          "13:56",
          "13:57",
          "13:58",
          "13:59",
          "14:00",
          "14:01",
          "14:02",
          "14:03",
          "14:04",
          "14:05",
          "14:06",
          "14:07",
          "14:08",
          "14:09",
          "14:10",
          "14:11",
          "14:12",
          "14:13",
          "14:14",
          "14:15",
          "14:16",
          "14:17",
          "14:18",
          "14:19",
          "14:20",
          "14:21",
          "14:22",
          "14:23",
          "14:24",
          "14:25",
          "14:26",
          "14:27",
          "14:28",
          "14:29",
          "14:30",
          "14:31",
          "14:32",
          "14:33",
          "14:34",
          "14:35",
          "14:36",
          "14:37",
          "14:38",
          "14:39",
          "14:40",
          "14:41",
          "14:42",
          "14:43",
          "14:44",
          "14:45",
          "14:46",
          "14:47",
          "14:48",
          "14:49",
          "14:50",
          "14:51",
          "14:52",
          "14:53",
          "14:54",
          "14:55",
          "14:56",
          "14:57",
          "14:58",
          "14:59",
          "15:00",
          "15:01",
          "15:02",
          "15:03",
          "15:04",
          "15:05",
          "15:06",
          "15:07",
          "15:08",
          "15:09",
          "15:10",
          "15:11",
          "15:12",
          "15:13",
          "15:14",
          "15:15",
          "15:16",
          "15:17",
          "15:18",
          "15:19",
          "15:20",
          "15:21",
          "15:22",
          "15:23",
          "15:24",
          "15:25",
          "15:26",
          "15:27",
          "15:28",
          "15:29",
          "15:30"
         ]
        },
        {
         "type": "scatter",
         "x": [
          [
           "09:09",
           "09:16",
           "09:17",
           "09:18",
           "09:19",
           "09:20",
           "09:21",
           "09:22",
           "09:23",
           "09:24",
           "09:25",
           "09:26",
           "09:27",
           "09:28",
           "09:29",
           "09:30",
           "09:31",
           "09:32",
           "09:33",
           "09:34",
           "09:35",
           "09:36",
           "09:37",
           "09:38",
           "09:39",
           "09:40",
           "09:41",
           "09:42",
           "09:43",
           "09:44",
           "09:45",
           "09:46",
           "09:47",
           "09:48",
           "09:49",
           "09:50",
           "09:51",
           "09:52",
           "09:53",
           "09:54",
           "09:55",
           "09:56",
           "09:57",
           "09:58",
           "09:59",
           "10:00",
           "10:01",
           "10:02",
           "10:03",
           "10:04",
           "10:05",
           "10:06",
           "10:07",
           "10:08",
           "10:09",
           "10:10",
           "10:11",
           "10:12",
           "10:13",
           "10:14",
           "10:15",
           "10:16",
           "10:17",
           "10:18",
           "10:19",
           "10:20",
           "10:21",
           "10:22",
           "10:23",
           "10:24",
           "10:25",
           "10:26",
           "10:27",
           "10:28",
           "10:29",
           "10:30",
           "10:31",
           "10:32",
           "10:33",
           "10:34",
           "10:35",
           "10:36",
           "10:37",
           "10:38",
           "10:39",
           "10:40",
           "10:41",
           "10:42",
           "10:43",
           "10:44",
           "10:45",
           "10:46",
           "10:47",
           "10:48",
           "10:49",
           "10:50",
           "10:51",
           "10:52",
           "10:53",
           "10:54",
           "10:55",
           "10:56",
           "10:57",
           "10:58",
           "10:59",
           "11:00",
           "11:01",
           "11:02",
           "11:03",
           "11:04",
           "11:05",
           "11:06",
           "11:07",
           "11:08",
           "11:09",
           "11:10",
           "11:11",
           "11:12",
           "11:13",
           "11:14",
           "11:15",
           "11:16",
           "11:17",
           "11:18",
           "11:19",
           "11:20",
           "11:21",
           "11:22",
           "11:23",
           "11:24",
           "11:25",
           "11:26",
           "11:27",
           "11:28",
           "11:29",
           "11:30",
           "11:31",
           "11:32",
           "11:33",
           "11:34",
           "11:35",
           "11:36",
           "11:37",
           "11:38",
           "11:39",
           "11:40",
           "11:41",
           "11:42",
           "11:43",
           "11:44",
           "11:45",
           "11:46",
           "11:47",
           "11:48",
           "11:49",
           "11:50",
           "11:51",
           "11:52",
           "11:53",
           "11:54",
           "11:55",
           "11:56",
           "11:57",
           "11:58",
           "11:59",
           "12:00",
           "12:01",
           "12:02",
           "12:03",
           "12:04",
           "12:05",
           "12:06",
           "12:07",
           "12:08",
           "12:09",
           "12:10",
           "12:11",
           "12:12",
           "12:13",
           "12:14",
           "12:15",
           "12:16",
           "12:17",
           "12:18",
           "12:19",
           "12:20",
           "12:21",
           "12:22",
           "12:23",
           "12:24",
           "12:25",
           "12:26",
           "12:27",
           "12:28",
           "12:29",
           "12:30",
           "12:31",
           "12:32",
           "12:33",
           "12:34",
           "12:35",
           "12:36",
           "12:37",
           "12:38",
           "12:39",
           "12:40",
           "12:41",
           "12:42",
           "12:43",
           "12:44",
           "12:45",
           "12:46",
           "12:47",
           "12:48",
           "12:49",
           "12:50",
           "12:51",
           "12:52",
           "12:53",
           "12:54",
           "12:55",
           "12:56",
           "12:57",
           "12:58",
           "12:59",
           "13:00",
           "13:01",
           "13:02",
           "13:03",
           "13:04",
           "13:05",
           "13:06",
           "13:07",
           "13:08",
           "13:09",
           "13:10",
           "13:11",
           "13:12",
           "13:13",
           "13:14",
           "13:15",
           "13:16",
           "13:17",
           "13:18",
           "13:19",
           "13:20",
           "13:21",
           "13:22",
           "13:23",
           "13:24",
           "13:25",
           "13:26",
           "13:27",
           "13:28",
           "13:29",
           "13:30",
           "13:31",
           "13:32",
           "13:33",
           "13:34",
           "13:35",
           "13:36",
           "13:37",
           "13:38",
           "13:39",
           "13:40",
           "13:41",
           "13:42",
           "13:43",
           "13:44",
           "13:45",
           "13:46",
           "13:47",
           "13:48",
           "13:49",
           "13:50",
           "13:51",
           "13:52",
           "13:53",
           "13:54",
           "13:55",
           "13:56",
           "13:57",
           "13:58",
           "13:59",
           "14:00",
           "14:01",
           "14:02",
           "14:03",
           "14:04",
           "14:05",
           "14:06",
           "14:07",
           "14:08",
           "14:09",
           "14:10",
           "14:11",
           "14:12",
           "14:13",
           "14:14",
           "14:15",
           "14:16",
           "14:17",
           "14:18",
           "14:19",
           "14:20",
           "14:21",
           "14:22",
           "14:23",
           "14:24",
           "14:25",
           "14:26",
           "14:27",
           "14:28",
           "14:29",
           "14:30",
           "14:31",
           "14:32",
           "14:33",
           "14:34",
           "14:35",
           "14:36",
           "14:37",
           "14:38",
           "14:39",
           "14:40",
           "14:41",
           "14:42",
           "14:43",
           "14:44",
           "14:45",
           "14:46",
           "14:47",
           "14:48",
           "14:49",
           "14:50",
           "14:51",
           "14:52",
           "14:53",
           "14:54",
           "14:55",
           "14:56",
           "14:57",
           "14:58",
           "14:59",
           "15:00",
           "15:01",
           "15:02",
           "15:03",
           "15:04",
           "15:05",
           "15:06",
           "15:07",
           "15:08",
           "15:09",
           "15:10",
           "15:11",
           "15:12",
           "15:13",
           "15:14",
           "15:15",
           "15:16",
           "15:17",
           "15:18",
           "15:19",
           "15:20",
           "15:21",
           "15:22",
           "15:23",
           "15:24",
           "15:25",
           "15:26",
           "15:27",
           "15:28",
           "15:29",
           "15:30"
          ]
         ],
         "y": [
          [
           342610.6,
           342653.875,
           342698.2,
           342749.15,
           342801.9,
           342851.05,
           342885.175,
           342905.825,
           342920.125,
           342928,
           342941.05000000005,
           342974.525,
           343005.15,
           343027.675,
           343049.14999999997,
           343074.175,
           343098.85000000003,
           343120.45,
           343132.64999999997,
           343142.55,
           343148.05,
           343149.85,
           343153.7,
           343155.7,
           343156.175,
           343155.4,
           343150.975,
           343143.925,
           343135.375,
           343128.55,
           343118.525,
           343086.67500000005,
           343052.69999999995,
           343010.32499999995,
           342967.225,
           342928.475,
           342906.14999999997,
           342896.82499999995,
           342888.39999999997,
           342887.725,
           342882,
           342861.72500000003,
           342840.225,
           342817.32499999995,
           342790.65,
           342757.52499999997,
           342725.35,
           342691.875,
           342665.575,
           342649.02499999997,
           342638.225,
           342634.725,
           342632.77499999997,
           342632.77499999997,
           342632.19999999995,
           342628.22500000003,
           342622.85000000003,
           342617.52499999997,
           342614.225,
           342610.475,
           342602.77499999997,
           342591.47500000003,
           342580.85,
           342575.4,
           342577,
           342582.05000000005,
           342582.525,
           342579.825,
           342575.47500000003,
           342569.775,
           342562.85000000003,
           342556.35,
           342554.45,
           342560.47500000003,
           342566.52499999997,
           342570.625,
           342574.925,
           342583.25,
           342592.875,
           342597.075,
           342597.47500000003,
           342591.00000000006,
           342579.75,
           342568.075,
           342557.075,
           342548.775,
           342544.575,
           342541.42500000005,
           342536.525,
           342531.45,
           342529.85000000003,
           342530.425,
           342530,
           342527.125,
           342519.725,
           342509,
           342499.625,
           342495.35000000003,
           342501.8,
           342511.775,
           342524.39999999997,
           342538.22500000003,
           342549.075,
           342561.175,
           342574.875,
           342590.825,
           342606.575,
           342622.27499999997,
           342639.975,
           342660.8,
           342687.89999999997,
           342722.27499999997,
           342762.775,
           342803.75,
           342840.65,
           342876.175,
           342906.82499999995,
           342936.175,
           342961.525,
           342985,
           343007.925,
           343028.65,
           343048.9,
           343070.775,
           343093.75,
           343125.57499999995,
           343161.975,
           343192.725,
           343217.375,
           343238.825,
           343257.42500000005,
           343274.02499999997,
           343290.8,
           343307.825,
           343324.075,
           343339.97500000003,
           343358.2,
           343375.15,
           343388.17500000005,
           343397.375,
           343397.775,
           343392,
           343378.9,
           343362,
           343346.2,
           343328.575,
           343313.22500000003,
           343295.8,
           343279.85,
           343265.875,
           343249.775,
           343237.45,
           343229.725,
           343223.125,
           343216.2,
           343201.35000000003,
           343182.025,
           343161.3,
           343137.75,
           343111.57499999995,
           343086.75,
           343064.45,
           343045.075,
           343024.425,
           343003.60000000003,
           342983.27499999997,
           342957.625,
           342929.375,
           342902.075,
           342875.625,
           342851.325,
           342829.825,
           342811,
           342794.85000000003,
           342781.475,
           342770.75,
           342757.8,
           342747.225,
           342734.125,
           342715.825,
           342686.5,
           342651.82499999995,
           342615.75,
           342579.55,
           342539.45,
           342497.25,
           342459.25,
           342427.60000000003,
           342400.97500000003,
           342382.5,
           342368.825,
           342351.875,
           342331.1,
           342308.875,
           342286.2,
           342261.30000000005,
           342237.05,
           342216.05,
           342193.1,
           342167.67500000005,
           342145.2,
           342122.175,
           342097.475,
           342073.19999999995,
           342053.275,
           342036.8,
           342022.1,
           342005.92500000005,
           341991.525,
           341981.8,
           341983.89999999997,
           341975.22500000003,
           341955.325,
           341926.64999999997,
           341903.6,
           341886.375,
           341868.25,
           341850.89999999997,
           341831.875,
           341803.85000000003,
           341765.35,
           341731.5,
           341704.625,
           341674.60000000003,
           341641.5,
           341607.52499999997,
           341571.825,
           341537.25,
           341505.825,
           341478.225,
           341446.64999999997,
           341415.75,
           341394.1,
           341374.7,
           341349.3,
           341322.6,
           341298.775,
           341280.52499999997,
           341267.1,
           341252.575,
           341237.10000000003,
           341241.125,
           341258.325,
           341283.025,
           341300.85000000003,
           341310.14999999997,
           341319.625,
           341325.95,
           341327,
           341332.55,
           341345.075,
           341350.925,
           341351.65,
           341351.925,
           341358.64999999997,
           341375.45,
           341397.05,
           341420.35000000003,
           341441.27499999997,
           341460.325,
           341484.47500000003,
           341507.675,
           341523.9,
           341541.3,
           341561.025,
           341581.9,
           341606.125,
           341632.2,
           341653.475,
           341671.35,
           341688.475,
           341698.77499999997,
           341704.675,
           341710.475,
           341721.94999999995,
           341737,
           341748.675,
           341763.72500000003,
           341783.8,
           341803.65,
           341823.2,
           341848.45,
           341874.225,
           341903.975,
           341928.75,
           341944.075,
           341957.6,
           341966.35,
           341974.05000000005,
           341982.125,
           341985.94999999995,
           341992.05000000005,
           341998.925,
           341991.92500000005,
           341980.39999999997,
           341970.225,
           341957.25,
           341945.475,
           341939.17500000005,
           341935.125,
           341931.60000000003,
           341929.35000000003,
           341929.1,
           341927.05000000005,
           341924.425,
           341922.25,
           341922,
           341919.175,
           341914.875,
           341910.77499999997,
           341909.3,
           341908.47500000003,
           341906.85000000003,
           341911.925,
           341918.45,
           341922.425,
           341923.67500000005,
           341931.4,
           341942.175,
           341953.27499999997,
           341969.30000000005,
           341986.77499999997,
           342000.10000000003,
           342018.39999999997,
           342037.625,
           342052.22500000003,
           342065.5,
           342076.775,
           342087.425,
           342084.075,
           342072.64999999997,
           342068.375,
           342068.075,
           342071.85,
           342075.3,
           342076.60000000003,
           342077.60000000003,
           342080.725,
           342085.5,
           342095.775,
           342109.575,
           342119,
           342125.75,
           342128.775,
           342133.175,
           342140.975,
           342149.8,
           342150.64999999997,
           342145.8,
           342141.7,
           342144.375,
           342149.4,
           342157.69999999995,
           342170,
           342182.67500000005,
           342195.82499999995,
           342208.175,
           342215.2,
           342217.725,
           342239.825,
           342271.9,
           342297.425,
           342318.25,
           342336.15,
           342353.85,
           342374.425,
           342394,
           342410.7,
           342424.025,
           342430.275,
           342433.27499999997,
           342440.07499999995,
           342453.225,
           342462.1,
           342466.175,
           342465.625
          ]
         ]
        }
       ],
       "layout": {
        "template": {
         "data": {
          "bar": [
           {
            "error_x": {
             "color": "#2a3f5f"
            },
            "error_y": {
             "color": "#2a3f5f"
            },
            "marker": {
             "line": {
              "color": "#E5ECF6",
              "width": 0.5
             },
             "pattern": {
              "fillmode": "overlay",
              "size": 10,
              "solidity": 0.2
             }
            },
            "type": "bar"
           }
          ],
          "barpolar": [
           {
            "marker": {
             "line": {
              "color": "#E5ECF6",
              "width": 0.5
             },
             "pattern": {
              "fillmode": "overlay",
              "size": 10,
              "solidity": 0.2
             }
            },
            "type": "barpolar"
           }
          ],
          "carpet": [
           {
            "aaxis": {
             "endlinecolor": "#2a3f5f",
             "gridcolor": "white",
             "linecolor": "white",
             "minorgridcolor": "white",
             "startlinecolor": "#2a3f5f"
            },
            "baxis": {
             "endlinecolor": "#2a3f5f",
             "gridcolor": "white",
             "linecolor": "white",
             "minorgridcolor": "white",
             "startlinecolor": "#2a3f5f"
            },
            "type": "carpet"
           }
          ],
          "choropleth": [
           {
            "colorbar": {
             "outlinewidth": 0,
             "ticks": ""
            },
            "type": "choropleth"
           }
          ],
          "contour": [
           {
            "colorbar": {
             "outlinewidth": 0,
             "ticks": ""
            },
            "colorscale": [
             [
              0,
              "#0d0887"
             ],
             [
              0.1111111111111111,
              "#46039f"
             ],
             [
              0.2222222222222222,
              "#7201a8"
             ],
             [
              0.3333333333333333,
              "#9c179e"
             ],
             [
              0.4444444444444444,
              "#bd3786"
             ],
             [
              0.5555555555555556,
              "#d8576b"
             ],
             [
              0.6666666666666666,
              "#ed7953"
             ],
             [
              0.7777777777777778,
              "#fb9f3a"
             ],
             [
              0.8888888888888888,
              "#fdca26"
             ],
             [
              1,
              "#f0f921"
             ]
            ],
            "type": "contour"
           }
          ],
          "contourcarpet": [
           {
            "colorbar": {
             "outlinewidth": 0,
             "ticks": ""
            },
            "type": "contourcarpet"
           }
          ],
          "heatmap": [
           {
            "colorbar": {
             "outlinewidth": 0,
             "ticks": ""
            },
            "colorscale": [
             [
              0,
              "#0d0887"
             ],
             [
              0.1111111111111111,
              "#46039f"
             ],
             [
              0.2222222222222222,
              "#7201a8"
             ],
             [
              0.3333333333333333,
              "#9c179e"
             ],
             [
              0.4444444444444444,
              "#bd3786"
             ],
             [
              0.5555555555555556,
              "#d8576b"
             ],
             [
              0.6666666666666666,
              "#ed7953"
             ],
             [
              0.7777777777777778,
              "#fb9f3a"
             ],
             [
              0.8888888888888888,
              "#fdca26"
             ],
             [
              1,
              "#f0f921"
             ]
            ],
            "type": "heatmap"
           }
          ],
          "heatmapgl": [
           {
            "colorbar": {
             "outlinewidth": 0,
             "ticks": ""
            },
            "colorscale": [
             [
              0,
              "#0d0887"
             ],
             [
              0.1111111111111111,
              "#46039f"
             ],
             [
              0.2222222222222222,
              "#7201a8"
             ],
             [
              0.3333333333333333,
              "#9c179e"
             ],
             [
              0.4444444444444444,
              "#bd3786"
             ],
             [
              0.5555555555555556,
              "#d8576b"
             ],
             [
              0.6666666666666666,
              "#ed7953"
             ],
             [
              0.7777777777777778,
              "#fb9f3a"
             ],
             [
              0.8888888888888888,
              "#fdca26"
             ],
             [
              1,
              "#f0f921"
             ]
            ],
            "type": "heatmapgl"
           }
          ],
          "histogram": [
           {
            "marker": {
             "pattern": {
              "fillmode": "overlay",
              "size": 10,
              "solidity": 0.2
             }
            },
            "type": "histogram"
           }
          ],
          "histogram2d": [
           {
            "colorbar": {
             "outlinewidth": 0,
             "ticks": ""
            },
            "colorscale": [
             [
              0,
              "#0d0887"
             ],
             [
              0.1111111111111111,
              "#46039f"
             ],
             [
              0.2222222222222222,
              "#7201a8"
             ],
             [
              0.3333333333333333,
              "#9c179e"
             ],
             [
              0.4444444444444444,
              "#bd3786"
             ],
             [
              0.5555555555555556,
              "#d8576b"
             ],
             [
              0.6666666666666666,
              "#ed7953"
             ],
             [
              0.7777777777777778,
              "#fb9f3a"
             ],
             [
              0.8888888888888888,
              "#fdca26"
             ],
             [
              1,
              "#f0f921"
             ]
            ],
            "type": "histogram2d"
           }
          ],
          "histogram2dcontour": [
           {
            "colorbar": {
             "outlinewidth": 0,
             "ticks": ""
            },
            "colorscale": [
             [
              0,
              "#0d0887"
             ],
             [
              0.1111111111111111,
              "#46039f"
             ],
             [
              0.2222222222222222,
              "#7201a8"
             ],
             [
              0.3333333333333333,
              "#9c179e"
             ],
             [
              0.4444444444444444,
              "#bd3786"
             ],
             [
              0.5555555555555556,
              "#d8576b"
             ],
             [
              0.6666666666666666,
              "#ed7953"
             ],
             [
              0.7777777777777778,
              "#fb9f3a"
             ],
             [
              0.8888888888888888,
              "#fdca26"
             ],
             [
              1,
              "#f0f921"
             ]
            ],
            "type": "histogram2dcontour"
           }
          ],
          "mesh3d": [
           {
            "colorbar": {
             "outlinewidth": 0,
             "ticks": ""
            },
            "type": "mesh3d"
           }
          ],
          "parcoords": [
           {
            "line": {
             "colorbar": {
              "outlinewidth": 0,
              "ticks": ""
             }
            },
            "type": "parcoords"
           }
          ],
          "pie": [
           {
            "automargin": true,
            "type": "pie"
           }
          ],
          "scatter": [
           {
            "marker": {
             "colorbar": {
              "outlinewidth": 0,
              "ticks": ""
             }
            },
            "type": "scatter"
           }
          ],
          "scatter3d": [
           {
            "line": {
             "colorbar": {
              "outlinewidth": 0,
              "ticks": ""
             }
            },
            "marker": {
             "colorbar": {
              "outlinewidth": 0,
              "ticks": ""
             }
            },
            "type": "scatter3d"
           }
          ],
          "scattercarpet": [
           {
            "marker": {
             "colorbar": {
              "outlinewidth": 0,
              "ticks": ""
             }
            },
            "type": "scattercarpet"
           }
          ],
          "scattergeo": [
           {
            "marker": {
             "colorbar": {
              "outlinewidth": 0,
              "ticks": ""
             }
            },
            "type": "scattergeo"
           }
          ],
          "scattergl": [
           {
            "marker": {
             "colorbar": {
              "outlinewidth": 0,
              "ticks": ""
             }
            },
            "type": "scattergl"
           }
          ],
          "scattermapbox": [
           {
            "marker": {
             "colorbar": {
              "outlinewidth": 0,
              "ticks": ""
             }
            },
            "type": "scattermapbox"
           }
          ],
          "scatterpolar": [
           {
            "marker": {
             "colorbar": {
              "outlinewidth": 0,
              "ticks": ""
             }
            },
            "type": "scatterpolar"
           }
          ],
          "scatterpolargl": [
           {
            "marker": {
             "colorbar": {
              "outlinewidth": 0,
              "ticks": ""
             }
            },
            "type": "scatterpolargl"
           }
          ],
          "scatterternary": [
           {
            "marker": {
             "colorbar": {
              "outlinewidth": 0,
              "ticks": ""
             }
            },
            "type": "scatterternary"
           }
          ],
          "surface": [
           {
            "colorbar": {
             "outlinewidth": 0,
             "ticks": ""
            },
            "colorscale": [
             [
              0,
              "#0d0887"
             ],
             [
              0.1111111111111111,
              "#46039f"
             ],
             [
              0.2222222222222222,
              "#7201a8"
             ],
             [
              0.3333333333333333,
              "#9c179e"
             ],
             [
              0.4444444444444444,
              "#bd3786"
             ],
             [
              0.5555555555555556,
              "#d8576b"
             ],
             [
              0.6666666666666666,
              "#ed7953"
             ],
             [
              0.7777777777777778,
              "#fb9f3a"
             ],
             [
              0.8888888888888888,
              "#fdca26"
             ],
             [
              1,
              "#f0f921"
             ]
            ],
            "type": "surface"
           }
          ],
          "table": [
           {
            "cells": {
             "fill": {
              "color": "#EBF0F8"
             },
             "line": {
              "color": "white"
             }
            },
            "header": {
             "fill": {
              "color": "#C8D4E3"
             },
             "line": {
              "color": "white"
             }
            },
            "type": "table"
           }
          ]
         },
         "layout": {
          "annotationdefaults": {
           "arrowcolor": "#2a3f5f",
           "arrowhead": 0,
           "arrowwidth": 1
          },
          "autotypenumbers": "strict",
          "coloraxis": {
           "colorbar": {
            "outlinewidth": 0,
            "ticks": ""
           }
          },
          "colorscale": {
           "diverging": [
            [
             0,
             "#8e0152"
            ],
            [
             0.1,
             "#c51b7d"
            ],
            [
             0.2,
             "#de77ae"
            ],
            [
             0.3,
             "#f1b6da"
            ],
            [
             0.4,
             "#fde0ef"
            ],
            [
             0.5,
             "#f7f7f7"
            ],
            [
             0.6,
             "#e6f5d0"
            ],
            [
             0.7,
             "#b8e186"
            ],
            [
             0.8,
             "#7fbc41"
            ],
            [
             0.9,
             "#4d9221"
            ],
            [
             1,
             "#276419"
            ]
           ],
           "sequential": [
            [
             0,
             "#0d0887"
            ],
            [
             0.1111111111111111,
             "#46039f"
            ],
            [
             0.2222222222222222,
             "#7201a8"
            ],
            [
             0.3333333333333333,
             "#9c179e"
            ],
            [
             0.4444444444444444,
             "#bd3786"
            ],
            [
             0.5555555555555556,
             "#d8576b"
            ],
            [
             0.6666666666666666,
             "#ed7953"
            ],
            [
             0.7777777777777778,
             "#fb9f3a"
            ],
            [
             0.8888888888888888,
             "#fdca26"
            ],
            [
             1,
             "#f0f921"
            ]
           ],
           "sequentialminus": [
            [
             0,
             "#0d0887"
            ],
            [
             0.1111111111111111,
             "#46039f"
            ],
            [
             0.2222222222222222,
             "#7201a8"
            ],
            [
             0.3333333333333333,
             "#9c179e"
            ],
            [
             0.4444444444444444,
             "#bd3786"
            ],
            [
             0.5555555555555556,
             "#d8576b"
            ],
            [
             0.6666666666666666,
             "#ed7953"
            ],
            [
             0.7777777777777778,
             "#fb9f3a"
            ],
            [
             0.8888888888888888,
             "#fdca26"
            ],
            [
             1,
             "#f0f921"
            ]
           ]
          },
          "colorway": [
           "#636efa",
           "#EF553B",
           "#00cc96",
           "#ab63fa",
           "#FFA15A",
           "#19d3f3",
           "#FF6692",
           "#B6E880",
           "#FF97FF",
           "#FECB52"
          ],
          "font": {
           "color": "#2a3f5f"
          },
          "geo": {
           "bgcolor": "white",
           "lakecolor": "white",
           "landcolor": "#E5ECF6",
           "showlakes": true,
           "showland": true,
           "subunitcolor": "white"
          },
          "hoverlabel": {
           "align": "left"
          },
          "hovermode": "closest",
          "mapbox": {
           "style": "light"
          },
          "paper_bgcolor": "white",
          "plot_bgcolor": "#E5ECF6",
          "polar": {
           "angularaxis": {
            "gridcolor": "white",
            "linecolor": "white",
            "ticks": ""
           },
           "bgcolor": "#E5ECF6",
           "radialaxis": {
            "gridcolor": "white",
            "linecolor": "white",
            "ticks": ""
           }
          },
          "scene": {
           "xaxis": {
            "backgroundcolor": "#E5ECF6",
            "gridcolor": "white",
            "gridwidth": 2,
            "linecolor": "white",
            "showbackground": true,
            "ticks": "",
            "zerolinecolor": "white"
           },
           "yaxis": {
            "backgroundcolor": "#E5ECF6",
            "gridcolor": "white",
            "gridwidth": 2,
            "linecolor": "white",
            "showbackground": true,
            "ticks": "",
            "zerolinecolor": "white"
           },
           "zaxis": {
            "backgroundcolor": "#E5ECF6",
            "gridcolor": "white",
            "gridwidth": 2,
            "linecolor": "white",
            "showbackground": true,
            "ticks": "",
            "zerolinecolor": "white"
           }
          },
          "shapedefaults": {
           "line": {
            "color": "#2a3f5f"
           }
          },
          "ternary": {
           "aaxis": {
            "gridcolor": "white",
            "linecolor": "white",
            "ticks": ""
           },
           "baxis": {
            "gridcolor": "white",
            "linecolor": "white",
            "ticks": ""
           },
           "bgcolor": "#E5ECF6",
           "caxis": {
            "gridcolor": "white",
            "linecolor": "white",
            "ticks": ""
           }
          },
          "title": {
           "x": 0.05
          },
          "xaxis": {
           "automargin": true,
           "gridcolor": "white",
           "linecolor": "white",
           "ticks": "",
           "title": {
            "standoff": 15
           },
           "zerolinecolor": "white",
           "zerolinewidth": 2
          },
          "yaxis": {
           "automargin": true,
           "gridcolor": "white",
           "linecolor": "white",
           "ticks": "",
           "title": {
            "standoff": 15
           },
           "zerolinecolor": "white",
           "zerolinewidth": 2
          }
         }
        }
       }
      },
      "text/html": [
       "<div>                            <div id=\"8c8428c4-f750-4792-af51-48746f40c101\" class=\"plotly-graph-div\" style=\"height:525px; width:100%;\"></div>            <script type=\"text/javascript\">                require([\"plotly\"], function(Plotly) {                    window.PLOTLYENV=window.PLOTLYENV || {};                                    if (document.getElementById(\"8c8428c4-f750-4792-af51-48746f40c101\")) {                    Plotly.newPlot(                        \"8c8428c4-f750-4792-af51-48746f40c101\",                        [{\"close\":[11440.2,11464.55,11463.8,11471.85,11467.25,11462.15,11442.4,11431.6,11433.15,11416.15,11433.75,11445.45,11431.8,11432.75,11438.1,11443.7,11441.55,11439.15,11432.5,11434.1,11426.05,11424.55,11424.65,11423.8,11423.65,11423.85,11424.9,11423.3,11426.2,11427.05,11432.9,11431.1,11430.35,11425.55,11425.25,11425.65,11428.3,11424.95,11425.0,11421.55,11420.3,11419.2,11413.05,11404.95,11409.65,11412.45,11409.05,11405.55,11413.5,11418.45,11420.2,11421.5,11423.15,11424.8,11420.65,11418.95,11418.5,11418.25,11424.25,11422.05,11421.75,11420.2,11420.9,11423.05,11430.15,11430.35,11425.6,11421.3,11419.0,11415.65,11412.7,11412.95,11415.0,11415.2,11413.05,11413.35,11414.7,11416.0,11421.1,11420.8,11418.95,11409.75,11410.75,11412.05,11412.25,11411.35,11415.3,11415.15,11418.0,11418.8,11421.35,11421.4,11418.7,11418.55,11420.3,11419.1,11417.8,11420.65,11427.9,11427.8,11426.15,11426.75,11426.5,11427.35,11427.85,11429.1,11430.8,11431.1,11442.7,11440.6,11449.3,11448.0,11457.2,11449.95,11447.95,11446.6,11445.2,11442.75,11441.8,11442.5,11444.75,11441.6,11440.2,11440.95,11444.25,11458.65,11449.7,11453.45,11449.4,11448.45,11443.45,11442.8,11443.1,11444.65,11444.6,11444.8,11449.95,11446.4,11452.5,11449.75,11445.25,11439.4,11437.9,11435.45,11430.75,11429.1,11429.85,11427.5,11426.4,11429.7,11427.1,11431.2,11433.65,11434.95,11436.55,11436.7,11434.45,11426.65,11427.8,11418.65,11420.55,11422.4,11423.1,11423.4,11424.85,11424.05,11420.25,11419.4,11425.35,11424.05,11420.7,11421.8,11419.2,11421.25,11419.3,11416.7,11416.8,11416.1,11410.55,11407.7,11396.35,11393.2,11397.7,11395.8,11394.85,11395.7,11397.6,11398.95,11402.2,11407.15,11406.7,11402.05,11401.15,11400.4,11401.0,11398.2,11397.45,11400.9,11398.0,11400.25,11400.4,11397.4,11394.4,11396.45,11402.3,11402.4,11401.5,11399.3,11398.6,11399.95,11400.25,11377.9,11372.05,11368.5,11375.85,11378.25,11380.8,11380.5,11382.3,11368.05,11368.95,11373.5,11375.45,11368.3,11367.4,11362.45,11361.9,11365.55,11370.3,11371.75,11365.0,11370.1,11376.7,11375.65,11374.6,11376.3,11380.55,11383.7,11386.75,11383.05,11386.35,11393.7,11393.0,11394.45,11387.6,11388.45,11389.3,11385.45,11382.1,11381.5,11379.5,11374.85,11375.8,11367.7,11380.65,11381.5,11385.7,11387.05,11390.75,11389.65,11395.4,11387.0,11391.6,11395.75,11393.5,11399.05,11405.25,11409.9,11404.3,11402.1,11400.6,11400.5,11398.3,11400.65,11403.15,11400.8,11400.4,11403.1,11402.8,11401.15,11399.8,11403.5,11400.8,11400.65,11398.45,11396.25,11396.8,11395.35,11398.7,11397.45,11396.1,11397.0,11396.45,11381.2,11383.95,11387.7,11391.05,11400.45,11399.85,11398.85,11398.05,11398.2,11399.65,11397.75,11400.3,11399.9,11400.9,11398.15,11397.05,11397.6,11399.45,11401.2,11400.85,11408.05,11403.4,11397.3,11401.45,11405.55,11406.45,11412.45,11413.75,11413.95,11408.7,11402.95,11401.15,11400.4,11402.95,11410.25,11410.35,11388.45,11389.65,11398.8,11400.2,11401.95,11403.0,11398.5,11402.45,11402.7,11405.05,11411.85,11412.95,11406.8,11406.4,11410.25,11410.6,11408.7,11406.45,11403.35,11402.8,11409.3,11417.5,11420.95,11415.15,11418.45,11413.95,11415.9,11415.25,11413.05,11414.15,11418.65,11418.5,11420.4,11417.55,11421.85,11421.3,11421.75,11420.1,11418.9,11414.75,11412.6,11416.5,11419.3,11419.4,11417.55,11411.8,11406.2],\"high\":[11440.2,11465.8,11466.15,11471.85,11470.95,11467.15,11457.0,11441.95,11437.3,11431.7,11433.75,11445.45,11444.65,11435.95,11438.1,11443.7,11442.5,11443.0,11439.75,11434.45,11433.8,11424.95,11424.8,11427.5,11424.5,11425.4,11425.7,11426.0,11426.2,11429.85,11432.9,11434.2,11431.65,11428.6,11426.25,11426.6,11430.4,11428.85,11425.25,11425.1,11421.2,11421.0,11420.1,11412.75,11412.4,11412.45,11410.65,11408.6,11413.8,11418.45,11420.8,11421.5,11426.2,11425.65,11426.65,11422.7,11419.0,11419.3,11424.25,11424.35,11423.3,11421.65,11421.15,11423.35,11430.15,11431.5,11430.1,11426.9,11422.3,11419.85,11414.95,11416.35,11415.35,11415.2,11417.05,11415.25,11415.0,11416.65,11421.95,11421.7,11420.7,11419.2,11412.15,11412.9,11412.8,11413.1,11415.3,11416.75,11418.0,11419.65,11422.05,11421.8,11421.2,11419.95,11420.6,11420.5,11419.3,11421.0,11427.9,11428.55,11427.7,11428.1,11428.5,11429.5,11429.9,11429.1,11432.7,11431.3,11442.75,11443.55,11449.3,11449.4,11457.2,11456.65,11450.55,11447.8,11448.45,11446.8,11444.75,11442.85,11444.85,11442.45,11441.9,11440.95,11445.4,11458.65,11460.05,11453.45,11454.05,11451.55,11447.9,11445.25,11443.1,11446.5,11444.85,11444.8,11449.95,11449.7,11453.15,11453.05,11449.85,11446.45,11440.65,11437.85,11435.8,11431.05,11430.05,11428.9,11427.05,11429.7,11428.7,11432.15,11433.65,11437.05,11437.3,11437.15,11436.65,11434.55,11427.95,11427.25,11423.15,11422.5,11423.75,11423.85,11424.9,11426.0,11424.7,11420.8,11427.05,11424.95,11425.45,11422.95,11421.1,11421.85,11420.6,11421.2,11419.05,11416.85,11416.1,11410.95,11400.4,11396.85,11400.15,11399.85,11396.5,11398.1,11399.5,11398.95,11402.2,11407.4,11407.7,11407.5,11402.95,11402.2,11402.4,11401.15,11399.0,11402.7,11402.35,11400.25,11401.5,11399.4,11397.7,11397.25,11402.3,11403.9,11402.9,11402.8,11399.4,11400.9,11407.05,11394.8,11380.95,11370.9,11375.95,11378.25,11383.2,11383.35,11383.15,11384.55,11368.95,11373.6,11375.45,11373.9,11368.2,11372.0,11363.9,11365.55,11371.45,11371.75,11373.8,11370.1,11376.7,11377.9,11375.8,11376.3,11380.55,11384.0,11386.75,11387.1,11386.55,11397.4,11395.25,11395.6,11393.3,11388.45,11390.7,11389.15,11386.1,11382.2,11381.65,11378.7,11376.85,11376.6,11380.75,11382.65,11386.3,11388.0,11390.9,11391.3,11395.4,11395.0,11391.95,11395.75,11395.1,11399.25,11405.25,11409.9,11408.65,11404.1,11403.65,11402.6,11400.9,11400.65,11403.15,11402.6,11402.1,11403.1,11403.3,11403.1,11403.1,11403.5,11403.1,11401.6,11399.9,11398.55,11398.55,11398.5,11399.0,11399.65,11397.85,11398.4,11397.1,11392.75,11386.35,11387.7,11391.25,11400.45,11400.5,11399.7,11399.5,11398.65,11399.65,11399.75,11400.3,11402.05,11403.1,11400.65,11400.45,11400.05,11402.85,11401.2,11401.65,11408.15,11407.9,11405.9,11403.9,11405.75,11409.1,11413.1,11413.75,11416.25,11412.25,11407.6,11403.3,11402.3,11405.75,11410.25,11412.55,11402.65,11389.65,11398.8,11400.2,11402.2,11404.55,11404.85,11405.4,11403.85,11405.05,11411.85,11414.0,11414.45,11409.15,11410.25,11411.25,11409.65,11409.0,11407.8,11404.0,11409.3,11420.85,11422.95,11421.65,11418.45,11417.65,11417.1,11415.25,11416.25,11416.15,11418.65,11422.25,11420.4,11422.2,11421.85,11423.0,11422.55,11422.8,11422.75,11420.4,11417.1,11416.95,11420.05,11420.4,11419.85,11418.0,11412.7],\"low\":[11440.2,11456.4,11461.05,11467.05,11466.0,11462.15,11442.05,11431.6,11425.5,11416.15,11419.2,11435.3,11431.8,11428.1,11429.95,11438.4,11439.05,11439.15,11432.5,11430.3,11426.05,11423.45,11422.95,11423.8,11422.5,11422.65,11422.45,11423.15,11423.65,11426.85,11427.45,11431.1,11428.35,11423.7,11425.25,11424.1,11426.45,11424.95,11422.8,11421.3,11419.95,11419.15,11413.05,11404.95,11406.8,11404.6,11406.0,11405.55,11405.7,11414.8,11418.05,11419.2,11422.25,11422.85,11420.65,11417.25,11416.35,11417.1,11419.0,11420.8,11421.7,11419.2,11419.85,11419.55,11424.1,11430.2,11425.6,11421.05,11418.25,11415.25,11412.55,11412.95,11413.85,11413.55,11412.95,11411.9,11413.6,11414.8,11417.35,11420.3,11418.35,11409.75,11409.0,11410.85,11411.35,11410.6,11413.05,11413.65,11415.45,11417.45,11419.5,11419.85,11418.7,11418.55,11419.15,11418.6,11417.8,11419.0,11424.65,11427.15,11426.15,11424.9,11424.25,11426.6,11427.7,11427.5,11429.0,11430.05,11431.15,11440.6,11442.95,11446.7,11446.7,11449.95,11447.35,11444.75,11444.6,11442.75,11439.4,11439.95,11442.7,11439.9,11439.15,11440.2,11440.6,11444.6,11449.7,11447.7,11449.4,11446.65,11443.45,11442.8,11440.5,11442.95,11443.15,11443.8,11445.7,11446.4,11447.4,11449.75,11445.25,11439.4,11436.4,11435.1,11430.25,11429.1,11428.45,11426.6,11424.6,11425.55,11427.1,11428.2,11429.6,11433.1,11434.85,11436.15,11434.45,11426.65,11426.45,11418.65,11419.9,11419.2,11422.45,11422.9,11421.95,11423.85,11420.05,11419.4,11419.3,11423.6,11420.7,11420.25,11419.2,11419.2,11418.75,11416.7,11416.1,11415.2,11410.55,11406.0,11394.05,11389.55,11395.1,11394.8,11393.95,11393.45,11395.45,11397.45,11399.55,11400.9,11406.4,11402.05,11399.9,11399.85,11399.9,11397.7,11396.05,11396.7,11398.0,11397.7,11399.9,11395.45,11394.4,11395.2,11397.65,11401.6,11401.5,11398.8,11398.0,11397.95,11400.25,11376.9,11369.65,11364.4,11367.45,11372.45,11377.95,11380.5,11380.5,11368.05,11365.25,11368.35,11373.45,11368.3,11366.1,11362.45,11361.65,11362.7,11366.25,11370.85,11365.0,11364.9,11370.4,11374.9,11373.65,11374.25,11374.95,11379.65,11383.65,11383.05,11383.15,11387.05,11391.9,11393.25,11387.6,11384.3,11388.5,11385.35,11382.1,11380.9,11377.05,11374.25,11375.8,11367.7,11367.0,11380.65,11382.1,11386.45,11387.45,11389.4,11390.25,11385.2,11387.65,11392.2,11392.65,11394.05,11399.35,11402.8,11402.85,11402.1,11400.4,11399.55,11394.85,11397.8,11399.6,11400.8,11399.7,11401.15,11401.9,11400.55,11399.8,11400.55,11400.8,11399.1,11398.45,11396.0,11395.3,11393.95,11394.65,11397.45,11396.1,11395.9,11395.9,11380.0,11381.6,11384.15,11387.35,11392.25,11398.25,11397.95,11397.65,11396.8,11395.95,11397.15,11397.95,11399.15,11399.75,11398.15,11397.05,11396.25,11397.85,11398.65,11399.15,11404.35,11400.8,11392.95,11396.35,11401.6,11406.45,11406.55,11411.4,11412.0,11407.65,11402.8,11400.95,11398.9,11400.55,11405.0,11409.1,11388.45,11381.4,11389.05,11397.05,11399.5,11402.5,11395.85,11400.2,11401.35,11402.0,11403.9,11411.85,11406.8,11406.4,11406.85,11407.5,11407.25,11406.45,11402.05,11402.65,11401.8,11413.2,11415.35,11414.25,11414.05,11412.9,11412.35,11412.45,11412.45,11412.55,11416.05,11417.95,11417.1,11415.85,11416.7,11419.6,11419.25,11420.1,11418.9,11414.65,11412.6,11413.45,11415.55,11417.2,11415.75,11411.6,11404.75],\"open\":[11440.2,11463.2,11466.15,11467.05,11470.0,11466.3,11457.0,11440.65,11432.45,11431.7,11419.2,11435.3,11444.05,11430.75,11431.7,11439.6,11442.5,11441.95,11439.3,11432.35,11433.8,11424.05,11424.65,11424.2,11423.85,11424.05,11422.75,11423.9,11423.65,11426.85,11427.45,11432.95,11431.65,11428.6,11425.8,11425.3,11426.45,11428.65,11423.75,11424.95,11421.2,11421.0,11419.8,11412.75,11406.8,11404.6,11410.65,11408.6,11405.7,11414.9,11418.05,11420.1,11422.25,11423.2,11425.7,11421.0,11418.4,11418.3,11419.0,11424.35,11423.2,11421.25,11419.85,11420.2,11424.1,11430.7,11430.1,11426.9,11421.05,11419.45,11414.95,11414.25,11414.05,11414.55,11415.5,11411.9,11413.6,11414.8,11417.35,11420.95,11420.1,11418.9,11412.15,11412.6,11412.1,11412.0,11413.2,11415.1,11415.45,11417.45,11420.4,11421.2,11421.2,11418.95,11419.15,11420.5,11419.15,11419.0,11425.05,11427.25,11426.75,11428.1,11424.25,11426.6,11428.1,11428.05,11429.0,11431.1,11431.15,11442.8,11443.95,11449.4,11446.7,11456.65,11450.2,11447.8,11444.6,11446.2,11442.35,11440.7,11442.85,11442.45,11440.2,11440.3,11441.15,11444.6,11460.05,11447.7,11452.85,11449.5,11446.65,11445.25,11441.2,11443.35,11443.85,11444.15,11446.3,11449.7,11447.4,11452.05,11448.8,11446.45,11439.8,11437.35,11435.8,11430.05,11429.25,11426.6,11425.85,11425.55,11428.3,11428.2,11431.3,11433.1,11435.0,11436.85,11436.65,11433.05,11427.35,11426.95,11419.9,11421.05,11422.45,11423.3,11421.95,11424.25,11424.7,11420.2,11419.95,11424.85,11424.75,11421.05,11420.85,11419.25,11420.5,11421.0,11416.4,11416.85,11415.5,11410.95,11400.4,11396.85,11395.1,11399.85,11396.5,11393.45,11397.5,11397.45,11399.7,11401.5,11406.4,11407.5,11402.85,11401.85,11400.45,11400.3,11399.0,11396.7,11401.4,11397.8,11400.1,11399.4,11396.25,11395.5,11397.65,11402.35,11402.3,11401.3,11398.65,11399.25,11400.7,11394.8,11380.95,11369.8,11369.4,11376.45,11378.05,11381.2,11381.55,11384.55,11367.15,11368.35,11374.8,11373.9,11367.85,11368.1,11363.15,11362.9,11366.25,11371.1,11372.35,11364.9,11370.65,11377.5,11374.55,11375.05,11375.6,11380.4,11383.65,11387.1,11383.65,11387.05,11394.4,11393.25,11393.3,11384.85,11388.5,11388.9,11383.85,11382.2,11381.65,11378.7,11375.9,11375.05,11368.05,11382.65,11382.55,11388.0,11387.65,11391.3,11390.25,11394.4,11388.2,11392.2,11395.1,11394.05,11399.35,11406.35,11408.65,11403.8,11403.65,11400.85,11400.9,11398.65,11400.7,11402.6,11400.75,11401.35,11403.3,11402.25,11400.45,11400.55,11402.45,11401.6,11399.8,11398.55,11398.5,11397.2,11395.1,11399.65,11397.2,11396.6,11397.1,11392.75,11381.6,11385.05,11387.6,11392.25,11400.5,11398.95,11399.15,11398.65,11399.05,11397.45,11398.3,11399.15,11399.75,11400.65,11400.45,11397.6,11397.85,11401.2,11399.15,11404.35,11407.9,11405.45,11396.35,11402.45,11408.9,11406.85,11411.6,11414.6,11411.5,11407.6,11402.85,11401.55,11402.25,11405.0,11411.3,11402.65,11384.7,11389.5,11397.9,11400.8,11402.5,11403.15,11400.2,11402.35,11402.0,11403.9,11411.95,11414.45,11407.1,11408.2,11409.5,11409.65,11409.0,11406.35,11402.85,11401.8,11413.2,11417.65,11421.65,11416.7,11415.4,11412.35,11414.65,11416.25,11412.55,11416.65,11420.0,11418.95,11422.2,11416.7,11419.6,11421.05,11421.7,11419.55,11418.95,11415.65,11414.4,11415.55,11420.4,11418.65,11416.45,11411.05],\"type\":\"candlestick\",\"x\":[\"09:09\",\"09:16\",\"09:17\",\"09:18\",\"09:19\",\"09:20\",\"09:21\",\"09:22\",\"09:23\",\"09:24\",\"09:25\",\"09:26\",\"09:27\",\"09:28\",\"09:29\",\"09:30\",\"09:31\",\"09:32\",\"09:33\",\"09:34\",\"09:35\",\"09:36\",\"09:37\",\"09:38\",\"09:39\",\"09:40\",\"09:41\",\"09:42\",\"09:43\",\"09:44\",\"09:45\",\"09:46\",\"09:47\",\"09:48\",\"09:49\",\"09:50\",\"09:51\",\"09:52\",\"09:53\",\"09:54\",\"09:55\",\"09:56\",\"09:57\",\"09:58\",\"09:59\",\"10:00\",\"10:01\",\"10:02\",\"10:03\",\"10:04\",\"10:05\",\"10:06\",\"10:07\",\"10:08\",\"10:09\",\"10:10\",\"10:11\",\"10:12\",\"10:13\",\"10:14\",\"10:15\",\"10:16\",\"10:17\",\"10:18\",\"10:19\",\"10:20\",\"10:21\",\"10:22\",\"10:23\",\"10:24\",\"10:25\",\"10:26\",\"10:27\",\"10:28\",\"10:29\",\"10:30\",\"10:31\",\"10:32\",\"10:33\",\"10:34\",\"10:35\",\"10:36\",\"10:37\",\"10:38\",\"10:39\",\"10:40\",\"10:41\",\"10:42\",\"10:43\",\"10:44\",\"10:45\",\"10:46\",\"10:47\",\"10:48\",\"10:49\",\"10:50\",\"10:51\",\"10:52\",\"10:53\",\"10:54\",\"10:55\",\"10:56\",\"10:57\",\"10:58\",\"10:59\",\"11:00\",\"11:01\",\"11:02\",\"11:03\",\"11:04\",\"11:05\",\"11:06\",\"11:07\",\"11:08\",\"11:09\",\"11:10\",\"11:11\",\"11:12\",\"11:13\",\"11:14\",\"11:15\",\"11:16\",\"11:17\",\"11:18\",\"11:19\",\"11:20\",\"11:21\",\"11:22\",\"11:23\",\"11:24\",\"11:25\",\"11:26\",\"11:27\",\"11:28\",\"11:29\",\"11:30\",\"11:31\",\"11:32\",\"11:33\",\"11:34\",\"11:35\",\"11:36\",\"11:37\",\"11:38\",\"11:39\",\"11:40\",\"11:41\",\"11:42\",\"11:43\",\"11:44\",\"11:45\",\"11:46\",\"11:47\",\"11:48\",\"11:49\",\"11:50\",\"11:51\",\"11:52\",\"11:53\",\"11:54\",\"11:55\",\"11:56\",\"11:57\",\"11:58\",\"11:59\",\"12:00\",\"12:01\",\"12:02\",\"12:03\",\"12:04\",\"12:05\",\"12:06\",\"12:07\",\"12:08\",\"12:09\",\"12:10\",\"12:11\",\"12:12\",\"12:13\",\"12:14\",\"12:15\",\"12:16\",\"12:17\",\"12:18\",\"12:19\",\"12:20\",\"12:21\",\"12:22\",\"12:23\",\"12:24\",\"12:25\",\"12:26\",\"12:27\",\"12:28\",\"12:29\",\"12:30\",\"12:31\",\"12:32\",\"12:33\",\"12:34\",\"12:35\",\"12:36\",\"12:37\",\"12:38\",\"12:39\",\"12:40\",\"12:41\",\"12:42\",\"12:43\",\"12:44\",\"12:45\",\"12:46\",\"12:47\",\"12:48\",\"12:49\",\"12:50\",\"12:51\",\"12:52\",\"12:53\",\"12:54\",\"12:55\",\"12:56\",\"12:57\",\"12:58\",\"12:59\",\"13:00\",\"13:01\",\"13:02\",\"13:03\",\"13:04\",\"13:05\",\"13:06\",\"13:07\",\"13:08\",\"13:09\",\"13:10\",\"13:11\",\"13:12\",\"13:13\",\"13:14\",\"13:15\",\"13:16\",\"13:17\",\"13:18\",\"13:19\",\"13:20\",\"13:21\",\"13:22\",\"13:23\",\"13:24\",\"13:25\",\"13:26\",\"13:27\",\"13:28\",\"13:29\",\"13:30\",\"13:31\",\"13:32\",\"13:33\",\"13:34\",\"13:35\",\"13:36\",\"13:37\",\"13:38\",\"13:39\",\"13:40\",\"13:41\",\"13:42\",\"13:43\",\"13:44\",\"13:45\",\"13:46\",\"13:47\",\"13:48\",\"13:49\",\"13:50\",\"13:51\",\"13:52\",\"13:53\",\"13:54\",\"13:55\",\"13:56\",\"13:57\",\"13:58\",\"13:59\",\"14:00\",\"14:01\",\"14:02\",\"14:03\",\"14:04\",\"14:05\",\"14:06\",\"14:07\",\"14:08\",\"14:09\",\"14:10\",\"14:11\",\"14:12\",\"14:13\",\"14:14\",\"14:15\",\"14:16\",\"14:17\",\"14:18\",\"14:19\",\"14:20\",\"14:21\",\"14:22\",\"14:23\",\"14:24\",\"14:25\",\"14:26\",\"14:27\",\"14:28\",\"14:29\",\"14:30\",\"14:31\",\"14:32\",\"14:33\",\"14:34\",\"14:35\",\"14:36\",\"14:37\",\"14:38\",\"14:39\",\"14:40\",\"14:41\",\"14:42\",\"14:43\",\"14:44\",\"14:45\",\"14:46\",\"14:47\",\"14:48\",\"14:49\",\"14:50\",\"14:51\",\"14:52\",\"14:53\",\"14:54\",\"14:55\",\"14:56\",\"14:57\",\"14:58\",\"14:59\",\"15:00\",\"15:01\",\"15:02\",\"15:03\",\"15:04\",\"15:05\",\"15:06\",\"15:07\",\"15:08\",\"15:09\",\"15:10\",\"15:11\",\"15:12\",\"15:13\",\"15:14\",\"15:15\",\"15:16\",\"15:17\",\"15:18\",\"15:19\",\"15:20\",\"15:21\",\"15:22\",\"15:23\",\"15:24\",\"15:25\",\"15:26\",\"15:27\",\"15:28\",\"15:29\",\"15:30\"]},{\"type\":\"scatter\",\"x\":[[\"09:09\",\"09:16\",\"09:17\",\"09:18\",\"09:19\",\"09:20\",\"09:21\",\"09:22\",\"09:23\",\"09:24\",\"09:25\",\"09:26\",\"09:27\",\"09:28\",\"09:29\",\"09:30\",\"09:31\",\"09:32\",\"09:33\",\"09:34\",\"09:35\",\"09:36\",\"09:37\",\"09:38\",\"09:39\",\"09:40\",\"09:41\",\"09:42\",\"09:43\",\"09:44\",\"09:45\",\"09:46\",\"09:47\",\"09:48\",\"09:49\",\"09:50\",\"09:51\",\"09:52\",\"09:53\",\"09:54\",\"09:55\",\"09:56\",\"09:57\",\"09:58\",\"09:59\",\"10:00\",\"10:01\",\"10:02\",\"10:03\",\"10:04\",\"10:05\",\"10:06\",\"10:07\",\"10:08\",\"10:09\",\"10:10\",\"10:11\",\"10:12\",\"10:13\",\"10:14\",\"10:15\",\"10:16\",\"10:17\",\"10:18\",\"10:19\",\"10:20\",\"10:21\",\"10:22\",\"10:23\",\"10:24\",\"10:25\",\"10:26\",\"10:27\",\"10:28\",\"10:29\",\"10:30\",\"10:31\",\"10:32\",\"10:33\",\"10:34\",\"10:35\",\"10:36\",\"10:37\",\"10:38\",\"10:39\",\"10:40\",\"10:41\",\"10:42\",\"10:43\",\"10:44\",\"10:45\",\"10:46\",\"10:47\",\"10:48\",\"10:49\",\"10:50\",\"10:51\",\"10:52\",\"10:53\",\"10:54\",\"10:55\",\"10:56\",\"10:57\",\"10:58\",\"10:59\",\"11:00\",\"11:01\",\"11:02\",\"11:03\",\"11:04\",\"11:05\",\"11:06\",\"11:07\",\"11:08\",\"11:09\",\"11:10\",\"11:11\",\"11:12\",\"11:13\",\"11:14\",\"11:15\",\"11:16\",\"11:17\",\"11:18\",\"11:19\",\"11:20\",\"11:21\",\"11:22\",\"11:23\",\"11:24\",\"11:25\",\"11:26\",\"11:27\",\"11:28\",\"11:29\",\"11:30\",\"11:31\",\"11:32\",\"11:33\",\"11:34\",\"11:35\",\"11:36\",\"11:37\",\"11:38\",\"11:39\",\"11:40\",\"11:41\",\"11:42\",\"11:43\",\"11:44\",\"11:45\",\"11:46\",\"11:47\",\"11:48\",\"11:49\",\"11:50\",\"11:51\",\"11:52\",\"11:53\",\"11:54\",\"11:55\",\"11:56\",\"11:57\",\"11:58\",\"11:59\",\"12:00\",\"12:01\",\"12:02\",\"12:03\",\"12:04\",\"12:05\",\"12:06\",\"12:07\",\"12:08\",\"12:09\",\"12:10\",\"12:11\",\"12:12\",\"12:13\",\"12:14\",\"12:15\",\"12:16\",\"12:17\",\"12:18\",\"12:19\",\"12:20\",\"12:21\",\"12:22\",\"12:23\",\"12:24\",\"12:25\",\"12:26\",\"12:27\",\"12:28\",\"12:29\",\"12:30\",\"12:31\",\"12:32\",\"12:33\",\"12:34\",\"12:35\",\"12:36\",\"12:37\",\"12:38\",\"12:39\",\"12:40\",\"12:41\",\"12:42\",\"12:43\",\"12:44\",\"12:45\",\"12:46\",\"12:47\",\"12:48\",\"12:49\",\"12:50\",\"12:51\",\"12:52\",\"12:53\",\"12:54\",\"12:55\",\"12:56\",\"12:57\",\"12:58\",\"12:59\",\"13:00\",\"13:01\",\"13:02\",\"13:03\",\"13:04\",\"13:05\",\"13:06\",\"13:07\",\"13:08\",\"13:09\",\"13:10\",\"13:11\",\"13:12\",\"13:13\",\"13:14\",\"13:15\",\"13:16\",\"13:17\",\"13:18\",\"13:19\",\"13:20\",\"13:21\",\"13:22\",\"13:23\",\"13:24\",\"13:25\",\"13:26\",\"13:27\",\"13:28\",\"13:29\",\"13:30\",\"13:31\",\"13:32\",\"13:33\",\"13:34\",\"13:35\",\"13:36\",\"13:37\",\"13:38\",\"13:39\",\"13:40\",\"13:41\",\"13:42\",\"13:43\",\"13:44\",\"13:45\",\"13:46\",\"13:47\",\"13:48\",\"13:49\",\"13:50\",\"13:51\",\"13:52\",\"13:53\",\"13:54\",\"13:55\",\"13:56\",\"13:57\",\"13:58\",\"13:59\",\"14:00\",\"14:01\",\"14:02\",\"14:03\",\"14:04\",\"14:05\",\"14:06\",\"14:07\",\"14:08\",\"14:09\",\"14:10\",\"14:11\",\"14:12\",\"14:13\",\"14:14\",\"14:15\",\"14:16\",\"14:17\",\"14:18\",\"14:19\",\"14:20\",\"14:21\",\"14:22\",\"14:23\",\"14:24\",\"14:25\",\"14:26\",\"14:27\",\"14:28\",\"14:29\",\"14:30\",\"14:31\",\"14:32\",\"14:33\",\"14:34\",\"14:35\",\"14:36\",\"14:37\",\"14:38\",\"14:39\",\"14:40\",\"14:41\",\"14:42\",\"14:43\",\"14:44\",\"14:45\",\"14:46\",\"14:47\",\"14:48\",\"14:49\",\"14:50\",\"14:51\",\"14:52\",\"14:53\",\"14:54\",\"14:55\",\"14:56\",\"14:57\",\"14:58\",\"14:59\",\"15:00\",\"15:01\",\"15:02\",\"15:03\",\"15:04\",\"15:05\",\"15:06\",\"15:07\",\"15:08\",\"15:09\",\"15:10\",\"15:11\",\"15:12\",\"15:13\",\"15:14\",\"15:15\",\"15:16\",\"15:17\",\"15:18\",\"15:19\",\"15:20\",\"15:21\",\"15:22\",\"15:23\",\"15:24\",\"15:25\",\"15:26\",\"15:27\",\"15:28\",\"15:29\",\"15:30\"]],\"y\":[[342610.6,342653.875,342698.2,342749.15,342801.9,342851.05,342885.175,342905.825,342920.125,342928.0,342941.05000000005,342974.525,343005.15,343027.675,343049.14999999997,343074.175,343098.85000000003,343120.45,343132.64999999997,343142.55,343148.05,343149.85,343153.7,343155.7,343156.175,343155.4,343150.975,343143.925,343135.375,343128.55,343118.525,343086.67500000005,343052.69999999995,343010.32499999995,342967.225,342928.475,342906.14999999997,342896.82499999995,342888.39999999997,342887.725,342882.0,342861.72500000003,342840.225,342817.32499999995,342790.65,342757.52499999997,342725.35,342691.875,342665.575,342649.02499999997,342638.225,342634.725,342632.77499999997,342632.77499999997,342632.19999999995,342628.22500000003,342622.85000000003,342617.52499999997,342614.225,342610.475,342602.77499999997,342591.47500000003,342580.85,342575.4,342577.0,342582.05000000005,342582.525,342579.825,342575.47500000003,342569.775,342562.85000000003,342556.35,342554.45,342560.47500000003,342566.52499999997,342570.625,342574.925,342583.25,342592.875,342597.075,342597.47500000003,342591.00000000006,342579.75,342568.075,342557.075,342548.775,342544.575,342541.42500000005,342536.525,342531.45,342529.85000000003,342530.425,342530.0,342527.125,342519.725,342509.0,342499.625,342495.35000000003,342501.8,342511.775,342524.39999999997,342538.22500000003,342549.075,342561.175,342574.875,342590.825,342606.575,342622.27499999997,342639.975,342660.8,342687.89999999997,342722.27499999997,342762.775,342803.75,342840.65,342876.175,342906.82499999995,342936.175,342961.525,342985.0,343007.925,343028.65,343048.9,343070.775,343093.75,343125.57499999995,343161.975,343192.725,343217.375,343238.825,343257.42500000005,343274.02499999997,343290.8,343307.825,343324.075,343339.97500000003,343358.2,343375.15,343388.17500000005,343397.375,343397.775,343392.0,343378.9,343362.0,343346.2,343328.575,343313.22500000003,343295.8,343279.85,343265.875,343249.775,343237.45,343229.725,343223.125,343216.2,343201.35000000003,343182.025,343161.3,343137.75,343111.57499999995,343086.75,343064.45,343045.075,343024.425,343003.60000000003,342983.27499999997,342957.625,342929.375,342902.075,342875.625,342851.325,342829.825,342811.0,342794.85000000003,342781.475,342770.75,342757.8,342747.225,342734.125,342715.825,342686.5,342651.82499999995,342615.75,342579.55,342539.45,342497.25,342459.25,342427.60000000003,342400.97500000003,342382.5,342368.825,342351.875,342331.1,342308.875,342286.2,342261.30000000005,342237.05,342216.05,342193.1,342167.67500000005,342145.2,342122.175,342097.475,342073.19999999995,342053.275,342036.8,342022.1,342005.92500000005,341991.525,341981.8,341983.89999999997,341975.22500000003,341955.325,341926.64999999997,341903.6,341886.375,341868.25,341850.89999999997,341831.875,341803.85000000003,341765.35,341731.5,341704.625,341674.60000000003,341641.5,341607.52499999997,341571.825,341537.25,341505.825,341478.225,341446.64999999997,341415.75,341394.1,341374.7,341349.3,341322.6,341298.775,341280.52499999997,341267.1,341252.575,341237.10000000003,341241.125,341258.325,341283.025,341300.85000000003,341310.14999999997,341319.625,341325.95,341327.0,341332.55,341345.075,341350.925,341351.65,341351.925,341358.64999999997,341375.45,341397.05,341420.35000000003,341441.27499999997,341460.325,341484.47500000003,341507.675,341523.9,341541.3,341561.025,341581.9,341606.125,341632.2,341653.475,341671.35,341688.475,341698.77499999997,341704.675,341710.475,341721.94999999995,341737.0,341748.675,341763.72500000003,341783.8,341803.65,341823.2,341848.45,341874.225,341903.975,341928.75,341944.075,341957.6,341966.35,341974.05000000005,341982.125,341985.94999999995,341992.05000000005,341998.925,341991.92500000005,341980.39999999997,341970.225,341957.25,341945.475,341939.17500000005,341935.125,341931.60000000003,341929.35000000003,341929.1,341927.05000000005,341924.425,341922.25,341922.0,341919.175,341914.875,341910.77499999997,341909.3,341908.47500000003,341906.85000000003,341911.925,341918.45,341922.425,341923.67500000005,341931.4,341942.175,341953.27499999997,341969.30000000005,341986.77499999997,342000.10000000003,342018.39999999997,342037.625,342052.22500000003,342065.5,342076.775,342087.425,342084.075,342072.64999999997,342068.375,342068.075,342071.85,342075.3,342076.60000000003,342077.60000000003,342080.725,342085.5,342095.775,342109.575,342119.0,342125.75,342128.775,342133.175,342140.975,342149.8,342150.64999999997,342145.8,342141.7,342144.375,342149.4,342157.69999999995,342170.0,342182.67500000005,342195.82499999995,342208.175,342215.2,342217.725,342239.825,342271.9,342297.425,342318.25,342336.15,342353.85,342374.425,342394.0,342410.7,342424.025,342430.275,342433.27499999997,342440.07499999995,342453.225,342462.1,342466.175,342465.625]]}],                        {\"template\":{\"data\":{\"bar\":[{\"error_x\":{\"color\":\"#2a3f5f\"},\"error_y\":{\"color\":\"#2a3f5f\"},\"marker\":{\"line\":{\"color\":\"#E5ECF6\",\"width\":0.5},\"pattern\":{\"fillmode\":\"overlay\",\"size\":10,\"solidity\":0.2}},\"type\":\"bar\"}],\"barpolar\":[{\"marker\":{\"line\":{\"color\":\"#E5ECF6\",\"width\":0.5},\"pattern\":{\"fillmode\":\"overlay\",\"size\":10,\"solidity\":0.2}},\"type\":\"barpolar\"}],\"carpet\":[{\"aaxis\":{\"endlinecolor\":\"#2a3f5f\",\"gridcolor\":\"white\",\"linecolor\":\"white\",\"minorgridcolor\":\"white\",\"startlinecolor\":\"#2a3f5f\"},\"baxis\":{\"endlinecolor\":\"#2a3f5f\",\"gridcolor\":\"white\",\"linecolor\":\"white\",\"minorgridcolor\":\"white\",\"startlinecolor\":\"#2a3f5f\"},\"type\":\"carpet\"}],\"choropleth\":[{\"colorbar\":{\"outlinewidth\":0,\"ticks\":\"\"},\"type\":\"choropleth\"}],\"contour\":[{\"colorbar\":{\"outlinewidth\":0,\"ticks\":\"\"},\"colorscale\":[[0.0,\"#0d0887\"],[0.1111111111111111,\"#46039f\"],[0.2222222222222222,\"#7201a8\"],[0.3333333333333333,\"#9c179e\"],[0.4444444444444444,\"#bd3786\"],[0.5555555555555556,\"#d8576b\"],[0.6666666666666666,\"#ed7953\"],[0.7777777777777778,\"#fb9f3a\"],[0.8888888888888888,\"#fdca26\"],[1.0,\"#f0f921\"]],\"type\":\"contour\"}],\"contourcarpet\":[{\"colorbar\":{\"outlinewidth\":0,\"ticks\":\"\"},\"type\":\"contourcarpet\"}],\"heatmap\":[{\"colorbar\":{\"outlinewidth\":0,\"ticks\":\"\"},\"colorscale\":[[0.0,\"#0d0887\"],[0.1111111111111111,\"#46039f\"],[0.2222222222222222,\"#7201a8\"],[0.3333333333333333,\"#9c179e\"],[0.4444444444444444,\"#bd3786\"],[0.5555555555555556,\"#d8576b\"],[0.6666666666666666,\"#ed7953\"],[0.7777777777777778,\"#fb9f3a\"],[0.8888888888888888,\"#fdca26\"],[1.0,\"#f0f921\"]],\"type\":\"heatmap\"}],\"heatmapgl\":[{\"colorbar\":{\"outlinewidth\":0,\"ticks\":\"\"},\"colorscale\":[[0.0,\"#0d0887\"],[0.1111111111111111,\"#46039f\"],[0.2222222222222222,\"#7201a8\"],[0.3333333333333333,\"#9c179e\"],[0.4444444444444444,\"#bd3786\"],[0.5555555555555556,\"#d8576b\"],[0.6666666666666666,\"#ed7953\"],[0.7777777777777778,\"#fb9f3a\"],[0.8888888888888888,\"#fdca26\"],[1.0,\"#f0f921\"]],\"type\":\"heatmapgl\"}],\"histogram\":[{\"marker\":{\"pattern\":{\"fillmode\":\"overlay\",\"size\":10,\"solidity\":0.2}},\"type\":\"histogram\"}],\"histogram2d\":[{\"colorbar\":{\"outlinewidth\":0,\"ticks\":\"\"},\"colorscale\":[[0.0,\"#0d0887\"],[0.1111111111111111,\"#46039f\"],[0.2222222222222222,\"#7201a8\"],[0.3333333333333333,\"#9c179e\"],[0.4444444444444444,\"#bd3786\"],[0.5555555555555556,\"#d8576b\"],[0.6666666666666666,\"#ed7953\"],[0.7777777777777778,\"#fb9f3a\"],[0.8888888888888888,\"#fdca26\"],[1.0,\"#f0f921\"]],\"type\":\"histogram2d\"}],\"histogram2dcontour\":[{\"colorbar\":{\"outlinewidth\":0,\"ticks\":\"\"},\"colorscale\":[[0.0,\"#0d0887\"],[0.1111111111111111,\"#46039f\"],[0.2222222222222222,\"#7201a8\"],[0.3333333333333333,\"#9c179e\"],[0.4444444444444444,\"#bd3786\"],[0.5555555555555556,\"#d8576b\"],[0.6666666666666666,\"#ed7953\"],[0.7777777777777778,\"#fb9f3a\"],[0.8888888888888888,\"#fdca26\"],[1.0,\"#f0f921\"]],\"type\":\"histogram2dcontour\"}],\"mesh3d\":[{\"colorbar\":{\"outlinewidth\":0,\"ticks\":\"\"},\"type\":\"mesh3d\"}],\"parcoords\":[{\"line\":{\"colorbar\":{\"outlinewidth\":0,\"ticks\":\"\"}},\"type\":\"parcoords\"}],\"pie\":[{\"automargin\":true,\"type\":\"pie\"}],\"scatter\":[{\"marker\":{\"colorbar\":{\"outlinewidth\":0,\"ticks\":\"\"}},\"type\":\"scatter\"}],\"scatter3d\":[{\"line\":{\"colorbar\":{\"outlinewidth\":0,\"ticks\":\"\"}},\"marker\":{\"colorbar\":{\"outlinewidth\":0,\"ticks\":\"\"}},\"type\":\"scatter3d\"}],\"scattercarpet\":[{\"marker\":{\"colorbar\":{\"outlinewidth\":0,\"ticks\":\"\"}},\"type\":\"scattercarpet\"}],\"scattergeo\":[{\"marker\":{\"colorbar\":{\"outlinewidth\":0,\"ticks\":\"\"}},\"type\":\"scattergeo\"}],\"scattergl\":[{\"marker\":{\"colorbar\":{\"outlinewidth\":0,\"ticks\":\"\"}},\"type\":\"scattergl\"}],\"scattermapbox\":[{\"marker\":{\"colorbar\":{\"outlinewidth\":0,\"ticks\":\"\"}},\"type\":\"scattermapbox\"}],\"scatterpolar\":[{\"marker\":{\"colorbar\":{\"outlinewidth\":0,\"ticks\":\"\"}},\"type\":\"scatterpolar\"}],\"scatterpolargl\":[{\"marker\":{\"colorbar\":{\"outlinewidth\":0,\"ticks\":\"\"}},\"type\":\"scatterpolargl\"}],\"scatterternary\":[{\"marker\":{\"colorbar\":{\"outlinewidth\":0,\"ticks\":\"\"}},\"type\":\"scatterternary\"}],\"surface\":[{\"colorbar\":{\"outlinewidth\":0,\"ticks\":\"\"},\"colorscale\":[[0.0,\"#0d0887\"],[0.1111111111111111,\"#46039f\"],[0.2222222222222222,\"#7201a8\"],[0.3333333333333333,\"#9c179e\"],[0.4444444444444444,\"#bd3786\"],[0.5555555555555556,\"#d8576b\"],[0.6666666666666666,\"#ed7953\"],[0.7777777777777778,\"#fb9f3a\"],[0.8888888888888888,\"#fdca26\"],[1.0,\"#f0f921\"]],\"type\":\"surface\"}],\"table\":[{\"cells\":{\"fill\":{\"color\":\"#EBF0F8\"},\"line\":{\"color\":\"white\"}},\"header\":{\"fill\":{\"color\":\"#C8D4E3\"},\"line\":{\"color\":\"white\"}},\"type\":\"table\"}]},\"layout\":{\"annotationdefaults\":{\"arrowcolor\":\"#2a3f5f\",\"arrowhead\":0,\"arrowwidth\":1},\"autotypenumbers\":\"strict\",\"coloraxis\":{\"colorbar\":{\"outlinewidth\":0,\"ticks\":\"\"}},\"colorscale\":{\"diverging\":[[0,\"#8e0152\"],[0.1,\"#c51b7d\"],[0.2,\"#de77ae\"],[0.3,\"#f1b6da\"],[0.4,\"#fde0ef\"],[0.5,\"#f7f7f7\"],[0.6,\"#e6f5d0\"],[0.7,\"#b8e186\"],[0.8,\"#7fbc41\"],[0.9,\"#4d9221\"],[1,\"#276419\"]],\"sequential\":[[0.0,\"#0d0887\"],[0.1111111111111111,\"#46039f\"],[0.2222222222222222,\"#7201a8\"],[0.3333333333333333,\"#9c179e\"],[0.4444444444444444,\"#bd3786\"],[0.5555555555555556,\"#d8576b\"],[0.6666666666666666,\"#ed7953\"],[0.7777777777777778,\"#fb9f3a\"],[0.8888888888888888,\"#fdca26\"],[1.0,\"#f0f921\"]],\"sequentialminus\":[[0.0,\"#0d0887\"],[0.1111111111111111,\"#46039f\"],[0.2222222222222222,\"#7201a8\"],[0.3333333333333333,\"#9c179e\"],[0.4444444444444444,\"#bd3786\"],[0.5555555555555556,\"#d8576b\"],[0.6666666666666666,\"#ed7953\"],[0.7777777777777778,\"#fb9f3a\"],[0.8888888888888888,\"#fdca26\"],[1.0,\"#f0f921\"]]},\"colorway\":[\"#636efa\",\"#EF553B\",\"#00cc96\",\"#ab63fa\",\"#FFA15A\",\"#19d3f3\",\"#FF6692\",\"#B6E880\",\"#FF97FF\",\"#FECB52\"],\"font\":{\"color\":\"#2a3f5f\"},\"geo\":{\"bgcolor\":\"white\",\"lakecolor\":\"white\",\"landcolor\":\"#E5ECF6\",\"showlakes\":true,\"showland\":true,\"subunitcolor\":\"white\"},\"hoverlabel\":{\"align\":\"left\"},\"hovermode\":\"closest\",\"mapbox\":{\"style\":\"light\"},\"paper_bgcolor\":\"white\",\"plot_bgcolor\":\"#E5ECF6\",\"polar\":{\"angularaxis\":{\"gridcolor\":\"white\",\"linecolor\":\"white\",\"ticks\":\"\"},\"bgcolor\":\"#E5ECF6\",\"radialaxis\":{\"gridcolor\":\"white\",\"linecolor\":\"white\",\"ticks\":\"\"}},\"scene\":{\"xaxis\":{\"backgroundcolor\":\"#E5ECF6\",\"gridcolor\":\"white\",\"gridwidth\":2,\"linecolor\":\"white\",\"showbackground\":true,\"ticks\":\"\",\"zerolinecolor\":\"white\"},\"yaxis\":{\"backgroundcolor\":\"#E5ECF6\",\"gridcolor\":\"white\",\"gridwidth\":2,\"linecolor\":\"white\",\"showbackground\":true,\"ticks\":\"\",\"zerolinecolor\":\"white\"},\"zaxis\":{\"backgroundcolor\":\"#E5ECF6\",\"gridcolor\":\"white\",\"gridwidth\":2,\"linecolor\":\"white\",\"showbackground\":true,\"ticks\":\"\",\"zerolinecolor\":\"white\"}},\"shapedefaults\":{\"line\":{\"color\":\"#2a3f5f\"}},\"ternary\":{\"aaxis\":{\"gridcolor\":\"white\",\"linecolor\":\"white\",\"ticks\":\"\"},\"baxis\":{\"gridcolor\":\"white\",\"linecolor\":\"white\",\"ticks\":\"\"},\"bgcolor\":\"#E5ECF6\",\"caxis\":{\"gridcolor\":\"white\",\"linecolor\":\"white\",\"ticks\":\"\"}},\"title\":{\"x\":0.05},\"xaxis\":{\"automargin\":true,\"gridcolor\":\"white\",\"linecolor\":\"white\",\"ticks\":\"\",\"title\":{\"standoff\":15},\"zerolinecolor\":\"white\",\"zerolinewidth\":2},\"yaxis\":{\"automargin\":true,\"gridcolor\":\"white\",\"linecolor\":\"white\",\"ticks\":\"\",\"title\":{\"standoff\":15},\"zerolinecolor\":\"white\",\"zerolinewidth\":2}}}},                        {\"responsive\": true}                    ).then(function(){\n",
       "                            \n",
       "var gd = document.getElementById('8c8428c4-f750-4792-af51-48746f40c101');\n",
       "var x = new MutationObserver(function (mutations, observer) {{\n",
       "        var display = window.getComputedStyle(gd).display;\n",
       "        if (!display || display === 'none') {{\n",
       "            console.log([gd, 'removed!']);\n",
       "            Plotly.purge(gd);\n",
       "            observer.disconnect();\n",
       "        }}\n",
       "}});\n",
       "\n",
       "// Listen for the removal of the full notebook cells\n",
       "var notebookContainer = gd.closest('#notebook-container');\n",
       "if (notebookContainer) {{\n",
       "    x.observe(notebookContainer, {childList: true});\n",
       "}}\n",
       "\n",
       "// Listen for the clearing of the current output cell\n",
       "var outputEl = gd.closest('.output');\n",
       "if (outputEl) {{\n",
       "    x.observe(outputEl, {childList: true});\n",
       "}}\n",
       "\n",
       "                        })                };                });            </script>        </div>"
      ]
     },
     "metadata": {},
     "output_type": "display_data"
    }
   ],
   "source": [
    "fig.add_traces(\n",
    "        go.Line(\n",
    "            x=[sample['Time']],\n",
    "            y= [sample['rm30']] ,\n",
    "#             mode=\"markers+text\",\n",
    "#             marker=mkr,\n",
    "    #         text = 'important',\n",
    "    #         textposition = 'middle right'\n",
    "\n",
    "        )\n",
    "    )"
   ]
  },
  {
   "cell_type": "code",
   "execution_count": 54,
   "id": "d15c4d64",
   "metadata": {},
   "outputs": [
    {
     "data": {
      "application/vnd.plotly.v1+json": {
       "config": {
        "plotlyServerURL": "https://plot.ly"
       },
       "data": [
        {
         "close": [
          11440.2,
          11464.55,
          11463.8,
          11471.85,
          11467.25,
          11462.15,
          11442.4,
          11431.6,
          11433.15,
          11416.15,
          11433.75,
          11445.45,
          11431.8,
          11432.75,
          11438.1,
          11443.7,
          11441.55,
          11439.15,
          11432.5,
          11434.1,
          11426.05,
          11424.55,
          11424.65,
          11423.8,
          11423.65,
          11423.85,
          11424.9,
          11423.3,
          11426.2,
          11427.05,
          11432.9,
          11431.1,
          11430.35,
          11425.55,
          11425.25,
          11425.65,
          11428.3,
          11424.95,
          11425,
          11421.55,
          11420.3,
          11419.2,
          11413.05,
          11404.95,
          11409.65,
          11412.45,
          11409.05,
          11405.55,
          11413.5,
          11418.45,
          11420.2,
          11421.5,
          11423.15,
          11424.8,
          11420.65,
          11418.95,
          11418.5,
          11418.25,
          11424.25,
          11422.05,
          11421.75,
          11420.2,
          11420.9,
          11423.05,
          11430.15,
          11430.35,
          11425.6,
          11421.3,
          11419,
          11415.65,
          11412.7,
          11412.95,
          11415,
          11415.2,
          11413.05,
          11413.35,
          11414.7,
          11416,
          11421.1,
          11420.8,
          11418.95,
          11409.75,
          11410.75,
          11412.05,
          11412.25,
          11411.35,
          11415.3,
          11415.15,
          11418,
          11418.8,
          11421.35,
          11421.4,
          11418.7,
          11418.55,
          11420.3,
          11419.1,
          11417.8,
          11420.65,
          11427.9,
          11427.8,
          11426.15,
          11426.75,
          11426.5,
          11427.35,
          11427.85,
          11429.1,
          11430.8,
          11431.1,
          11442.7,
          11440.6,
          11449.3,
          11448,
          11457.2,
          11449.95,
          11447.95,
          11446.6,
          11445.2,
          11442.75,
          11441.8,
          11442.5,
          11444.75,
          11441.6,
          11440.2,
          11440.95,
          11444.25,
          11458.65,
          11449.7,
          11453.45,
          11449.4,
          11448.45,
          11443.45,
          11442.8,
          11443.1,
          11444.65,
          11444.6,
          11444.8,
          11449.95,
          11446.4,
          11452.5,
          11449.75,
          11445.25,
          11439.4,
          11437.9,
          11435.45,
          11430.75,
          11429.1,
          11429.85,
          11427.5,
          11426.4,
          11429.7,
          11427.1,
          11431.2,
          11433.65,
          11434.95,
          11436.55,
          11436.7,
          11434.45,
          11426.65,
          11427.8,
          11418.65,
          11420.55,
          11422.4,
          11423.1,
          11423.4,
          11424.85,
          11424.05,
          11420.25,
          11419.4,
          11425.35,
          11424.05,
          11420.7,
          11421.8,
          11419.2,
          11421.25,
          11419.3,
          11416.7,
          11416.8,
          11416.1,
          11410.55,
          11407.7,
          11396.35,
          11393.2,
          11397.7,
          11395.8,
          11394.85,
          11395.7,
          11397.6,
          11398.95,
          11402.2,
          11407.15,
          11406.7,
          11402.05,
          11401.15,
          11400.4,
          11401,
          11398.2,
          11397.45,
          11400.9,
          11398,
          11400.25,
          11400.4,
          11397.4,
          11394.4,
          11396.45,
          11402.3,
          11402.4,
          11401.5,
          11399.3,
          11398.6,
          11399.95,
          11400.25,
          11377.9,
          11372.05,
          11368.5,
          11375.85,
          11378.25,
          11380.8,
          11380.5,
          11382.3,
          11368.05,
          11368.95,
          11373.5,
          11375.45,
          11368.3,
          11367.4,
          11362.45,
          11361.9,
          11365.55,
          11370.3,
          11371.75,
          11365,
          11370.1,
          11376.7,
          11375.65,
          11374.6,
          11376.3,
          11380.55,
          11383.7,
          11386.75,
          11383.05,
          11386.35,
          11393.7,
          11393,
          11394.45,
          11387.6,
          11388.45,
          11389.3,
          11385.45,
          11382.1,
          11381.5,
          11379.5,
          11374.85,
          11375.8,
          11367.7,
          11380.65,
          11381.5,
          11385.7,
          11387.05,
          11390.75,
          11389.65,
          11395.4,
          11387,
          11391.6,
          11395.75,
          11393.5,
          11399.05,
          11405.25,
          11409.9,
          11404.3,
          11402.1,
          11400.6,
          11400.5,
          11398.3,
          11400.65,
          11403.15,
          11400.8,
          11400.4,
          11403.1,
          11402.8,
          11401.15,
          11399.8,
          11403.5,
          11400.8,
          11400.65,
          11398.45,
          11396.25,
          11396.8,
          11395.35,
          11398.7,
          11397.45,
          11396.1,
          11397,
          11396.45,
          11381.2,
          11383.95,
          11387.7,
          11391.05,
          11400.45,
          11399.85,
          11398.85,
          11398.05,
          11398.2,
          11399.65,
          11397.75,
          11400.3,
          11399.9,
          11400.9,
          11398.15,
          11397.05,
          11397.6,
          11399.45,
          11401.2,
          11400.85,
          11408.05,
          11403.4,
          11397.3,
          11401.45,
          11405.55,
          11406.45,
          11412.45,
          11413.75,
          11413.95,
          11408.7,
          11402.95,
          11401.15,
          11400.4,
          11402.95,
          11410.25,
          11410.35,
          11388.45,
          11389.65,
          11398.8,
          11400.2,
          11401.95,
          11403,
          11398.5,
          11402.45,
          11402.7,
          11405.05,
          11411.85,
          11412.95,
          11406.8,
          11406.4,
          11410.25,
          11410.6,
          11408.7,
          11406.45,
          11403.35,
          11402.8,
          11409.3,
          11417.5,
          11420.95,
          11415.15,
          11418.45,
          11413.95,
          11415.9,
          11415.25,
          11413.05,
          11414.15,
          11418.65,
          11418.5,
          11420.4,
          11417.55,
          11421.85,
          11421.3,
          11421.75,
          11420.1,
          11418.9,
          11414.75,
          11412.6,
          11416.5,
          11419.3,
          11419.4,
          11417.55,
          11411.8,
          11406.2
         ],
         "high": [
          11440.2,
          11465.8,
          11466.15,
          11471.85,
          11470.95,
          11467.15,
          11457,
          11441.95,
          11437.3,
          11431.7,
          11433.75,
          11445.45,
          11444.65,
          11435.95,
          11438.1,
          11443.7,
          11442.5,
          11443,
          11439.75,
          11434.45,
          11433.8,
          11424.95,
          11424.8,
          11427.5,
          11424.5,
          11425.4,
          11425.7,
          11426,
          11426.2,
          11429.85,
          11432.9,
          11434.2,
          11431.65,
          11428.6,
          11426.25,
          11426.6,
          11430.4,
          11428.85,
          11425.25,
          11425.1,
          11421.2,
          11421,
          11420.1,
          11412.75,
          11412.4,
          11412.45,
          11410.65,
          11408.6,
          11413.8,
          11418.45,
          11420.8,
          11421.5,
          11426.2,
          11425.65,
          11426.65,
          11422.7,
          11419,
          11419.3,
          11424.25,
          11424.35,
          11423.3,
          11421.65,
          11421.15,
          11423.35,
          11430.15,
          11431.5,
          11430.1,
          11426.9,
          11422.3,
          11419.85,
          11414.95,
          11416.35,
          11415.35,
          11415.2,
          11417.05,
          11415.25,
          11415,
          11416.65,
          11421.95,
          11421.7,
          11420.7,
          11419.2,
          11412.15,
          11412.9,
          11412.8,
          11413.1,
          11415.3,
          11416.75,
          11418,
          11419.65,
          11422.05,
          11421.8,
          11421.2,
          11419.95,
          11420.6,
          11420.5,
          11419.3,
          11421,
          11427.9,
          11428.55,
          11427.7,
          11428.1,
          11428.5,
          11429.5,
          11429.9,
          11429.1,
          11432.7,
          11431.3,
          11442.75,
          11443.55,
          11449.3,
          11449.4,
          11457.2,
          11456.65,
          11450.55,
          11447.8,
          11448.45,
          11446.8,
          11444.75,
          11442.85,
          11444.85,
          11442.45,
          11441.9,
          11440.95,
          11445.4,
          11458.65,
          11460.05,
          11453.45,
          11454.05,
          11451.55,
          11447.9,
          11445.25,
          11443.1,
          11446.5,
          11444.85,
          11444.8,
          11449.95,
          11449.7,
          11453.15,
          11453.05,
          11449.85,
          11446.45,
          11440.65,
          11437.85,
          11435.8,
          11431.05,
          11430.05,
          11428.9,
          11427.05,
          11429.7,
          11428.7,
          11432.15,
          11433.65,
          11437.05,
          11437.3,
          11437.15,
          11436.65,
          11434.55,
          11427.95,
          11427.25,
          11423.15,
          11422.5,
          11423.75,
          11423.85,
          11424.9,
          11426,
          11424.7,
          11420.8,
          11427.05,
          11424.95,
          11425.45,
          11422.95,
          11421.1,
          11421.85,
          11420.6,
          11421.2,
          11419.05,
          11416.85,
          11416.1,
          11410.95,
          11400.4,
          11396.85,
          11400.15,
          11399.85,
          11396.5,
          11398.1,
          11399.5,
          11398.95,
          11402.2,
          11407.4,
          11407.7,
          11407.5,
          11402.95,
          11402.2,
          11402.4,
          11401.15,
          11399,
          11402.7,
          11402.35,
          11400.25,
          11401.5,
          11399.4,
          11397.7,
          11397.25,
          11402.3,
          11403.9,
          11402.9,
          11402.8,
          11399.4,
          11400.9,
          11407.05,
          11394.8,
          11380.95,
          11370.9,
          11375.95,
          11378.25,
          11383.2,
          11383.35,
          11383.15,
          11384.55,
          11368.95,
          11373.6,
          11375.45,
          11373.9,
          11368.2,
          11372,
          11363.9,
          11365.55,
          11371.45,
          11371.75,
          11373.8,
          11370.1,
          11376.7,
          11377.9,
          11375.8,
          11376.3,
          11380.55,
          11384,
          11386.75,
          11387.1,
          11386.55,
          11397.4,
          11395.25,
          11395.6,
          11393.3,
          11388.45,
          11390.7,
          11389.15,
          11386.1,
          11382.2,
          11381.65,
          11378.7,
          11376.85,
          11376.6,
          11380.75,
          11382.65,
          11386.3,
          11388,
          11390.9,
          11391.3,
          11395.4,
          11395,
          11391.95,
          11395.75,
          11395.1,
          11399.25,
          11405.25,
          11409.9,
          11408.65,
          11404.1,
          11403.65,
          11402.6,
          11400.9,
          11400.65,
          11403.15,
          11402.6,
          11402.1,
          11403.1,
          11403.3,
          11403.1,
          11403.1,
          11403.5,
          11403.1,
          11401.6,
          11399.9,
          11398.55,
          11398.55,
          11398.5,
          11399,
          11399.65,
          11397.85,
          11398.4,
          11397.1,
          11392.75,
          11386.35,
          11387.7,
          11391.25,
          11400.45,
          11400.5,
          11399.7,
          11399.5,
          11398.65,
          11399.65,
          11399.75,
          11400.3,
          11402.05,
          11403.1,
          11400.65,
          11400.45,
          11400.05,
          11402.85,
          11401.2,
          11401.65,
          11408.15,
          11407.9,
          11405.9,
          11403.9,
          11405.75,
          11409.1,
          11413.1,
          11413.75,
          11416.25,
          11412.25,
          11407.6,
          11403.3,
          11402.3,
          11405.75,
          11410.25,
          11412.55,
          11402.65,
          11389.65,
          11398.8,
          11400.2,
          11402.2,
          11404.55,
          11404.85,
          11405.4,
          11403.85,
          11405.05,
          11411.85,
          11414,
          11414.45,
          11409.15,
          11410.25,
          11411.25,
          11409.65,
          11409,
          11407.8,
          11404,
          11409.3,
          11420.85,
          11422.95,
          11421.65,
          11418.45,
          11417.65,
          11417.1,
          11415.25,
          11416.25,
          11416.15,
          11418.65,
          11422.25,
          11420.4,
          11422.2,
          11421.85,
          11423,
          11422.55,
          11422.8,
          11422.75,
          11420.4,
          11417.1,
          11416.95,
          11420.05,
          11420.4,
          11419.85,
          11418,
          11412.7
         ],
         "low": [
          11440.2,
          11456.4,
          11461.05,
          11467.05,
          11466,
          11462.15,
          11442.05,
          11431.6,
          11425.5,
          11416.15,
          11419.2,
          11435.3,
          11431.8,
          11428.1,
          11429.95,
          11438.4,
          11439.05,
          11439.15,
          11432.5,
          11430.3,
          11426.05,
          11423.45,
          11422.95,
          11423.8,
          11422.5,
          11422.65,
          11422.45,
          11423.15,
          11423.65,
          11426.85,
          11427.45,
          11431.1,
          11428.35,
          11423.7,
          11425.25,
          11424.1,
          11426.45,
          11424.95,
          11422.8,
          11421.3,
          11419.95,
          11419.15,
          11413.05,
          11404.95,
          11406.8,
          11404.6,
          11406,
          11405.55,
          11405.7,
          11414.8,
          11418.05,
          11419.2,
          11422.25,
          11422.85,
          11420.65,
          11417.25,
          11416.35,
          11417.1,
          11419,
          11420.8,
          11421.7,
          11419.2,
          11419.85,
          11419.55,
          11424.1,
          11430.2,
          11425.6,
          11421.05,
          11418.25,
          11415.25,
          11412.55,
          11412.95,
          11413.85,
          11413.55,
          11412.95,
          11411.9,
          11413.6,
          11414.8,
          11417.35,
          11420.3,
          11418.35,
          11409.75,
          11409,
          11410.85,
          11411.35,
          11410.6,
          11413.05,
          11413.65,
          11415.45,
          11417.45,
          11419.5,
          11419.85,
          11418.7,
          11418.55,
          11419.15,
          11418.6,
          11417.8,
          11419,
          11424.65,
          11427.15,
          11426.15,
          11424.9,
          11424.25,
          11426.6,
          11427.7,
          11427.5,
          11429,
          11430.05,
          11431.15,
          11440.6,
          11442.95,
          11446.7,
          11446.7,
          11449.95,
          11447.35,
          11444.75,
          11444.6,
          11442.75,
          11439.4,
          11439.95,
          11442.7,
          11439.9,
          11439.15,
          11440.2,
          11440.6,
          11444.6,
          11449.7,
          11447.7,
          11449.4,
          11446.65,
          11443.45,
          11442.8,
          11440.5,
          11442.95,
          11443.15,
          11443.8,
          11445.7,
          11446.4,
          11447.4,
          11449.75,
          11445.25,
          11439.4,
          11436.4,
          11435.1,
          11430.25,
          11429.1,
          11428.45,
          11426.6,
          11424.6,
          11425.55,
          11427.1,
          11428.2,
          11429.6,
          11433.1,
          11434.85,
          11436.15,
          11434.45,
          11426.65,
          11426.45,
          11418.65,
          11419.9,
          11419.2,
          11422.45,
          11422.9,
          11421.95,
          11423.85,
          11420.05,
          11419.4,
          11419.3,
          11423.6,
          11420.7,
          11420.25,
          11419.2,
          11419.2,
          11418.75,
          11416.7,
          11416.1,
          11415.2,
          11410.55,
          11406,
          11394.05,
          11389.55,
          11395.1,
          11394.8,
          11393.95,
          11393.45,
          11395.45,
          11397.45,
          11399.55,
          11400.9,
          11406.4,
          11402.05,
          11399.9,
          11399.85,
          11399.9,
          11397.7,
          11396.05,
          11396.7,
          11398,
          11397.7,
          11399.9,
          11395.45,
          11394.4,
          11395.2,
          11397.65,
          11401.6,
          11401.5,
          11398.8,
          11398,
          11397.95,
          11400.25,
          11376.9,
          11369.65,
          11364.4,
          11367.45,
          11372.45,
          11377.95,
          11380.5,
          11380.5,
          11368.05,
          11365.25,
          11368.35,
          11373.45,
          11368.3,
          11366.1,
          11362.45,
          11361.65,
          11362.7,
          11366.25,
          11370.85,
          11365,
          11364.9,
          11370.4,
          11374.9,
          11373.65,
          11374.25,
          11374.95,
          11379.65,
          11383.65,
          11383.05,
          11383.15,
          11387.05,
          11391.9,
          11393.25,
          11387.6,
          11384.3,
          11388.5,
          11385.35,
          11382.1,
          11380.9,
          11377.05,
          11374.25,
          11375.8,
          11367.7,
          11367,
          11380.65,
          11382.1,
          11386.45,
          11387.45,
          11389.4,
          11390.25,
          11385.2,
          11387.65,
          11392.2,
          11392.65,
          11394.05,
          11399.35,
          11402.8,
          11402.85,
          11402.1,
          11400.4,
          11399.55,
          11394.85,
          11397.8,
          11399.6,
          11400.8,
          11399.7,
          11401.15,
          11401.9,
          11400.55,
          11399.8,
          11400.55,
          11400.8,
          11399.1,
          11398.45,
          11396,
          11395.3,
          11393.95,
          11394.65,
          11397.45,
          11396.1,
          11395.9,
          11395.9,
          11380,
          11381.6,
          11384.15,
          11387.35,
          11392.25,
          11398.25,
          11397.95,
          11397.65,
          11396.8,
          11395.95,
          11397.15,
          11397.95,
          11399.15,
          11399.75,
          11398.15,
          11397.05,
          11396.25,
          11397.85,
          11398.65,
          11399.15,
          11404.35,
          11400.8,
          11392.95,
          11396.35,
          11401.6,
          11406.45,
          11406.55,
          11411.4,
          11412,
          11407.65,
          11402.8,
          11400.95,
          11398.9,
          11400.55,
          11405,
          11409.1,
          11388.45,
          11381.4,
          11389.05,
          11397.05,
          11399.5,
          11402.5,
          11395.85,
          11400.2,
          11401.35,
          11402,
          11403.9,
          11411.85,
          11406.8,
          11406.4,
          11406.85,
          11407.5,
          11407.25,
          11406.45,
          11402.05,
          11402.65,
          11401.8,
          11413.2,
          11415.35,
          11414.25,
          11414.05,
          11412.9,
          11412.35,
          11412.45,
          11412.45,
          11412.55,
          11416.05,
          11417.95,
          11417.1,
          11415.85,
          11416.7,
          11419.6,
          11419.25,
          11420.1,
          11418.9,
          11414.65,
          11412.6,
          11413.45,
          11415.55,
          11417.2,
          11415.75,
          11411.6,
          11404.75
         ],
         "open": [
          11440.2,
          11463.2,
          11466.15,
          11467.05,
          11470,
          11466.3,
          11457,
          11440.65,
          11432.45,
          11431.7,
          11419.2,
          11435.3,
          11444.05,
          11430.75,
          11431.7,
          11439.6,
          11442.5,
          11441.95,
          11439.3,
          11432.35,
          11433.8,
          11424.05,
          11424.65,
          11424.2,
          11423.85,
          11424.05,
          11422.75,
          11423.9,
          11423.65,
          11426.85,
          11427.45,
          11432.95,
          11431.65,
          11428.6,
          11425.8,
          11425.3,
          11426.45,
          11428.65,
          11423.75,
          11424.95,
          11421.2,
          11421,
          11419.8,
          11412.75,
          11406.8,
          11404.6,
          11410.65,
          11408.6,
          11405.7,
          11414.9,
          11418.05,
          11420.1,
          11422.25,
          11423.2,
          11425.7,
          11421,
          11418.4,
          11418.3,
          11419,
          11424.35,
          11423.2,
          11421.25,
          11419.85,
          11420.2,
          11424.1,
          11430.7,
          11430.1,
          11426.9,
          11421.05,
          11419.45,
          11414.95,
          11414.25,
          11414.05,
          11414.55,
          11415.5,
          11411.9,
          11413.6,
          11414.8,
          11417.35,
          11420.95,
          11420.1,
          11418.9,
          11412.15,
          11412.6,
          11412.1,
          11412,
          11413.2,
          11415.1,
          11415.45,
          11417.45,
          11420.4,
          11421.2,
          11421.2,
          11418.95,
          11419.15,
          11420.5,
          11419.15,
          11419,
          11425.05,
          11427.25,
          11426.75,
          11428.1,
          11424.25,
          11426.6,
          11428.1,
          11428.05,
          11429,
          11431.1,
          11431.15,
          11442.8,
          11443.95,
          11449.4,
          11446.7,
          11456.65,
          11450.2,
          11447.8,
          11444.6,
          11446.2,
          11442.35,
          11440.7,
          11442.85,
          11442.45,
          11440.2,
          11440.3,
          11441.15,
          11444.6,
          11460.05,
          11447.7,
          11452.85,
          11449.5,
          11446.65,
          11445.25,
          11441.2,
          11443.35,
          11443.85,
          11444.15,
          11446.3,
          11449.7,
          11447.4,
          11452.05,
          11448.8,
          11446.45,
          11439.8,
          11437.35,
          11435.8,
          11430.05,
          11429.25,
          11426.6,
          11425.85,
          11425.55,
          11428.3,
          11428.2,
          11431.3,
          11433.1,
          11435,
          11436.85,
          11436.65,
          11433.05,
          11427.35,
          11426.95,
          11419.9,
          11421.05,
          11422.45,
          11423.3,
          11421.95,
          11424.25,
          11424.7,
          11420.2,
          11419.95,
          11424.85,
          11424.75,
          11421.05,
          11420.85,
          11419.25,
          11420.5,
          11421,
          11416.4,
          11416.85,
          11415.5,
          11410.95,
          11400.4,
          11396.85,
          11395.1,
          11399.85,
          11396.5,
          11393.45,
          11397.5,
          11397.45,
          11399.7,
          11401.5,
          11406.4,
          11407.5,
          11402.85,
          11401.85,
          11400.45,
          11400.3,
          11399,
          11396.7,
          11401.4,
          11397.8,
          11400.1,
          11399.4,
          11396.25,
          11395.5,
          11397.65,
          11402.35,
          11402.3,
          11401.3,
          11398.65,
          11399.25,
          11400.7,
          11394.8,
          11380.95,
          11369.8,
          11369.4,
          11376.45,
          11378.05,
          11381.2,
          11381.55,
          11384.55,
          11367.15,
          11368.35,
          11374.8,
          11373.9,
          11367.85,
          11368.1,
          11363.15,
          11362.9,
          11366.25,
          11371.1,
          11372.35,
          11364.9,
          11370.65,
          11377.5,
          11374.55,
          11375.05,
          11375.6,
          11380.4,
          11383.65,
          11387.1,
          11383.65,
          11387.05,
          11394.4,
          11393.25,
          11393.3,
          11384.85,
          11388.5,
          11388.9,
          11383.85,
          11382.2,
          11381.65,
          11378.7,
          11375.9,
          11375.05,
          11368.05,
          11382.65,
          11382.55,
          11388,
          11387.65,
          11391.3,
          11390.25,
          11394.4,
          11388.2,
          11392.2,
          11395.1,
          11394.05,
          11399.35,
          11406.35,
          11408.65,
          11403.8,
          11403.65,
          11400.85,
          11400.9,
          11398.65,
          11400.7,
          11402.6,
          11400.75,
          11401.35,
          11403.3,
          11402.25,
          11400.45,
          11400.55,
          11402.45,
          11401.6,
          11399.8,
          11398.55,
          11398.5,
          11397.2,
          11395.1,
          11399.65,
          11397.2,
          11396.6,
          11397.1,
          11392.75,
          11381.6,
          11385.05,
          11387.6,
          11392.25,
          11400.5,
          11398.95,
          11399.15,
          11398.65,
          11399.05,
          11397.45,
          11398.3,
          11399.15,
          11399.75,
          11400.65,
          11400.45,
          11397.6,
          11397.85,
          11401.2,
          11399.15,
          11404.35,
          11407.9,
          11405.45,
          11396.35,
          11402.45,
          11408.9,
          11406.85,
          11411.6,
          11414.6,
          11411.5,
          11407.6,
          11402.85,
          11401.55,
          11402.25,
          11405,
          11411.3,
          11402.65,
          11384.7,
          11389.5,
          11397.9,
          11400.8,
          11402.5,
          11403.15,
          11400.2,
          11402.35,
          11402,
          11403.9,
          11411.95,
          11414.45,
          11407.1,
          11408.2,
          11409.5,
          11409.65,
          11409,
          11406.35,
          11402.85,
          11401.8,
          11413.2,
          11417.65,
          11421.65,
          11416.7,
          11415.4,
          11412.35,
          11414.65,
          11416.25,
          11412.55,
          11416.65,
          11420,
          11418.95,
          11422.2,
          11416.7,
          11419.6,
          11421.05,
          11421.7,
          11419.55,
          11418.95,
          11415.65,
          11414.4,
          11415.55,
          11420.4,
          11418.65,
          11416.45,
          11411.05
         ],
         "type": "candlestick",
         "x": [
          "09:09",
          "09:16",
          "09:17",
          "09:18",
          "09:19",
          "09:20",
          "09:21",
          "09:22",
          "09:23",
          "09:24",
          "09:25",
          "09:26",
          "09:27",
          "09:28",
          "09:29",
          "09:30",
          "09:31",
          "09:32",
          "09:33",
          "09:34",
          "09:35",
          "09:36",
          "09:37",
          "09:38",
          "09:39",
          "09:40",
          "09:41",
          "09:42",
          "09:43",
          "09:44",
          "09:45",
          "09:46",
          "09:47",
          "09:48",
          "09:49",
          "09:50",
          "09:51",
          "09:52",
          "09:53",
          "09:54",
          "09:55",
          "09:56",
          "09:57",
          "09:58",
          "09:59",
          "10:00",
          "10:01",
          "10:02",
          "10:03",
          "10:04",
          "10:05",
          "10:06",
          "10:07",
          "10:08",
          "10:09",
          "10:10",
          "10:11",
          "10:12",
          "10:13",
          "10:14",
          "10:15",
          "10:16",
          "10:17",
          "10:18",
          "10:19",
          "10:20",
          "10:21",
          "10:22",
          "10:23",
          "10:24",
          "10:25",
          "10:26",
          "10:27",
          "10:28",
          "10:29",
          "10:30",
          "10:31",
          "10:32",
          "10:33",
          "10:34",
          "10:35",
          "10:36",
          "10:37",
          "10:38",
          "10:39",
          "10:40",
          "10:41",
          "10:42",
          "10:43",
          "10:44",
          "10:45",
          "10:46",
          "10:47",
          "10:48",
          "10:49",
          "10:50",
          "10:51",
          "10:52",
          "10:53",
          "10:54",
          "10:55",
          "10:56",
          "10:57",
          "10:58",
          "10:59",
          "11:00",
          "11:01",
          "11:02",
          "11:03",
          "11:04",
          "11:05",
          "11:06",
          "11:07",
          "11:08",
          "11:09",
          "11:10",
          "11:11",
          "11:12",
          "11:13",
          "11:14",
          "11:15",
          "11:16",
          "11:17",
          "11:18",
          "11:19",
          "11:20",
          "11:21",
          "11:22",
          "11:23",
          "11:24",
          "11:25",
          "11:26",
          "11:27",
          "11:28",
          "11:29",
          "11:30",
          "11:31",
          "11:32",
          "11:33",
          "11:34",
          "11:35",
          "11:36",
          "11:37",
          "11:38",
          "11:39",
          "11:40",
          "11:41",
          "11:42",
          "11:43",
          "11:44",
          "11:45",
          "11:46",
          "11:47",
          "11:48",
          "11:49",
          "11:50",
          "11:51",
          "11:52",
          "11:53",
          "11:54",
          "11:55",
          "11:56",
          "11:57",
          "11:58",
          "11:59",
          "12:00",
          "12:01",
          "12:02",
          "12:03",
          "12:04",
          "12:05",
          "12:06",
          "12:07",
          "12:08",
          "12:09",
          "12:10",
          "12:11",
          "12:12",
          "12:13",
          "12:14",
          "12:15",
          "12:16",
          "12:17",
          "12:18",
          "12:19",
          "12:20",
          "12:21",
          "12:22",
          "12:23",
          "12:24",
          "12:25",
          "12:26",
          "12:27",
          "12:28",
          "12:29",
          "12:30",
          "12:31",
          "12:32",
          "12:33",
          "12:34",
          "12:35",
          "12:36",
          "12:37",
          "12:38",
          "12:39",
          "12:40",
          "12:41",
          "12:42",
          "12:43",
          "12:44",
          "12:45",
          "12:46",
          "12:47",
          "12:48",
          "12:49",
          "12:50",
          "12:51",
          "12:52",
          "12:53",
          "12:54",
          "12:55",
          "12:56",
          "12:57",
          "12:58",
          "12:59",
          "13:00",
          "13:01",
          "13:02",
          "13:03",
          "13:04",
          "13:05",
          "13:06",
          "13:07",
          "13:08",
          "13:09",
          "13:10",
          "13:11",
          "13:12",
          "13:13",
          "13:14",
          "13:15",
          "13:16",
          "13:17",
          "13:18",
          "13:19",
          "13:20",
          "13:21",
          "13:22",
          "13:23",
          "13:24",
          "13:25",
          "13:26",
          "13:27",
          "13:28",
          "13:29",
          "13:30",
          "13:31",
          "13:32",
          "13:33",
          "13:34",
          "13:35",
          "13:36",
          "13:37",
          "13:38",
          "13:39",
          "13:40",
          "13:41",
          "13:42",
          "13:43",
          "13:44",
          "13:45",
          "13:46",
          "13:47",
          "13:48",
          "13:49",
          "13:50",
          "13:51",
          "13:52",
          "13:53",
          "13:54",
          "13:55",
          "13:56",
          "13:57",
          "13:58",
          "13:59",
          "14:00",
          "14:01",
          "14:02",
          "14:03",
          "14:04",
          "14:05",
          "14:06",
          "14:07",
          "14:08",
          "14:09",
          "14:10",
          "14:11",
          "14:12",
          "14:13",
          "14:14",
          "14:15",
          "14:16",
          "14:17",
          "14:18",
          "14:19",
          "14:20",
          "14:21",
          "14:22",
          "14:23",
          "14:24",
          "14:25",
          "14:26",
          "14:27",
          "14:28",
          "14:29",
          "14:30",
          "14:31",
          "14:32",
          "14:33",
          "14:34",
          "14:35",
          "14:36",
          "14:37",
          "14:38",
          "14:39",
          "14:40",
          "14:41",
          "14:42",
          "14:43",
          "14:44",
          "14:45",
          "14:46",
          "14:47",
          "14:48",
          "14:49",
          "14:50",
          "14:51",
          "14:52",
          "14:53",
          "14:54",
          "14:55",
          "14:56",
          "14:57",
          "14:58",
          "14:59",
          "15:00",
          "15:01",
          "15:02",
          "15:03",
          "15:04",
          "15:05",
          "15:06",
          "15:07",
          "15:08",
          "15:09",
          "15:10",
          "15:11",
          "15:12",
          "15:13",
          "15:14",
          "15:15",
          "15:16",
          "15:17",
          "15:18",
          "15:19",
          "15:20",
          "15:21",
          "15:22",
          "15:23",
          "15:24",
          "15:25",
          "15:26",
          "15:27",
          "15:28",
          "15:29",
          "15:30"
         ]
        },
        {
         "type": "scatter",
         "x": [
          "09:09"
         ],
         "y": [
          342610.6
         ]
        },
        {
         "type": "scatter",
         "x": [
          "09:16"
         ],
         "y": [
          342653.875
         ]
        },
        {
         "type": "scatter",
         "x": [
          "09:17"
         ],
         "y": [
          342698.2
         ]
        },
        {
         "type": "scatter",
         "x": [
          "09:18"
         ],
         "y": [
          342749.15
         ]
        },
        {
         "type": "scatter",
         "x": [
          "09:19"
         ],
         "y": [
          342801.9
         ]
        },
        {
         "type": "scatter",
         "x": [
          "09:20"
         ],
         "y": [
          342851.05
         ]
        },
        {
         "type": "scatter",
         "x": [
          "09:21"
         ],
         "y": [
          342885.175
         ]
        },
        {
         "type": "scatter",
         "x": [
          "09:22"
         ],
         "y": [
          342905.825
         ]
        },
        {
         "type": "scatter",
         "x": [
          "09:23"
         ],
         "y": [
          342920.125
         ]
        },
        {
         "type": "scatter",
         "x": [
          "09:24"
         ],
         "y": [
          342928
         ]
        },
        {
         "type": "scatter",
         "x": [
          "09:25"
         ],
         "y": [
          342941.05000000005
         ]
        },
        {
         "type": "scatter",
         "x": [
          "09:26"
         ],
         "y": [
          342974.525
         ]
        },
        {
         "type": "scatter",
         "x": [
          "09:27"
         ],
         "y": [
          343005.15
         ]
        },
        {
         "type": "scatter",
         "x": [
          "09:28"
         ],
         "y": [
          343027.675
         ]
        },
        {
         "type": "scatter",
         "x": [
          "09:29"
         ],
         "y": [
          343049.14999999997
         ]
        },
        {
         "type": "scatter",
         "x": [
          "09:30"
         ],
         "y": [
          343074.175
         ]
        },
        {
         "type": "scatter",
         "x": [
          "09:31"
         ],
         "y": [
          343098.85000000003
         ]
        },
        {
         "type": "scatter",
         "x": [
          "09:32"
         ],
         "y": [
          343120.45
         ]
        },
        {
         "type": "scatter",
         "x": [
          "09:33"
         ],
         "y": [
          343132.64999999997
         ]
        },
        {
         "type": "scatter",
         "x": [
          "09:34"
         ],
         "y": [
          343142.55
         ]
        },
        {
         "type": "scatter",
         "x": [
          "09:35"
         ],
         "y": [
          343148.05
         ]
        },
        {
         "type": "scatter",
         "x": [
          "09:36"
         ],
         "y": [
          343149.85
         ]
        },
        {
         "type": "scatter",
         "x": [
          "09:37"
         ],
         "y": [
          343153.7
         ]
        },
        {
         "type": "scatter",
         "x": [
          "09:38"
         ],
         "y": [
          343155.7
         ]
        },
        {
         "type": "scatter",
         "x": [
          "09:39"
         ],
         "y": [
          343156.175
         ]
        },
        {
         "type": "scatter",
         "x": [
          "09:40"
         ],
         "y": [
          343155.4
         ]
        },
        {
         "type": "scatter",
         "x": [
          "09:41"
         ],
         "y": [
          343150.975
         ]
        },
        {
         "type": "scatter",
         "x": [
          "09:42"
         ],
         "y": [
          343143.925
         ]
        },
        {
         "type": "scatter",
         "x": [
          "09:43"
         ],
         "y": [
          343135.375
         ]
        },
        {
         "type": "scatter",
         "x": [
          "09:44"
         ],
         "y": [
          343128.55
         ]
        },
        {
         "type": "scatter",
         "x": [
          "09:45"
         ],
         "y": [
          343118.525
         ]
        },
        {
         "type": "scatter",
         "x": [
          "09:46"
         ],
         "y": [
          343086.67500000005
         ]
        },
        {
         "type": "scatter",
         "x": [
          "09:47"
         ],
         "y": [
          343052.69999999995
         ]
        },
        {
         "type": "scatter",
         "x": [
          "09:48"
         ],
         "y": [
          343010.32499999995
         ]
        },
        {
         "type": "scatter",
         "x": [
          "09:49"
         ],
         "y": [
          342967.225
         ]
        },
        {
         "type": "scatter",
         "x": [
          "09:50"
         ],
         "y": [
          342928.475
         ]
        },
        {
         "type": "scatter",
         "x": [
          "09:51"
         ],
         "y": [
          342906.14999999997
         ]
        },
        {
         "type": "scatter",
         "x": [
          "09:52"
         ],
         "y": [
          342896.82499999995
         ]
        },
        {
         "type": "scatter",
         "x": [
          "09:53"
         ],
         "y": [
          342888.39999999997
         ]
        },
        {
         "type": "scatter",
         "x": [
          "09:54"
         ],
         "y": [
          342887.725
         ]
        },
        {
         "type": "scatter",
         "x": [
          "09:55"
         ],
         "y": [
          342882
         ]
        },
        {
         "type": "scatter",
         "x": [
          "09:56"
         ],
         "y": [
          342861.72500000003
         ]
        },
        {
         "type": "scatter",
         "x": [
          "09:57"
         ],
         "y": [
          342840.225
         ]
        },
        {
         "type": "scatter",
         "x": [
          "09:58"
         ],
         "y": [
          342817.32499999995
         ]
        },
        {
         "type": "scatter",
         "x": [
          "09:59"
         ],
         "y": [
          342790.65
         ]
        },
        {
         "type": "scatter",
         "x": [
          "10:00"
         ],
         "y": [
          342757.52499999997
         ]
        },
        {
         "type": "scatter",
         "x": [
          "10:01"
         ],
         "y": [
          342725.35
         ]
        },
        {
         "type": "scatter",
         "x": [
          "10:02"
         ],
         "y": [
          342691.875
         ]
        },
        {
         "type": "scatter",
         "x": [
          "10:03"
         ],
         "y": [
          342665.575
         ]
        },
        {
         "type": "scatter",
         "x": [
          "10:04"
         ],
         "y": [
          342649.02499999997
         ]
        },
        {
         "type": "scatter",
         "x": [
          "10:05"
         ],
         "y": [
          342638.225
         ]
        },
        {
         "type": "scatter",
         "x": [
          "10:06"
         ],
         "y": [
          342634.725
         ]
        },
        {
         "type": "scatter",
         "x": [
          "10:07"
         ],
         "y": [
          342632.77499999997
         ]
        },
        {
         "type": "scatter",
         "x": [
          "10:08"
         ],
         "y": [
          342632.77499999997
         ]
        },
        {
         "type": "scatter",
         "x": [
          "10:09"
         ],
         "y": [
          342632.19999999995
         ]
        },
        {
         "type": "scatter",
         "x": [
          "10:10"
         ],
         "y": [
          342628.22500000003
         ]
        },
        {
         "type": "scatter",
         "x": [
          "10:11"
         ],
         "y": [
          342622.85000000003
         ]
        },
        {
         "type": "scatter",
         "x": [
          "10:12"
         ],
         "y": [
          342617.52499999997
         ]
        },
        {
         "type": "scatter",
         "x": [
          "10:13"
         ],
         "y": [
          342614.225
         ]
        },
        {
         "type": "scatter",
         "x": [
          "10:14"
         ],
         "y": [
          342610.475
         ]
        },
        {
         "type": "scatter",
         "x": [
          "10:15"
         ],
         "y": [
          342602.77499999997
         ]
        },
        {
         "type": "scatter",
         "x": [
          "10:16"
         ],
         "y": [
          342591.47500000003
         ]
        },
        {
         "type": "scatter",
         "x": [
          "10:17"
         ],
         "y": [
          342580.85
         ]
        },
        {
         "type": "scatter",
         "x": [
          "10:18"
         ],
         "y": [
          342575.4
         ]
        },
        {
         "type": "scatter",
         "x": [
          "10:19"
         ],
         "y": [
          342577
         ]
        },
        {
         "type": "scatter",
         "x": [
          "10:20"
         ],
         "y": [
          342582.05000000005
         ]
        },
        {
         "type": "scatter",
         "x": [
          "10:21"
         ],
         "y": [
          342582.525
         ]
        },
        {
         "type": "scatter",
         "x": [
          "10:22"
         ],
         "y": [
          342579.825
         ]
        },
        {
         "type": "scatter",
         "x": [
          "10:23"
         ],
         "y": [
          342575.47500000003
         ]
        },
        {
         "type": "scatter",
         "x": [
          "10:24"
         ],
         "y": [
          342569.775
         ]
        },
        {
         "type": "scatter",
         "x": [
          "10:25"
         ],
         "y": [
          342562.85000000003
         ]
        },
        {
         "type": "scatter",
         "x": [
          "10:26"
         ],
         "y": [
          342556.35
         ]
        },
        {
         "type": "scatter",
         "x": [
          "10:27"
         ],
         "y": [
          342554.45
         ]
        },
        {
         "type": "scatter",
         "x": [
          "10:28"
         ],
         "y": [
          342560.47500000003
         ]
        },
        {
         "type": "scatter",
         "x": [
          "10:29"
         ],
         "y": [
          342566.52499999997
         ]
        },
        {
         "type": "scatter",
         "x": [
          "10:30"
         ],
         "y": [
          342570.625
         ]
        },
        {
         "type": "scatter",
         "x": [
          "10:31"
         ],
         "y": [
          342574.925
         ]
        },
        {
         "type": "scatter",
         "x": [
          "10:32"
         ],
         "y": [
          342583.25
         ]
        },
        {
         "type": "scatter",
         "x": [
          "10:33"
         ],
         "y": [
          342592.875
         ]
        },
        {
         "type": "scatter",
         "x": [
          "10:34"
         ],
         "y": [
          342597.075
         ]
        },
        {
         "type": "scatter",
         "x": [
          "10:35"
         ],
         "y": [
          342597.47500000003
         ]
        },
        {
         "type": "scatter",
         "x": [
          "10:36"
         ],
         "y": [
          342591.00000000006
         ]
        },
        {
         "type": "scatter",
         "x": [
          "10:37"
         ],
         "y": [
          342579.75
         ]
        },
        {
         "type": "scatter",
         "x": [
          "10:38"
         ],
         "y": [
          342568.075
         ]
        },
        {
         "type": "scatter",
         "x": [
          "10:39"
         ],
         "y": [
          342557.075
         ]
        },
        {
         "type": "scatter",
         "x": [
          "10:40"
         ],
         "y": [
          342548.775
         ]
        },
        {
         "type": "scatter",
         "x": [
          "10:41"
         ],
         "y": [
          342544.575
         ]
        },
        {
         "type": "scatter",
         "x": [
          "10:42"
         ],
         "y": [
          342541.42500000005
         ]
        },
        {
         "type": "scatter",
         "x": [
          "10:43"
         ],
         "y": [
          342536.525
         ]
        },
        {
         "type": "scatter",
         "x": [
          "10:44"
         ],
         "y": [
          342531.45
         ]
        },
        {
         "type": "scatter",
         "x": [
          "10:45"
         ],
         "y": [
          342529.85000000003
         ]
        },
        {
         "type": "scatter",
         "x": [
          "10:46"
         ],
         "y": [
          342530.425
         ]
        },
        {
         "type": "scatter",
         "x": [
          "10:47"
         ],
         "y": [
          342530
         ]
        },
        {
         "type": "scatter",
         "x": [
          "10:48"
         ],
         "y": [
          342527.125
         ]
        },
        {
         "type": "scatter",
         "x": [
          "10:49"
         ],
         "y": [
          342519.725
         ]
        },
        {
         "type": "scatter",
         "x": [
          "10:50"
         ],
         "y": [
          342509
         ]
        },
        {
         "type": "scatter",
         "x": [
          "10:51"
         ],
         "y": [
          342499.625
         ]
        },
        {
         "type": "scatter",
         "x": [
          "10:52"
         ],
         "y": [
          342495.35000000003
         ]
        },
        {
         "type": "scatter",
         "x": [
          "10:53"
         ],
         "y": [
          342501.8
         ]
        },
        {
         "type": "scatter",
         "x": [
          "10:54"
         ],
         "y": [
          342511.775
         ]
        },
        {
         "type": "scatter",
         "x": [
          "10:55"
         ],
         "y": [
          342524.39999999997
         ]
        },
        {
         "type": "scatter",
         "x": [
          "10:56"
         ],
         "y": [
          342538.22500000003
         ]
        },
        {
         "type": "scatter",
         "x": [
          "10:57"
         ],
         "y": [
          342549.075
         ]
        },
        {
         "type": "scatter",
         "x": [
          "10:58"
         ],
         "y": [
          342561.175
         ]
        },
        {
         "type": "scatter",
         "x": [
          "10:59"
         ],
         "y": [
          342574.875
         ]
        },
        {
         "type": "scatter",
         "x": [
          "11:00"
         ],
         "y": [
          342590.825
         ]
        },
        {
         "type": "scatter",
         "x": [
          "11:01"
         ],
         "y": [
          342606.575
         ]
        },
        {
         "type": "scatter",
         "x": [
          "11:02"
         ],
         "y": [
          342622.27499999997
         ]
        },
        {
         "type": "scatter",
         "x": [
          "11:03"
         ],
         "y": [
          342639.975
         ]
        },
        {
         "type": "scatter",
         "x": [
          "11:04"
         ],
         "y": [
          342660.8
         ]
        },
        {
         "type": "scatter",
         "x": [
          "11:05"
         ],
         "y": [
          342687.89999999997
         ]
        },
        {
         "type": "scatter",
         "x": [
          "11:06"
         ],
         "y": [
          342722.27499999997
         ]
        },
        {
         "type": "scatter",
         "x": [
          "11:07"
         ],
         "y": [
          342762.775
         ]
        },
        {
         "type": "scatter",
         "x": [
          "11:08"
         ],
         "y": [
          342803.75
         ]
        },
        {
         "type": "scatter",
         "x": [
          "11:09"
         ],
         "y": [
          342840.65
         ]
        },
        {
         "type": "scatter",
         "x": [
          "11:10"
         ],
         "y": [
          342876.175
         ]
        },
        {
         "type": "scatter",
         "x": [
          "11:11"
         ],
         "y": [
          342906.82499999995
         ]
        },
        {
         "type": "scatter",
         "x": [
          "11:12"
         ],
         "y": [
          342936.175
         ]
        },
        {
         "type": "scatter",
         "x": [
          "11:13"
         ],
         "y": [
          342961.525
         ]
        },
        {
         "type": "scatter",
         "x": [
          "11:14"
         ],
         "y": [
          342985
         ]
        },
        {
         "type": "scatter",
         "x": [
          "11:15"
         ],
         "y": [
          343007.925
         ]
        },
        {
         "type": "scatter",
         "x": [
          "11:16"
         ],
         "y": [
          343028.65
         ]
        },
        {
         "type": "scatter",
         "x": [
          "11:17"
         ],
         "y": [
          343048.9
         ]
        },
        {
         "type": "scatter",
         "x": [
          "11:18"
         ],
         "y": [
          343070.775
         ]
        },
        {
         "type": "scatter",
         "x": [
          "11:19"
         ],
         "y": [
          343093.75
         ]
        },
        {
         "type": "scatter",
         "x": [
          "11:20"
         ],
         "y": [
          343125.57499999995
         ]
        },
        {
         "type": "scatter",
         "x": [
          "11:21"
         ],
         "y": [
          343161.975
         ]
        },
        {
         "type": "scatter",
         "x": [
          "11:22"
         ],
         "y": [
          343192.725
         ]
        },
        {
         "type": "scatter",
         "x": [
          "11:23"
         ],
         "y": [
          343217.375
         ]
        },
        {
         "type": "scatter",
         "x": [
          "11:24"
         ],
         "y": [
          343238.825
         ]
        },
        {
         "type": "scatter",
         "x": [
          "11:25"
         ],
         "y": [
          343257.42500000005
         ]
        },
        {
         "type": "scatter",
         "x": [
          "11:26"
         ],
         "y": [
          343274.02499999997
         ]
        },
        {
         "type": "scatter",
         "x": [
          "11:27"
         ],
         "y": [
          343290.8
         ]
        },
        {
         "type": "scatter",
         "x": [
          "11:28"
         ],
         "y": [
          343307.825
         ]
        },
        {
         "type": "scatter",
         "x": [
          "11:29"
         ],
         "y": [
          343324.075
         ]
        },
        {
         "type": "scatter",
         "x": [
          "11:30"
         ],
         "y": [
          343339.97500000003
         ]
        },
        {
         "type": "scatter",
         "x": [
          "11:31"
         ],
         "y": [
          343358.2
         ]
        },
        {
         "type": "scatter",
         "x": [
          "11:32"
         ],
         "y": [
          343375.15
         ]
        },
        {
         "type": "scatter",
         "x": [
          "11:33"
         ],
         "y": [
          343388.17500000005
         ]
        },
        {
         "type": "scatter",
         "x": [
          "11:34"
         ],
         "y": [
          343397.375
         ]
        },
        {
         "type": "scatter",
         "x": [
          "11:35"
         ],
         "y": [
          343397.775
         ]
        },
        {
         "type": "scatter",
         "x": [
          "11:36"
         ],
         "y": [
          343392
         ]
        },
        {
         "type": "scatter",
         "x": [
          "11:37"
         ],
         "y": [
          343378.9
         ]
        },
        {
         "type": "scatter",
         "x": [
          "11:38"
         ],
         "y": [
          343362
         ]
        },
        {
         "type": "scatter",
         "x": [
          "11:39"
         ],
         "y": [
          343346.2
         ]
        },
        {
         "type": "scatter",
         "x": [
          "11:40"
         ],
         "y": [
          343328.575
         ]
        },
        {
         "type": "scatter",
         "x": [
          "11:41"
         ],
         "y": [
          343313.22500000003
         ]
        },
        {
         "type": "scatter",
         "x": [
          "11:42"
         ],
         "y": [
          343295.8
         ]
        },
        {
         "type": "scatter",
         "x": [
          "11:43"
         ],
         "y": [
          343279.85
         ]
        },
        {
         "type": "scatter",
         "x": [
          "11:44"
         ],
         "y": [
          343265.875
         ]
        },
        {
         "type": "scatter",
         "x": [
          "11:45"
         ],
         "y": [
          343249.775
         ]
        },
        {
         "type": "scatter",
         "x": [
          "11:46"
         ],
         "y": [
          343237.45
         ]
        },
        {
         "type": "scatter",
         "x": [
          "11:47"
         ],
         "y": [
          343229.725
         ]
        },
        {
         "type": "scatter",
         "x": [
          "11:48"
         ],
         "y": [
          343223.125
         ]
        },
        {
         "type": "scatter",
         "x": [
          "11:49"
         ],
         "y": [
          343216.2
         ]
        },
        {
         "type": "scatter",
         "x": [
          "11:50"
         ],
         "y": [
          343201.35000000003
         ]
        },
        {
         "type": "scatter",
         "x": [
          "11:51"
         ],
         "y": [
          343182.025
         ]
        },
        {
         "type": "scatter",
         "x": [
          "11:52"
         ],
         "y": [
          343161.3
         ]
        },
        {
         "type": "scatter",
         "x": [
          "11:53"
         ],
         "y": [
          343137.75
         ]
        },
        {
         "type": "scatter",
         "x": [
          "11:54"
         ],
         "y": [
          343111.57499999995
         ]
        },
        {
         "type": "scatter",
         "x": [
          "11:55"
         ],
         "y": [
          343086.75
         ]
        },
        {
         "type": "scatter",
         "x": [
          "11:56"
         ],
         "y": [
          343064.45
         ]
        },
        {
         "type": "scatter",
         "x": [
          "11:57"
         ],
         "y": [
          343045.075
         ]
        },
        {
         "type": "scatter",
         "x": [
          "11:58"
         ],
         "y": [
          343024.425
         ]
        },
        {
         "type": "scatter",
         "x": [
          "11:59"
         ],
         "y": [
          343003.60000000003
         ]
        },
        {
         "type": "scatter",
         "x": [
          "12:00"
         ],
         "y": [
          342983.27499999997
         ]
        },
        {
         "type": "scatter",
         "x": [
          "12:01"
         ],
         "y": [
          342957.625
         ]
        },
        {
         "type": "scatter",
         "x": [
          "12:02"
         ],
         "y": [
          342929.375
         ]
        },
        {
         "type": "scatter",
         "x": [
          "12:03"
         ],
         "y": [
          342902.075
         ]
        },
        {
         "type": "scatter",
         "x": [
          "12:04"
         ],
         "y": [
          342875.625
         ]
        },
        {
         "type": "scatter",
         "x": [
          "12:05"
         ],
         "y": [
          342851.325
         ]
        },
        {
         "type": "scatter",
         "x": [
          "12:06"
         ],
         "y": [
          342829.825
         ]
        },
        {
         "type": "scatter",
         "x": [
          "12:07"
         ],
         "y": [
          342811
         ]
        },
        {
         "type": "scatter",
         "x": [
          "12:08"
         ],
         "y": [
          342794.85000000003
         ]
        },
        {
         "type": "scatter",
         "x": [
          "12:09"
         ],
         "y": [
          342781.475
         ]
        },
        {
         "type": "scatter",
         "x": [
          "12:10"
         ],
         "y": [
          342770.75
         ]
        },
        {
         "type": "scatter",
         "x": [
          "12:11"
         ],
         "y": [
          342757.8
         ]
        },
        {
         "type": "scatter",
         "x": [
          "12:12"
         ],
         "y": [
          342747.225
         ]
        },
        {
         "type": "scatter",
         "x": [
          "12:13"
         ],
         "y": [
          342734.125
         ]
        },
        {
         "type": "scatter",
         "x": [
          "12:14"
         ],
         "y": [
          342715.825
         ]
        },
        {
         "type": "scatter",
         "x": [
          "12:15"
         ],
         "y": [
          342686.5
         ]
        },
        {
         "type": "scatter",
         "x": [
          "12:16"
         ],
         "y": [
          342651.82499999995
         ]
        },
        {
         "type": "scatter",
         "x": [
          "12:17"
         ],
         "y": [
          342615.75
         ]
        },
        {
         "type": "scatter",
         "x": [
          "12:18"
         ],
         "y": [
          342579.55
         ]
        },
        {
         "type": "scatter",
         "x": [
          "12:19"
         ],
         "y": [
          342539.45
         ]
        },
        {
         "type": "scatter",
         "x": [
          "12:20"
         ],
         "y": [
          342497.25
         ]
        },
        {
         "type": "scatter",
         "x": [
          "12:21"
         ],
         "y": [
          342459.25
         ]
        },
        {
         "type": "scatter",
         "x": [
          "12:22"
         ],
         "y": [
          342427.60000000003
         ]
        },
        {
         "type": "scatter",
         "x": [
          "12:23"
         ],
         "y": [
          342400.97500000003
         ]
        },
        {
         "type": "scatter",
         "x": [
          "12:24"
         ],
         "y": [
          342382.5
         ]
        },
        {
         "type": "scatter",
         "x": [
          "12:25"
         ],
         "y": [
          342368.825
         ]
        },
        {
         "type": "scatter",
         "x": [
          "12:26"
         ],
         "y": [
          342351.875
         ]
        },
        {
         "type": "scatter",
         "x": [
          "12:27"
         ],
         "y": [
          342331.1
         ]
        },
        {
         "type": "scatter",
         "x": [
          "12:28"
         ],
         "y": [
          342308.875
         ]
        },
        {
         "type": "scatter",
         "x": [
          "12:29"
         ],
         "y": [
          342286.2
         ]
        },
        {
         "type": "scatter",
         "x": [
          "12:30"
         ],
         "y": [
          342261.30000000005
         ]
        },
        {
         "type": "scatter",
         "x": [
          "12:31"
         ],
         "y": [
          342237.05
         ]
        },
        {
         "type": "scatter",
         "x": [
          "12:32"
         ],
         "y": [
          342216.05
         ]
        },
        {
         "type": "scatter",
         "x": [
          "12:33"
         ],
         "y": [
          342193.1
         ]
        },
        {
         "type": "scatter",
         "x": [
          "12:34"
         ],
         "y": [
          342167.67500000005
         ]
        },
        {
         "type": "scatter",
         "x": [
          "12:35"
         ],
         "y": [
          342145.2
         ]
        },
        {
         "type": "scatter",
         "x": [
          "12:36"
         ],
         "y": [
          342122.175
         ]
        },
        {
         "type": "scatter",
         "x": [
          "12:37"
         ],
         "y": [
          342097.475
         ]
        },
        {
         "type": "scatter",
         "x": [
          "12:38"
         ],
         "y": [
          342073.19999999995
         ]
        },
        {
         "type": "scatter",
         "x": [
          "12:39"
         ],
         "y": [
          342053.275
         ]
        },
        {
         "type": "scatter",
         "x": [
          "12:40"
         ],
         "y": [
          342036.8
         ]
        },
        {
         "type": "scatter",
         "x": [
          "12:41"
         ],
         "y": [
          342022.1
         ]
        },
        {
         "type": "scatter",
         "x": [
          "12:42"
         ],
         "y": [
          342005.92500000005
         ]
        },
        {
         "type": "scatter",
         "x": [
          "12:43"
         ],
         "y": [
          341991.525
         ]
        },
        {
         "type": "scatter",
         "x": [
          "12:44"
         ],
         "y": [
          341981.8
         ]
        },
        {
         "type": "scatter",
         "x": [
          "12:45"
         ],
         "y": [
          341983.89999999997
         ]
        },
        {
         "type": "scatter",
         "x": [
          "12:46"
         ],
         "y": [
          341975.22500000003
         ]
        },
        {
         "type": "scatter",
         "x": [
          "12:47"
         ],
         "y": [
          341955.325
         ]
        },
        {
         "type": "scatter",
         "x": [
          "12:48"
         ],
         "y": [
          341926.64999999997
         ]
        },
        {
         "type": "scatter",
         "x": [
          "12:49"
         ],
         "y": [
          341903.6
         ]
        },
        {
         "type": "scatter",
         "x": [
          "12:50"
         ],
         "y": [
          341886.375
         ]
        },
        {
         "type": "scatter",
         "x": [
          "12:51"
         ],
         "y": [
          341868.25
         ]
        },
        {
         "type": "scatter",
         "x": [
          "12:52"
         ],
         "y": [
          341850.89999999997
         ]
        },
        {
         "type": "scatter",
         "x": [
          "12:53"
         ],
         "y": [
          341831.875
         ]
        },
        {
         "type": "scatter",
         "x": [
          "12:54"
         ],
         "y": [
          341803.85000000003
         ]
        },
        {
         "type": "scatter",
         "x": [
          "12:55"
         ],
         "y": [
          341765.35
         ]
        },
        {
         "type": "scatter",
         "x": [
          "12:56"
         ],
         "y": [
          341731.5
         ]
        },
        {
         "type": "scatter",
         "x": [
          "12:57"
         ],
         "y": [
          341704.625
         ]
        },
        {
         "type": "scatter",
         "x": [
          "12:58"
         ],
         "y": [
          341674.60000000003
         ]
        },
        {
         "type": "scatter",
         "x": [
          "12:59"
         ],
         "y": [
          341641.5
         ]
        },
        {
         "type": "scatter",
         "x": [
          "13:00"
         ],
         "y": [
          341607.52499999997
         ]
        },
        {
         "type": "scatter",
         "x": [
          "13:01"
         ],
         "y": [
          341571.825
         ]
        },
        {
         "type": "scatter",
         "x": [
          "13:02"
         ],
         "y": [
          341537.25
         ]
        },
        {
         "type": "scatter",
         "x": [
          "13:03"
         ],
         "y": [
          341505.825
         ]
        },
        {
         "type": "scatter",
         "x": [
          "13:04"
         ],
         "y": [
          341478.225
         ]
        },
        {
         "type": "scatter",
         "x": [
          "13:05"
         ],
         "y": [
          341446.64999999997
         ]
        },
        {
         "type": "scatter",
         "x": [
          "13:06"
         ],
         "y": [
          341415.75
         ]
        },
        {
         "type": "scatter",
         "x": [
          "13:07"
         ],
         "y": [
          341394.1
         ]
        },
        {
         "type": "scatter",
         "x": [
          "13:08"
         ],
         "y": [
          341374.7
         ]
        },
        {
         "type": "scatter",
         "x": [
          "13:09"
         ],
         "y": [
          341349.3
         ]
        },
        {
         "type": "scatter",
         "x": [
          "13:10"
         ],
         "y": [
          341322.6
         ]
        },
        {
         "type": "scatter",
         "x": [
          "13:11"
         ],
         "y": [
          341298.775
         ]
        },
        {
         "type": "scatter",
         "x": [
          "13:12"
         ],
         "y": [
          341280.52499999997
         ]
        },
        {
         "type": "scatter",
         "x": [
          "13:13"
         ],
         "y": [
          341267.1
         ]
        },
        {
         "type": "scatter",
         "x": [
          "13:14"
         ],
         "y": [
          341252.575
         ]
        },
        {
         "type": "scatter",
         "x": [
          "13:15"
         ],
         "y": [
          341237.10000000003
         ]
        },
        {
         "type": "scatter",
         "x": [
          "13:16"
         ],
         "y": [
          341241.125
         ]
        },
        {
         "type": "scatter",
         "x": [
          "13:17"
         ],
         "y": [
          341258.325
         ]
        },
        {
         "type": "scatter",
         "x": [
          "13:18"
         ],
         "y": [
          341283.025
         ]
        },
        {
         "type": "scatter",
         "x": [
          "13:19"
         ],
         "y": [
          341300.85000000003
         ]
        },
        {
         "type": "scatter",
         "x": [
          "13:20"
         ],
         "y": [
          341310.14999999997
         ]
        },
        {
         "type": "scatter",
         "x": [
          "13:21"
         ],
         "y": [
          341319.625
         ]
        },
        {
         "type": "scatter",
         "x": [
          "13:22"
         ],
         "y": [
          341325.95
         ]
        },
        {
         "type": "scatter",
         "x": [
          "13:23"
         ],
         "y": [
          341327
         ]
        },
        {
         "type": "scatter",
         "x": [
          "13:24"
         ],
         "y": [
          341332.55
         ]
        },
        {
         "type": "scatter",
         "x": [
          "13:25"
         ],
         "y": [
          341345.075
         ]
        },
        {
         "type": "scatter",
         "x": [
          "13:26"
         ],
         "y": [
          341350.925
         ]
        },
        {
         "type": "scatter",
         "x": [
          "13:27"
         ],
         "y": [
          341351.65
         ]
        },
        {
         "type": "scatter",
         "x": [
          "13:28"
         ],
         "y": [
          341351.925
         ]
        },
        {
         "type": "scatter",
         "x": [
          "13:29"
         ],
         "y": [
          341358.64999999997
         ]
        },
        {
         "type": "scatter",
         "x": [
          "13:30"
         ],
         "y": [
          341375.45
         ]
        },
        {
         "type": "scatter",
         "x": [
          "13:31"
         ],
         "y": [
          341397.05
         ]
        },
        {
         "type": "scatter",
         "x": [
          "13:32"
         ],
         "y": [
          341420.35000000003
         ]
        },
        {
         "type": "scatter",
         "x": [
          "13:33"
         ],
         "y": [
          341441.27499999997
         ]
        },
        {
         "type": "scatter",
         "x": [
          "13:34"
         ],
         "y": [
          341460.325
         ]
        },
        {
         "type": "scatter",
         "x": [
          "13:35"
         ],
         "y": [
          341484.47500000003
         ]
        },
        {
         "type": "scatter",
         "x": [
          "13:36"
         ],
         "y": [
          341507.675
         ]
        },
        {
         "type": "scatter",
         "x": [
          "13:37"
         ],
         "y": [
          341523.9
         ]
        },
        {
         "type": "scatter",
         "x": [
          "13:38"
         ],
         "y": [
          341541.3
         ]
        },
        {
         "type": "scatter",
         "x": [
          "13:39"
         ],
         "y": [
          341561.025
         ]
        },
        {
         "type": "scatter",
         "x": [
          "13:40"
         ],
         "y": [
          341581.9
         ]
        },
        {
         "type": "scatter",
         "x": [
          "13:41"
         ],
         "y": [
          341606.125
         ]
        },
        {
         "type": "scatter",
         "x": [
          "13:42"
         ],
         "y": [
          341632.2
         ]
        },
        {
         "type": "scatter",
         "x": [
          "13:43"
         ],
         "y": [
          341653.475
         ]
        },
        {
         "type": "scatter",
         "x": [
          "13:44"
         ],
         "y": [
          341671.35
         ]
        },
        {
         "type": "scatter",
         "x": [
          "13:45"
         ],
         "y": [
          341688.475
         ]
        },
        {
         "type": "scatter",
         "x": [
          "13:46"
         ],
         "y": [
          341698.77499999997
         ]
        },
        {
         "type": "scatter",
         "x": [
          "13:47"
         ],
         "y": [
          341704.675
         ]
        },
        {
         "type": "scatter",
         "x": [
          "13:48"
         ],
         "y": [
          341710.475
         ]
        },
        {
         "type": "scatter",
         "x": [
          "13:49"
         ],
         "y": [
          341721.94999999995
         ]
        },
        {
         "type": "scatter",
         "x": [
          "13:50"
         ],
         "y": [
          341737
         ]
        },
        {
         "type": "scatter",
         "x": [
          "13:51"
         ],
         "y": [
          341748.675
         ]
        },
        {
         "type": "scatter",
         "x": [
          "13:52"
         ],
         "y": [
          341763.72500000003
         ]
        },
        {
         "type": "scatter",
         "x": [
          "13:53"
         ],
         "y": [
          341783.8
         ]
        },
        {
         "type": "scatter",
         "x": [
          "13:54"
         ],
         "y": [
          341803.65
         ]
        },
        {
         "type": "scatter",
         "x": [
          "13:55"
         ],
         "y": [
          341823.2
         ]
        },
        {
         "type": "scatter",
         "x": [
          "13:56"
         ],
         "y": [
          341848.45
         ]
        },
        {
         "type": "scatter",
         "x": [
          "13:57"
         ],
         "y": [
          341874.225
         ]
        },
        {
         "type": "scatter",
         "x": [
          "13:58"
         ],
         "y": [
          341903.975
         ]
        },
        {
         "type": "scatter",
         "x": [
          "13:59"
         ],
         "y": [
          341928.75
         ]
        },
        {
         "type": "scatter",
         "x": [
          "14:00"
         ],
         "y": [
          341944.075
         ]
        },
        {
         "type": "scatter",
         "x": [
          "14:01"
         ],
         "y": [
          341957.6
         ]
        },
        {
         "type": "scatter",
         "x": [
          "14:02"
         ],
         "y": [
          341966.35
         ]
        },
        {
         "type": "scatter",
         "x": [
          "14:03"
         ],
         "y": [
          341974.05000000005
         ]
        },
        {
         "type": "scatter",
         "x": [
          "14:04"
         ],
         "y": [
          341982.125
         ]
        },
        {
         "type": "scatter",
         "x": [
          "14:05"
         ],
         "y": [
          341985.94999999995
         ]
        },
        {
         "type": "scatter",
         "x": [
          "14:06"
         ],
         "y": [
          341992.05000000005
         ]
        },
        {
         "type": "scatter",
         "x": [
          "14:07"
         ],
         "y": [
          341998.925
         ]
        },
        {
         "type": "scatter",
         "x": [
          "14:08"
         ],
         "y": [
          341991.92500000005
         ]
        },
        {
         "type": "scatter",
         "x": [
          "14:09"
         ],
         "y": [
          341980.39999999997
         ]
        },
        {
         "type": "scatter",
         "x": [
          "14:10"
         ],
         "y": [
          341970.225
         ]
        },
        {
         "type": "scatter",
         "x": [
          "14:11"
         ],
         "y": [
          341957.25
         ]
        },
        {
         "type": "scatter",
         "x": [
          "14:12"
         ],
         "y": [
          341945.475
         ]
        },
        {
         "type": "scatter",
         "x": [
          "14:13"
         ],
         "y": [
          341939.17500000005
         ]
        },
        {
         "type": "scatter",
         "x": [
          "14:14"
         ],
         "y": [
          341935.125
         ]
        },
        {
         "type": "scatter",
         "x": [
          "14:15"
         ],
         "y": [
          341931.60000000003
         ]
        },
        {
         "type": "scatter",
         "x": [
          "14:16"
         ],
         "y": [
          341929.35000000003
         ]
        },
        {
         "type": "scatter",
         "x": [
          "14:17"
         ],
         "y": [
          341929.1
         ]
        },
        {
         "type": "scatter",
         "x": [
          "14:18"
         ],
         "y": [
          341927.05000000005
         ]
        },
        {
         "type": "scatter",
         "x": [
          "14:19"
         ],
         "y": [
          341924.425
         ]
        },
        {
         "type": "scatter",
         "x": [
          "14:20"
         ],
         "y": [
          341922.25
         ]
        },
        {
         "type": "scatter",
         "x": [
          "14:21"
         ],
         "y": [
          341922
         ]
        },
        {
         "type": "scatter",
         "x": [
          "14:22"
         ],
         "y": [
          341919.175
         ]
        },
        {
         "type": "scatter",
         "x": [
          "14:23"
         ],
         "y": [
          341914.875
         ]
        },
        {
         "type": "scatter",
         "x": [
          "14:24"
         ],
         "y": [
          341910.77499999997
         ]
        },
        {
         "type": "scatter",
         "x": [
          "14:25"
         ],
         "y": [
          341909.3
         ]
        },
        {
         "type": "scatter",
         "x": [
          "14:26"
         ],
         "y": [
          341908.47500000003
         ]
        },
        {
         "type": "scatter",
         "x": [
          "14:27"
         ],
         "y": [
          341906.85000000003
         ]
        },
        {
         "type": "scatter",
         "x": [
          "14:28"
         ],
         "y": [
          341911.925
         ]
        },
        {
         "type": "scatter",
         "x": [
          "14:29"
         ],
         "y": [
          341918.45
         ]
        },
        {
         "type": "scatter",
         "x": [
          "14:30"
         ],
         "y": [
          341922.425
         ]
        },
        {
         "type": "scatter",
         "x": [
          "14:31"
         ],
         "y": [
          341923.67500000005
         ]
        },
        {
         "type": "scatter",
         "x": [
          "14:32"
         ],
         "y": [
          341931.4
         ]
        },
        {
         "type": "scatter",
         "x": [
          "14:33"
         ],
         "y": [
          341942.175
         ]
        },
        {
         "type": "scatter",
         "x": [
          "14:34"
         ],
         "y": [
          341953.27499999997
         ]
        },
        {
         "type": "scatter",
         "x": [
          "14:35"
         ],
         "y": [
          341969.30000000005
         ]
        },
        {
         "type": "scatter",
         "x": [
          "14:36"
         ],
         "y": [
          341986.77499999997
         ]
        },
        {
         "type": "scatter",
         "x": [
          "14:37"
         ],
         "y": [
          342000.10000000003
         ]
        },
        {
         "type": "scatter",
         "x": [
          "14:38"
         ],
         "y": [
          342018.39999999997
         ]
        },
        {
         "type": "scatter",
         "x": [
          "14:39"
         ],
         "y": [
          342037.625
         ]
        },
        {
         "type": "scatter",
         "x": [
          "14:40"
         ],
         "y": [
          342052.22500000003
         ]
        },
        {
         "type": "scatter",
         "x": [
          "14:41"
         ],
         "y": [
          342065.5
         ]
        },
        {
         "type": "scatter",
         "x": [
          "14:42"
         ],
         "y": [
          342076.775
         ]
        },
        {
         "type": "scatter",
         "x": [
          "14:43"
         ],
         "y": [
          342087.425
         ]
        },
        {
         "type": "scatter",
         "x": [
          "14:44"
         ],
         "y": [
          342084.075
         ]
        },
        {
         "type": "scatter",
         "x": [
          "14:45"
         ],
         "y": [
          342072.64999999997
         ]
        },
        {
         "type": "scatter",
         "x": [
          "14:46"
         ],
         "y": [
          342068.375
         ]
        },
        {
         "type": "scatter",
         "x": [
          "14:47"
         ],
         "y": [
          342068.075
         ]
        },
        {
         "type": "scatter",
         "x": [
          "14:48"
         ],
         "y": [
          342071.85
         ]
        },
        {
         "type": "scatter",
         "x": [
          "14:49"
         ],
         "y": [
          342075.3
         ]
        },
        {
         "type": "scatter",
         "x": [
          "14:50"
         ],
         "y": [
          342076.60000000003
         ]
        },
        {
         "type": "scatter",
         "x": [
          "14:51"
         ],
         "y": [
          342077.60000000003
         ]
        },
        {
         "type": "scatter",
         "x": [
          "14:52"
         ],
         "y": [
          342080.725
         ]
        },
        {
         "type": "scatter",
         "x": [
          "14:53"
         ],
         "y": [
          342085.5
         ]
        },
        {
         "type": "scatter",
         "x": [
          "14:54"
         ],
         "y": [
          342095.775
         ]
        },
        {
         "type": "scatter",
         "x": [
          "14:55"
         ],
         "y": [
          342109.575
         ]
        },
        {
         "type": "scatter",
         "x": [
          "14:56"
         ],
         "y": [
          342119
         ]
        },
        {
         "type": "scatter",
         "x": [
          "14:57"
         ],
         "y": [
          342125.75
         ]
        },
        {
         "type": "scatter",
         "x": [
          "14:58"
         ],
         "y": [
          342128.775
         ]
        },
        {
         "type": "scatter",
         "x": [
          "14:59"
         ],
         "y": [
          342133.175
         ]
        },
        {
         "type": "scatter",
         "x": [
          "15:00"
         ],
         "y": [
          342140.975
         ]
        },
        {
         "type": "scatter",
         "x": [
          "15:01"
         ],
         "y": [
          342149.8
         ]
        },
        {
         "type": "scatter",
         "x": [
          "15:02"
         ],
         "y": [
          342150.64999999997
         ]
        },
        {
         "type": "scatter",
         "x": [
          "15:03"
         ],
         "y": [
          342145.8
         ]
        },
        {
         "type": "scatter",
         "x": [
          "15:04"
         ],
         "y": [
          342141.7
         ]
        },
        {
         "type": "scatter",
         "x": [
          "15:05"
         ],
         "y": [
          342144.375
         ]
        },
        {
         "type": "scatter",
         "x": [
          "15:06"
         ],
         "y": [
          342149.4
         ]
        },
        {
         "type": "scatter",
         "x": [
          "15:07"
         ],
         "y": [
          342157.69999999995
         ]
        },
        {
         "type": "scatter",
         "x": [
          "15:08"
         ],
         "y": [
          342170
         ]
        },
        {
         "type": "scatter",
         "x": [
          "15:09"
         ],
         "y": [
          342182.67500000005
         ]
        },
        {
         "type": "scatter",
         "x": [
          "15:10"
         ],
         "y": [
          342195.82499999995
         ]
        },
        {
         "type": "scatter",
         "x": [
          "15:11"
         ],
         "y": [
          342208.175
         ]
        },
        {
         "type": "scatter",
         "x": [
          "15:12"
         ],
         "y": [
          342215.2
         ]
        },
        {
         "type": "scatter",
         "x": [
          "15:13"
         ],
         "y": [
          342217.725
         ]
        },
        {
         "type": "scatter",
         "x": [
          "15:14"
         ],
         "y": [
          342239.825
         ]
        },
        {
         "type": "scatter",
         "x": [
          "15:15"
         ],
         "y": [
          342271.9
         ]
        },
        {
         "type": "scatter",
         "x": [
          "15:16"
         ],
         "y": [
          342297.425
         ]
        },
        {
         "type": "scatter",
         "x": [
          "15:17"
         ],
         "y": [
          342318.25
         ]
        },
        {
         "type": "scatter",
         "x": [
          "15:18"
         ],
         "y": [
          342336.15
         ]
        },
        {
         "type": "scatter",
         "x": [
          "15:19"
         ],
         "y": [
          342353.85
         ]
        },
        {
         "type": "scatter",
         "x": [
          "15:20"
         ],
         "y": [
          342374.425
         ]
        },
        {
         "type": "scatter",
         "x": [
          "15:21"
         ],
         "y": [
          342394
         ]
        },
        {
         "type": "scatter",
         "x": [
          "15:22"
         ],
         "y": [
          342410.7
         ]
        },
        {
         "type": "scatter",
         "x": [
          "15:23"
         ],
         "y": [
          342424.025
         ]
        },
        {
         "type": "scatter",
         "x": [
          "15:24"
         ],
         "y": [
          342430.275
         ]
        },
        {
         "type": "scatter",
         "x": [
          "15:25"
         ],
         "y": [
          342433.27499999997
         ]
        },
        {
         "type": "scatter",
         "x": [
          "15:26"
         ],
         "y": [
          342440.07499999995
         ]
        },
        {
         "type": "scatter",
         "x": [
          "15:27"
         ],
         "y": [
          342453.225
         ]
        },
        {
         "type": "scatter",
         "x": [
          "15:28"
         ],
         "y": [
          342462.1
         ]
        },
        {
         "type": "scatter",
         "x": [
          "15:29"
         ],
         "y": [
          342466.175
         ]
        },
        {
         "type": "scatter",
         "x": [
          "15:30"
         ],
         "y": [
          342465.625
         ]
        }
       ],
       "layout": {
        "template": {
         "data": {
          "bar": [
           {
            "error_x": {
             "color": "#2a3f5f"
            },
            "error_y": {
             "color": "#2a3f5f"
            },
            "marker": {
             "line": {
              "color": "#E5ECF6",
              "width": 0.5
             },
             "pattern": {
              "fillmode": "overlay",
              "size": 10,
              "solidity": 0.2
             }
            },
            "type": "bar"
           }
          ],
          "barpolar": [
           {
            "marker": {
             "line": {
              "color": "#E5ECF6",
              "width": 0.5
             },
             "pattern": {
              "fillmode": "overlay",
              "size": 10,
              "solidity": 0.2
             }
            },
            "type": "barpolar"
           }
          ],
          "carpet": [
           {
            "aaxis": {
             "endlinecolor": "#2a3f5f",
             "gridcolor": "white",
             "linecolor": "white",
             "minorgridcolor": "white",
             "startlinecolor": "#2a3f5f"
            },
            "baxis": {
             "endlinecolor": "#2a3f5f",
             "gridcolor": "white",
             "linecolor": "white",
             "minorgridcolor": "white",
             "startlinecolor": "#2a3f5f"
            },
            "type": "carpet"
           }
          ],
          "choropleth": [
           {
            "colorbar": {
             "outlinewidth": 0,
             "ticks": ""
            },
            "type": "choropleth"
           }
          ],
          "contour": [
           {
            "colorbar": {
             "outlinewidth": 0,
             "ticks": ""
            },
            "colorscale": [
             [
              0,
              "#0d0887"
             ],
             [
              0.1111111111111111,
              "#46039f"
             ],
             [
              0.2222222222222222,
              "#7201a8"
             ],
             [
              0.3333333333333333,
              "#9c179e"
             ],
             [
              0.4444444444444444,
              "#bd3786"
             ],
             [
              0.5555555555555556,
              "#d8576b"
             ],
             [
              0.6666666666666666,
              "#ed7953"
             ],
             [
              0.7777777777777778,
              "#fb9f3a"
             ],
             [
              0.8888888888888888,
              "#fdca26"
             ],
             [
              1,
              "#f0f921"
             ]
            ],
            "type": "contour"
           }
          ],
          "contourcarpet": [
           {
            "colorbar": {
             "outlinewidth": 0,
             "ticks": ""
            },
            "type": "contourcarpet"
           }
          ],
          "heatmap": [
           {
            "colorbar": {
             "outlinewidth": 0,
             "ticks": ""
            },
            "colorscale": [
             [
              0,
              "#0d0887"
             ],
             [
              0.1111111111111111,
              "#46039f"
             ],
             [
              0.2222222222222222,
              "#7201a8"
             ],
             [
              0.3333333333333333,
              "#9c179e"
             ],
             [
              0.4444444444444444,
              "#bd3786"
             ],
             [
              0.5555555555555556,
              "#d8576b"
             ],
             [
              0.6666666666666666,
              "#ed7953"
             ],
             [
              0.7777777777777778,
              "#fb9f3a"
             ],
             [
              0.8888888888888888,
              "#fdca26"
             ],
             [
              1,
              "#f0f921"
             ]
            ],
            "type": "heatmap"
           }
          ],
          "heatmapgl": [
           {
            "colorbar": {
             "outlinewidth": 0,
             "ticks": ""
            },
            "colorscale": [
             [
              0,
              "#0d0887"
             ],
             [
              0.1111111111111111,
              "#46039f"
             ],
             [
              0.2222222222222222,
              "#7201a8"
             ],
             [
              0.3333333333333333,
              "#9c179e"
             ],
             [
              0.4444444444444444,
              "#bd3786"
             ],
             [
              0.5555555555555556,
              "#d8576b"
             ],
             [
              0.6666666666666666,
              "#ed7953"
             ],
             [
              0.7777777777777778,
              "#fb9f3a"
             ],
             [
              0.8888888888888888,
              "#fdca26"
             ],
             [
              1,
              "#f0f921"
             ]
            ],
            "type": "heatmapgl"
           }
          ],
          "histogram": [
           {
            "marker": {
             "pattern": {
              "fillmode": "overlay",
              "size": 10,
              "solidity": 0.2
             }
            },
            "type": "histogram"
           }
          ],
          "histogram2d": [
           {
            "colorbar": {
             "outlinewidth": 0,
             "ticks": ""
            },
            "colorscale": [
             [
              0,
              "#0d0887"
             ],
             [
              0.1111111111111111,
              "#46039f"
             ],
             [
              0.2222222222222222,
              "#7201a8"
             ],
             [
              0.3333333333333333,
              "#9c179e"
             ],
             [
              0.4444444444444444,
              "#bd3786"
             ],
             [
              0.5555555555555556,
              "#d8576b"
             ],
             [
              0.6666666666666666,
              "#ed7953"
             ],
             [
              0.7777777777777778,
              "#fb9f3a"
             ],
             [
              0.8888888888888888,
              "#fdca26"
             ],
             [
              1,
              "#f0f921"
             ]
            ],
            "type": "histogram2d"
           }
          ],
          "histogram2dcontour": [
           {
            "colorbar": {
             "outlinewidth": 0,
             "ticks": ""
            },
            "colorscale": [
             [
              0,
              "#0d0887"
             ],
             [
              0.1111111111111111,
              "#46039f"
             ],
             [
              0.2222222222222222,
              "#7201a8"
             ],
             [
              0.3333333333333333,
              "#9c179e"
             ],
             [
              0.4444444444444444,
              "#bd3786"
             ],
             [
              0.5555555555555556,
              "#d8576b"
             ],
             [
              0.6666666666666666,
              "#ed7953"
             ],
             [
              0.7777777777777778,
              "#fb9f3a"
             ],
             [
              0.8888888888888888,
              "#fdca26"
             ],
             [
              1,
              "#f0f921"
             ]
            ],
            "type": "histogram2dcontour"
           }
          ],
          "mesh3d": [
           {
            "colorbar": {
             "outlinewidth": 0,
             "ticks": ""
            },
            "type": "mesh3d"
           }
          ],
          "parcoords": [
           {
            "line": {
             "colorbar": {
              "outlinewidth": 0,
              "ticks": ""
             }
            },
            "type": "parcoords"
           }
          ],
          "pie": [
           {
            "automargin": true,
            "type": "pie"
           }
          ],
          "scatter": [
           {
            "marker": {
             "colorbar": {
              "outlinewidth": 0,
              "ticks": ""
             }
            },
            "type": "scatter"
           }
          ],
          "scatter3d": [
           {
            "line": {
             "colorbar": {
              "outlinewidth": 0,
              "ticks": ""
             }
            },
            "marker": {
             "colorbar": {
              "outlinewidth": 0,
              "ticks": ""
             }
            },
            "type": "scatter3d"
           }
          ],
          "scattercarpet": [
           {
            "marker": {
             "colorbar": {
              "outlinewidth": 0,
              "ticks": ""
             }
            },
            "type": "scattercarpet"
           }
          ],
          "scattergeo": [
           {
            "marker": {
             "colorbar": {
              "outlinewidth": 0,
              "ticks": ""
             }
            },
            "type": "scattergeo"
           }
          ],
          "scattergl": [
           {
            "marker": {
             "colorbar": {
              "outlinewidth": 0,
              "ticks": ""
             }
            },
            "type": "scattergl"
           }
          ],
          "scattermapbox": [
           {
            "marker": {
             "colorbar": {
              "outlinewidth": 0,
              "ticks": ""
             }
            },
            "type": "scattermapbox"
           }
          ],
          "scatterpolar": [
           {
            "marker": {
             "colorbar": {
              "outlinewidth": 0,
              "ticks": ""
             }
            },
            "type": "scatterpolar"
           }
          ],
          "scatterpolargl": [
           {
            "marker": {
             "colorbar": {
              "outlinewidth": 0,
              "ticks": ""
             }
            },
            "type": "scatterpolargl"
           }
          ],
          "scatterternary": [
           {
            "marker": {
             "colorbar": {
              "outlinewidth": 0,
              "ticks": ""
             }
            },
            "type": "scatterternary"
           }
          ],
          "surface": [
           {
            "colorbar": {
             "outlinewidth": 0,
             "ticks": ""
            },
            "colorscale": [
             [
              0,
              "#0d0887"
             ],
             [
              0.1111111111111111,
              "#46039f"
             ],
             [
              0.2222222222222222,
              "#7201a8"
             ],
             [
              0.3333333333333333,
              "#9c179e"
             ],
             [
              0.4444444444444444,
              "#bd3786"
             ],
             [
              0.5555555555555556,
              "#d8576b"
             ],
             [
              0.6666666666666666,
              "#ed7953"
             ],
             [
              0.7777777777777778,
              "#fb9f3a"
             ],
             [
              0.8888888888888888,
              "#fdca26"
             ],
             [
              1,
              "#f0f921"
             ]
            ],
            "type": "surface"
           }
          ],
          "table": [
           {
            "cells": {
             "fill": {
              "color": "#EBF0F8"
             },
             "line": {
              "color": "white"
             }
            },
            "header": {
             "fill": {
              "color": "#C8D4E3"
             },
             "line": {
              "color": "white"
             }
            },
            "type": "table"
           }
          ]
         },
         "layout": {
          "annotationdefaults": {
           "arrowcolor": "#2a3f5f",
           "arrowhead": 0,
           "arrowwidth": 1
          },
          "autotypenumbers": "strict",
          "coloraxis": {
           "colorbar": {
            "outlinewidth": 0,
            "ticks": ""
           }
          },
          "colorscale": {
           "diverging": [
            [
             0,
             "#8e0152"
            ],
            [
             0.1,
             "#c51b7d"
            ],
            [
             0.2,
             "#de77ae"
            ],
            [
             0.3,
             "#f1b6da"
            ],
            [
             0.4,
             "#fde0ef"
            ],
            [
             0.5,
             "#f7f7f7"
            ],
            [
             0.6,
             "#e6f5d0"
            ],
            [
             0.7,
             "#b8e186"
            ],
            [
             0.8,
             "#7fbc41"
            ],
            [
             0.9,
             "#4d9221"
            ],
            [
             1,
             "#276419"
            ]
           ],
           "sequential": [
            [
             0,
             "#0d0887"
            ],
            [
             0.1111111111111111,
             "#46039f"
            ],
            [
             0.2222222222222222,
             "#7201a8"
            ],
            [
             0.3333333333333333,
             "#9c179e"
            ],
            [
             0.4444444444444444,
             "#bd3786"
            ],
            [
             0.5555555555555556,
             "#d8576b"
            ],
            [
             0.6666666666666666,
             "#ed7953"
            ],
            [
             0.7777777777777778,
             "#fb9f3a"
            ],
            [
             0.8888888888888888,
             "#fdca26"
            ],
            [
             1,
             "#f0f921"
            ]
           ],
           "sequentialminus": [
            [
             0,
             "#0d0887"
            ],
            [
             0.1111111111111111,
             "#46039f"
            ],
            [
             0.2222222222222222,
             "#7201a8"
            ],
            [
             0.3333333333333333,
             "#9c179e"
            ],
            [
             0.4444444444444444,
             "#bd3786"
            ],
            [
             0.5555555555555556,
             "#d8576b"
            ],
            [
             0.6666666666666666,
             "#ed7953"
            ],
            [
             0.7777777777777778,
             "#fb9f3a"
            ],
            [
             0.8888888888888888,
             "#fdca26"
            ],
            [
             1,
             "#f0f921"
            ]
           ]
          },
          "colorway": [
           "#636efa",
           "#EF553B",
           "#00cc96",
           "#ab63fa",
           "#FFA15A",
           "#19d3f3",
           "#FF6692",
           "#B6E880",
           "#FF97FF",
           "#FECB52"
          ],
          "font": {
           "color": "#2a3f5f"
          },
          "geo": {
           "bgcolor": "white",
           "lakecolor": "white",
           "landcolor": "#E5ECF6",
           "showlakes": true,
           "showland": true,
           "subunitcolor": "white"
          },
          "hoverlabel": {
           "align": "left"
          },
          "hovermode": "closest",
          "mapbox": {
           "style": "light"
          },
          "paper_bgcolor": "white",
          "plot_bgcolor": "#E5ECF6",
          "polar": {
           "angularaxis": {
            "gridcolor": "white",
            "linecolor": "white",
            "ticks": ""
           },
           "bgcolor": "#E5ECF6",
           "radialaxis": {
            "gridcolor": "white",
            "linecolor": "white",
            "ticks": ""
           }
          },
          "scene": {
           "xaxis": {
            "backgroundcolor": "#E5ECF6",
            "gridcolor": "white",
            "gridwidth": 2,
            "linecolor": "white",
            "showbackground": true,
            "ticks": "",
            "zerolinecolor": "white"
           },
           "yaxis": {
            "backgroundcolor": "#E5ECF6",
            "gridcolor": "white",
            "gridwidth": 2,
            "linecolor": "white",
            "showbackground": true,
            "ticks": "",
            "zerolinecolor": "white"
           },
           "zaxis": {
            "backgroundcolor": "#E5ECF6",
            "gridcolor": "white",
            "gridwidth": 2,
            "linecolor": "white",
            "showbackground": true,
            "ticks": "",
            "zerolinecolor": "white"
           }
          },
          "shapedefaults": {
           "line": {
            "color": "#2a3f5f"
           }
          },
          "ternary": {
           "aaxis": {
            "gridcolor": "white",
            "linecolor": "white",
            "ticks": ""
           },
           "baxis": {
            "gridcolor": "white",
            "linecolor": "white",
            "ticks": ""
           },
           "bgcolor": "#E5ECF6",
           "caxis": {
            "gridcolor": "white",
            "linecolor": "white",
            "ticks": ""
           }
          },
          "title": {
           "x": 0.05
          },
          "xaxis": {
           "automargin": true,
           "gridcolor": "white",
           "linecolor": "white",
           "ticks": "",
           "title": {
            "standoff": 15
           },
           "zerolinecolor": "white",
           "zerolinewidth": 2
          },
          "yaxis": {
           "automargin": true,
           "gridcolor": "white",
           "linecolor": "white",
           "ticks": "",
           "title": {
            "standoff": 15
           },
           "zerolinecolor": "white",
           "zerolinewidth": 2
          }
         }
        }
       }
      },
      "text/html": [
       "<div>                            <div id=\"0ff01b6c-ed98-4491-8008-847595d58c51\" class=\"plotly-graph-div\" style=\"height:525px; width:100%;\"></div>            <script type=\"text/javascript\">                require([\"plotly\"], function(Plotly) {                    window.PLOTLYENV=window.PLOTLYENV || {};                                    if (document.getElementById(\"0ff01b6c-ed98-4491-8008-847595d58c51\")) {                    Plotly.newPlot(                        \"0ff01b6c-ed98-4491-8008-847595d58c51\",                        [{\"close\":[11440.2,11464.55,11463.8,11471.85,11467.25,11462.15,11442.4,11431.6,11433.15,11416.15,11433.75,11445.45,11431.8,11432.75,11438.1,11443.7,11441.55,11439.15,11432.5,11434.1,11426.05,11424.55,11424.65,11423.8,11423.65,11423.85,11424.9,11423.3,11426.2,11427.05,11432.9,11431.1,11430.35,11425.55,11425.25,11425.65,11428.3,11424.95,11425.0,11421.55,11420.3,11419.2,11413.05,11404.95,11409.65,11412.45,11409.05,11405.55,11413.5,11418.45,11420.2,11421.5,11423.15,11424.8,11420.65,11418.95,11418.5,11418.25,11424.25,11422.05,11421.75,11420.2,11420.9,11423.05,11430.15,11430.35,11425.6,11421.3,11419.0,11415.65,11412.7,11412.95,11415.0,11415.2,11413.05,11413.35,11414.7,11416.0,11421.1,11420.8,11418.95,11409.75,11410.75,11412.05,11412.25,11411.35,11415.3,11415.15,11418.0,11418.8,11421.35,11421.4,11418.7,11418.55,11420.3,11419.1,11417.8,11420.65,11427.9,11427.8,11426.15,11426.75,11426.5,11427.35,11427.85,11429.1,11430.8,11431.1,11442.7,11440.6,11449.3,11448.0,11457.2,11449.95,11447.95,11446.6,11445.2,11442.75,11441.8,11442.5,11444.75,11441.6,11440.2,11440.95,11444.25,11458.65,11449.7,11453.45,11449.4,11448.45,11443.45,11442.8,11443.1,11444.65,11444.6,11444.8,11449.95,11446.4,11452.5,11449.75,11445.25,11439.4,11437.9,11435.45,11430.75,11429.1,11429.85,11427.5,11426.4,11429.7,11427.1,11431.2,11433.65,11434.95,11436.55,11436.7,11434.45,11426.65,11427.8,11418.65,11420.55,11422.4,11423.1,11423.4,11424.85,11424.05,11420.25,11419.4,11425.35,11424.05,11420.7,11421.8,11419.2,11421.25,11419.3,11416.7,11416.8,11416.1,11410.55,11407.7,11396.35,11393.2,11397.7,11395.8,11394.85,11395.7,11397.6,11398.95,11402.2,11407.15,11406.7,11402.05,11401.15,11400.4,11401.0,11398.2,11397.45,11400.9,11398.0,11400.25,11400.4,11397.4,11394.4,11396.45,11402.3,11402.4,11401.5,11399.3,11398.6,11399.95,11400.25,11377.9,11372.05,11368.5,11375.85,11378.25,11380.8,11380.5,11382.3,11368.05,11368.95,11373.5,11375.45,11368.3,11367.4,11362.45,11361.9,11365.55,11370.3,11371.75,11365.0,11370.1,11376.7,11375.65,11374.6,11376.3,11380.55,11383.7,11386.75,11383.05,11386.35,11393.7,11393.0,11394.45,11387.6,11388.45,11389.3,11385.45,11382.1,11381.5,11379.5,11374.85,11375.8,11367.7,11380.65,11381.5,11385.7,11387.05,11390.75,11389.65,11395.4,11387.0,11391.6,11395.75,11393.5,11399.05,11405.25,11409.9,11404.3,11402.1,11400.6,11400.5,11398.3,11400.65,11403.15,11400.8,11400.4,11403.1,11402.8,11401.15,11399.8,11403.5,11400.8,11400.65,11398.45,11396.25,11396.8,11395.35,11398.7,11397.45,11396.1,11397.0,11396.45,11381.2,11383.95,11387.7,11391.05,11400.45,11399.85,11398.85,11398.05,11398.2,11399.65,11397.75,11400.3,11399.9,11400.9,11398.15,11397.05,11397.6,11399.45,11401.2,11400.85,11408.05,11403.4,11397.3,11401.45,11405.55,11406.45,11412.45,11413.75,11413.95,11408.7,11402.95,11401.15,11400.4,11402.95,11410.25,11410.35,11388.45,11389.65,11398.8,11400.2,11401.95,11403.0,11398.5,11402.45,11402.7,11405.05,11411.85,11412.95,11406.8,11406.4,11410.25,11410.6,11408.7,11406.45,11403.35,11402.8,11409.3,11417.5,11420.95,11415.15,11418.45,11413.95,11415.9,11415.25,11413.05,11414.15,11418.65,11418.5,11420.4,11417.55,11421.85,11421.3,11421.75,11420.1,11418.9,11414.75,11412.6,11416.5,11419.3,11419.4,11417.55,11411.8,11406.2],\"high\":[11440.2,11465.8,11466.15,11471.85,11470.95,11467.15,11457.0,11441.95,11437.3,11431.7,11433.75,11445.45,11444.65,11435.95,11438.1,11443.7,11442.5,11443.0,11439.75,11434.45,11433.8,11424.95,11424.8,11427.5,11424.5,11425.4,11425.7,11426.0,11426.2,11429.85,11432.9,11434.2,11431.65,11428.6,11426.25,11426.6,11430.4,11428.85,11425.25,11425.1,11421.2,11421.0,11420.1,11412.75,11412.4,11412.45,11410.65,11408.6,11413.8,11418.45,11420.8,11421.5,11426.2,11425.65,11426.65,11422.7,11419.0,11419.3,11424.25,11424.35,11423.3,11421.65,11421.15,11423.35,11430.15,11431.5,11430.1,11426.9,11422.3,11419.85,11414.95,11416.35,11415.35,11415.2,11417.05,11415.25,11415.0,11416.65,11421.95,11421.7,11420.7,11419.2,11412.15,11412.9,11412.8,11413.1,11415.3,11416.75,11418.0,11419.65,11422.05,11421.8,11421.2,11419.95,11420.6,11420.5,11419.3,11421.0,11427.9,11428.55,11427.7,11428.1,11428.5,11429.5,11429.9,11429.1,11432.7,11431.3,11442.75,11443.55,11449.3,11449.4,11457.2,11456.65,11450.55,11447.8,11448.45,11446.8,11444.75,11442.85,11444.85,11442.45,11441.9,11440.95,11445.4,11458.65,11460.05,11453.45,11454.05,11451.55,11447.9,11445.25,11443.1,11446.5,11444.85,11444.8,11449.95,11449.7,11453.15,11453.05,11449.85,11446.45,11440.65,11437.85,11435.8,11431.05,11430.05,11428.9,11427.05,11429.7,11428.7,11432.15,11433.65,11437.05,11437.3,11437.15,11436.65,11434.55,11427.95,11427.25,11423.15,11422.5,11423.75,11423.85,11424.9,11426.0,11424.7,11420.8,11427.05,11424.95,11425.45,11422.95,11421.1,11421.85,11420.6,11421.2,11419.05,11416.85,11416.1,11410.95,11400.4,11396.85,11400.15,11399.85,11396.5,11398.1,11399.5,11398.95,11402.2,11407.4,11407.7,11407.5,11402.95,11402.2,11402.4,11401.15,11399.0,11402.7,11402.35,11400.25,11401.5,11399.4,11397.7,11397.25,11402.3,11403.9,11402.9,11402.8,11399.4,11400.9,11407.05,11394.8,11380.95,11370.9,11375.95,11378.25,11383.2,11383.35,11383.15,11384.55,11368.95,11373.6,11375.45,11373.9,11368.2,11372.0,11363.9,11365.55,11371.45,11371.75,11373.8,11370.1,11376.7,11377.9,11375.8,11376.3,11380.55,11384.0,11386.75,11387.1,11386.55,11397.4,11395.25,11395.6,11393.3,11388.45,11390.7,11389.15,11386.1,11382.2,11381.65,11378.7,11376.85,11376.6,11380.75,11382.65,11386.3,11388.0,11390.9,11391.3,11395.4,11395.0,11391.95,11395.75,11395.1,11399.25,11405.25,11409.9,11408.65,11404.1,11403.65,11402.6,11400.9,11400.65,11403.15,11402.6,11402.1,11403.1,11403.3,11403.1,11403.1,11403.5,11403.1,11401.6,11399.9,11398.55,11398.55,11398.5,11399.0,11399.65,11397.85,11398.4,11397.1,11392.75,11386.35,11387.7,11391.25,11400.45,11400.5,11399.7,11399.5,11398.65,11399.65,11399.75,11400.3,11402.05,11403.1,11400.65,11400.45,11400.05,11402.85,11401.2,11401.65,11408.15,11407.9,11405.9,11403.9,11405.75,11409.1,11413.1,11413.75,11416.25,11412.25,11407.6,11403.3,11402.3,11405.75,11410.25,11412.55,11402.65,11389.65,11398.8,11400.2,11402.2,11404.55,11404.85,11405.4,11403.85,11405.05,11411.85,11414.0,11414.45,11409.15,11410.25,11411.25,11409.65,11409.0,11407.8,11404.0,11409.3,11420.85,11422.95,11421.65,11418.45,11417.65,11417.1,11415.25,11416.25,11416.15,11418.65,11422.25,11420.4,11422.2,11421.85,11423.0,11422.55,11422.8,11422.75,11420.4,11417.1,11416.95,11420.05,11420.4,11419.85,11418.0,11412.7],\"low\":[11440.2,11456.4,11461.05,11467.05,11466.0,11462.15,11442.05,11431.6,11425.5,11416.15,11419.2,11435.3,11431.8,11428.1,11429.95,11438.4,11439.05,11439.15,11432.5,11430.3,11426.05,11423.45,11422.95,11423.8,11422.5,11422.65,11422.45,11423.15,11423.65,11426.85,11427.45,11431.1,11428.35,11423.7,11425.25,11424.1,11426.45,11424.95,11422.8,11421.3,11419.95,11419.15,11413.05,11404.95,11406.8,11404.6,11406.0,11405.55,11405.7,11414.8,11418.05,11419.2,11422.25,11422.85,11420.65,11417.25,11416.35,11417.1,11419.0,11420.8,11421.7,11419.2,11419.85,11419.55,11424.1,11430.2,11425.6,11421.05,11418.25,11415.25,11412.55,11412.95,11413.85,11413.55,11412.95,11411.9,11413.6,11414.8,11417.35,11420.3,11418.35,11409.75,11409.0,11410.85,11411.35,11410.6,11413.05,11413.65,11415.45,11417.45,11419.5,11419.85,11418.7,11418.55,11419.15,11418.6,11417.8,11419.0,11424.65,11427.15,11426.15,11424.9,11424.25,11426.6,11427.7,11427.5,11429.0,11430.05,11431.15,11440.6,11442.95,11446.7,11446.7,11449.95,11447.35,11444.75,11444.6,11442.75,11439.4,11439.95,11442.7,11439.9,11439.15,11440.2,11440.6,11444.6,11449.7,11447.7,11449.4,11446.65,11443.45,11442.8,11440.5,11442.95,11443.15,11443.8,11445.7,11446.4,11447.4,11449.75,11445.25,11439.4,11436.4,11435.1,11430.25,11429.1,11428.45,11426.6,11424.6,11425.55,11427.1,11428.2,11429.6,11433.1,11434.85,11436.15,11434.45,11426.65,11426.45,11418.65,11419.9,11419.2,11422.45,11422.9,11421.95,11423.85,11420.05,11419.4,11419.3,11423.6,11420.7,11420.25,11419.2,11419.2,11418.75,11416.7,11416.1,11415.2,11410.55,11406.0,11394.05,11389.55,11395.1,11394.8,11393.95,11393.45,11395.45,11397.45,11399.55,11400.9,11406.4,11402.05,11399.9,11399.85,11399.9,11397.7,11396.05,11396.7,11398.0,11397.7,11399.9,11395.45,11394.4,11395.2,11397.65,11401.6,11401.5,11398.8,11398.0,11397.95,11400.25,11376.9,11369.65,11364.4,11367.45,11372.45,11377.95,11380.5,11380.5,11368.05,11365.25,11368.35,11373.45,11368.3,11366.1,11362.45,11361.65,11362.7,11366.25,11370.85,11365.0,11364.9,11370.4,11374.9,11373.65,11374.25,11374.95,11379.65,11383.65,11383.05,11383.15,11387.05,11391.9,11393.25,11387.6,11384.3,11388.5,11385.35,11382.1,11380.9,11377.05,11374.25,11375.8,11367.7,11367.0,11380.65,11382.1,11386.45,11387.45,11389.4,11390.25,11385.2,11387.65,11392.2,11392.65,11394.05,11399.35,11402.8,11402.85,11402.1,11400.4,11399.55,11394.85,11397.8,11399.6,11400.8,11399.7,11401.15,11401.9,11400.55,11399.8,11400.55,11400.8,11399.1,11398.45,11396.0,11395.3,11393.95,11394.65,11397.45,11396.1,11395.9,11395.9,11380.0,11381.6,11384.15,11387.35,11392.25,11398.25,11397.95,11397.65,11396.8,11395.95,11397.15,11397.95,11399.15,11399.75,11398.15,11397.05,11396.25,11397.85,11398.65,11399.15,11404.35,11400.8,11392.95,11396.35,11401.6,11406.45,11406.55,11411.4,11412.0,11407.65,11402.8,11400.95,11398.9,11400.55,11405.0,11409.1,11388.45,11381.4,11389.05,11397.05,11399.5,11402.5,11395.85,11400.2,11401.35,11402.0,11403.9,11411.85,11406.8,11406.4,11406.85,11407.5,11407.25,11406.45,11402.05,11402.65,11401.8,11413.2,11415.35,11414.25,11414.05,11412.9,11412.35,11412.45,11412.45,11412.55,11416.05,11417.95,11417.1,11415.85,11416.7,11419.6,11419.25,11420.1,11418.9,11414.65,11412.6,11413.45,11415.55,11417.2,11415.75,11411.6,11404.75],\"open\":[11440.2,11463.2,11466.15,11467.05,11470.0,11466.3,11457.0,11440.65,11432.45,11431.7,11419.2,11435.3,11444.05,11430.75,11431.7,11439.6,11442.5,11441.95,11439.3,11432.35,11433.8,11424.05,11424.65,11424.2,11423.85,11424.05,11422.75,11423.9,11423.65,11426.85,11427.45,11432.95,11431.65,11428.6,11425.8,11425.3,11426.45,11428.65,11423.75,11424.95,11421.2,11421.0,11419.8,11412.75,11406.8,11404.6,11410.65,11408.6,11405.7,11414.9,11418.05,11420.1,11422.25,11423.2,11425.7,11421.0,11418.4,11418.3,11419.0,11424.35,11423.2,11421.25,11419.85,11420.2,11424.1,11430.7,11430.1,11426.9,11421.05,11419.45,11414.95,11414.25,11414.05,11414.55,11415.5,11411.9,11413.6,11414.8,11417.35,11420.95,11420.1,11418.9,11412.15,11412.6,11412.1,11412.0,11413.2,11415.1,11415.45,11417.45,11420.4,11421.2,11421.2,11418.95,11419.15,11420.5,11419.15,11419.0,11425.05,11427.25,11426.75,11428.1,11424.25,11426.6,11428.1,11428.05,11429.0,11431.1,11431.15,11442.8,11443.95,11449.4,11446.7,11456.65,11450.2,11447.8,11444.6,11446.2,11442.35,11440.7,11442.85,11442.45,11440.2,11440.3,11441.15,11444.6,11460.05,11447.7,11452.85,11449.5,11446.65,11445.25,11441.2,11443.35,11443.85,11444.15,11446.3,11449.7,11447.4,11452.05,11448.8,11446.45,11439.8,11437.35,11435.8,11430.05,11429.25,11426.6,11425.85,11425.55,11428.3,11428.2,11431.3,11433.1,11435.0,11436.85,11436.65,11433.05,11427.35,11426.95,11419.9,11421.05,11422.45,11423.3,11421.95,11424.25,11424.7,11420.2,11419.95,11424.85,11424.75,11421.05,11420.85,11419.25,11420.5,11421.0,11416.4,11416.85,11415.5,11410.95,11400.4,11396.85,11395.1,11399.85,11396.5,11393.45,11397.5,11397.45,11399.7,11401.5,11406.4,11407.5,11402.85,11401.85,11400.45,11400.3,11399.0,11396.7,11401.4,11397.8,11400.1,11399.4,11396.25,11395.5,11397.65,11402.35,11402.3,11401.3,11398.65,11399.25,11400.7,11394.8,11380.95,11369.8,11369.4,11376.45,11378.05,11381.2,11381.55,11384.55,11367.15,11368.35,11374.8,11373.9,11367.85,11368.1,11363.15,11362.9,11366.25,11371.1,11372.35,11364.9,11370.65,11377.5,11374.55,11375.05,11375.6,11380.4,11383.65,11387.1,11383.65,11387.05,11394.4,11393.25,11393.3,11384.85,11388.5,11388.9,11383.85,11382.2,11381.65,11378.7,11375.9,11375.05,11368.05,11382.65,11382.55,11388.0,11387.65,11391.3,11390.25,11394.4,11388.2,11392.2,11395.1,11394.05,11399.35,11406.35,11408.65,11403.8,11403.65,11400.85,11400.9,11398.65,11400.7,11402.6,11400.75,11401.35,11403.3,11402.25,11400.45,11400.55,11402.45,11401.6,11399.8,11398.55,11398.5,11397.2,11395.1,11399.65,11397.2,11396.6,11397.1,11392.75,11381.6,11385.05,11387.6,11392.25,11400.5,11398.95,11399.15,11398.65,11399.05,11397.45,11398.3,11399.15,11399.75,11400.65,11400.45,11397.6,11397.85,11401.2,11399.15,11404.35,11407.9,11405.45,11396.35,11402.45,11408.9,11406.85,11411.6,11414.6,11411.5,11407.6,11402.85,11401.55,11402.25,11405.0,11411.3,11402.65,11384.7,11389.5,11397.9,11400.8,11402.5,11403.15,11400.2,11402.35,11402.0,11403.9,11411.95,11414.45,11407.1,11408.2,11409.5,11409.65,11409.0,11406.35,11402.85,11401.8,11413.2,11417.65,11421.65,11416.7,11415.4,11412.35,11414.65,11416.25,11412.55,11416.65,11420.0,11418.95,11422.2,11416.7,11419.6,11421.05,11421.7,11419.55,11418.95,11415.65,11414.4,11415.55,11420.4,11418.65,11416.45,11411.05],\"type\":\"candlestick\",\"x\":[\"09:09\",\"09:16\",\"09:17\",\"09:18\",\"09:19\",\"09:20\",\"09:21\",\"09:22\",\"09:23\",\"09:24\",\"09:25\",\"09:26\",\"09:27\",\"09:28\",\"09:29\",\"09:30\",\"09:31\",\"09:32\",\"09:33\",\"09:34\",\"09:35\",\"09:36\",\"09:37\",\"09:38\",\"09:39\",\"09:40\",\"09:41\",\"09:42\",\"09:43\",\"09:44\",\"09:45\",\"09:46\",\"09:47\",\"09:48\",\"09:49\",\"09:50\",\"09:51\",\"09:52\",\"09:53\",\"09:54\",\"09:55\",\"09:56\",\"09:57\",\"09:58\",\"09:59\",\"10:00\",\"10:01\",\"10:02\",\"10:03\",\"10:04\",\"10:05\",\"10:06\",\"10:07\",\"10:08\",\"10:09\",\"10:10\",\"10:11\",\"10:12\",\"10:13\",\"10:14\",\"10:15\",\"10:16\",\"10:17\",\"10:18\",\"10:19\",\"10:20\",\"10:21\",\"10:22\",\"10:23\",\"10:24\",\"10:25\",\"10:26\",\"10:27\",\"10:28\",\"10:29\",\"10:30\",\"10:31\",\"10:32\",\"10:33\",\"10:34\",\"10:35\",\"10:36\",\"10:37\",\"10:38\",\"10:39\",\"10:40\",\"10:41\",\"10:42\",\"10:43\",\"10:44\",\"10:45\",\"10:46\",\"10:47\",\"10:48\",\"10:49\",\"10:50\",\"10:51\",\"10:52\",\"10:53\",\"10:54\",\"10:55\",\"10:56\",\"10:57\",\"10:58\",\"10:59\",\"11:00\",\"11:01\",\"11:02\",\"11:03\",\"11:04\",\"11:05\",\"11:06\",\"11:07\",\"11:08\",\"11:09\",\"11:10\",\"11:11\",\"11:12\",\"11:13\",\"11:14\",\"11:15\",\"11:16\",\"11:17\",\"11:18\",\"11:19\",\"11:20\",\"11:21\",\"11:22\",\"11:23\",\"11:24\",\"11:25\",\"11:26\",\"11:27\",\"11:28\",\"11:29\",\"11:30\",\"11:31\",\"11:32\",\"11:33\",\"11:34\",\"11:35\",\"11:36\",\"11:37\",\"11:38\",\"11:39\",\"11:40\",\"11:41\",\"11:42\",\"11:43\",\"11:44\",\"11:45\",\"11:46\",\"11:47\",\"11:48\",\"11:49\",\"11:50\",\"11:51\",\"11:52\",\"11:53\",\"11:54\",\"11:55\",\"11:56\",\"11:57\",\"11:58\",\"11:59\",\"12:00\",\"12:01\",\"12:02\",\"12:03\",\"12:04\",\"12:05\",\"12:06\",\"12:07\",\"12:08\",\"12:09\",\"12:10\",\"12:11\",\"12:12\",\"12:13\",\"12:14\",\"12:15\",\"12:16\",\"12:17\",\"12:18\",\"12:19\",\"12:20\",\"12:21\",\"12:22\",\"12:23\",\"12:24\",\"12:25\",\"12:26\",\"12:27\",\"12:28\",\"12:29\",\"12:30\",\"12:31\",\"12:32\",\"12:33\",\"12:34\",\"12:35\",\"12:36\",\"12:37\",\"12:38\",\"12:39\",\"12:40\",\"12:41\",\"12:42\",\"12:43\",\"12:44\",\"12:45\",\"12:46\",\"12:47\",\"12:48\",\"12:49\",\"12:50\",\"12:51\",\"12:52\",\"12:53\",\"12:54\",\"12:55\",\"12:56\",\"12:57\",\"12:58\",\"12:59\",\"13:00\",\"13:01\",\"13:02\",\"13:03\",\"13:04\",\"13:05\",\"13:06\",\"13:07\",\"13:08\",\"13:09\",\"13:10\",\"13:11\",\"13:12\",\"13:13\",\"13:14\",\"13:15\",\"13:16\",\"13:17\",\"13:18\",\"13:19\",\"13:20\",\"13:21\",\"13:22\",\"13:23\",\"13:24\",\"13:25\",\"13:26\",\"13:27\",\"13:28\",\"13:29\",\"13:30\",\"13:31\",\"13:32\",\"13:33\",\"13:34\",\"13:35\",\"13:36\",\"13:37\",\"13:38\",\"13:39\",\"13:40\",\"13:41\",\"13:42\",\"13:43\",\"13:44\",\"13:45\",\"13:46\",\"13:47\",\"13:48\",\"13:49\",\"13:50\",\"13:51\",\"13:52\",\"13:53\",\"13:54\",\"13:55\",\"13:56\",\"13:57\",\"13:58\",\"13:59\",\"14:00\",\"14:01\",\"14:02\",\"14:03\",\"14:04\",\"14:05\",\"14:06\",\"14:07\",\"14:08\",\"14:09\",\"14:10\",\"14:11\",\"14:12\",\"14:13\",\"14:14\",\"14:15\",\"14:16\",\"14:17\",\"14:18\",\"14:19\",\"14:20\",\"14:21\",\"14:22\",\"14:23\",\"14:24\",\"14:25\",\"14:26\",\"14:27\",\"14:28\",\"14:29\",\"14:30\",\"14:31\",\"14:32\",\"14:33\",\"14:34\",\"14:35\",\"14:36\",\"14:37\",\"14:38\",\"14:39\",\"14:40\",\"14:41\",\"14:42\",\"14:43\",\"14:44\",\"14:45\",\"14:46\",\"14:47\",\"14:48\",\"14:49\",\"14:50\",\"14:51\",\"14:52\",\"14:53\",\"14:54\",\"14:55\",\"14:56\",\"14:57\",\"14:58\",\"14:59\",\"15:00\",\"15:01\",\"15:02\",\"15:03\",\"15:04\",\"15:05\",\"15:06\",\"15:07\",\"15:08\",\"15:09\",\"15:10\",\"15:11\",\"15:12\",\"15:13\",\"15:14\",\"15:15\",\"15:16\",\"15:17\",\"15:18\",\"15:19\",\"15:20\",\"15:21\",\"15:22\",\"15:23\",\"15:24\",\"15:25\",\"15:26\",\"15:27\",\"15:28\",\"15:29\",\"15:30\"]},{\"type\":\"scatter\",\"x\":[\"09:09\"],\"y\":[342610.6]},{\"type\":\"scatter\",\"x\":[\"09:16\"],\"y\":[342653.875]},{\"type\":\"scatter\",\"x\":[\"09:17\"],\"y\":[342698.2]},{\"type\":\"scatter\",\"x\":[\"09:18\"],\"y\":[342749.15]},{\"type\":\"scatter\",\"x\":[\"09:19\"],\"y\":[342801.9]},{\"type\":\"scatter\",\"x\":[\"09:20\"],\"y\":[342851.05]},{\"type\":\"scatter\",\"x\":[\"09:21\"],\"y\":[342885.175]},{\"type\":\"scatter\",\"x\":[\"09:22\"],\"y\":[342905.825]},{\"type\":\"scatter\",\"x\":[\"09:23\"],\"y\":[342920.125]},{\"type\":\"scatter\",\"x\":[\"09:24\"],\"y\":[342928.0]},{\"type\":\"scatter\",\"x\":[\"09:25\"],\"y\":[342941.05000000005]},{\"type\":\"scatter\",\"x\":[\"09:26\"],\"y\":[342974.525]},{\"type\":\"scatter\",\"x\":[\"09:27\"],\"y\":[343005.15]},{\"type\":\"scatter\",\"x\":[\"09:28\"],\"y\":[343027.675]},{\"type\":\"scatter\",\"x\":[\"09:29\"],\"y\":[343049.14999999997]},{\"type\":\"scatter\",\"x\":[\"09:30\"],\"y\":[343074.175]},{\"type\":\"scatter\",\"x\":[\"09:31\"],\"y\":[343098.85000000003]},{\"type\":\"scatter\",\"x\":[\"09:32\"],\"y\":[343120.45]},{\"type\":\"scatter\",\"x\":[\"09:33\"],\"y\":[343132.64999999997]},{\"type\":\"scatter\",\"x\":[\"09:34\"],\"y\":[343142.55]},{\"type\":\"scatter\",\"x\":[\"09:35\"],\"y\":[343148.05]},{\"type\":\"scatter\",\"x\":[\"09:36\"],\"y\":[343149.85]},{\"type\":\"scatter\",\"x\":[\"09:37\"],\"y\":[343153.7]},{\"type\":\"scatter\",\"x\":[\"09:38\"],\"y\":[343155.7]},{\"type\":\"scatter\",\"x\":[\"09:39\"],\"y\":[343156.175]},{\"type\":\"scatter\",\"x\":[\"09:40\"],\"y\":[343155.4]},{\"type\":\"scatter\",\"x\":[\"09:41\"],\"y\":[343150.975]},{\"type\":\"scatter\",\"x\":[\"09:42\"],\"y\":[343143.925]},{\"type\":\"scatter\",\"x\":[\"09:43\"],\"y\":[343135.375]},{\"type\":\"scatter\",\"x\":[\"09:44\"],\"y\":[343128.55]},{\"type\":\"scatter\",\"x\":[\"09:45\"],\"y\":[343118.525]},{\"type\":\"scatter\",\"x\":[\"09:46\"],\"y\":[343086.67500000005]},{\"type\":\"scatter\",\"x\":[\"09:47\"],\"y\":[343052.69999999995]},{\"type\":\"scatter\",\"x\":[\"09:48\"],\"y\":[343010.32499999995]},{\"type\":\"scatter\",\"x\":[\"09:49\"],\"y\":[342967.225]},{\"type\":\"scatter\",\"x\":[\"09:50\"],\"y\":[342928.475]},{\"type\":\"scatter\",\"x\":[\"09:51\"],\"y\":[342906.14999999997]},{\"type\":\"scatter\",\"x\":[\"09:52\"],\"y\":[342896.82499999995]},{\"type\":\"scatter\",\"x\":[\"09:53\"],\"y\":[342888.39999999997]},{\"type\":\"scatter\",\"x\":[\"09:54\"],\"y\":[342887.725]},{\"type\":\"scatter\",\"x\":[\"09:55\"],\"y\":[342882.0]},{\"type\":\"scatter\",\"x\":[\"09:56\"],\"y\":[342861.72500000003]},{\"type\":\"scatter\",\"x\":[\"09:57\"],\"y\":[342840.225]},{\"type\":\"scatter\",\"x\":[\"09:58\"],\"y\":[342817.32499999995]},{\"type\":\"scatter\",\"x\":[\"09:59\"],\"y\":[342790.65]},{\"type\":\"scatter\",\"x\":[\"10:00\"],\"y\":[342757.52499999997]},{\"type\":\"scatter\",\"x\":[\"10:01\"],\"y\":[342725.35]},{\"type\":\"scatter\",\"x\":[\"10:02\"],\"y\":[342691.875]},{\"type\":\"scatter\",\"x\":[\"10:03\"],\"y\":[342665.575]},{\"type\":\"scatter\",\"x\":[\"10:04\"],\"y\":[342649.02499999997]},{\"type\":\"scatter\",\"x\":[\"10:05\"],\"y\":[342638.225]},{\"type\":\"scatter\",\"x\":[\"10:06\"],\"y\":[342634.725]},{\"type\":\"scatter\",\"x\":[\"10:07\"],\"y\":[342632.77499999997]},{\"type\":\"scatter\",\"x\":[\"10:08\"],\"y\":[342632.77499999997]},{\"type\":\"scatter\",\"x\":[\"10:09\"],\"y\":[342632.19999999995]},{\"type\":\"scatter\",\"x\":[\"10:10\"],\"y\":[342628.22500000003]},{\"type\":\"scatter\",\"x\":[\"10:11\"],\"y\":[342622.85000000003]},{\"type\":\"scatter\",\"x\":[\"10:12\"],\"y\":[342617.52499999997]},{\"type\":\"scatter\",\"x\":[\"10:13\"],\"y\":[342614.225]},{\"type\":\"scatter\",\"x\":[\"10:14\"],\"y\":[342610.475]},{\"type\":\"scatter\",\"x\":[\"10:15\"],\"y\":[342602.77499999997]},{\"type\":\"scatter\",\"x\":[\"10:16\"],\"y\":[342591.47500000003]},{\"type\":\"scatter\",\"x\":[\"10:17\"],\"y\":[342580.85]},{\"type\":\"scatter\",\"x\":[\"10:18\"],\"y\":[342575.4]},{\"type\":\"scatter\",\"x\":[\"10:19\"],\"y\":[342577.0]},{\"type\":\"scatter\",\"x\":[\"10:20\"],\"y\":[342582.05000000005]},{\"type\":\"scatter\",\"x\":[\"10:21\"],\"y\":[342582.525]},{\"type\":\"scatter\",\"x\":[\"10:22\"],\"y\":[342579.825]},{\"type\":\"scatter\",\"x\":[\"10:23\"],\"y\":[342575.47500000003]},{\"type\":\"scatter\",\"x\":[\"10:24\"],\"y\":[342569.775]},{\"type\":\"scatter\",\"x\":[\"10:25\"],\"y\":[342562.85000000003]},{\"type\":\"scatter\",\"x\":[\"10:26\"],\"y\":[342556.35]},{\"type\":\"scatter\",\"x\":[\"10:27\"],\"y\":[342554.45]},{\"type\":\"scatter\",\"x\":[\"10:28\"],\"y\":[342560.47500000003]},{\"type\":\"scatter\",\"x\":[\"10:29\"],\"y\":[342566.52499999997]},{\"type\":\"scatter\",\"x\":[\"10:30\"],\"y\":[342570.625]},{\"type\":\"scatter\",\"x\":[\"10:31\"],\"y\":[342574.925]},{\"type\":\"scatter\",\"x\":[\"10:32\"],\"y\":[342583.25]},{\"type\":\"scatter\",\"x\":[\"10:33\"],\"y\":[342592.875]},{\"type\":\"scatter\",\"x\":[\"10:34\"],\"y\":[342597.075]},{\"type\":\"scatter\",\"x\":[\"10:35\"],\"y\":[342597.47500000003]},{\"type\":\"scatter\",\"x\":[\"10:36\"],\"y\":[342591.00000000006]},{\"type\":\"scatter\",\"x\":[\"10:37\"],\"y\":[342579.75]},{\"type\":\"scatter\",\"x\":[\"10:38\"],\"y\":[342568.075]},{\"type\":\"scatter\",\"x\":[\"10:39\"],\"y\":[342557.075]},{\"type\":\"scatter\",\"x\":[\"10:40\"],\"y\":[342548.775]},{\"type\":\"scatter\",\"x\":[\"10:41\"],\"y\":[342544.575]},{\"type\":\"scatter\",\"x\":[\"10:42\"],\"y\":[342541.42500000005]},{\"type\":\"scatter\",\"x\":[\"10:43\"],\"y\":[342536.525]},{\"type\":\"scatter\",\"x\":[\"10:44\"],\"y\":[342531.45]},{\"type\":\"scatter\",\"x\":[\"10:45\"],\"y\":[342529.85000000003]},{\"type\":\"scatter\",\"x\":[\"10:46\"],\"y\":[342530.425]},{\"type\":\"scatter\",\"x\":[\"10:47\"],\"y\":[342530.0]},{\"type\":\"scatter\",\"x\":[\"10:48\"],\"y\":[342527.125]},{\"type\":\"scatter\",\"x\":[\"10:49\"],\"y\":[342519.725]},{\"type\":\"scatter\",\"x\":[\"10:50\"],\"y\":[342509.0]},{\"type\":\"scatter\",\"x\":[\"10:51\"],\"y\":[342499.625]},{\"type\":\"scatter\",\"x\":[\"10:52\"],\"y\":[342495.35000000003]},{\"type\":\"scatter\",\"x\":[\"10:53\"],\"y\":[342501.8]},{\"type\":\"scatter\",\"x\":[\"10:54\"],\"y\":[342511.775]},{\"type\":\"scatter\",\"x\":[\"10:55\"],\"y\":[342524.39999999997]},{\"type\":\"scatter\",\"x\":[\"10:56\"],\"y\":[342538.22500000003]},{\"type\":\"scatter\",\"x\":[\"10:57\"],\"y\":[342549.075]},{\"type\":\"scatter\",\"x\":[\"10:58\"],\"y\":[342561.175]},{\"type\":\"scatter\",\"x\":[\"10:59\"],\"y\":[342574.875]},{\"type\":\"scatter\",\"x\":[\"11:00\"],\"y\":[342590.825]},{\"type\":\"scatter\",\"x\":[\"11:01\"],\"y\":[342606.575]},{\"type\":\"scatter\",\"x\":[\"11:02\"],\"y\":[342622.27499999997]},{\"type\":\"scatter\",\"x\":[\"11:03\"],\"y\":[342639.975]},{\"type\":\"scatter\",\"x\":[\"11:04\"],\"y\":[342660.8]},{\"type\":\"scatter\",\"x\":[\"11:05\"],\"y\":[342687.89999999997]},{\"type\":\"scatter\",\"x\":[\"11:06\"],\"y\":[342722.27499999997]},{\"type\":\"scatter\",\"x\":[\"11:07\"],\"y\":[342762.775]},{\"type\":\"scatter\",\"x\":[\"11:08\"],\"y\":[342803.75]},{\"type\":\"scatter\",\"x\":[\"11:09\"],\"y\":[342840.65]},{\"type\":\"scatter\",\"x\":[\"11:10\"],\"y\":[342876.175]},{\"type\":\"scatter\",\"x\":[\"11:11\"],\"y\":[342906.82499999995]},{\"type\":\"scatter\",\"x\":[\"11:12\"],\"y\":[342936.175]},{\"type\":\"scatter\",\"x\":[\"11:13\"],\"y\":[342961.525]},{\"type\":\"scatter\",\"x\":[\"11:14\"],\"y\":[342985.0]},{\"type\":\"scatter\",\"x\":[\"11:15\"],\"y\":[343007.925]},{\"type\":\"scatter\",\"x\":[\"11:16\"],\"y\":[343028.65]},{\"type\":\"scatter\",\"x\":[\"11:17\"],\"y\":[343048.9]},{\"type\":\"scatter\",\"x\":[\"11:18\"],\"y\":[343070.775]},{\"type\":\"scatter\",\"x\":[\"11:19\"],\"y\":[343093.75]},{\"type\":\"scatter\",\"x\":[\"11:20\"],\"y\":[343125.57499999995]},{\"type\":\"scatter\",\"x\":[\"11:21\"],\"y\":[343161.975]},{\"type\":\"scatter\",\"x\":[\"11:22\"],\"y\":[343192.725]},{\"type\":\"scatter\",\"x\":[\"11:23\"],\"y\":[343217.375]},{\"type\":\"scatter\",\"x\":[\"11:24\"],\"y\":[343238.825]},{\"type\":\"scatter\",\"x\":[\"11:25\"],\"y\":[343257.42500000005]},{\"type\":\"scatter\",\"x\":[\"11:26\"],\"y\":[343274.02499999997]},{\"type\":\"scatter\",\"x\":[\"11:27\"],\"y\":[343290.8]},{\"type\":\"scatter\",\"x\":[\"11:28\"],\"y\":[343307.825]},{\"type\":\"scatter\",\"x\":[\"11:29\"],\"y\":[343324.075]},{\"type\":\"scatter\",\"x\":[\"11:30\"],\"y\":[343339.97500000003]},{\"type\":\"scatter\",\"x\":[\"11:31\"],\"y\":[343358.2]},{\"type\":\"scatter\",\"x\":[\"11:32\"],\"y\":[343375.15]},{\"type\":\"scatter\",\"x\":[\"11:33\"],\"y\":[343388.17500000005]},{\"type\":\"scatter\",\"x\":[\"11:34\"],\"y\":[343397.375]},{\"type\":\"scatter\",\"x\":[\"11:35\"],\"y\":[343397.775]},{\"type\":\"scatter\",\"x\":[\"11:36\"],\"y\":[343392.0]},{\"type\":\"scatter\",\"x\":[\"11:37\"],\"y\":[343378.9]},{\"type\":\"scatter\",\"x\":[\"11:38\"],\"y\":[343362.0]},{\"type\":\"scatter\",\"x\":[\"11:39\"],\"y\":[343346.2]},{\"type\":\"scatter\",\"x\":[\"11:40\"],\"y\":[343328.575]},{\"type\":\"scatter\",\"x\":[\"11:41\"],\"y\":[343313.22500000003]},{\"type\":\"scatter\",\"x\":[\"11:42\"],\"y\":[343295.8]},{\"type\":\"scatter\",\"x\":[\"11:43\"],\"y\":[343279.85]},{\"type\":\"scatter\",\"x\":[\"11:44\"],\"y\":[343265.875]},{\"type\":\"scatter\",\"x\":[\"11:45\"],\"y\":[343249.775]},{\"type\":\"scatter\",\"x\":[\"11:46\"],\"y\":[343237.45]},{\"type\":\"scatter\",\"x\":[\"11:47\"],\"y\":[343229.725]},{\"type\":\"scatter\",\"x\":[\"11:48\"],\"y\":[343223.125]},{\"type\":\"scatter\",\"x\":[\"11:49\"],\"y\":[343216.2]},{\"type\":\"scatter\",\"x\":[\"11:50\"],\"y\":[343201.35000000003]},{\"type\":\"scatter\",\"x\":[\"11:51\"],\"y\":[343182.025]},{\"type\":\"scatter\",\"x\":[\"11:52\"],\"y\":[343161.3]},{\"type\":\"scatter\",\"x\":[\"11:53\"],\"y\":[343137.75]},{\"type\":\"scatter\",\"x\":[\"11:54\"],\"y\":[343111.57499999995]},{\"type\":\"scatter\",\"x\":[\"11:55\"],\"y\":[343086.75]},{\"type\":\"scatter\",\"x\":[\"11:56\"],\"y\":[343064.45]},{\"type\":\"scatter\",\"x\":[\"11:57\"],\"y\":[343045.075]},{\"type\":\"scatter\",\"x\":[\"11:58\"],\"y\":[343024.425]},{\"type\":\"scatter\",\"x\":[\"11:59\"],\"y\":[343003.60000000003]},{\"type\":\"scatter\",\"x\":[\"12:00\"],\"y\":[342983.27499999997]},{\"type\":\"scatter\",\"x\":[\"12:01\"],\"y\":[342957.625]},{\"type\":\"scatter\",\"x\":[\"12:02\"],\"y\":[342929.375]},{\"type\":\"scatter\",\"x\":[\"12:03\"],\"y\":[342902.075]},{\"type\":\"scatter\",\"x\":[\"12:04\"],\"y\":[342875.625]},{\"type\":\"scatter\",\"x\":[\"12:05\"],\"y\":[342851.325]},{\"type\":\"scatter\",\"x\":[\"12:06\"],\"y\":[342829.825]},{\"type\":\"scatter\",\"x\":[\"12:07\"],\"y\":[342811.0]},{\"type\":\"scatter\",\"x\":[\"12:08\"],\"y\":[342794.85000000003]},{\"type\":\"scatter\",\"x\":[\"12:09\"],\"y\":[342781.475]},{\"type\":\"scatter\",\"x\":[\"12:10\"],\"y\":[342770.75]},{\"type\":\"scatter\",\"x\":[\"12:11\"],\"y\":[342757.8]},{\"type\":\"scatter\",\"x\":[\"12:12\"],\"y\":[342747.225]},{\"type\":\"scatter\",\"x\":[\"12:13\"],\"y\":[342734.125]},{\"type\":\"scatter\",\"x\":[\"12:14\"],\"y\":[342715.825]},{\"type\":\"scatter\",\"x\":[\"12:15\"],\"y\":[342686.5]},{\"type\":\"scatter\",\"x\":[\"12:16\"],\"y\":[342651.82499999995]},{\"type\":\"scatter\",\"x\":[\"12:17\"],\"y\":[342615.75]},{\"type\":\"scatter\",\"x\":[\"12:18\"],\"y\":[342579.55]},{\"type\":\"scatter\",\"x\":[\"12:19\"],\"y\":[342539.45]},{\"type\":\"scatter\",\"x\":[\"12:20\"],\"y\":[342497.25]},{\"type\":\"scatter\",\"x\":[\"12:21\"],\"y\":[342459.25]},{\"type\":\"scatter\",\"x\":[\"12:22\"],\"y\":[342427.60000000003]},{\"type\":\"scatter\",\"x\":[\"12:23\"],\"y\":[342400.97500000003]},{\"type\":\"scatter\",\"x\":[\"12:24\"],\"y\":[342382.5]},{\"type\":\"scatter\",\"x\":[\"12:25\"],\"y\":[342368.825]},{\"type\":\"scatter\",\"x\":[\"12:26\"],\"y\":[342351.875]},{\"type\":\"scatter\",\"x\":[\"12:27\"],\"y\":[342331.1]},{\"type\":\"scatter\",\"x\":[\"12:28\"],\"y\":[342308.875]},{\"type\":\"scatter\",\"x\":[\"12:29\"],\"y\":[342286.2]},{\"type\":\"scatter\",\"x\":[\"12:30\"],\"y\":[342261.30000000005]},{\"type\":\"scatter\",\"x\":[\"12:31\"],\"y\":[342237.05]},{\"type\":\"scatter\",\"x\":[\"12:32\"],\"y\":[342216.05]},{\"type\":\"scatter\",\"x\":[\"12:33\"],\"y\":[342193.1]},{\"type\":\"scatter\",\"x\":[\"12:34\"],\"y\":[342167.67500000005]},{\"type\":\"scatter\",\"x\":[\"12:35\"],\"y\":[342145.2]},{\"type\":\"scatter\",\"x\":[\"12:36\"],\"y\":[342122.175]},{\"type\":\"scatter\",\"x\":[\"12:37\"],\"y\":[342097.475]},{\"type\":\"scatter\",\"x\":[\"12:38\"],\"y\":[342073.19999999995]},{\"type\":\"scatter\",\"x\":[\"12:39\"],\"y\":[342053.275]},{\"type\":\"scatter\",\"x\":[\"12:40\"],\"y\":[342036.8]},{\"type\":\"scatter\",\"x\":[\"12:41\"],\"y\":[342022.1]},{\"type\":\"scatter\",\"x\":[\"12:42\"],\"y\":[342005.92500000005]},{\"type\":\"scatter\",\"x\":[\"12:43\"],\"y\":[341991.525]},{\"type\":\"scatter\",\"x\":[\"12:44\"],\"y\":[341981.8]},{\"type\":\"scatter\",\"x\":[\"12:45\"],\"y\":[341983.89999999997]},{\"type\":\"scatter\",\"x\":[\"12:46\"],\"y\":[341975.22500000003]},{\"type\":\"scatter\",\"x\":[\"12:47\"],\"y\":[341955.325]},{\"type\":\"scatter\",\"x\":[\"12:48\"],\"y\":[341926.64999999997]},{\"type\":\"scatter\",\"x\":[\"12:49\"],\"y\":[341903.6]},{\"type\":\"scatter\",\"x\":[\"12:50\"],\"y\":[341886.375]},{\"type\":\"scatter\",\"x\":[\"12:51\"],\"y\":[341868.25]},{\"type\":\"scatter\",\"x\":[\"12:52\"],\"y\":[341850.89999999997]},{\"type\":\"scatter\",\"x\":[\"12:53\"],\"y\":[341831.875]},{\"type\":\"scatter\",\"x\":[\"12:54\"],\"y\":[341803.85000000003]},{\"type\":\"scatter\",\"x\":[\"12:55\"],\"y\":[341765.35]},{\"type\":\"scatter\",\"x\":[\"12:56\"],\"y\":[341731.5]},{\"type\":\"scatter\",\"x\":[\"12:57\"],\"y\":[341704.625]},{\"type\":\"scatter\",\"x\":[\"12:58\"],\"y\":[341674.60000000003]},{\"type\":\"scatter\",\"x\":[\"12:59\"],\"y\":[341641.5]},{\"type\":\"scatter\",\"x\":[\"13:00\"],\"y\":[341607.52499999997]},{\"type\":\"scatter\",\"x\":[\"13:01\"],\"y\":[341571.825]},{\"type\":\"scatter\",\"x\":[\"13:02\"],\"y\":[341537.25]},{\"type\":\"scatter\",\"x\":[\"13:03\"],\"y\":[341505.825]},{\"type\":\"scatter\",\"x\":[\"13:04\"],\"y\":[341478.225]},{\"type\":\"scatter\",\"x\":[\"13:05\"],\"y\":[341446.64999999997]},{\"type\":\"scatter\",\"x\":[\"13:06\"],\"y\":[341415.75]},{\"type\":\"scatter\",\"x\":[\"13:07\"],\"y\":[341394.1]},{\"type\":\"scatter\",\"x\":[\"13:08\"],\"y\":[341374.7]},{\"type\":\"scatter\",\"x\":[\"13:09\"],\"y\":[341349.3]},{\"type\":\"scatter\",\"x\":[\"13:10\"],\"y\":[341322.6]},{\"type\":\"scatter\",\"x\":[\"13:11\"],\"y\":[341298.775]},{\"type\":\"scatter\",\"x\":[\"13:12\"],\"y\":[341280.52499999997]},{\"type\":\"scatter\",\"x\":[\"13:13\"],\"y\":[341267.1]},{\"type\":\"scatter\",\"x\":[\"13:14\"],\"y\":[341252.575]},{\"type\":\"scatter\",\"x\":[\"13:15\"],\"y\":[341237.10000000003]},{\"type\":\"scatter\",\"x\":[\"13:16\"],\"y\":[341241.125]},{\"type\":\"scatter\",\"x\":[\"13:17\"],\"y\":[341258.325]},{\"type\":\"scatter\",\"x\":[\"13:18\"],\"y\":[341283.025]},{\"type\":\"scatter\",\"x\":[\"13:19\"],\"y\":[341300.85000000003]},{\"type\":\"scatter\",\"x\":[\"13:20\"],\"y\":[341310.14999999997]},{\"type\":\"scatter\",\"x\":[\"13:21\"],\"y\":[341319.625]},{\"type\":\"scatter\",\"x\":[\"13:22\"],\"y\":[341325.95]},{\"type\":\"scatter\",\"x\":[\"13:23\"],\"y\":[341327.0]},{\"type\":\"scatter\",\"x\":[\"13:24\"],\"y\":[341332.55]},{\"type\":\"scatter\",\"x\":[\"13:25\"],\"y\":[341345.075]},{\"type\":\"scatter\",\"x\":[\"13:26\"],\"y\":[341350.925]},{\"type\":\"scatter\",\"x\":[\"13:27\"],\"y\":[341351.65]},{\"type\":\"scatter\",\"x\":[\"13:28\"],\"y\":[341351.925]},{\"type\":\"scatter\",\"x\":[\"13:29\"],\"y\":[341358.64999999997]},{\"type\":\"scatter\",\"x\":[\"13:30\"],\"y\":[341375.45]},{\"type\":\"scatter\",\"x\":[\"13:31\"],\"y\":[341397.05]},{\"type\":\"scatter\",\"x\":[\"13:32\"],\"y\":[341420.35000000003]},{\"type\":\"scatter\",\"x\":[\"13:33\"],\"y\":[341441.27499999997]},{\"type\":\"scatter\",\"x\":[\"13:34\"],\"y\":[341460.325]},{\"type\":\"scatter\",\"x\":[\"13:35\"],\"y\":[341484.47500000003]},{\"type\":\"scatter\",\"x\":[\"13:36\"],\"y\":[341507.675]},{\"type\":\"scatter\",\"x\":[\"13:37\"],\"y\":[341523.9]},{\"type\":\"scatter\",\"x\":[\"13:38\"],\"y\":[341541.3]},{\"type\":\"scatter\",\"x\":[\"13:39\"],\"y\":[341561.025]},{\"type\":\"scatter\",\"x\":[\"13:40\"],\"y\":[341581.9]},{\"type\":\"scatter\",\"x\":[\"13:41\"],\"y\":[341606.125]},{\"type\":\"scatter\",\"x\":[\"13:42\"],\"y\":[341632.2]},{\"type\":\"scatter\",\"x\":[\"13:43\"],\"y\":[341653.475]},{\"type\":\"scatter\",\"x\":[\"13:44\"],\"y\":[341671.35]},{\"type\":\"scatter\",\"x\":[\"13:45\"],\"y\":[341688.475]},{\"type\":\"scatter\",\"x\":[\"13:46\"],\"y\":[341698.77499999997]},{\"type\":\"scatter\",\"x\":[\"13:47\"],\"y\":[341704.675]},{\"type\":\"scatter\",\"x\":[\"13:48\"],\"y\":[341710.475]},{\"type\":\"scatter\",\"x\":[\"13:49\"],\"y\":[341721.94999999995]},{\"type\":\"scatter\",\"x\":[\"13:50\"],\"y\":[341737.0]},{\"type\":\"scatter\",\"x\":[\"13:51\"],\"y\":[341748.675]},{\"type\":\"scatter\",\"x\":[\"13:52\"],\"y\":[341763.72500000003]},{\"type\":\"scatter\",\"x\":[\"13:53\"],\"y\":[341783.8]},{\"type\":\"scatter\",\"x\":[\"13:54\"],\"y\":[341803.65]},{\"type\":\"scatter\",\"x\":[\"13:55\"],\"y\":[341823.2]},{\"type\":\"scatter\",\"x\":[\"13:56\"],\"y\":[341848.45]},{\"type\":\"scatter\",\"x\":[\"13:57\"],\"y\":[341874.225]},{\"type\":\"scatter\",\"x\":[\"13:58\"],\"y\":[341903.975]},{\"type\":\"scatter\",\"x\":[\"13:59\"],\"y\":[341928.75]},{\"type\":\"scatter\",\"x\":[\"14:00\"],\"y\":[341944.075]},{\"type\":\"scatter\",\"x\":[\"14:01\"],\"y\":[341957.6]},{\"type\":\"scatter\",\"x\":[\"14:02\"],\"y\":[341966.35]},{\"type\":\"scatter\",\"x\":[\"14:03\"],\"y\":[341974.05000000005]},{\"type\":\"scatter\",\"x\":[\"14:04\"],\"y\":[341982.125]},{\"type\":\"scatter\",\"x\":[\"14:05\"],\"y\":[341985.94999999995]},{\"type\":\"scatter\",\"x\":[\"14:06\"],\"y\":[341992.05000000005]},{\"type\":\"scatter\",\"x\":[\"14:07\"],\"y\":[341998.925]},{\"type\":\"scatter\",\"x\":[\"14:08\"],\"y\":[341991.92500000005]},{\"type\":\"scatter\",\"x\":[\"14:09\"],\"y\":[341980.39999999997]},{\"type\":\"scatter\",\"x\":[\"14:10\"],\"y\":[341970.225]},{\"type\":\"scatter\",\"x\":[\"14:11\"],\"y\":[341957.25]},{\"type\":\"scatter\",\"x\":[\"14:12\"],\"y\":[341945.475]},{\"type\":\"scatter\",\"x\":[\"14:13\"],\"y\":[341939.17500000005]},{\"type\":\"scatter\",\"x\":[\"14:14\"],\"y\":[341935.125]},{\"type\":\"scatter\",\"x\":[\"14:15\"],\"y\":[341931.60000000003]},{\"type\":\"scatter\",\"x\":[\"14:16\"],\"y\":[341929.35000000003]},{\"type\":\"scatter\",\"x\":[\"14:17\"],\"y\":[341929.1]},{\"type\":\"scatter\",\"x\":[\"14:18\"],\"y\":[341927.05000000005]},{\"type\":\"scatter\",\"x\":[\"14:19\"],\"y\":[341924.425]},{\"type\":\"scatter\",\"x\":[\"14:20\"],\"y\":[341922.25]},{\"type\":\"scatter\",\"x\":[\"14:21\"],\"y\":[341922.0]},{\"type\":\"scatter\",\"x\":[\"14:22\"],\"y\":[341919.175]},{\"type\":\"scatter\",\"x\":[\"14:23\"],\"y\":[341914.875]},{\"type\":\"scatter\",\"x\":[\"14:24\"],\"y\":[341910.77499999997]},{\"type\":\"scatter\",\"x\":[\"14:25\"],\"y\":[341909.3]},{\"type\":\"scatter\",\"x\":[\"14:26\"],\"y\":[341908.47500000003]},{\"type\":\"scatter\",\"x\":[\"14:27\"],\"y\":[341906.85000000003]},{\"type\":\"scatter\",\"x\":[\"14:28\"],\"y\":[341911.925]},{\"type\":\"scatter\",\"x\":[\"14:29\"],\"y\":[341918.45]},{\"type\":\"scatter\",\"x\":[\"14:30\"],\"y\":[341922.425]},{\"type\":\"scatter\",\"x\":[\"14:31\"],\"y\":[341923.67500000005]},{\"type\":\"scatter\",\"x\":[\"14:32\"],\"y\":[341931.4]},{\"type\":\"scatter\",\"x\":[\"14:33\"],\"y\":[341942.175]},{\"type\":\"scatter\",\"x\":[\"14:34\"],\"y\":[341953.27499999997]},{\"type\":\"scatter\",\"x\":[\"14:35\"],\"y\":[341969.30000000005]},{\"type\":\"scatter\",\"x\":[\"14:36\"],\"y\":[341986.77499999997]},{\"type\":\"scatter\",\"x\":[\"14:37\"],\"y\":[342000.10000000003]},{\"type\":\"scatter\",\"x\":[\"14:38\"],\"y\":[342018.39999999997]},{\"type\":\"scatter\",\"x\":[\"14:39\"],\"y\":[342037.625]},{\"type\":\"scatter\",\"x\":[\"14:40\"],\"y\":[342052.22500000003]},{\"type\":\"scatter\",\"x\":[\"14:41\"],\"y\":[342065.5]},{\"type\":\"scatter\",\"x\":[\"14:42\"],\"y\":[342076.775]},{\"type\":\"scatter\",\"x\":[\"14:43\"],\"y\":[342087.425]},{\"type\":\"scatter\",\"x\":[\"14:44\"],\"y\":[342084.075]},{\"type\":\"scatter\",\"x\":[\"14:45\"],\"y\":[342072.64999999997]},{\"type\":\"scatter\",\"x\":[\"14:46\"],\"y\":[342068.375]},{\"type\":\"scatter\",\"x\":[\"14:47\"],\"y\":[342068.075]},{\"type\":\"scatter\",\"x\":[\"14:48\"],\"y\":[342071.85]},{\"type\":\"scatter\",\"x\":[\"14:49\"],\"y\":[342075.3]},{\"type\":\"scatter\",\"x\":[\"14:50\"],\"y\":[342076.60000000003]},{\"type\":\"scatter\",\"x\":[\"14:51\"],\"y\":[342077.60000000003]},{\"type\":\"scatter\",\"x\":[\"14:52\"],\"y\":[342080.725]},{\"type\":\"scatter\",\"x\":[\"14:53\"],\"y\":[342085.5]},{\"type\":\"scatter\",\"x\":[\"14:54\"],\"y\":[342095.775]},{\"type\":\"scatter\",\"x\":[\"14:55\"],\"y\":[342109.575]},{\"type\":\"scatter\",\"x\":[\"14:56\"],\"y\":[342119.0]},{\"type\":\"scatter\",\"x\":[\"14:57\"],\"y\":[342125.75]},{\"type\":\"scatter\",\"x\":[\"14:58\"],\"y\":[342128.775]},{\"type\":\"scatter\",\"x\":[\"14:59\"],\"y\":[342133.175]},{\"type\":\"scatter\",\"x\":[\"15:00\"],\"y\":[342140.975]},{\"type\":\"scatter\",\"x\":[\"15:01\"],\"y\":[342149.8]},{\"type\":\"scatter\",\"x\":[\"15:02\"],\"y\":[342150.64999999997]},{\"type\":\"scatter\",\"x\":[\"15:03\"],\"y\":[342145.8]},{\"type\":\"scatter\",\"x\":[\"15:04\"],\"y\":[342141.7]},{\"type\":\"scatter\",\"x\":[\"15:05\"],\"y\":[342144.375]},{\"type\":\"scatter\",\"x\":[\"15:06\"],\"y\":[342149.4]},{\"type\":\"scatter\",\"x\":[\"15:07\"],\"y\":[342157.69999999995]},{\"type\":\"scatter\",\"x\":[\"15:08\"],\"y\":[342170.0]},{\"type\":\"scatter\",\"x\":[\"15:09\"],\"y\":[342182.67500000005]},{\"type\":\"scatter\",\"x\":[\"15:10\"],\"y\":[342195.82499999995]},{\"type\":\"scatter\",\"x\":[\"15:11\"],\"y\":[342208.175]},{\"type\":\"scatter\",\"x\":[\"15:12\"],\"y\":[342215.2]},{\"type\":\"scatter\",\"x\":[\"15:13\"],\"y\":[342217.725]},{\"type\":\"scatter\",\"x\":[\"15:14\"],\"y\":[342239.825]},{\"type\":\"scatter\",\"x\":[\"15:15\"],\"y\":[342271.9]},{\"type\":\"scatter\",\"x\":[\"15:16\"],\"y\":[342297.425]},{\"type\":\"scatter\",\"x\":[\"15:17\"],\"y\":[342318.25]},{\"type\":\"scatter\",\"x\":[\"15:18\"],\"y\":[342336.15]},{\"type\":\"scatter\",\"x\":[\"15:19\"],\"y\":[342353.85]},{\"type\":\"scatter\",\"x\":[\"15:20\"],\"y\":[342374.425]},{\"type\":\"scatter\",\"x\":[\"15:21\"],\"y\":[342394.0]},{\"type\":\"scatter\",\"x\":[\"15:22\"],\"y\":[342410.7]},{\"type\":\"scatter\",\"x\":[\"15:23\"],\"y\":[342424.025]},{\"type\":\"scatter\",\"x\":[\"15:24\"],\"y\":[342430.275]},{\"type\":\"scatter\",\"x\":[\"15:25\"],\"y\":[342433.27499999997]},{\"type\":\"scatter\",\"x\":[\"15:26\"],\"y\":[342440.07499999995]},{\"type\":\"scatter\",\"x\":[\"15:27\"],\"y\":[342453.225]},{\"type\":\"scatter\",\"x\":[\"15:28\"],\"y\":[342462.1]},{\"type\":\"scatter\",\"x\":[\"15:29\"],\"y\":[342466.175]},{\"type\":\"scatter\",\"x\":[\"15:30\"],\"y\":[342465.625]}],                        {\"template\":{\"data\":{\"bar\":[{\"error_x\":{\"color\":\"#2a3f5f\"},\"error_y\":{\"color\":\"#2a3f5f\"},\"marker\":{\"line\":{\"color\":\"#E5ECF6\",\"width\":0.5},\"pattern\":{\"fillmode\":\"overlay\",\"size\":10,\"solidity\":0.2}},\"type\":\"bar\"}],\"barpolar\":[{\"marker\":{\"line\":{\"color\":\"#E5ECF6\",\"width\":0.5},\"pattern\":{\"fillmode\":\"overlay\",\"size\":10,\"solidity\":0.2}},\"type\":\"barpolar\"}],\"carpet\":[{\"aaxis\":{\"endlinecolor\":\"#2a3f5f\",\"gridcolor\":\"white\",\"linecolor\":\"white\",\"minorgridcolor\":\"white\",\"startlinecolor\":\"#2a3f5f\"},\"baxis\":{\"endlinecolor\":\"#2a3f5f\",\"gridcolor\":\"white\",\"linecolor\":\"white\",\"minorgridcolor\":\"white\",\"startlinecolor\":\"#2a3f5f\"},\"type\":\"carpet\"}],\"choropleth\":[{\"colorbar\":{\"outlinewidth\":0,\"ticks\":\"\"},\"type\":\"choropleth\"}],\"contour\":[{\"colorbar\":{\"outlinewidth\":0,\"ticks\":\"\"},\"colorscale\":[[0.0,\"#0d0887\"],[0.1111111111111111,\"#46039f\"],[0.2222222222222222,\"#7201a8\"],[0.3333333333333333,\"#9c179e\"],[0.4444444444444444,\"#bd3786\"],[0.5555555555555556,\"#d8576b\"],[0.6666666666666666,\"#ed7953\"],[0.7777777777777778,\"#fb9f3a\"],[0.8888888888888888,\"#fdca26\"],[1.0,\"#f0f921\"]],\"type\":\"contour\"}],\"contourcarpet\":[{\"colorbar\":{\"outlinewidth\":0,\"ticks\":\"\"},\"type\":\"contourcarpet\"}],\"heatmap\":[{\"colorbar\":{\"outlinewidth\":0,\"ticks\":\"\"},\"colorscale\":[[0.0,\"#0d0887\"],[0.1111111111111111,\"#46039f\"],[0.2222222222222222,\"#7201a8\"],[0.3333333333333333,\"#9c179e\"],[0.4444444444444444,\"#bd3786\"],[0.5555555555555556,\"#d8576b\"],[0.6666666666666666,\"#ed7953\"],[0.7777777777777778,\"#fb9f3a\"],[0.8888888888888888,\"#fdca26\"],[1.0,\"#f0f921\"]],\"type\":\"heatmap\"}],\"heatmapgl\":[{\"colorbar\":{\"outlinewidth\":0,\"ticks\":\"\"},\"colorscale\":[[0.0,\"#0d0887\"],[0.1111111111111111,\"#46039f\"],[0.2222222222222222,\"#7201a8\"],[0.3333333333333333,\"#9c179e\"],[0.4444444444444444,\"#bd3786\"],[0.5555555555555556,\"#d8576b\"],[0.6666666666666666,\"#ed7953\"],[0.7777777777777778,\"#fb9f3a\"],[0.8888888888888888,\"#fdca26\"],[1.0,\"#f0f921\"]],\"type\":\"heatmapgl\"}],\"histogram\":[{\"marker\":{\"pattern\":{\"fillmode\":\"overlay\",\"size\":10,\"solidity\":0.2}},\"type\":\"histogram\"}],\"histogram2d\":[{\"colorbar\":{\"outlinewidth\":0,\"ticks\":\"\"},\"colorscale\":[[0.0,\"#0d0887\"],[0.1111111111111111,\"#46039f\"],[0.2222222222222222,\"#7201a8\"],[0.3333333333333333,\"#9c179e\"],[0.4444444444444444,\"#bd3786\"],[0.5555555555555556,\"#d8576b\"],[0.6666666666666666,\"#ed7953\"],[0.7777777777777778,\"#fb9f3a\"],[0.8888888888888888,\"#fdca26\"],[1.0,\"#f0f921\"]],\"type\":\"histogram2d\"}],\"histogram2dcontour\":[{\"colorbar\":{\"outlinewidth\":0,\"ticks\":\"\"},\"colorscale\":[[0.0,\"#0d0887\"],[0.1111111111111111,\"#46039f\"],[0.2222222222222222,\"#7201a8\"],[0.3333333333333333,\"#9c179e\"],[0.4444444444444444,\"#bd3786\"],[0.5555555555555556,\"#d8576b\"],[0.6666666666666666,\"#ed7953\"],[0.7777777777777778,\"#fb9f3a\"],[0.8888888888888888,\"#fdca26\"],[1.0,\"#f0f921\"]],\"type\":\"histogram2dcontour\"}],\"mesh3d\":[{\"colorbar\":{\"outlinewidth\":0,\"ticks\":\"\"},\"type\":\"mesh3d\"}],\"parcoords\":[{\"line\":{\"colorbar\":{\"outlinewidth\":0,\"ticks\":\"\"}},\"type\":\"parcoords\"}],\"pie\":[{\"automargin\":true,\"type\":\"pie\"}],\"scatter\":[{\"marker\":{\"colorbar\":{\"outlinewidth\":0,\"ticks\":\"\"}},\"type\":\"scatter\"}],\"scatter3d\":[{\"line\":{\"colorbar\":{\"outlinewidth\":0,\"ticks\":\"\"}},\"marker\":{\"colorbar\":{\"outlinewidth\":0,\"ticks\":\"\"}},\"type\":\"scatter3d\"}],\"scattercarpet\":[{\"marker\":{\"colorbar\":{\"outlinewidth\":0,\"ticks\":\"\"}},\"type\":\"scattercarpet\"}],\"scattergeo\":[{\"marker\":{\"colorbar\":{\"outlinewidth\":0,\"ticks\":\"\"}},\"type\":\"scattergeo\"}],\"scattergl\":[{\"marker\":{\"colorbar\":{\"outlinewidth\":0,\"ticks\":\"\"}},\"type\":\"scattergl\"}],\"scattermapbox\":[{\"marker\":{\"colorbar\":{\"outlinewidth\":0,\"ticks\":\"\"}},\"type\":\"scattermapbox\"}],\"scatterpolar\":[{\"marker\":{\"colorbar\":{\"outlinewidth\":0,\"ticks\":\"\"}},\"type\":\"scatterpolar\"}],\"scatterpolargl\":[{\"marker\":{\"colorbar\":{\"outlinewidth\":0,\"ticks\":\"\"}},\"type\":\"scatterpolargl\"}],\"scatterternary\":[{\"marker\":{\"colorbar\":{\"outlinewidth\":0,\"ticks\":\"\"}},\"type\":\"scatterternary\"}],\"surface\":[{\"colorbar\":{\"outlinewidth\":0,\"ticks\":\"\"},\"colorscale\":[[0.0,\"#0d0887\"],[0.1111111111111111,\"#46039f\"],[0.2222222222222222,\"#7201a8\"],[0.3333333333333333,\"#9c179e\"],[0.4444444444444444,\"#bd3786\"],[0.5555555555555556,\"#d8576b\"],[0.6666666666666666,\"#ed7953\"],[0.7777777777777778,\"#fb9f3a\"],[0.8888888888888888,\"#fdca26\"],[1.0,\"#f0f921\"]],\"type\":\"surface\"}],\"table\":[{\"cells\":{\"fill\":{\"color\":\"#EBF0F8\"},\"line\":{\"color\":\"white\"}},\"header\":{\"fill\":{\"color\":\"#C8D4E3\"},\"line\":{\"color\":\"white\"}},\"type\":\"table\"}]},\"layout\":{\"annotationdefaults\":{\"arrowcolor\":\"#2a3f5f\",\"arrowhead\":0,\"arrowwidth\":1},\"autotypenumbers\":\"strict\",\"coloraxis\":{\"colorbar\":{\"outlinewidth\":0,\"ticks\":\"\"}},\"colorscale\":{\"diverging\":[[0,\"#8e0152\"],[0.1,\"#c51b7d\"],[0.2,\"#de77ae\"],[0.3,\"#f1b6da\"],[0.4,\"#fde0ef\"],[0.5,\"#f7f7f7\"],[0.6,\"#e6f5d0\"],[0.7,\"#b8e186\"],[0.8,\"#7fbc41\"],[0.9,\"#4d9221\"],[1,\"#276419\"]],\"sequential\":[[0.0,\"#0d0887\"],[0.1111111111111111,\"#46039f\"],[0.2222222222222222,\"#7201a8\"],[0.3333333333333333,\"#9c179e\"],[0.4444444444444444,\"#bd3786\"],[0.5555555555555556,\"#d8576b\"],[0.6666666666666666,\"#ed7953\"],[0.7777777777777778,\"#fb9f3a\"],[0.8888888888888888,\"#fdca26\"],[1.0,\"#f0f921\"]],\"sequentialminus\":[[0.0,\"#0d0887\"],[0.1111111111111111,\"#46039f\"],[0.2222222222222222,\"#7201a8\"],[0.3333333333333333,\"#9c179e\"],[0.4444444444444444,\"#bd3786\"],[0.5555555555555556,\"#d8576b\"],[0.6666666666666666,\"#ed7953\"],[0.7777777777777778,\"#fb9f3a\"],[0.8888888888888888,\"#fdca26\"],[1.0,\"#f0f921\"]]},\"colorway\":[\"#636efa\",\"#EF553B\",\"#00cc96\",\"#ab63fa\",\"#FFA15A\",\"#19d3f3\",\"#FF6692\",\"#B6E880\",\"#FF97FF\",\"#FECB52\"],\"font\":{\"color\":\"#2a3f5f\"},\"geo\":{\"bgcolor\":\"white\",\"lakecolor\":\"white\",\"landcolor\":\"#E5ECF6\",\"showlakes\":true,\"showland\":true,\"subunitcolor\":\"white\"},\"hoverlabel\":{\"align\":\"left\"},\"hovermode\":\"closest\",\"mapbox\":{\"style\":\"light\"},\"paper_bgcolor\":\"white\",\"plot_bgcolor\":\"#E5ECF6\",\"polar\":{\"angularaxis\":{\"gridcolor\":\"white\",\"linecolor\":\"white\",\"ticks\":\"\"},\"bgcolor\":\"#E5ECF6\",\"radialaxis\":{\"gridcolor\":\"white\",\"linecolor\":\"white\",\"ticks\":\"\"}},\"scene\":{\"xaxis\":{\"backgroundcolor\":\"#E5ECF6\",\"gridcolor\":\"white\",\"gridwidth\":2,\"linecolor\":\"white\",\"showbackground\":true,\"ticks\":\"\",\"zerolinecolor\":\"white\"},\"yaxis\":{\"backgroundcolor\":\"#E5ECF6\",\"gridcolor\":\"white\",\"gridwidth\":2,\"linecolor\":\"white\",\"showbackground\":true,\"ticks\":\"\",\"zerolinecolor\":\"white\"},\"zaxis\":{\"backgroundcolor\":\"#E5ECF6\",\"gridcolor\":\"white\",\"gridwidth\":2,\"linecolor\":\"white\",\"showbackground\":true,\"ticks\":\"\",\"zerolinecolor\":\"white\"}},\"shapedefaults\":{\"line\":{\"color\":\"#2a3f5f\"}},\"ternary\":{\"aaxis\":{\"gridcolor\":\"white\",\"linecolor\":\"white\",\"ticks\":\"\"},\"baxis\":{\"gridcolor\":\"white\",\"linecolor\":\"white\",\"ticks\":\"\"},\"bgcolor\":\"#E5ECF6\",\"caxis\":{\"gridcolor\":\"white\",\"linecolor\":\"white\",\"ticks\":\"\"}},\"title\":{\"x\":0.05},\"xaxis\":{\"automargin\":true,\"gridcolor\":\"white\",\"linecolor\":\"white\",\"ticks\":\"\",\"title\":{\"standoff\":15},\"zerolinecolor\":\"white\",\"zerolinewidth\":2},\"yaxis\":{\"automargin\":true,\"gridcolor\":\"white\",\"linecolor\":\"white\",\"ticks\":\"\",\"title\":{\"standoff\":15},\"zerolinecolor\":\"white\",\"zerolinewidth\":2}}}},                        {\"responsive\": true}                    ).then(function(){\n",
       "                            \n",
       "var gd = document.getElementById('0ff01b6c-ed98-4491-8008-847595d58c51');\n",
       "var x = new MutationObserver(function (mutations, observer) {{\n",
       "        var display = window.getComputedStyle(gd).display;\n",
       "        if (!display || display === 'none') {{\n",
       "            console.log([gd, 'removed!']);\n",
       "            Plotly.purge(gd);\n",
       "            observer.disconnect();\n",
       "        }}\n",
       "}});\n",
       "\n",
       "// Listen for the removal of the full notebook cells\n",
       "var notebookContainer = gd.closest('#notebook-container');\n",
       "if (notebookContainer) {{\n",
       "    x.observe(notebookContainer, {childList: true});\n",
       "}}\n",
       "\n",
       "// Listen for the clearing of the current output cell\n",
       "var outputEl = gd.closest('.output');\n",
       "if (outputEl) {{\n",
       "    x.observe(outputEl, {childList: true});\n",
       "}}\n",
       "\n",
       "                        })                };                });            </script>        </div>"
      ]
     },
     "metadata": {},
     "output_type": "display_data"
    }
   ],
   "source": [
    "fig.show()"
   ]
  },
  {
   "cell_type": "code",
   "execution_count": 36,
   "id": "0616803f",
   "metadata": {},
   "outputs": [
    {
     "ename": "TypeError",
     "evalue": "Argument 'real' has incorrect type (expected numpy.ndarray, got DataFrame)",
     "output_type": "error",
     "traceback": [
      "\u001b[1;31m---------------------------------------------------------------------------\u001b[0m",
      "\u001b[1;31mTypeError\u001b[0m                                 Traceback (most recent call last)",
      "\u001b[1;32m~\\AppData\\Local\\Temp/ipykernel_13324/1294631576.py\u001b[0m in \u001b[0;36m<module>\u001b[1;34m\u001b[0m\n\u001b[1;32m----> 1\u001b[1;33m \u001b[0mtalib\u001b[0m\u001b[1;33m.\u001b[0m\u001b[0mBBANDS\u001b[0m\u001b[1;33m(\u001b[0m\u001b[0msample\u001b[0m\u001b[1;33m)\u001b[0m\u001b[1;33m\u001b[0m\u001b[1;33m\u001b[0m\u001b[0m\n\u001b[0m",
      "\u001b[1;32m~\\anaconda3\\lib\\site-packages\\talib\\__init__.py\u001b[0m in \u001b[0;36mwrapper\u001b[1;34m(*args, **kwds)\u001b[0m\n\u001b[0;32m     62\u001b[0m                 \u001b[0m_kwds\u001b[0m \u001b[1;33m=\u001b[0m \u001b[0mkwds\u001b[0m\u001b[1;33m\u001b[0m\u001b[1;33m\u001b[0m\u001b[0m\n\u001b[0;32m     63\u001b[0m \u001b[1;33m\u001b[0m\u001b[0m\n\u001b[1;32m---> 64\u001b[1;33m             \u001b[0mresult\u001b[0m \u001b[1;33m=\u001b[0m \u001b[0mfunc\u001b[0m\u001b[1;33m(\u001b[0m\u001b[1;33m*\u001b[0m\u001b[0m_args\u001b[0m\u001b[1;33m,\u001b[0m \u001b[1;33m**\u001b[0m\u001b[0m_kwds\u001b[0m\u001b[1;33m)\u001b[0m\u001b[1;33m\u001b[0m\u001b[1;33m\u001b[0m\u001b[0m\n\u001b[0m\u001b[0;32m     65\u001b[0m \u001b[1;33m\u001b[0m\u001b[0m\n\u001b[0;32m     66\u001b[0m             \u001b[1;31m# check to see if we got a streaming result\u001b[0m\u001b[1;33m\u001b[0m\u001b[1;33m\u001b[0m\u001b[1;33m\u001b[0m\u001b[0m\n",
      "\u001b[1;31mTypeError\u001b[0m: Argument 'real' has incorrect type (expected numpy.ndarray, got DataFrame)"
     ]
    }
   ],
   "source": [
    "talib.BBANDS(sample)"
   ]
  },
  {
   "cell_type": "code",
   "execution_count": 41,
   "id": "0077e1b7",
   "metadata": {},
   "outputs": [
    {
     "name": "stderr",
     "output_type": "stream",
     "text": [
      "C:\\Users\\yboko\\AppData\\Local\\Temp/ipykernel_13324/1253690381.py:1: SettingWithCopyWarning:\n",
      "\n",
      "\n",
      "A value is trying to be set on a copy of a slice from a DataFrame.\n",
      "Try using .loc[row_indexer,col_indexer] = value instead\n",
      "\n",
      "See the caveats in the documentation: https://pandas.pydata.org/pandas-docs/stable/user_guide/indexing.html#returning-a-view-versus-a-copy\n",
      "\n"
     ]
    }
   ],
   "source": [
    "sample['MOM'] = talib.MOM(sample.High)"
   ]
  },
  {
   "cell_type": "code",
   "execution_count": 48,
   "id": "d1f316f6",
   "metadata": {},
   "outputs": [
    {
     "name": "stderr",
     "output_type": "stream",
     "text": [
      "C:\\Users\\yboko\\anaconda3\\lib\\site-packages\\plotly\\graph_objs\\_deprecations.py:378: DeprecationWarning:\n",
      "\n",
      "plotly.graph_objs.Line is deprecated.\n",
      "Please replace it with one of the following more specific types\n",
      "  - plotly.graph_objs.scatter.Line\n",
      "  - plotly.graph_objs.layout.shape.Line\n",
      "  - etc.\n",
      "\n",
      "\n"
     ]
    },
    {
     "data": {
      "text/plain": [
       "{244783: 342610.6,\n",
       " 244784: 342653.875,\n",
       " 244785: 342698.2,\n",
       " 244786: 342749.15,\n",
       " 244787: 342801.9,\n",
       " 244788: 342851.05,\n",
       " 244789: 342885.175,\n",
       " 244790: 342905.825,\n",
       " 244791: 342920.125,\n",
       " 244792: 342928.0,\n",
       " 244793: 342941.05000000005,\n",
       " 244794: 342974.525,\n",
       " 244795: 343005.15,\n",
       " 244796: 343027.675,\n",
       " 244797: 343049.14999999997,\n",
       " 244798: 343074.175,\n",
       " 244799: 343098.85000000003,\n",
       " 244800: 343120.45,\n",
       " 244801: 343132.64999999997,\n",
       " 244802: 343142.55,\n",
       " 244803: 343148.05,\n",
       " 244804: 343149.85,\n",
       " 244805: 343153.7,\n",
       " 244806: 343155.7,\n",
       " 244807: 343156.175,\n",
       " 244808: 343155.4,\n",
       " 244809: 343150.975,\n",
       " 244810: 343143.925,\n",
       " 244811: 343135.375,\n",
       " 244812: 343128.55,\n",
       " 244813: 343118.525,\n",
       " 244814: 343086.67500000005,\n",
       " 244815: 343052.69999999995,\n",
       " 244816: 343010.32499999995,\n",
       " 244817: 342967.225,\n",
       " 244818: 342928.475,\n",
       " 244819: 342906.14999999997,\n",
       " 244820: 342896.82499999995,\n",
       " 244821: 342888.39999999997,\n",
       " 244822: 342887.725,\n",
       " 244823: 342882.0,\n",
       " 244824: 342861.72500000003,\n",
       " 244825: 342840.225,\n",
       " 244826: 342817.32499999995,\n",
       " 244827: 342790.65,\n",
       " 244828: 342757.52499999997,\n",
       " 244829: 342725.35,\n",
       " 244830: 342691.875,\n",
       " 244831: 342665.575,\n",
       " 244832: 342649.02499999997,\n",
       " 244833: 342638.225,\n",
       " 244834: 342634.725,\n",
       " 244835: 342632.77499999997,\n",
       " 244836: 342632.77499999997,\n",
       " 244837: 342632.19999999995,\n",
       " 244838: 342628.22500000003,\n",
       " 244839: 342622.85000000003,\n",
       " 244840: 342617.52499999997,\n",
       " 244841: 342614.225,\n",
       " 244842: 342610.475,\n",
       " 244843: 342602.77499999997,\n",
       " 244844: 342591.47500000003,\n",
       " 244845: 342580.85,\n",
       " 244846: 342575.4,\n",
       " 244847: 342577.0,\n",
       " 244848: 342582.05000000005,\n",
       " 244849: 342582.525,\n",
       " 244850: 342579.825,\n",
       " 244851: 342575.47500000003,\n",
       " 244852: 342569.775,\n",
       " 244853: 342562.85000000003,\n",
       " 244854: 342556.35,\n",
       " 244855: 342554.45,\n",
       " 244856: 342560.47500000003,\n",
       " 244857: 342566.52499999997,\n",
       " 244858: 342570.625,\n",
       " 244859: 342574.925,\n",
       " 244860: 342583.25,\n",
       " 244861: 342592.875,\n",
       " 244862: 342597.075,\n",
       " 244863: 342597.47500000003,\n",
       " 244864: 342591.00000000006,\n",
       " 244865: 342579.75,\n",
       " 244866: 342568.075,\n",
       " 244867: 342557.075,\n",
       " 244868: 342548.775,\n",
       " 244869: 342544.575,\n",
       " 244870: 342541.42500000005,\n",
       " 244871: 342536.525,\n",
       " 244872: 342531.45,\n",
       " 244873: 342529.85000000003,\n",
       " 244874: 342530.425,\n",
       " 244875: 342530.0,\n",
       " 244876: 342527.125,\n",
       " 244877: 342519.725,\n",
       " 244878: 342509.0,\n",
       " 244879: 342499.625,\n",
       " 244880: 342495.35000000003,\n",
       " 244881: 342501.8,\n",
       " 244882: 342511.775,\n",
       " 244883: 342524.39999999997,\n",
       " 244884: 342538.22500000003,\n",
       " 244885: 342549.075,\n",
       " 244886: 342561.175,\n",
       " 244887: 342574.875,\n",
       " 244888: 342590.825,\n",
       " 244889: 342606.575,\n",
       " 244890: 342622.27499999997,\n",
       " 244891: 342639.975,\n",
       " 244892: 342660.8,\n",
       " 244893: 342687.89999999997,\n",
       " 244894: 342722.27499999997,\n",
       " 244895: 342762.775,\n",
       " 244896: 342803.75,\n",
       " 244897: 342840.65,\n",
       " 244898: 342876.175,\n",
       " 244899: 342906.82499999995,\n",
       " 244900: 342936.175,\n",
       " 244901: 342961.525,\n",
       " 244902: 342985.0,\n",
       " 244903: 343007.925,\n",
       " 244904: 343028.65,\n",
       " 244905: 343048.9,\n",
       " 244906: 343070.775,\n",
       " 244907: 343093.75,\n",
       " 244908: 343125.57499999995,\n",
       " 244909: 343161.975,\n",
       " 244910: 343192.725,\n",
       " 244911: 343217.375,\n",
       " 244912: 343238.825,\n",
       " 244913: 343257.42500000005,\n",
       " 244914: 343274.02499999997,\n",
       " 244915: 343290.8,\n",
       " 244916: 343307.825,\n",
       " 244917: 343324.075,\n",
       " 244918: 343339.97500000003,\n",
       " 244919: 343358.2,\n",
       " 244920: 343375.15,\n",
       " 244921: 343388.17500000005,\n",
       " 244922: 343397.375,\n",
       " 244923: 343397.775,\n",
       " 244924: 343392.0,\n",
       " 244925: 343378.9,\n",
       " 244926: 343362.0,\n",
       " 244927: 343346.2,\n",
       " 244928: 343328.575,\n",
       " 244929: 343313.22500000003,\n",
       " 244930: 343295.8,\n",
       " 244931: 343279.85,\n",
       " 244932: 343265.875,\n",
       " 244933: 343249.775,\n",
       " 244934: 343237.45,\n",
       " 244935: 343229.725,\n",
       " 244936: 343223.125,\n",
       " 244937: 343216.2,\n",
       " 244938: 343201.35000000003,\n",
       " 244939: 343182.025,\n",
       " 244940: 343161.3,\n",
       " 244941: 343137.75,\n",
       " 244942: 343111.57499999995,\n",
       " 244943: 343086.75,\n",
       " 244944: 343064.45,\n",
       " 244945: 343045.075,\n",
       " 244946: 343024.425,\n",
       " 244947: 343003.60000000003,\n",
       " 244948: 342983.27499999997,\n",
       " 244949: 342957.625,\n",
       " 244950: 342929.375,\n",
       " 244951: 342902.075,\n",
       " 244952: 342875.625,\n",
       " 244953: 342851.325,\n",
       " 244954: 342829.825,\n",
       " 244955: 342811.0,\n",
       " 244956: 342794.85000000003,\n",
       " 244957: 342781.475,\n",
       " 244958: 342770.75,\n",
       " 244959: 342757.8,\n",
       " 244960: 342747.225,\n",
       " 244961: 342734.125,\n",
       " 244962: 342715.825,\n",
       " 244963: 342686.5,\n",
       " 244964: 342651.82499999995,\n",
       " 244965: 342615.75,\n",
       " 244966: 342579.55,\n",
       " 244967: 342539.45,\n",
       " 244968: 342497.25,\n",
       " 244969: 342459.25,\n",
       " 244970: 342427.60000000003,\n",
       " 244971: 342400.97500000003,\n",
       " 244972: 342382.5,\n",
       " 244973: 342368.825,\n",
       " 244974: 342351.875,\n",
       " 244975: 342331.1,\n",
       " 244976: 342308.875,\n",
       " 244977: 342286.2,\n",
       " 244978: 342261.30000000005,\n",
       " 244979: 342237.05,\n",
       " 244980: 342216.05,\n",
       " 244981: 342193.1,\n",
       " 244982: 342167.67500000005,\n",
       " 244983: 342145.2,\n",
       " 244984: 342122.175,\n",
       " 244985: 342097.475,\n",
       " 244986: 342073.19999999995,\n",
       " 244987: 342053.275,\n",
       " 244988: 342036.8,\n",
       " 244989: 342022.1,\n",
       " 244990: 342005.92500000005,\n",
       " 244991: 341991.525,\n",
       " 244992: 341981.8,\n",
       " 244993: 341983.89999999997,\n",
       " 244994: 341975.22500000003,\n",
       " 244995: 341955.325,\n",
       " 244996: 341926.64999999997,\n",
       " 244997: 341903.6,\n",
       " 244998: 341886.375,\n",
       " 244999: 341868.25,\n",
       " 245000: 341850.89999999997,\n",
       " 245001: 341831.875,\n",
       " 245002: 341803.85000000003,\n",
       " 245003: 341765.35,\n",
       " 245004: 341731.5,\n",
       " 245005: 341704.625,\n",
       " 245006: 341674.60000000003,\n",
       " 245007: 341641.5,\n",
       " 245008: 341607.52499999997,\n",
       " 245009: 341571.825,\n",
       " 245010: 341537.25,\n",
       " 245011: 341505.825,\n",
       " 245012: 341478.225,\n",
       " 245013: 341446.64999999997,\n",
       " 245014: 341415.75,\n",
       " 245015: 341394.1,\n",
       " 245016: 341374.7,\n",
       " 245017: 341349.3,\n",
       " 245018: 341322.6,\n",
       " 245019: 341298.775,\n",
       " 245020: 341280.52499999997,\n",
       " 245021: 341267.1,\n",
       " 245022: 341252.575,\n",
       " 245023: 341237.10000000003,\n",
       " 245024: 341241.125,\n",
       " 245025: 341258.325,\n",
       " 245026: 341283.025,\n",
       " 245027: 341300.85000000003,\n",
       " 245028: 341310.14999999997,\n",
       " 245029: 341319.625,\n",
       " 245030: 341325.95,\n",
       " 245031: 341327.0,\n",
       " 245032: 341332.55,\n",
       " 245033: 341345.075,\n",
       " 245034: 341350.925,\n",
       " 245035: 341351.65,\n",
       " 245036: 341351.925,\n",
       " 245037: 341358.64999999997,\n",
       " 245038: 341375.45,\n",
       " 245039: 341397.05,\n",
       " 245040: 341420.35000000003,\n",
       " 245041: 341441.27499999997,\n",
       " 245042: 341460.325,\n",
       " 245043: 341484.47500000003,\n",
       " 245044: 341507.675,\n",
       " 245045: 341523.9,\n",
       " 245046: 341541.3,\n",
       " 245047: 341561.025,\n",
       " 245048: 341581.9,\n",
       " 245049: 341606.125,\n",
       " 245050: 341632.2,\n",
       " 245051: 341653.475,\n",
       " 245052: 341671.35,\n",
       " 245053: 341688.475,\n",
       " 245054: 341698.77499999997,\n",
       " 245055: 341704.675,\n",
       " 245056: 341710.475,\n",
       " 245057: 341721.94999999995,\n",
       " 245058: 341737.0,\n",
       " 245059: 341748.675,\n",
       " 245060: 341763.72500000003,\n",
       " 245061: 341783.8,\n",
       " 245062: 341803.65,\n",
       " 245063: 341823.2,\n",
       " 245064: 341848.45,\n",
       " 245065: 341874.225,\n",
       " 245066: 341903.975,\n",
       " 245067: 341928.75,\n",
       " 245068: 341944.075,\n",
       " 245069: 341957.6,\n",
       " 245070: 341966.35,\n",
       " 245071: 341974.05000000005,\n",
       " 245072: 341982.125,\n",
       " 245073: 341985.94999999995,\n",
       " 245074: 341992.05000000005,\n",
       " 245075: 341998.925,\n",
       " 245076: 341991.92500000005,\n",
       " 245077: 341980.39999999997,\n",
       " 245078: 341970.225,\n",
       " 245079: 341957.25,\n",
       " 245080: 341945.475,\n",
       " 245081: 341939.17500000005,\n",
       " 245082: 341935.125,\n",
       " 245083: 341931.60000000003,\n",
       " 245084: 341929.35000000003,\n",
       " 245085: 341929.1,\n",
       " 245086: 341927.05000000005,\n",
       " 245087: 341924.425,\n",
       " 245088: 341922.25,\n",
       " 245089: 341922.0,\n",
       " 245090: 341919.175,\n",
       " 245091: 341914.875,\n",
       " 245092: 341910.77499999997,\n",
       " 245093: 341909.3,\n",
       " 245094: 341908.47500000003,\n",
       " 245095: 341906.85000000003,\n",
       " 245096: 341911.925,\n",
       " 245097: 341918.45,\n",
       " 245098: 341922.425,\n",
       " 245099: 341923.67500000005,\n",
       " 245100: 341931.4,\n",
       " 245101: 341942.175,\n",
       " 245102: 341953.27499999997,\n",
       " 245103: 341969.30000000005,\n",
       " 245104: 341986.77499999997,\n",
       " 245105: 342000.10000000003,\n",
       " 245106: 342018.39999999997,\n",
       " 245107: 342037.625,\n",
       " 245108: 342052.22500000003,\n",
       " 245109: 342065.5,\n",
       " 245110: 342076.775,\n",
       " 245111: 342087.425,\n",
       " 245112: 342084.075,\n",
       " 245113: 342072.64999999997,\n",
       " 245114: 342068.375,\n",
       " 245115: 342068.075,\n",
       " 245116: 342071.85,\n",
       " 245117: 342075.3,\n",
       " 245118: 342076.60000000003,\n",
       " 245119: 342077.60000000003,\n",
       " 245120: 342080.725,\n",
       " 245121: 342085.5,\n",
       " 245122: 342095.775,\n",
       " 245123: 342109.575,\n",
       " 245124: 342119.0,\n",
       " 245125: 342125.75,\n",
       " 245126: 342128.775,\n",
       " 245127: 342133.175,\n",
       " 245128: 342140.975,\n",
       " 245129: 342149.8,\n",
       " 245130: 342150.64999999997,\n",
       " 245131: 342145.8,\n",
       " 245132: 342141.7,\n",
       " 245133: 342144.375,\n",
       " 245134: 342149.4,\n",
       " 245135: 342157.69999999995,\n",
       " 245136: 342170.0,\n",
       " 245137: 342182.67500000005,\n",
       " 245138: 342195.82499999995,\n",
       " 245139: 342208.175,\n",
       " 245140: 342215.2,\n",
       " 245141: 342217.725,\n",
       " 245142: 342239.825,\n",
       " 245143: 342271.9,\n",
       " 245144: 342297.425,\n",
       " 245145: 342318.25,\n",
       " 245146: 342336.15,\n",
       " 245147: 342353.85,\n",
       " 245148: 342374.425,\n",
       " 245149: 342394.0,\n",
       " 245150: 342410.7,\n",
       " 245151: 342424.025,\n",
       " 245152: 342430.275,\n",
       " 245153: 342433.27499999997,\n",
       " 245154: 342440.07499999995,\n",
       " 245155: 342453.225,\n",
       " 245156: 342462.1,\n",
       " 245157: 342466.175,\n",
       " 245158: 342465.625}"
      ]
     },
     "execution_count": 48,
     "metadata": {},
     "output_type": "execute_result"
    }
   ],
   "source": [
    "go.Line(sample['rm30'])"
   ]
  },
  {
   "cell_type": "code",
   "execution_count": 32,
   "id": "2907d990",
   "metadata": {},
   "outputs": [],
   "source": [
    "#Graphing Module\n",
    "\n",
    "import plotly.graph_objects as go\n",
    "from datetime import datetime\n",
    "\n",
    "def candles(df,date = None):\n",
    "    '''\n",
    "    df : whole dataframe\n",
    "    date : numeric in form yyyymmdd\n",
    "    '''\n",
    "    first = lambda x : list(x)[0]\n",
    "    last = lambda x : list(x)[-1]\n",
    "    if date:\n",
    "        df = df[df['Date']==date]\n",
    "        x = df['Time']\n",
    "    else:\n",
    "        df = df.groupby('Date').agg({\"Open\":first,\"High\":'max',\"Low\" : last,\"Close\":'max'}).reset_index()\n",
    "        x = df['Date']\n",
    "    fig = go.Figure(data=[go.Candlestick(\n",
    "                    x=x,\n",
    "                    open=df['Open'],\n",
    "                    high=df['High'],\n",
    "                    low=df['Low'],\n",
    "                    close=df['Close'])])\n",
    "    return fig"
   ]
  }
 ],
 "metadata": {
  "kernelspec": {
   "display_name": "Python 3 (ipykernel)",
   "language": "python",
   "name": "python3"
  },
  "language_info": {
   "codemirror_mode": {
    "name": "ipython",
    "version": 3
   },
   "file_extension": ".py",
   "mimetype": "text/x-python",
   "name": "python",
   "nbconvert_exporter": "python",
   "pygments_lexer": "ipython3",
   "version": "3.8.8"
  }
 },
 "nbformat": 4,
 "nbformat_minor": 5
}
